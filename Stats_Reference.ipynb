{
  "nbformat": 4,
  "nbformat_minor": 0,
  "metadata": {
    "colab": {
      "provenance": []
    },
    "kernelspec": {
      "name": "python3",
      "display_name": "Python 3"
    },
    "language_info": {
      "name": "python"
    }
  },
  "cells": [
    {
      "cell_type": "code",
      "metadata": {
        "id": "J8k4T0bOCfD7",
        "colab": {
          "base_uri": "https://localhost:8080/"
        },
        "outputId": "782872ec-1917-489e-a179-613962b9fafe"
      },
      "source": [
        "import numpy as np\n",
        "import pandas as pd\n",
        "import io #google colab\n",
        "from google.colab import files #google colab\n",
        "import scipy.stats as stats\n",
        "import statsmodels.stats.weightstats as stest\n",
        "from statsmodels.stats.weightstats import ztest\n",
        "from statsmodels.stats.proportion import proportions_ztest\n",
        "from statsmodels.stats.power import ttest_power\n",
        "from scipy.stats import ttest_1samp,ttest_ind,ttest_rel,kruskal#kruskal is replacement of annova for non parametric test\n",
        "import statsmodels.api as sm\n",
        "from statsmodels.formula.api import ols #ols=ordinaryLeastSquares. Creates a model from dataframe\n",
        "from  statsmodels.stats.anova import anova_lm\n",
        "from statsmodels.stats.multicomp import pairwise_tukeyhsd\n",
        "import matplotlib.pyplot as plt\n",
        "import seaborn as sns\n",
        "from math import factorial"
      ],
      "execution_count": null,
      "outputs": [
        {
          "output_type": "stream",
          "name": "stderr",
          "text": [
            "/usr/local/lib/python3.7/dist-packages/statsmodels/tools/_testing.py:19: FutureWarning: pandas.util.testing is deprecated. Use the functions in the public API at pandas.testing instead.\n",
            "  import pandas.util.testing as tm\n"
          ]
        }
      ]
    },
    {
      "cell_type": "markdown",
      "source": [
        "http://pytolearn.csd.auth.gr/d1-hyptest/11/distros.html"
      ],
      "metadata": {
        "id": "tFlPtHZNwzY5"
      }
    },
    {
      "cell_type": "markdown",
      "source": [
        "PMF(Probability Mass Function) is for probabilities of descrete random variable.\n",
        "\n",
        "PDF(Probability Density Function) is for probabilities of continuous random variable. PDF Returns a probability that variable X takes a specific value.\n",
        "\n",
        "CDF(Cumulative Distribution Function) is applicable for describing the distribution of random variables either it is continuous or discrete.\n",
        "Given a value x0 cdf returns the cumulative probability that x gets a value less or equal to x0, or in other words \"lies in the interval (-inf, x0]\". \n",
        "\n",
        "PPF(Percent Point Function) (or inverse cumulative distribution function)\n",
        "ppf returns the value x of the variable that has a given cumulative distribution probability (cdf). Thus, given the cdf(x) of a x value, ppf returns the value x itself, therefore, operating as the inverse of cdf\n",
        "\n",
        "sf: Survival function\n",
        "sf returns the probability that the variate x gets a value that is greater than a specific value x0\n",
        "\n",
        "ISF : Inverse Survival function\n",
        "ISF returns the value x of the variable that has a given survival function (sf). Thus, given the sf(x) of a x value, isf returns the value x itself, therefore, operating as the inverse of sf"
      ],
      "metadata": {
        "id": "qW4EQJSYqoKi"
      }
    },
    {
      "cell_type": "code",
      "metadata": {
        "id": "15-H7yl-Ajr1"
      },
      "source": [
        "#Binomial (discrete)\n",
        "# for finding probabiltity of exact k true outcomes out of n total outcomes where probability of true is p\n",
        "scipy.stats.binomial.pmf(k,n,p)\n",
        "\n",
        "#other ones\n",
        "\n",
        "scipy.stats.binomial.cdf()#cumulative propbaility\n",
        "scipy.stats.binomial.sf()#survival function\n"
      ],
      "execution_count": null,
      "outputs": []
    },
    {
      "cell_type": "code",
      "metadata": {
        "id": "u3Nhc_2mJhm0"
      },
      "source": [
        "#bernoulli is used when only two outcomes are possible (head/tail)(goal/miss)(pass/fail)\n",
        "#calculate probability for a goal for a free kick(x=k=1) for a player with 70%(p=0.7) goal rate\n",
        "scipy.stats.bernoulli.pmf(k=1,p=0.7)\n",
        "scipy.stats.bernoulli.cdf()\n",
        "\n"
      ],
      "execution_count": null,
      "outputs": []
    },
    {
      "cell_type": "code",
      "metadata": {
        "id": "7bEPwouKH1aV"
      },
      "source": [
        "#uniform distribution (discrete) is when all the values have equal probabilities.\n",
        "#probability of choosing k as value of x out of range min value of x as low and max value of x as high(max+1) when all values of x are equally likely\n",
        "randint.pmf(k,low,high)\n",
        "\n",
        "#probability of choosing 3 or 4 out of {1,2,3,4,5,6}\n",
        "req_prob=randint.pmf(k=3,low=1,high=7)+randint.pmf(k=4,low=1,high=7)\n",
        "\n",
        "#uniform distribution (continuous) \n",
        "\n",
        "scipy.stats.uniform.pmf()\n",
        "scipy.stats.uniform.cdf()\n",
        "scipy.stats.uniform.sf()\n",
        "\n",
        "#for a range 0-200 of continuous uniform disribution\n",
        "#probability of 50-150 can be calculated by cum_prob_150 - cum_prob_50\n",
        "req_prob=scipy.stats.uniform.cdf(x=150,loc=0,scale=200)-scipy.stats.uniform.cdf(x=50,loc=0,scale=200)"
      ],
      "execution_count": null,
      "outputs": []
    },
    {
      "cell_type": "code",
      "metadata": {
        "id": "AZGtV8Lg-Jqy"
      },
      "source": [
        "#Normal(continuous)\n",
        "scipy.stats.normal.pdf()#single range #the value of pdf at a particular point is always zero 0\n",
        "\n",
        "#when required value is a, avg=x, var=y std=np.sqrt(y) z=(a-x)/std\n",
        "\n",
        "scipy.stats.normal.cdf(z)#cumulative(left), probability of value less than a \n",
        "\n",
        "scipy.stats.normal.sf(z)#(1-cdf) cumulative right, probability of value greater than a"
      ],
      "execution_count": null,
      "outputs": []
    },
    {
      "cell_type": "code",
      "metadata": {
        "id": "l6b9Y5fSFN4Q"
      },
      "source": [
        "# sampling\n",
        "random.choices() #draw sample with replacement\n",
        "random.sample() #draw sample without replacement"
      ],
      "execution_count": null,
      "outputs": []
    },
    {
      "cell_type": "code",
      "metadata": {
        "id": "a-NE_GBtL8Sz"
      },
      "source": [
        "#poission\n",
        "#its a frequency distribution which gives the probability of a number of independent events occurring in a fixed time.\n",
        "scipy.stats.poission.pmf()\n",
        "scipy.stats.poission.cdf()\n",
        "scipy.stats.poission.sf()"
      ],
      "execution_count": null,
      "outputs": []
    },
    {
      "cell_type": "code",
      "metadata": {
        "id": "LMWcbcZvh4WQ"
      },
      "source": [
        "#if x is desired outcome of n samples which belong to population N\n",
        "#the number of desired outcomes out of Population N can be given by:\n",
        "N=50\n",
        "n=13\n",
        "x=8\n",
        "p_samp=x/n\n",
        "#Estimation of desired outcome from the population\n",
        "num_out=N*p_samp"
      ],
      "execution_count": null,
      "outputs": []
    },
    {
      "cell_type": "markdown",
      "metadata": {
        "id": "yQg6VxLiv4-F"
      },
      "source": [
        "#misc\n",
        "Coefficient of variance= std/mean...................... is used for selecting a feature with least variance\n",
        "\n",
        "\n",
        "Margin Of error/sampling error = z * std / sqrt(n)\n",
        "\n",
        "sampling error=samplemean-pop.mean........................when no confidence interval available"
      ]
    },
    {
      "cell_type": "code",
      "metadata": {
        "id": "rH2NVoLqn3gn"
      },
      "source": [
        "#margin of error\n",
        "\n",
        "# Margin Of error/sampling error = z * std / sqrt(n)\n",
        "\n",
        "#sample n\n",
        "n=100\n",
        "std=0.15 #=15%\n",
        "conf_level=90%\n",
        "#which makes alpha = 1-conf_interval = 10% =0.1\n",
        "#since we are trying to find interval q= alpha/2\n",
        "z_aplha_by_2=np.abs(round(stats.norm.isf(q=0.1/2),4))#isf gives z stat value\n",
        "error=(z_alpha_by_2 * std)/np.sqrt(n)"
      ],
      "execution_count": null,
      "outputs": []
    },
    {
      "cell_type": "code",
      "metadata": {
        "colab": {
          "base_uri": "https://localhost:8080/"
        },
        "id": "EY7SWZWBq2IX",
        "outputId": "3b5ac9eb-3544-412d-831f-d914b188a059"
      },
      "source": [
        "#confidence interval when mean and std are given(continuous)\n",
        "\n",
        "x_bar=45000 #sample_avg\n",
        "conf_interval=0.95 #95% conf interval\n",
        "pop_std=4000\n",
        "n=250\n",
        "interval_95=stats.norm.interval(conf_interval,loc=x_bar,scale=pop_std/np.sqrt(n))\n",
        "print(interval_95)\n",
        "\n",
        "interval_99=stats.norm.interval(alpha=0.99,loc=x_bar,scale=pop_std/np.sqrt(n))\n",
        "print(interval_99)"
      ],
      "execution_count": null,
      "outputs": [
        {
          "output_type": "stream",
          "name": "stdout",
          "text": [
            "(44504.16397415635, 45495.83602584365)\n",
            "(44348.361002958416, 45651.638997041584)\n"
          ]
        }
      ]
    },
    {
      "cell_type": "code",
      "metadata": {
        "colab": {
          "base_uri": "https://localhost:8080/"
        },
        "id": "xgOx-jTQvP-s",
        "outputId": "f60da1cb-ee5b-4779-ea07-f7c5eba8eadb"
      },
      "source": [
        "#confidence interval when probability is given(discrete)\n",
        "N=50\n",
        "n=13\n",
        "x=8\n",
        "p=8/13\n",
        "alpha=0.99\n",
        "stats.norm.interval(0.99,loc=p,scale=np.sqrt((p*(1-p))/n))"
      ],
      "execution_count": null,
      "outputs": [
        {
          "output_type": "execute_result",
          "data": {
            "text/plain": [
              "(0.26782280814713805, 0.9629464226220927)"
            ]
          },
          "metadata": {},
          "execution_count": 13
        }
      ]
    },
    {
      "cell_type": "markdown",
      "metadata": {
        "id": "KL4zetAnvLta"
      },
      "source": [
        "# The point estimate for the average is np.mean() of the sample"
      ]
    },
    {
      "cell_type": "markdown",
      "metadata": {
        "id": "r6opx3-7oD7x"
      },
      "source": [
        "##Check for noramlity Shapiro\n",
        "H0: data is normally distributed(skew=0)\n",
        "\n",
        "H1: data in not normally distributed(skew!=0)\n",
        "\n",
        "##Check for variance Levene\n",
        "H0: variance are equal\n",
        "\n",
        "H1: variance are not equal\n",
        "\n"
      ]
    },
    {
      "cell_type": "code",
      "metadata": {
        "id": "PF6IGEt_QUdP"
      },
      "source": [
        "stats.shapiro(x)\n",
        "stats.levene(sample1,sample2...samplen)"
      ],
      "execution_count": null,
      "outputs": []
    },
    {
      "cell_type": "code",
      "metadata": {
        "id": "L1znUIRs4Bgh"
      },
      "source": [
        "#hypothesis testing\n",
        "\n",
        "\n",
        "#rejecting H0:\n",
        "\n",
        "#based on pval:\n",
        "#pval<=significance(0.05)\n",
        "\n",
        "#based on conf interval\n",
        "#Mu0 doesnt lie in confidence interval\n",
        "\n",
        "##based on critical regions\n",
        "\n",
        "#for two tailed test\n",
        "#Mu!=Mu0\n",
        "#abs(z)>z_alpha/2\n",
        "\n",
        "#for left tailed test\n",
        "#Mu<Mu0\n",
        "#z<-z_alpha\n",
        "\n",
        "#for right tailed test\n",
        "#Mu>Mu0\n",
        "#z>z_alpha\n",
        "\n",
        "\n",
        "# z_calc\n",
        "\n",
        "z_calc=(x_bar-Mu)/(pop_std/np.sqrt(n))\n",
        "\n",
        "def z_test(pop_mean,pop_std,n,samp_mean):\n",
        "  z_score=(samp_mean-pop_mean)/(pop_std/np.sqrt(n))\n",
        "  return z_score\n",
        "\n",
        "#z from pval\n",
        "stats.norm.ppf(1-pval)\n",
        "\n",
        "#pval\n",
        "pval=stats.norm.cdf(z_score)#left tailed\n",
        "pval=stats.norm.sf(z_score)#right tailed\n",
        "\n",
        "#only for two tailed test\n",
        "req_pval=pval*2\n",
        "\n",
        "\n",
        "#interval\n",
        "stats.norm.interval(alpha,loc=x_bar,scale=pop_std/np.sqrt(n)) #check if the claimed value lies within the interval\n",
        "\n",
        "\n",
        "#type1 error is probability of wrongly rejecting true null hypothesis(alpha)\n",
        "#type2 error is porbability of wrongly accepting false null hypothesis(beta)\n",
        "#(1-beta) is power of test i.e accpeting correctly rejecting false null hypothesis\n",
        "\n",
        "#calculate power of ztest\n",
        "power.zt_ind_solve_power() # from statsmodels library\n",
        "#alpha is fixed beta is controlled\n",
        "\n",
        "#ztest inbuilt:\n",
        "statsmodels.stats.weightstats.ztest(x1=array,value=Mu,alternative='smaller'/'larger'/'two-sided')\n",
        "\n",
        "\n",
        "#for less that 30 data points\n",
        "stats.ttest_1samp(a=array,popmean=Mu)\n",
        "\n",
        "\n",
        "#z_crit\n",
        "stats.norm.isf(q)#q=1-alpha\n",
        "\n",
        "\n"
      ],
      "execution_count": null,
      "outputs": []
    },
    {
      "cell_type": "markdown",
      "metadata": {
        "id": "g0j33Q8o9XQH"
      },
      "source": [
        "#Two sample Ztest\n",
        "\n",
        "def TwoSampZTest(samp_mean_1, samp_mean_2, samp_std_1, samp_std_2, value, n1, n2):      \n",
        "\n",
        "denominator = np.sqrt((samp_std_1**2 )/ n1) + ((samp_std_2**2)/ n2))  \n",
        "\n",
        "zscore = ((samp_mean_1 - samp_mean_2) - (value)) / denominator\n",
        "\n",
        "return zscore\n"
      ]
    },
    {
      "cell_type": "code",
      "metadata": {
        "id": "qsTOreQD9RSW"
      },
      "source": [
        "#two sample ttest\n",
        "\n",
        "#stats.ttest_ind(a=array1,b=array2)\n",
        "\n",
        "#stats.ttest_rel(a=array1,b=array2)"
      ],
      "execution_count": null,
      "outputs": []
    },
    {
      "cell_type": "code",
      "metadata": {
        "colab": {
          "base_uri": "https://localhost:8080/"
        },
        "id": "_R2K7dM272Fn",
        "outputId": "e7db0f1a-1f4e-47f3-e18a-7dd0925fd06a"
      },
      "source": [
        "z_stat=(75-60)/(30/np.sqrt(45))\n",
        "print(z_stat)\n",
        "\n",
        "print(stats.norm.sf(z_stat))"
      ],
      "execution_count": null,
      "outputs": [
        {
          "output_type": "stream",
          "name": "stdout",
          "text": [
            "3.3541019662496843\n",
            "0.0003981150787954058\n"
          ]
        }
      ]
    },
    {
      "cell_type": "markdown",
      "metadata": {
        "id": "OT3QyxN6wI3Z"
      },
      "source": [
        "# z = stats.norm.isf(q=0.01/2) ....for z critical two sided\n",
        "\n",
        "# z = stats.norm.isf(q=0.010) ....for z critical  one sided"
      ]
    },
    {
      "cell_type": "markdown",
      "metadata": {
        "id": "b_rmwRWH_d_O"
      },
      "source": [
        "#Critical values:\n",
        "stats.norm.isf(q=0.05)...... zdistibution\n",
        "\n",
        "stats.t.isf(q=0.05,df=n-1).....tdistribution........n is size of sample.....one sample\n",
        "\n",
        "stats.t.isf(q=0.05,df=(n1+n2)-2).....tdistribution........n is size of sample.....twosample\n",
        "\n",
        "stats.chi2.isf(q=0.05,df=(cols-1)*(rows-1)).............if only one column is present its rows - 1"
      ]
    },
    {
      "cell_type": "code",
      "metadata": {
        "id": "CKza2CLCJAzn"
      },
      "source": [
        "#test of proportion\n",
        "#one sample\n",
        "z = (sample_prop - specified_prop) /np.sqrt ( specified_prop * (1 - specified_prop) / n)\n",
        "#rejecting H0:\n",
        "\n",
        "#based on pval:\n",
        "#pval<=significance(0.05)\n",
        "\n",
        "#based on conf interval\n",
        "#Mu0 doesnt lie in confidence interval\n",
        "\n",
        "##based on critical regions\n",
        "\n",
        "#for two tailed test\n",
        "#Mu!=Mu0\n",
        "#abs(z)>z_alpha/2\n",
        "\n",
        "#for left tailed test\n",
        "#Mu<Mu0\n",
        "#z<-z_alpha\n",
        "\n",
        "#for right tailed test\n",
        "#Mu>Mu0\n",
        "#z>z_alpha\n",
        "\n",
        "statsmodels.stats.proportion.proportions_ztest(count, nobs, value=test_prop, alternative='two-sided', prop_var=False)#for two sample value= 0\n",
        "\n",
        "\n",
        "#standard error for proportion\n",
        "se=z_crit*(np.sqrt(p*(1-p)/n))#"
      ],
      "execution_count": null,
      "outputs": []
    },
    {
      "cell_type": "code",
      "metadata": {
        "colab": {
          "base_uri": "https://localhost:8080/"
        },
        "id": "eXIw8VhMKL-N",
        "outputId": "c3b08654-2542-4afd-cab9-52d6a3c6c2b7"
      },
      "source": [
        "samp_prop=105/361\n",
        "specified_prop=0.25\n",
        "z=(samp_prop-specified_prop)/np.sqrt(specified_prop*(1-specified_prop)/361)\n",
        "print(z)\n",
        "pval=stats.norm.sf(z)\n",
        "print(pval)"
      ],
      "execution_count": null,
      "outputs": [
        {
          "output_type": "stream",
          "name": "stdout",
          "text": [
            "1.7928245201151534\n",
            "0.03650049373124949\n"
          ]
        }
      ]
    },
    {
      "cell_type": "code",
      "metadata": {
        "id": "52ormaAaM1lc"
      },
      "source": [
        "#Test of proportions \n",
        "#two sample\n",
        "p_bar=(x1+x2)/(n1+n2)=((n1*p1)+(n2*p2))/(n1+n2)#n1,n2 are samples p1,p2 are proportions of specific items\n",
        "\n",
        "z=(p1-p2)/np.sqrt(p_bar*(1-p_bar)*((1/n1)+(1/n2)))\n",
        "#based on pval:\n",
        "#pval<=significance(0.05)\n",
        "\n",
        "#based on conf interval\n",
        "#Mu0 doesnt lie in confidence interval\n",
        "\n",
        "##based on critical regions\n",
        "\n",
        "#for two tailed test\n",
        "#Mu!=Mu0\n",
        "#abs(z)>z_alpha/2\n",
        "\n",
        "#for left tailed test\n",
        "#Mu<Mu0\n",
        "#z<-z_alpha\n",
        "\n",
        "#for right tailed test\n",
        "#Mu>Mu0\n",
        "#z>z_alpha\n",
        "\n",
        "\n",
        "statsmodels.api.stats.proportions_ztest(Sample_1,Sample_2)"
      ],
      "execution_count": null,
      "outputs": []
    },
    {
      "cell_type": "code",
      "metadata": {
        "colab": {
          "base_uri": "https://localhost:8080/"
        },
        "id": "bLaHag5fOFPc",
        "outputId": "422a0492-63cc-4166-d1cb-9f87a20754f0"
      },
      "source": [
        "p1=78/100\n",
        "p2=65/70\n",
        "print(p1,p2)\n",
        "p_bar=round(((100*p1)+(70*p2))/(100+70),2)\n",
        "print(p_bar)\n",
        "z=(p1-p2)/np.sqrt(p_bar*(1-p_bar)*((1/100)+(1/70)))\n",
        "print(z)\n",
        "p_val=stats.norm.cdf(z)\n",
        "print(p_val)"
      ],
      "execution_count": null,
      "outputs": [
        {
          "output_type": "stream",
          "name": "stdout",
          "text": [
            "0.78 0.9285714285714286\n",
            "0.84\n",
            "-2.600520156052018\n",
            "0.00465412753578429\n"
          ]
        }
      ]
    },
    {
      "cell_type": "code",
      "metadata": {
        "id": "A49qNPJ3fDPI"
      },
      "source": [
        "#non parametric test for one sample\n",
        "\n",
        "scipy.stats.wilcoxon(diff,alternative)\n",
        "\n",
        "sample=[9.1,10.1,9.9,9.9,10,9.8,9.7,9.8,9.9,8.6]\n",
        "diff=[i-10 for i in sample]\n",
        "scipy.stats.wilcoxon(diff,alternative='less')\n",
        "\n",
        "#non parametric test for two sample paired\n",
        "\n",
        "scipy.stats.wilcoxon(sample_1,sample_2,alternative)\n",
        "\n",
        "before=[2.7,1.1,1.4,0.9,0.9]\n",
        "after=[1.3,1.4,1.1,1.3,1.9]\n",
        "scipy.stats.wilcoxon(before,after,alternative='greater')\n",
        "\n",
        "#non parametric test for two sample unpaired\n",
        "\n",
        "##ranksums\n",
        "scipy.stats.stats.ranksums(sample1,sample2)\n",
        "\n",
        "a=[32,31,33,46]\n",
        "b=[49,20,58,55,52]\n",
        "scipy.stats.stats.ranksums(a,b)#scipy.stats.stats.ranksums(a,b,alternative='less') may work if new version\n",
        "\n",
        "#mannwhitneyu\n",
        "scipy.stats.stats.mannwhitneyu(sample1,sample2,alternative)\n",
        "a=[32,31,33,46]\n",
        "b=[49,20,58,55,52]\n",
        "scipy.stats.stats.mannwhitneyu(a,b,alternative='less')"
      ],
      "execution_count": null,
      "outputs": []
    },
    {
      "cell_type": "code",
      "metadata": {
        "id": "aQ_aj11Jksci"
      },
      "source": [
        "#Non-Parametric equivalent of annova\n",
        "scipy.stats.kruskal(sample1,sample2,sample3)\n",
        "\n",
        "#Non-parametric posthoc\n",
        "scikit_posthocs.posthoc_conover(dataframe,val_col,group_col)"
      ],
      "execution_count": null,
      "outputs": []
    },
    {
      "cell_type": "code",
      "metadata": {
        "id": "nlULjzFcX56x"
      },
      "source": [
        "#Chi-Square goodness of fit\n",
        "\n",
        "#H0: obs=exp\n",
        "\n",
        "#H1: obs!=exp\n",
        "\n",
        "stats.chisquare(f_obs=observed vals,f_exp=expected vals)\n",
        "\n"
      ],
      "execution_count": null,
      "outputs": []
    },
    {
      "cell_type": "code",
      "metadata": {
        "id": "fQw0NeBnZMJ0"
      },
      "source": [
        "#Chi-Square Test for Independence\n",
        "\n",
        "#H0 : The variables are independent\n",
        "\n",
        "#H1 : The variables are not independent (i.e. variables are dependent)\n",
        "\n",
        "chistat,pval,dof,arr=stats.chi2_contingency(observed=pd.crosstab(df['CAT'],df['CAT'],correction=False)"
      ],
      "execution_count": null,
      "outputs": []
    },
    {
      "cell_type": "markdown",
      "metadata": {
        "id": "99fCLITcfRnV"
      },
      "source": [
        "#anova\n",
        "\n",
        "It is used to check the equality of population means for more than two independent samples. Each group is considered as a treatment. It assumes that the samples are taken from normally distributed populations. To check this assumption we can use the Shapiro-Wilk Test. Also, the population variances should be equal; this can be tested using the Levene's Test.\n",
        "\n",
        "The null and alternative hypothesis is given as:\n",
        "\n",
        "H0 : The averages of all treatments are the same.\n",
        "\n",
        "H1 : At least one treatment has a different average.\n",
        "\n",
        "\n"
      ]
    },
    {
      "cell_type": "code",
      "metadata": {
        "id": "4nyzR_SwS6o8"
      },
      "source": [
        "#A=df[df['ethnicity']=='group A']['Total_score']\n",
        "\n",
        "#B=df[df['ethnicity']=='group B']['Total_score']\n",
        "\n",
        "#C=df[df['ethnicity']=='group C']['Total_score']\n",
        "\n",
        "#perform shapiro and levene on ABC\n",
        "\n",
        "#if data is normal and having equal variance\n",
        "\n",
        "stats.f_oneway(A,B,C)\n"
      ],
      "execution_count": null,
      "outputs": []
    },
    {
      "cell_type": "markdown",
      "metadata": {
        "id": "4nUvYrLtnc93"
      },
      "source": [
        "#aov_table\n",
        "formula='avg_score ~ ethnicity' #one way annova\n",
        "\n",
        "formula='avg_score ~ ethnicity+other categorical+ethnicity:other category'#two way annova\n",
        "\n",
        "\n",
        "model=ols(formula,df).fit()\n",
        "\n",
        "aov_table=anova_lm(model,typ=1)\n",
        "\n",
        "aov_table"
      ]
    },
    {
      "cell_type": "code",
      "metadata": {
        "colab": {
          "base_uri": "https://localhost:8080/"
        },
        "id": "fV6RlIzHb-RK",
        "outputId": "d1784d71-121f-4313-ec06-4d383bcd04ff"
      },
      "source": [
        "#post-hoc\n",
        "\n",
        "#tukeyhsd when equal number of obsrvations are present else scheffe\n",
        "\n",
        "MultiComp=statsmodels.sandbox.stats.multicomp.MultiComparison(data=df_machine['Strength'],groups=df_machine['machine'])\n",
        "MultiComp.tukeyhsd().summary()\n",
        "\n",
        "#scheffe"
      ],
      "execution_count": null,
      "outputs": [
        {
          "output_type": "execute_result",
          "data": {
            "text/plain": [
              "MannwhitneyuResult(statistic=4.0, pvalue=0.08895479749349122)"
            ]
          },
          "metadata": {},
          "execution_count": 63
        }
      ]
    },
    {
      "cell_type": "code",
      "metadata": {
        "id": "D8VIjRcZas3G"
      },
      "source": [
        "X= statsmodels.stats.multicomp.pairwise_tukeyhsd(endog=independent, groups=category, alpha= 1-CI)#aplha is 0.05 in case of 95% conf interval\n",
        "\n",
        ">>> from statsmodels.examples.try_tukey_hsd import cylinders, cyl_labels\n",
        ">>> from statsmodels.stats.multicomp import MultiComparison\n",
        ">>> cardata = MultiComparison(cylinders, cyl_labels)\n",
        ">>> results = cardata.tukeyhsd()\n",
        ">>> results.plot_simultaneous()"
      ],
      "execution_count": null,
      "outputs": []
    },
    {
      "cell_type": "markdown",
      "metadata": {
        "id": "DjmZx2joCzNy"
      },
      "source": [
        "#NON parametric alternative for anova\n",
        "\n",
        "H0: median is equal for all groups\n",
        "\n",
        "H1: median is not equal for all groups\n",
        "\n",
        "stats.kruskal(a-group,b-group,c-group)"
      ]
    },
    {
      "cell_type": "markdown",
      "metadata": {
        "id": "UzNjJlniN3Gj"
      },
      "source": [
        "#Probability\n",
        "#combination\n",
        "def com(n,r):\n",
        "\n",
        "comb = factorial(n)/(factorial(r)* factorial(n-r))\n",
        "\n",
        "return comb\n",
        "\n",
        "prob = com(number of desired outcomes in set ,r) / com(all outcomes in set ,r)\n",
        "\n",
        "#alternative\n",
        "\n",
        "from itertools import combinations\n",
        "\n",
        "a=len(list(combinations([array of desired outcomes],r)\n",
        "\n",
        "b=len(list(combinations([array of all outcomes],r)\n",
        "\n",
        "p=a/b\n",
        "\n",
        "\n",
        "#Mutually exclusive \n",
        "Mutually exclusive events arent independent\n",
        "\n",
        "if events are mutually exclusive then addup the probabilities\n",
        "\n",
        "addition rule for mutually exclusive events p(A U B)=p(A)+p(B)\n",
        "\n",
        "addition for mutually non exclusive events P(A U B)=P(A) + P(B) - P(A n B)\n",
        "\n",
        "#mutually independent\n",
        "multiplication rule for independent events p(AnB)=p(A).p(B)\n",
        "\n",
        "alternatively p(A)=p(A|B) for mutually independent events\n",
        "\n",
        "multiplication rule for non-independent events p(AnB)=p(A).p(B|A)\n",
        "\n",
        "alternatively p(B|A)=p(AnB)/p(A)\n",
        "\n",
        "#Bayes theorem\n",
        "p(h|e)=(p(e|h)/p(e))*p(h)\n",
        "\n",
        "#Binomial Probability distribution function **discrete**\n",
        "P(x)=n!/(x!*(n-x)!)\n",
        "\n",
        "p(x) is probability of getting x sucesses in n trails\n",
        "\n",
        "mean/avg of binomial distribution is n*p\n",
        "\n",
        "std=root(n*p*(1-p))\n",
        "\n",
        "n is number of trails p is probability of success.\n",
        "\n",
        "stats.binom.pmf(k=array,n=nobs,p=given prob)......outpout is probability of each element in array\n",
        "\n",
        "stats.binom.cdf(k=array,n=nobs,p=given prob)..........for left hand side probability\n",
        "\n",
        "stats.binom.sf(k=array,n=nobs,p=given prob)...........for right hand side probability\n",
        "\n",
        "#poisson Distribution **% or rate**\n",
        "stats.poisson.pmf(n=array of possible numbers, rate=given rate).....gives an array of propbabiliry of all the possible numbers.\n",
        "\n",
        "if the array passed is in form of 0,1,2,3 poisson [4] gives the probability of number 4\n",
        "\n",
        "for a probability of 3 or less than 3 is given by poisson[0]+poisson[1]+poisson[2]+poisson[3]\n",
        "\n",
        "for a probability of greater than 3 is given by 1 - (poisson[0]+poisson[1]+poisson[2]+poisson[3])\n",
        "\n",
        "#normal Probability distribution function/gaussian distribution **continuous**\n",
        "mean=median=mode\n",
        "\n",
        "+-1 std has 68% of the data 2/3\n",
        "\n",
        "+- 2 std has 95% of the data 19/20\n",
        "\n",
        "+-3 std has 99.7% of the data 997/1000\n",
        "\n",
        "for problem a - Calculate the z value\n",
        "\n",
        "z=(x-Mu)/std\n",
        "\n",
        "stats.norm.cdf(z).................this outputs probability for less than x\n",
        "\n",
        "stats.norm.cdf(x,loc=Mu,scale=std)....optimised form using the original values\n",
        "\n",
        "1-stats.norm.sf(x,loc=Mu,scale=std)...this outputs probability for greater than x\n",
        "\n",
        "stats.norm.cdf(x2,loc=Mu,scale=std)-stats.norm.cdf(x1,loc=Mu,scale=std)....this outputs the probability of values between x2 and x1 where x2>x1\n",
        "\n"
      ]
    },
    {
      "cell_type": "markdown",
      "metadata": {
        "id": "rcQIJKDTzvUX"
      },
      "source": [
        "# for interval\n",
        "##<sample size greater than 30>\n",
        "stats.norm.interval(alpha=0.9,loc=xbar,scale=std/np.sqrt(n))...................\n",
        "##<sample size less than 30>\n",
        "stats.t.interval(alpha=0.9,loc=xbar,scale=std/np.sqrt(n),df=n-1)...................\n",
        "##mathematical formula\n",
        "lower_value=round(np.mean(samp)-z*np.std(samp)/np.sqrt(n)))\n",
        "\n",
        "upper_value=round(np.mean(samp)+z*np.std(samp)/np.sqrt(n)))\n",
        "##proportion interval formula\n",
        "p_samp=true_obs/sample\n",
        "\n",
        "stats.norm.interval(alpha,loc=p_samp,scale=np.sqrt(p_samp*(1-p_samp)/n)"
      ]
    },
    {
      "cell_type": "code",
      "metadata": {
        "id": "7Gys8lu0Ed_9"
      },
      "source": [
        "#stats.wilcoxon(array1,array2,alternatives=({\"two-sided\", \"greater\", \"less\"}).............paired sample\n",
        "#stats.mannwhitneyu(array1,array2,alternatives=(None, 'two-sided', 'less', 'greater'))............independent sample when arrays are of same size\n",
        "#stats.ranksums(array1,array2)......... independent samples\n",
        "#stats.wilcoxon(x-checkVal,{\"two-sided\", \"greater\", \"less\"})"
      ],
      "execution_count": null,
      "outputs": []
    },
    {
      "cell_type": "code",
      "metadata": {
        "id": "CMUoPFDOLAKe"
      },
      "source": [],
      "execution_count": null,
      "outputs": []
    },
    {
      "cell_type": "markdown",
      "metadata": {
        "id": "8bgn41ObF_R3"
      },
      "source": [
        "#Prince Distribution Plot one sided tests."
      ]
    },
    {
      "cell_type": "code",
      "metadata": {
        "id": "C4vX5n3NqXTS",
        "colab": {
          "base_uri": "https://localhost:8080/",
          "height": 625
        },
        "outputId": "7e672bbb-fbff-40c2-93e0-87f175a1f46d"
      },
      "source": [
        "n = 75\n",
        "pop_mean = 175\n",
        "samp_mean = 176.3\n",
        "samp_std = 8\n",
        "CI = 0.95\n",
        "alpha = 0.05  # use this for checking\n",
        "\n",
        "# H0: mu<=175\n",
        "# H1: mu>175\n",
        "def z_test(pop_mean,samp_std,n,samp_mean):\n",
        "    zscore=(samp_mean-pop_mean)/(samp_std/np.sqrt(n))\n",
        "    return zscore\n",
        "z_score=z_test(pop_mean,samp_std,n,samp_mean)\n",
        "print(z_score)\n",
        "#pval\n",
        "pval=stats.norm.cdf(z_score)\n",
        "print(pval)\n",
        "## plotting.\n",
        "plt.rcParams['figure.figsize'] = [15,8]\n",
        "\n",
        "X = stats.norm.rvs(size = 20000, random_state = 10)\n",
        "ax = sns.distplot(a = X, hist = False, kde_kws = dict(cumulative=False))\n",
        "\n",
        "plt.ylim(0, 0.42)\n",
        "\n",
        "z = stats.norm.isf(q = 0.05)\n",
        "print('z value:',z)\n",
        "# plot a vertical line at z-value\n",
        "x, y = [z, z], [0, 0.3]\n",
        "\n",
        "# drawing z line\n",
        "plt.plot(x, y, color = 'black')\n",
        "\n",
        "# coloring\n",
        "l1 = ax.lines[0]\n",
        "x1 = l1.get_xydata()[:,0]\n",
        "y1 = l1.get_xydata()[:,1]\n",
        "ax.fill_between(x1[x1 >= z], y1[x1 >= z], color = 'lightblue')\n",
        "# labeling the regions\n",
        "plt.text(x = -1.15, y = 0.18, s = 'Acceptance Region for H0 (1 - α)')\n",
        "plt.annotate(s = 'α = 0.05\\n(Rejection Region for H0)', xy = (2.5, 0.005), xytext = (3.5, 0.035), \n",
        "             arrowprops = dict(facecolor = 'black', arrowstyle = 'simple'))\n",
        "\n",
        "plt.annotate(s = 'z_crit = '+ str(round(z,2)), xy = (z, 0.13), xytext = (z+0.8, 0.15), \n",
        "             arrowprops = dict(facecolor = 'black', arrowstyle = 'simple'))\n",
        "\n",
        "\n",
        "# general annotation.\n",
        "\n",
        "plt.xticks(ticks = [-6, -4, 0, 2, 4, 6, round(z_score,2)], \n",
        "           labels = [-6, -4, 0, 2, 4, 6, 'z_test = '+str(round(z_score,2))])\n",
        "\n",
        "plt.xlabel('Z', fontsize = 15)\n",
        "plt.ylabel('Probability', fontsize = 15)\n",
        "plt.title('Right-Tailed Test', fontsize = 15)\n",
        "\n",
        "plt.show()\n"
      ],
      "execution_count": null,
      "outputs": [
        {
          "output_type": "stream",
          "text": [
            "1.4072912811497253\n",
            "0.920329483175748\n",
            "z value: 1.6448536269514729\n"
          ],
          "name": "stdout"
        },
        {
          "output_type": "stream",
          "text": [
            "/usr/local/lib/python3.7/dist-packages/seaborn/distributions.py:2557: FutureWarning: `distplot` is a deprecated function and will be removed in a future version. Please adapt your code to use either `displot` (a figure-level function with similar flexibility) or `kdeplot` (an axes-level function for kernel density plots).\n",
            "  warnings.warn(msg, FutureWarning)\n"
          ],
          "name": "stderr"
        },
        {
          "output_type": "display_data",
          "data": {
            "image/png": "[encoded data removed]",
            "text/plain": [
              "<Figure size 1080x576 with 1 Axes>"
            ]
          },
          "metadata": {
            "tags": [],
            "needs_background": "light"
          }
        }
      ]
    },
    {
      "cell_type": "markdown",
      "metadata": {
        "id": "FTbnpy69i6uQ"
      },
      "source": [
        "#Prince Distribution Plot Two sided tests"
      ]
    },
    {
      "cell_type": "code",
      "metadata": {
        "id": "4e9aHXQ1eGUy",
        "colab": {
          "base_uri": "https://localhost:8080/",
          "height": 625
        },
        "outputId": "17d59bb1-e33c-4365-fa6f-f137f94bf1b7"
      },
      "source": [
        "# type your code here\n",
        "# type your code here\n",
        "\n",
        "# H0 : mu = 25\n",
        "# H1 : mu != 25\n",
        "\n",
        "n = 40\n",
        "pop_mean = 25\n",
        "pop_std = 4.8\n",
        "samp_mean = 23.2\n",
        "\n",
        "def z_test(pop_mean, pop_std, n, samp_mean):\n",
        "    z_score = (samp_mean - pop_mean) / (pop_std / np.sqrt(n))\n",
        "    return z_score\n",
        "\n",
        "z_score = z_test(pop_mean, pop_std, n, samp_mean)\n",
        "print(z_score)\n",
        "\n",
        "CI = 0.95\n",
        "z_critical = round(stats.norm.isf(q = 0.05),2)\n",
        "print(z_critical)\n",
        "\n",
        "plt.rcParams['figure.figsize'] = [15,8]\n",
        "\n",
        "X = stats.norm.rvs(size = 20000, random_state = 10)\n",
        "ax = sns.distplot(a = X, hist = False, kde_kws = dict(cumulative=False))\n",
        "\n",
        "plt.ylim(0, 0.42)\n",
        "\n",
        "z = stats.norm.isf(q = 0.05)\n",
        "print('z value:',z)\n",
        "# plot a vertical line at z-value\n",
        "\n",
        "# +z value\n",
        "x, y = [z, z], [0, 0.3]\n",
        "plt.plot(x, y, color = 'black')\n",
        "# -z value\n",
        "x, y = [-z, -z], [0, 0.3]\n",
        "plt.plot(x, y, color = 'black')\n",
        "\n",
        "# coloring\n",
        "l1 = ax.lines[0]\n",
        "x1 = l1.get_xydata()[:,0]\n",
        "y1 = l1.get_xydata()[:,1]\n",
        "ax.fill_between(x1[x1 >= z], y1[x1 >= z], color = 'lightblue')\n",
        "ax.fill_between(x1[x1 <= -z], y1[x1 <= -z], color = 'lightblue')\n",
        "\n",
        "\n",
        "# labeling the regions\n",
        "plt.text(x = -1.15, y = 0.18, s = 'Acceptance Region for H0 (1 - α)')\n",
        "plt.annotate(s = 'α/2 = 0.05\\n(Rejection Region for H0)', xy = (2, 0.018), xytext = (2.5, 0.05), \n",
        "             arrowprops = dict(facecolor = 'black', arrowstyle = 'simple'))\n",
        "\n",
        "plt.annotate(s = 'α/2 = 0.05\\n(Rejection Region for H0)', xy = (-2, 0.018), xytext = (-4.5, 0.055), \n",
        "             arrowprops = dict(facecolor = 'black', arrowstyle = 'simple'))\n",
        "\n",
        "plt.annotate(s = 'z_crit = '+ str(round(z,2)), xy = (z, 0), xytext = (z-1.2, 0.02), \n",
        "             arrowprops = dict(facecolor = 'black', arrowstyle = 'simple'))\n",
        "\n",
        "plt.annotate(s = 'z_crit = '+ str(round(-z,2)), xy = (-z, 0), xytext = (-z+0.3, 0.02), \n",
        "             arrowprops = dict(facecolor = 'black', arrowstyle = 'simple'))\n",
        "\n",
        "# general annotation.\n",
        "\n",
        "plt.xticks(ticks = [-6, -4, 0, 2, 4, 6, round(z_score,2)], \n",
        "           labels = [-6, -4, 0, 2, 4, 6, 'z_test = '+str(round(z_score,2))])\n",
        "\n",
        "plt.xlabel('Z', fontsize = 15)\n",
        "plt.ylabel('Probability', fontsize = 15)\n",
        "plt.title('Right-Tailed Test', fontsize = 15)\n",
        "\n",
        "plt.show()\n",
        "\n"
      ],
      "execution_count": null,
      "outputs": [
        {
          "output_type": "stream",
          "text": [
            "-2.3717082451262854\n",
            "1.64\n",
            "z value: 1.6448536269514729\n"
          ],
          "name": "stdout"
        },
        {
          "output_type": "stream",
          "text": [
            "/usr/local/lib/python3.7/dist-packages/seaborn/distributions.py:2557: FutureWarning: `distplot` is a deprecated function and will be removed in a future version. Please adapt your code to use either `displot` (a figure-level function with similar flexibility) or `kdeplot` (an axes-level function for kernel density plots).\n",
            "  warnings.warn(msg, FutureWarning)\n"
          ],
          "name": "stderr"
        },
        {
          "output_type": "display_data",
          "data": {
            "image/png": "[encoded data removed]",
            "text/plain": [
              "<Figure size 1080x576 with 1 Axes>"
            ]
          },
          "metadata": {
            "tags": [],
            "needs_background": "light"
          }
        }
      ]
    },
    {
      "cell_type": "markdown",
      "metadata": {
        "id": "E9Zyxmn1O5qS"
      },
      "source": [
        "\n",
        "\n",
        "\n"
      ]
    },
    {
      "cell_type": "code",
      "metadata": {
        "id": "jpME-fKrOpOG"
      },
      "source": [
        "a"
      ],
      "execution_count": null,
      "outputs": []
    }
  ]
}