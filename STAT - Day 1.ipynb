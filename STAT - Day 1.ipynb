{
 "cells": [
  {
   "cell_type": "markdown",
   "metadata": {},
   "source": [
    "# Faculty Notebook - Day - 01"
   ]
  },
  {
   "cell_type": "code",
   "execution_count": 1,
   "metadata": {},
   "outputs": [],
   "source": [
    "# import 'pandas' \n",
    "import pandas as pd \n",
    "\n",
    "# import 'numpy' \n",
    "import numpy as np\n",
    "\n",
    "# show all data in csv\n",
    "pd.options.display.max_columns-100\n",
    "\n",
    "# import subpackage of matplotlib Data visualisation \n",
    "import matplotlib.pyplot as plt\n",
    "\n",
    "# import 'seaborn'\n",
    "import seaborn as sns\n",
    "\n",
    "# to suppress warnings \n",
    "\n",
    "\n",
    "# import 'random' to generate random sample\n",
    "import random\n",
    "\n",
    "# import statistics to perform statistical computation  \n",
    "import statistics\n",
    "\n",
    "# import 'stats' package from scipy library\n",
    "from scipy import stats\n",
    "\n",
    "# import a library to perform Z-test\n",
    "from statsmodels.stats import weightstats as stests\n",
    "\n",
    "# to test the normality \n",
    "from scipy.stats import shapiro\n",
    "\n",
    "# import the function to calculate the power of test\n",
    "from statsmodels.stats import power"
   ]
  },
  {
   "cell_type": "code",
   "execution_count": 2,
   "metadata": {},
   "outputs": [],
   "source": [
    "import pandas as pd\n",
    "pd.options.display.max_columns+100\n",
    "import numpy as np\n",
    "import seaborn as sns\n",
    "from pandas import Series , DataFrame\n",
    "import statistics\n",
    "from scipy.stats import zscore\n",
    "import warnings\n",
    "warnings.filterwarnings('ignore')\n",
    "import seaborn as sns\n",
    "from sklearn.preprocessing import StandardScaler,RobustScaler,MinMaxScaler\n",
    "import matplotlib.pyplot as plt\n",
    "from sklearn.preprocessing import PowerTransformer\n",
    "from scipy.stats import variation\n",
    "from sklearn.preprocessing import LabelEncoder,OrdinalEncoder"
   ]
  },
  {
   "cell_type": "markdown",
   "metadata": {},
   "source": [
    "<a id=\"var\"></a>\n",
    "#  Random Variable"
   ]
  },
  {
   "cell_type": "markdown",
   "metadata": {},
   "source": [
    "It is defined as a variable that takes all the possible values of a random experiment.\n",
    "\n",
    "### Example:\n",
    "\n",
    "    Consider rolling a die as a random experiment; then the random variable (X) takes the values 1, 2, 3, 4, 5, and 6.   "
   ]
  },
  {
   "cell_type": "markdown",
   "metadata": {},
   "source": [
    "<a id=\"rv\"></a>\n",
    "##  Types of Random Variable"
   ]
  },
  {
   "cell_type": "markdown",
   "metadata": {},
   "source": [
    "Two types of random variables:- discrete and continuous.\n",
    "\n",
    "`Discrete Random Variable`: A random variable that takes the finite or countably infinite number of values is called a discrete random variable. Let us study some of the examples of a discrete random variable:\n",
    "\n",
    "        1. Number of occupied car parking spots in the amusement park\n",
    "        2. Number of students selected in the exam hall\n",
    "        3. Number of home delivery orders taken by a restaurant in a day\n",
    "        4. Number of passengers passed through an airport's security check"
   ]
  },
  {
   "cell_type": "markdown",
   "metadata": {},
   "source": [
    "`Continuous Random Variable`: A random variable that takes an infinite number of values in a range is called a continuous random variable. Let us study some of the examples of a discrete random variable:\n",
    "\n",
    "        1. Weight of people registered for the fitness program\n",
    "        2. The diameter of the water pipe produced in a factory\n",
    "        3. The time between two consecutive bill payments in a supermarket\n",
    "        4. Mileage of a car"
   ]
  },
  {
   "cell_type": "markdown",
   "metadata": {},
   "source": [
    "# Introduction to Probability distributions:"
   ]
  },
  {
   "cell_type": "markdown",
   "metadata": {},
   "source": [
    "<a id=\"dist\"></a>\n",
    "# Probability Distributions"
   ]
  },
  {
   "cell_type": "markdown",
   "metadata": {},
   "source": [
    "Probability distributions are used to understand and analyze the patterns in the data. It is a mathematical function that gives the probabilities of all the outcomes of an experiment. \n",
    "\n",
    "There are two types of probability distributions based on the type of random variable; discrete and continuous probability distributions."
   ]
  },
  {
   "cell_type": "markdown",
   "metadata": {},
   "source": [
    "<a id=\"dis\"></a>\n",
    "##  Discrete Probability Distributions"
   ]
  },
  {
   "cell_type": "markdown",
   "metadata": {},
   "source": [
    "It is the probability distribution related to the discrete random variable. In this case, the `probability mass function (pmf)` gives the probability that a variable is equal to a specific value. For a discrete random variable `X`, pmf of X is given as $ P(X = x_{i})$, where $x_{i}$ for i = 1, 2, ..., n are the values taken by the variable X.\n",
    "\n",
    "The sum of all the probabilities is always 1. i.e. $\\sum_{i = 1}^{n} P(X = x_{i}) = 1$"
   ]
  },
  {
   "cell_type": "markdown",
   "metadata": {},
   "source": [
    "For a discrete random variable X with values $x_{1}, x_{2}, ..., x_{n}$ the `cumulative distribution function (cdf)` is denoted by F(x) and defined as:\n",
    "\n",
    "<p style='text-indent:25em'> <strong> $ F(x_{i}) = P[X \\leq x_{i}]$</strong> </p>\n",
    "\n",
    "The cdf of a random variable returns the probability that the variable takes all the values less than or equal to the specific value."
   ]
  },
  {
   "cell_type": "markdown",
   "metadata": {},
   "source": [
    "## Binomial  distribution"
   ]
  },
  {
   "cell_type": "markdown",
   "metadata": {},
   "source": [
    "A discrete variable X taking values 0, 1, 2,..., n follows a binomial distribution with parameters `n` and `p`, if the pmf of X is given by:\n",
    "\n",
    "<p style='text-indent:25em'> <strong> $ P(X = x) = {n \\choose x} p^{x}q^{n-x}$</strong> $\\hspace{2cm}$  x = 0, 1, ..., n </p>\n",
    "\n",
    "`p` denotes the probability of success of an experiment and `q` denotes the probability of failure. (where, p + q = 1)\n",
    "\n",
    "If `n` independent bernoulli trials (each with `p` as probability of success) are executed then the number of successes follows a binomial distribution.\n",
    "\n",
    "The mean and variance of the distribution is given as:<br>\n",
    "\n",
    "Mean = $np$\n",
    "\n",
    "Variance = $npq$ "
   ]
  },
  {
   "cell_type": "markdown",
   "metadata": {},
   "source": [
    "### Some important functions in Python for Binomial distribution:\n",
    "\n",
    "#### 1) Probability mass function\n",
    "-----------\n",
    "\n",
    "##### scipy.stats.binom.pmf gives the probability mass function for the binomial distribution\n",
    "----\n",
    "\n",
    "binomial = scipy.stats.binom.pmf (k,n,p), \n",
    "* where k is an array and takes values in {0, 1,..., n}\n",
    "* n and p are shape parameters for the binomial distribution\n",
    "\n",
    "The output, binomial, gives probability of binomial distribution function in terms of array.\n",
    "\n",
    "#### 2) Cumulative Distribution function\n",
    "------\n",
    "\n",
    "cumbinomial = scipy.stats.binom.cdf(k,n,p) gives cumulative binomial distribution.\n",
    "\n",
    "The output, cumbinomial, gives cumulative probability of binomial distribution function in terms of array.\n",
    "\n"
   ]
  },
  {
   "cell_type": "markdown",
   "metadata": {},
   "source": [
    "### A coin is tossed 2 times. What is the probability of getting heads?"
   ]
  },
  {
   "cell_type": "code",
   "execution_count": 13,
   "metadata": {},
   "outputs": [],
   "source": [
    "p=0.5# historuical probability\n",
    "n=2"
   ]
  },
  {
   "cell_type": "markdown",
   "metadata": {},
   "source": [
    "#  PMF \n",
    "Probability Mass Function, also called Discrete Density Function will allow us to find out the probability of getting a boost/interaction on a social media platform for each hour of the day "
   ]
  },
  {
   "cell_type": "code",
   "execution_count": 14,
   "metadata": {},
   "outputs": [
    {
     "data": {
      "text/plain": [
       "0.25"
      ]
     },
     "execution_count": 14,
     "metadata": {},
     "output_type": "execute_result"
    }
   ],
   "source": [
    "#no heads means 0\n",
    "r=0\n",
    "stats.binom.pmf(r,n,p)"
   ]
  },
  {
   "cell_type": "code",
   "execution_count": 15,
   "metadata": {},
   "outputs": [
    {
     "data": {
      "text/plain": [
       "0.5000000000000002"
      ]
     },
     "execution_count": 15,
     "metadata": {},
     "output_type": "execute_result"
    }
   ],
   "source": [
    "# 1 heads\n",
    "r=1\n",
    "stats.binom.pmf(r,n,p)"
   ]
  },
  {
   "cell_type": "code",
   "execution_count": 16,
   "metadata": {},
   "outputs": [
    {
     "data": {
      "text/plain": [
       "0.25"
      ]
     },
     "execution_count": 16,
     "metadata": {},
     "output_type": "execute_result"
    }
   ],
   "source": [
    "# 2 heads\n",
    "r=2\n",
    "stats.binom.pmf(r,n,p)"
   ]
  },
  {
   "cell_type": "markdown",
   "metadata": {},
   "source": [
    "# A die is tossed 2 times. whatbis the probability of getting a 5 in both dice?"
   ]
  },
  {
   "cell_type": "code",
   "execution_count": 7,
   "metadata": {},
   "outputs": [
    {
     "data": {
      "text/plain": [
       "0.027777777777777776"
      ]
     },
     "execution_count": 7,
     "metadata": {},
     "output_type": "execute_result"
    }
   ],
   "source": [
    "p=1/6\n",
    "n=2\n",
    "r=2\n",
    "stats.binom.pmf(r,n,p)"
   ]
  },
  {
   "cell_type": "code",
   "execution_count": null,
   "metadata": {},
   "outputs": [],
   "source": []
  },
  {
   "cell_type": "markdown",
   "metadata": {},
   "source": [
    "### Example 1: \n",
    "\n",
    "##### A LED bulb manufacturing company regularly conducts quality checks at specified periods on the products it manufactures.Historically, the failure rate for LED light bulbs that the company manufactures is 5%. Suppose a random sample of 10 LED light bulbs is selected.What is the probability that \n",
    "\n",
    "\n",
    "-------------------\n",
    "* a) None of the LED bulbs are defective?\n",
    "------------\n",
    "* b) Exactly one of the LED bulbs is defective?\n",
    "---------------\n",
    "* c) Two or fewer of the LED bulbs are defective?\n",
    "----------\n",
    "* d) Three or more of the LED bulbs are defective"
   ]
  },
  {
   "cell_type": "markdown",
   "metadata": {},
   "source": [
    "#### a) None of the LED bulbs are defective?"
   ]
  },
  {
   "cell_type": "code",
   "execution_count": 17,
   "metadata": {},
   "outputs": [
    {
     "data": {
      "text/plain": [
       "0.5987369392383787"
      ]
     },
     "execution_count": 17,
     "metadata": {},
     "output_type": "execute_result"
    }
   ],
   "source": [
    "# hare r can be 0 to 10\n",
    "p=0.05\n",
    "n=10\n",
    "r=0\n",
    "stats.binom.pmf(r,n,p)"
   ]
  },
  {
   "cell_type": "code",
   "execution_count": null,
   "metadata": {},
   "outputs": [],
   "source": []
  },
  {
   "cell_type": "code",
   "execution_count": null,
   "metadata": {},
   "outputs": [],
   "source": []
  },
  {
   "cell_type": "markdown",
   "metadata": {},
   "source": [
    "#### b) Exactly one of the LED bulbs is defective?"
   ]
  },
  {
   "cell_type": "code",
   "execution_count": 18,
   "metadata": {},
   "outputs": [
    {
     "data": {
      "text/plain": [
       "0.3151247048623047"
      ]
     },
     "execution_count": 18,
     "metadata": {},
     "output_type": "execute_result"
    }
   ],
   "source": [
    "p=0.05\n",
    "n=10\n",
    "r=1\n",
    "stats.binom.pmf(r,n,p)"
   ]
  },
  {
   "cell_type": "code",
   "execution_count": null,
   "metadata": {},
   "outputs": [],
   "source": []
  },
  {
   "cell_type": "markdown",
   "metadata": {},
   "source": [
    "#### c) Two or fewer of the LED bulbs are defective?"
   ]
  },
  {
   "cell_type": "code",
   "execution_count": 19,
   "metadata": {},
   "outputs": [
    {
     "data": {
      "text/plain": [
       "0.988496442620703"
      ]
     },
     "execution_count": 19,
     "metadata": {},
     "output_type": "execute_result"
    }
   ],
   "source": [
    "p=0.05\n",
    "n=10\n",
    "r=[0,1,2]\n",
    "stats.binom.pmf(r,n,p). sum()# . sum means in sum() no arry in output"
   ]
  },
  {
   "cell_type": "code",
   "execution_count": 20,
   "metadata": {},
   "outputs": [
    {
     "data": {
      "text/plain": [
       "0.988496442620703"
      ]
     },
     "execution_count": 20,
     "metadata": {},
     "output_type": "execute_result"
    }
   ],
   "source": [
    "p=0.05\n",
    "n=10\n",
    "r=[0,1,2]\n",
    "stats.binom.pmf(r,n,p).sum()"
   ]
  },
  {
   "cell_type": "code",
   "execution_count": 21,
   "metadata": {},
   "outputs": [
    {
     "data": {
      "text/plain": [
       "0.988496442620703"
      ]
     },
     "execution_count": 21,
     "metadata": {},
     "output_type": "execute_result"
    }
   ],
   "source": [
    "p=0.05\n",
    "n=10\n",
    "stats.binom.pmf(0,n,p)+stats.binom.pmf(1,n,p)+stats.binom.pmf(2,n,p)# pmf means Probability mass function"
   ]
  },
  {
   "cell_type": "code",
   "execution_count": 22,
   "metadata": {},
   "outputs": [
    {
     "data": {
      "text/plain": [
       "0.9884964426207031"
      ]
     },
     "execution_count": 22,
     "metadata": {},
     "output_type": "execute_result"
    }
   ],
   "source": [
    "p=0.05\n",
    "n=10\n",
    "r=2\n",
    "stats.binom.cdf(r,n,p)#  cdf mean Cumulative distribution function "
   ]
  },
  {
   "cell_type": "markdown",
   "metadata": {},
   "source": [
    "#### d) Three or more of the LED bulbs are defective"
   ]
  },
  {
   "cell_type": "code",
   "execution_count": 23,
   "metadata": {},
   "outputs": [
    {
     "data": {
      "text/plain": [
       "0.01150355737929687"
      ]
     },
     "execution_count": 23,
     "metadata": {},
     "output_type": "execute_result"
    }
   ],
   "source": [
    "p=0.05\n",
    "n=10\n",
    "r=3-1\n",
    "1-stats.binom.cdf(r,n,p)"
   ]
  },
  {
   "cell_type": "code",
   "execution_count": 24,
   "metadata": {},
   "outputs": [
    {
     "data": {
      "text/plain": [
       "0.01150355737929687"
      ]
     },
     "execution_count": 24,
     "metadata": {},
     "output_type": "execute_result"
    }
   ],
   "source": [
    "p=0.05\n",
    "n=10\n",
    "r=3\n",
    "1-stats.binom.cdf(r-1,n,p)"
   ]
  },
  {
   "cell_type": "code",
   "execution_count": 25,
   "metadata": {},
   "outputs": [
    {
     "data": {
      "text/plain": [
       "0.011503557379296871"
      ]
     },
     "execution_count": 25,
     "metadata": {},
     "output_type": "execute_result"
    }
   ],
   "source": [
    "stats.binom.sf(r-1,n,p)# sorvival function"
   ]
  },
  {
   "cell_type": "code",
   "execution_count": null,
   "metadata": {},
   "outputs": [],
   "source": []
  },
  {
   "cell_type": "markdown",
   "metadata": {},
   "source": [
    "#### Suppose a study performed at St. Jude’s Hospital shows that 30% of all patients arriving at the emergency room are subsequently admitted to the hospital for at least one night. Assuming that a sample of seven arrived at the emergency room each day:\n",
    "\n",
    "#### a. What is the probability that five or more in the sample of seven will require admittance to the hospital?\n",
    "#### b. What is the expected number of patients in the sample who will require admittance to the hospital?\n",
    "\n",
    "#### c. Plot the pmf and cdf graph.\n"
   ]
  },
  {
   "cell_type": "markdown",
   "metadata": {},
   "source": [
    "#### a. What is the probability that five or more in the sample of seven will require admittance to the ho"
   ]
  },
  {
   "cell_type": "code",
   "execution_count": 26,
   "metadata": {},
   "outputs": [
    {
     "data": {
      "text/plain": [
       "0.02879549999999999"
      ]
     },
     "execution_count": 26,
     "metadata": {},
     "output_type": "execute_result"
    }
   ],
   "source": [
    "p=0.3\n",
    "n=7\n",
    "r=5\n",
    "stats.binom.sf(r-1,n,p)"
   ]
  },
  {
   "cell_type": "code",
   "execution_count": null,
   "metadata": {},
   "outputs": [],
   "source": []
  },
  {
   "cell_type": "markdown",
   "metadata": {},
   "source": [
    "#### b. What is the expected number of patients in the sample who will require admittance to the hospital?"
   ]
  },
  {
   "cell_type": "markdown",
   "metadata": {},
   "source": [
    "###### Note: (Expected value = Mean)"
   ]
  },
  {
   "cell_type": "code",
   "execution_count": 27,
   "metadata": {},
   "outputs": [
    {
     "data": {
      "text/plain": [
       "2.1"
      ]
     },
     "execution_count": 27,
     "metadata": {},
     "output_type": "execute_result"
    }
   ],
   "source": [
    "n*p"
   ]
  },
  {
   "cell_type": "markdown",
   "metadata": {},
   "source": [
    "#### c. Plot the pmf and cdf graph."
   ]
  },
  {
   "cell_type": "code",
   "execution_count": 28,
   "metadata": {},
   "outputs": [],
   "source": [
    "p=0.3\n",
    "n=7\n",
    "pmf_list=[]\n",
    "for r in range(0,n+1):\n",
    "    pmf_val=stats.binom.pmf(r,n,p)\n",
    "    pmf_list.append(pmf_val)\n",
    "    #pmf_list"
   ]
  },
  {
   "cell_type": "code",
   "execution_count": 29,
   "metadata": {},
   "outputs": [
    {
     "data": {
      "image/png": "[encoded data removed]",
      "text/plain": [
       "<Figure size 640x480 with 1 Axes>"
      ]
     },
     "metadata": {},
     "output_type": "display_data"
    }
   ],
   "source": [
    "plt.plot(pmf_list,marker='o')\n",
    "plt.show()"
   ]
  },
  {
   "cell_type": "code",
   "execution_count": 30,
   "metadata": {},
   "outputs": [],
   "source": [
    "p=0.3\n",
    "n=7\n",
    "cdf_list=[]\n",
    "for r in range(0,n+1):\n",
    "    cdf_val=stats.binom.cdf(r,n,p)\n",
    "    cdf_list.append(cdf_val)"
   ]
  },
  {
   "cell_type": "code",
   "execution_count": 31,
   "metadata": {},
   "outputs": [
    {
     "data": {
      "image/png": "[encoded data removed]",
      "text/plain": [
       "<Figure size 640x480 with 1 Axes>"
      ]
     },
     "metadata": {},
     "output_type": "display_data"
    }
   ],
   "source": [
    "plt.plot(cdf_list,marker='o')\n",
    "plt.show()"
   ]
  },
  {
   "cell_type": "code",
   "execution_count": 32,
   "metadata": {},
   "outputs": [],
   "source": [
    "# pmf\n"
   ]
  },
  {
   "cell_type": "markdown",
   "metadata": {},
   "source": [
    "### The percentage of orders filled correctly at a softdrink store is 86.8%. Suppose you drive to the store and place an order. Two of your friends independently place  orders at the same window\n",
    "\n",
    "1. None of the orders are filled correctly\n",
    "2. Atleast 2 of the 3 orders are filled correctly."
   ]
  },
  {
   "cell_type": "markdown",
   "metadata": {},
   "source": [
    "#### None of the orders are filled correctly"
   ]
  },
  {
   "cell_type": "code",
   "execution_count": 33,
   "metadata": {},
   "outputs": [
    {
     "data": {
      "text/plain": [
       "0.653972032"
      ]
     },
     "execution_count": 33,
     "metadata": {},
     "output_type": "execute_result"
    }
   ],
   "source": [
    "p=1-0.868\n",
    "n=3\n",
    "r=0\n",
    "stats.binom.pmf(r,n,p)"
   ]
  },
  {
   "cell_type": "code",
   "execution_count": 34,
   "metadata": {},
   "outputs": [
    {
     "data": {
      "text/plain": [
       "0.0022999680000000003"
      ]
     },
     "execution_count": 34,
     "metadata": {},
     "output_type": "execute_result"
    }
   ],
   "source": [
    "p=0.868\n",
    "n=3\n",
    "r=0\n",
    "stats.binom.pmf(r,n,p)"
   ]
  },
  {
   "cell_type": "markdown",
   "metadata": {},
   "source": [
    "#### Atleast 2 of the 3 orders are filled correctly."
   ]
  },
  {
   "cell_type": "code",
   "execution_count": 35,
   "metadata": {},
   "outputs": [
    {
     "data": {
      "text/plain": [
       "0.952327936"
      ]
     },
     "execution_count": 35,
     "metadata": {},
     "output_type": "execute_result"
    }
   ],
   "source": [
    "p=0.868\n",
    "n=3\n",
    "r=2\n",
    "stats.binom.sf(r-1,n,p)"
   ]
  },
  {
   "cell_type": "code",
   "execution_count": 36,
   "metadata": {},
   "outputs": [
    {
     "data": {
      "text/plain": [
       "0.952327936"
      ]
     },
     "execution_count": 36,
     "metadata": {},
     "output_type": "execute_result"
    }
   ],
   "source": [
    "r=2\n",
    "stats.binom.sf(r-1,n,p)"
   ]
  },
  {
   "cell_type": "code",
   "execution_count": null,
   "metadata": {},
   "outputs": [],
   "source": []
  },
  {
   "cell_type": "markdown",
   "metadata": {},
   "source": [
    "### Practice:\n",
    "\n",
    "#### 1. Heaven Furnitures (HF) sells furniture like sofas, beds and tables. It is observed that 25% of their customers complain about the furniture purchased by them for many reasons. On Tuesday, 20 customers purchased furniture products from HF. \n",
    "\n",
    "\n",
    "#### a. Calculate the probability that exactly 3 customers will complain about the purchased products.\n",
    "#### b. Calculate the probability that atleast 3 customers will complain about the purchased products.\n",
    "#### c. Calculate the probability that atmost 3 customers will complain about the purchased products.\n",
    "#### d. Calculate the probability that from 3  to 5 customers will complain about the purchased products.\n",
    "#### e. Plot the pmf and cdf."
   ]
  },
  {
   "cell_type": "code",
   "execution_count": 37,
   "metadata": {},
   "outputs": [
    {
     "data": {
      "text/plain": [
       "0.13389561519943532"
      ]
     },
     "execution_count": 37,
     "metadata": {},
     "output_type": "execute_result"
    }
   ],
   "source": [
    "# a\n",
    "p=0.25\n",
    "n=20\n",
    "r=3\n",
    "stats.binom.pmf(r,n,p)"
   ]
  },
  {
   "cell_type": "code",
   "execution_count": 38,
   "metadata": {},
   "outputs": [
    {
     "data": {
      "text/plain": [
       "0.9087395675351218"
      ]
     },
     "execution_count": 38,
     "metadata": {},
     "output_type": "execute_result"
    }
   ],
   "source": [
    "# b\n",
    "p=0.25\n",
    "n=20\n",
    "r=3\n",
    "stats.binom.sf(r-1,n,p)"
   ]
  },
  {
   "cell_type": "code",
   "execution_count": 39,
   "metadata": {},
   "outputs": [
    {
     "data": {
      "text/plain": [
       "0.22515604766431352"
      ]
     },
     "execution_count": 39,
     "metadata": {},
     "output_type": "execute_result"
    }
   ],
   "source": [
    "# c\n",
    "p=0.25\n",
    "n=20\n",
    "r=3\n",
    "stats.binom.cdf(r,n,p)"
   ]
  },
  {
   "cell_type": "code",
   "execution_count": 40,
   "metadata": {},
   "outputs": [
    {
     "data": {
      "text/plain": [
       "0.5259122219222263"
      ]
     },
     "execution_count": 40,
     "metadata": {},
     "output_type": "execute_result"
    }
   ],
   "source": [
    "# d\n",
    "p=0.25\n",
    "n=20\n",
    "r=3\n",
    "stats.binom.cdf(5,n,p)-stats.binom.cdf(3-1,n,p)"
   ]
  },
  {
   "cell_type": "markdown",
   "metadata": {},
   "source": [
    "### The probability of manufacturing a defective pen is 5 percentage. This company is selling 50 pens in a box. What is the probability to get 2 defective pens?"
   ]
  },
  {
   "cell_type": "code",
   "execution_count": 41,
   "metadata": {},
   "outputs": [
    {
     "name": "stdout",
     "output_type": "stream",
     "text": [
      "The Probability of getting 2 defective pens from a box of 50 pens is 0.2611\n"
     ]
    }
   ],
   "source": [
    "p=0.05\n",
    "n=50\n",
    "r=2\n",
    "prob=stats.binom.pmf(r,n,p)\n",
    "print('The Probability of getting 2 defective pens from a box of 50 pens is',round(prob,4))"
   ]
  },
  {
   "cell_type": "code",
   "execution_count": null,
   "metadata": {},
   "outputs": [],
   "source": []
  },
  {
   "cell_type": "markdown",
   "metadata": {},
   "source": [
    "The probability of getting 2 defective pens from a box of 50 pens is 0.2611"
   ]
  },
  {
   "cell_type": "markdown",
   "metadata": {},
   "source": [
    "### What is the probability to get max of 3 pen defective ?"
   ]
  },
  {
   "cell_type": "code",
   "execution_count": 42,
   "metadata": {},
   "outputs": [
    {
     "data": {
      "text/plain": [
       "0.7604079609501001"
      ]
     },
     "execution_count": 42,
     "metadata": {},
     "output_type": "execute_result"
    }
   ],
   "source": [
    "p=0.05\n",
    "n=50\n",
    "r=3\n",
    "stats.binom.cdf(r,n,p)"
   ]
  },
  {
   "cell_type": "code",
   "execution_count": null,
   "metadata": {},
   "outputs": [],
   "source": []
  },
  {
   "cell_type": "markdown",
   "metadata": {},
   "source": [
    "### What is the probability to get at least 3 defective pens ? (x = 3 to 50)"
   ]
  },
  {
   "cell_type": "code",
   "execution_count": 34,
   "metadata": {},
   "outputs": [
    {
     "data": {
      "text/plain": [
       "0.4594668772804849"
      ]
     },
     "execution_count": 34,
     "metadata": {},
     "output_type": "execute_result"
    }
   ],
   "source": [
    "p=0.05\n",
    "n=50\n",
    "r=3\n",
    "stats.binom.sf(r-1,n,p)"
   ]
  },
  {
   "cell_type": "code",
   "execution_count": null,
   "metadata": {},
   "outputs": [],
   "source": []
  },
  {
   "cell_type": "markdown",
   "metadata": {},
   "source": [
    "### What is the probability to get 2 to 5 faulty pen in a pack of 50\n"
   ]
  },
  {
   "cell_type": "code",
   "execution_count": 35,
   "metadata": {},
   "outputs": [
    {
     "data": {
      "text/plain": [
       "0.007249999999999979"
      ]
     },
     "execution_count": 35,
     "metadata": {},
     "output_type": "execute_result"
    }
   ],
   "source": [
    "p=0.05\n",
    "n=50\n",
    "stats.binom.cdf(5,r,p)-stats.binom.cdf(2-1,r,p)"
   ]
  },
  {
   "cell_type": "code",
   "execution_count": null,
   "metadata": {},
   "outputs": [],
   "source": []
  },
  {
   "cell_type": "markdown",
   "metadata": {},
   "source": [
    "#\tIntroduction to the Normal distribution:"
   ]
  },
  {
   "cell_type": "markdown",
   "metadata": {},
   "source": [
    "## Normal Distribution"
   ]
  },
  {
   "cell_type": "markdown",
   "metadata": {},
   "source": [
    "A continuous variable X follows a normal distribution with the parameters $\\mu$ and $\\sigma$ if the pdf of X is given by:\n",
    "\n",
    "<p style='text-indent:25em'> <strong> $f(x) = \\frac {1}{\\sigma\\sqrt(2 \\pi)} e^\\frac {-(x-\\mu^2)}{2\\sigma^2}$</strong></p>\n",
    "\n",
    "The normal distribution is a bell-shaped symmetric distribution with `mean = median = mode`. \n",
    "\n",
    "The mean and variance of the distribution is given as:<br>\n",
    "\n",
    "Mean = $\\mu$ \n",
    "\n",
    "Variance = $\\sigma^{2}$ \n",
    "\n",
    "**Note:** The variable Z given as, Z = $\\frac{X - \\mu}{\\sigma}$ follows a `standard normal distribution` with mean 0 and variance 1."
   ]
  },
  {
   "cell_type": "markdown",
   "metadata": {},
   "source": [
    "Where\n",
    "* f(x) is used to represent a probability density function\n",
    "* x is any value of the continuous variable, where -∞ < x < ∞\n",
    "* e denotes the mathematical constant approximated by 2.71828\n",
    "* Π is a mathematical constant approximated by 3.14159\n",
    "* μ and σ are the mean and standard deviation of the normal distribution\n"
   ]
  },
  {
   "cell_type": "markdown",
   "metadata": {},
   "source": [
    "### Properties\n",
    "1. Theoretical normal density functions are defined between -∞ and ∞\n",
    "2. There are two parameters, location (μ which is the mean) and scale (σ which is standard deviation).\n",
    "3. It has a symmetrical (bell shape) around the mean. mean = median = mode\n",
    "4. Areas between specific values are measured in terms of μ and σ\n"
   ]
  },
  {
   "cell_type": "markdown",
   "metadata": {},
   "source": [
    "| Value of the random variable | Area under the normal distribution (CDF) |\n",
    "| --------------------------------- | --------------------------|\n",
    "| $\\mu - \\sigma \\leq x \\leq \\mu + \\sigma$ | 0.6828 |\n",
    "| $\\mu - 2\\sigma \\leq x \\leq \\mu + 2\\sigma$ | 0.9545 |\n",
    "| $\\mu - 3\\sigma \\leq x \\leq \\mu + 3\\sigma$ | 0.9974 |"
   ]
  },
  {
   "cell_type": "markdown",
   "metadata": {},
   "source": [
    "### Some important functions in python for solving Normal Distribution problems\n",
    "\n",
    "#### 1. Cumulative Distribution Function (cdf)\n",
    "\n",
    "1. scipy.stats.norm.cdf(z)                 # Here z is an attribute\n",
    "\n",
    "2. stats.norm.cdf(z2) – stats.norm.cdf(z1) # Here z is an attribute\n",
    "\n",
    "3. stats.norm.isf(0.99) # Inverse Survival function gives the value given a probability"
   ]
  },
  {
   "cell_type": "markdown",
   "metadata": {},
   "source": [
    "------------"
   ]
  },
  {
   "cell_type": "markdown",
   "metadata": {},
   "source": [
    "### Example:"
   ]
  },
  {
   "cell_type": "markdown",
   "metadata": {},
   "source": [
    "A survey on use of smart phones in India was conducted and it is observed the smart phone users spend 68 minutes in a day on average in sending messages and the corresponding standard deviation is 12 minutes. \n",
    "\n",
    "* Assume that the time spent in sending messages follows a normal distribution. \n",
    "* a.1) What proportion of the smart phone users are spending more than 90 minutes in sending messages daily?\n",
    "* a.2) What proportion of the smart phone users are spending less than 90 minutes in sending messages daily?\n",
    "* b) What proportion of customers are spending less than 20 minutes?\n",
    "* c) What proportion of customers are spending between 50 minutes and 100 minutes?"
   ]
  },
  {
   "cell_type": "markdown",
   "metadata": {},
   "source": [
    "#### a.1) What proportion of the smart phone users are spending more than 90 minutes in sending messages daily?"
   ]
  },
  {
   "cell_type": "code",
   "execution_count": 36,
   "metadata": {},
   "outputs": [
    {
     "data": {
      "text/plain": [
       "1.8333333333333333"
      ]
     },
     "execution_count": 36,
     "metadata": {},
     "output_type": "execute_result"
    }
   ],
   "source": [
    "mu=68\n",
    "sigma=12\n",
    "x=90\n",
    "\n",
    "z=(x-mu)/sigma\n",
    "z"
   ]
  },
  {
   "cell_type": "code",
   "execution_count": 37,
   "metadata": {},
   "outputs": [
    {
     "data": {
      "text/plain": [
       "0.03337650758481726"
      ]
     },
     "execution_count": 37,
     "metadata": {},
     "output_type": "execute_result"
    }
   ],
   "source": [
    "stats.norm.sf(z)# 1st"
   ]
  },
  {
   "cell_type": "code",
   "execution_count": 38,
   "metadata": {},
   "outputs": [
    {
     "data": {
      "text/plain": [
       "1.8333333333333333"
      ]
     },
     "execution_count": 38,
     "metadata": {},
     "output_type": "execute_result"
    }
   ],
   "source": [
    "(90-68)/12"
   ]
  },
  {
   "cell_type": "markdown",
   "metadata": {},
   "source": [
    "#### a.2) What proportion of the smart phone users are spending less than 90 minutes in sending messages daily?"
   ]
  },
  {
   "cell_type": "code",
   "execution_count": 39,
   "metadata": {},
   "outputs": [
    {
     "data": {
      "text/plain": [
       "0.9666234924151828"
      ]
     },
     "execution_count": 39,
     "metadata": {},
     "output_type": "execute_result"
    }
   ],
   "source": [
    "stats.norm.cdf(z)# 2nd"
   ]
  },
  {
   "cell_type": "code",
   "execution_count": null,
   "metadata": {},
   "outputs": [],
   "source": []
  },
  {
   "cell_type": "markdown",
   "metadata": {},
   "source": [
    "#### b) What proportion of customers are spending less than 20 minutes?"
   ]
  },
  {
   "cell_type": "code",
   "execution_count": 40,
   "metadata": {},
   "outputs": [
    {
     "data": {
      "text/plain": [
       "-4.0"
      ]
     },
     "execution_count": 40,
     "metadata": {},
     "output_type": "execute_result"
    }
   ],
   "source": [
    "x=20\n",
    "z=(x-mu)/sigma\n",
    "z"
   ]
  },
  {
   "cell_type": "code",
   "execution_count": 41,
   "metadata": {},
   "outputs": [
    {
     "data": {
      "text/plain": [
       "3.167124183311986e-05"
      ]
     },
     "execution_count": 41,
     "metadata": {},
     "output_type": "execute_result"
    }
   ],
   "source": [
    "stats.norm.cdf(z)"
   ]
  },
  {
   "cell_type": "markdown",
   "metadata": {},
   "source": [
    "#### c) What proportion of customers are spending between 50 minutes and 100 minutes?"
   ]
  },
  {
   "cell_type": "code",
   "execution_count": 42,
   "metadata": {},
   "outputs": [
    {
     "data": {
      "text/plain": [
       "0.9293624181635521"
      ]
     },
     "execution_count": 42,
     "metadata": {},
     "output_type": "execute_result"
    }
   ],
   "source": [
    "x1=100\n",
    "z1=(x1-mu)/sigma\n",
    "x2=50\n",
    "z2=(x2-mu)/sigma\n",
    "stats.norm.cdf(z1)-stats.norm.cdf(z2)"
   ]
  },
  {
   "cell_type": "code",
   "execution_count": 43,
   "metadata": {},
   "outputs": [],
   "source": [
    "mu=68\n",
    "sigms=12\n"
   ]
  },
  {
   "cell_type": "markdown",
   "metadata": {},
   "source": [
    "### Food delivery company\n",
    "### Average delivery time for delivering food in chennai is 45 min with a standad deviation of 20 min(sigma). What is the probabilty to deliver the food less than 30 minutes "
   ]
  },
  {
   "cell_type": "code",
   "execution_count": 44,
   "metadata": {},
   "outputs": [
    {
     "data": {
      "text/plain": [
       "-0.75"
      ]
     },
     "execution_count": 44,
     "metadata": {},
     "output_type": "execute_result"
    }
   ],
   "source": [
    "mu=45\n",
    "sigma=20\n",
    "x=30\n",
    "z=(x-mu)/sigma\n",
    "z"
   ]
  },
  {
   "cell_type": "code",
   "execution_count": 45,
   "metadata": {},
   "outputs": [
    {
     "data": {
      "text/plain": [
       "0.2266273523768682"
      ]
     },
     "execution_count": 45,
     "metadata": {},
     "output_type": "execute_result"
    }
   ],
   "source": [
    "stats.norm.cdf(z)"
   ]
  },
  {
   "cell_type": "markdown",
   "metadata": {},
   "source": [
    "#### What is probabilty, delivery take more than 100 minutes ?"
   ]
  },
  {
   "cell_type": "code",
   "execution_count": 46,
   "metadata": {},
   "outputs": [
    {
     "data": {
      "text/plain": [
       "2.75"
      ]
     },
     "execution_count": 46,
     "metadata": {},
     "output_type": "execute_result"
    }
   ],
   "source": [
    "x=100\n",
    "z=(x-mu)/sigma\n",
    "z"
   ]
  },
  {
   "cell_type": "code",
   "execution_count": 47,
   "metadata": {},
   "outputs": [
    {
     "data": {
      "text/plain": [
       "0.002979763235054555"
      ]
     },
     "execution_count": 47,
     "metadata": {},
     "output_type": "execute_result"
    }
   ],
   "source": [
    "stats.norm.sf(z)"
   ]
  },
  {
   "cell_type": "markdown",
   "metadata": {},
   "source": [
    "#### According to a Credit Bureau Data(2008), college students carried an average of 3173 dollars debt on their credit cards. Suppose that current debt for credit cards is 3173 dollars followed with a standard deviation of 800 dollars. Find the probability that a credit card debt randomly selected for a college student is betweeen 2109 dollars and 3605 dollars "
   ]
  },
  {
   "cell_type": "code",
   "execution_count": 48,
   "metadata": {},
   "outputs": [
    {
     "data": {
      "text/plain": [
       "-0.6136423481340212"
      ]
     },
     "execution_count": 48,
     "metadata": {},
     "output_type": "execute_result"
    }
   ],
   "source": [
    "mu=3173\n",
    "sigma=800\n",
    "x1=3605\n",
    "x2=2109\n",
    "z1=(x1-mu)/sigma\n",
    "z2=(x2-mu)/sigma\n",
    "stats.norm.cdf(z2)-stats.norm.cdf(z1)"
   ]
  },
  {
   "cell_type": "code",
   "execution_count": 49,
   "metadata": {},
   "outputs": [
    {
     "data": {
      "text/plain": [
       "-0.6136423481340212"
      ]
     },
     "execution_count": 49,
     "metadata": {},
     "output_type": "execute_result"
    }
   ],
   "source": [
    "stats.norm.cdf(z2)-stats.norm.cdf(z1)"
   ]
  },
  {
   "cell_type": "markdown",
   "metadata": {},
   "source": [
    "###  Practice:\n",
    "\n",
    "#### 1. A survey was conducted and it was found that the people spend their 300 minutes in a day surfing on online shopping sites on average and the corresponding standard deviation is 127 minutes. Assume that the time spent on surfing follows a normal distribution. Calculate the following probabilities:\n",
    "\n",
    "#### a. What is the probability that people are spending more than 400 minutes on online shopping sites per day?\n",
    "\n",
    "\n",
    "#### b. What is the probability that the users are spending less than or equal to 100 minutes per day?\n",
    "\n",
    "#### c. What is the probability that the users are spending between 100 to 200 mins?"
   ]
  },
  {
   "cell_type": "code",
   "execution_count": 50,
   "metadata": {},
   "outputs": [
    {
     "data": {
      "text/plain": [
       "0.21552341258419727"
      ]
     },
     "execution_count": 50,
     "metadata": {},
     "output_type": "execute_result"
    }
   ],
   "source": [
    "# a\n",
    "mu=300\n",
    "sigma=127\n",
    "x=400\n",
    "z=(x-mu)/sigma\n",
    "stats.norm.sf(z)"
   ]
  },
  {
   "cell_type": "code",
   "execution_count": 51,
   "metadata": {},
   "outputs": [
    {
     "data": {
      "text/plain": [
       "0.057650944602972154"
      ]
     },
     "execution_count": 51,
     "metadata": {},
     "output_type": "execute_result"
    }
   ],
   "source": [
    "#b\n",
    "x=100\n",
    "z=(x-mu)/sigma\n",
    "stats.norm.cdf(z)"
   ]
  },
  {
   "cell_type": "code",
   "execution_count": 52,
   "metadata": {},
   "outputs": [
    {
     "data": {
      "text/plain": [
       "0.15787246798122512"
      ]
     },
     "execution_count": 52,
     "metadata": {},
     "output_type": "execute_result"
    }
   ],
   "source": [
    "# c\n",
    "x1=100\n",
    "x2=200\n",
    "z1=(x1-mu)/sigma\n",
    "z2=(x2-mu)/sigma\n",
    "stats.norm.cdf(z2)-stats.norm.cdf(z1)"
   ]
  },
  {
   "cell_type": "markdown",
   "metadata": {},
   "source": [
    "<a id=\"sample\"></a>\n",
    "# Sampling"
   ]
  },
  {
   "cell_type": "markdown",
   "metadata": {},
   "source": [
    "It is the method of selecting a subset of observations from the population which is used as a representative of the population.\n",
    "\n",
    "The value associated with the characteristic of the population is known as a `parameter` and the characteristic of the sample is described by a `statistic`. The sample from a population is used to estimate the values of parameters.\n",
    "\n",
    "Different types of sampling: Simple Random, Stratified, Systematic, and Cluster sampling."
   ]
  },
  {
   "cell_type": "markdown",
   "metadata": {},
   "source": [
    "<a id=\"SRS\"></a>\n",
    "## 1.1 Simple Random Sample"
   ]
  },
  {
   "cell_type": "markdown",
   "metadata": {},
   "source": [
    "It is one of the sampling methods in which each observation in the population has an equal chance (probability) of being selected as the sample. It is the most basic type of sampling.\n",
    "\n",
    "Simple random sampling can be done with/without replacement."
   ]
  },
  {
   "cell_type": "markdown",
   "metadata": {},
   "source": [
    "In Simple Random Sampling With Replacement (`SRSWR`) an observation can occur multiple times, as we replace the selected observation in the population before drawing the next sample. In this technique, the size of the population always remains the same. <br>\n",
    "If there are `N` observations in the population then the probability of drawing `n` samples with replacement is $\\frac{1}{N^{n}}$"
   ]
  },
  {
   "cell_type": "markdown",
   "metadata": {},
   "source": [
    "### Example:\n",
    "\n",
    "#### 1. Consider 8 identical boxes that contain different number of shuttlecocks. Draw a sample of 20 boxes with replacement.\n",
    "\n",
    "data = [18, 13, 16, 17, 15, 21, 19, 12]"
   ]
  },
  {
   "cell_type": "code",
   "execution_count": 3,
   "metadata": {},
   "outputs": [],
   "source": [
    "import random\n",
    "data=[18,13,16,17,15,21,19,12]"
   ]
  },
  {
   "cell_type": "code",
   "execution_count": 4,
   "metadata": {
    "scrolled": true
   },
   "outputs": [
    {
     "data": {
      "text/plain": [
       "[17,\n",
       " 17,\n",
       " 21,\n",
       " 21,\n",
       " 13,\n",
       " 18,\n",
       " 12,\n",
       " 13,\n",
       " 21,\n",
       " 12,\n",
       " 17,\n",
       " 13,\n",
       " 19,\n",
       " 12,\n",
       " 19,\n",
       " 13,\n",
       " 19,\n",
       " 17,\n",
       " 13,\n",
       " 12,\n",
       " 13,\n",
       " 13,\n",
       " 18,\n",
       " 16,\n",
       " 12,\n",
       " 12,\n",
       " 17,\n",
       " 21,\n",
       " 19,\n",
       " 19,\n",
       " 16,\n",
       " 21,\n",
       " 16,\n",
       " 19,\n",
       " 21,\n",
       " 18,\n",
       " 15,\n",
       " 18,\n",
       " 17,\n",
       " 19,\n",
       " 18,\n",
       " 21,\n",
       " 12,\n",
       " 18,\n",
       " 19,\n",
       " 16,\n",
       " 16,\n",
       " 21,\n",
       " 12,\n",
       " 16,\n",
       " 19,\n",
       " 15,\n",
       " 18,\n",
       " 21,\n",
       " 17,\n",
       " 19,\n",
       " 18,\n",
       " 17,\n",
       " 17,\n",
       " 13,\n",
       " 16,\n",
       " 18,\n",
       " 13,\n",
       " 17,\n",
       " 16,\n",
       " 16,\n",
       " 19,\n",
       " 19,\n",
       " 17,\n",
       " 12,\n",
       " 12,\n",
       " 21,\n",
       " 18,\n",
       " 13,\n",
       " 16,\n",
       " 15,\n",
       " 17,\n",
       " 13,\n",
       " 12,\n",
       " 21,\n",
       " 15,\n",
       " 19,\n",
       " 17]"
      ]
     },
     "execution_count": 4,
     "metadata": {},
     "output_type": "execute_result"
    }
   ],
   "source": [
    "# a\n",
    "random.choices(data,k=83) # after use random not same output for "
   ]
  },
  {
   "cell_type": "markdown",
   "metadata": {},
   "source": [
    "In Simple Random Sampling Without Replacement (`SRSWOR`) an observation can occur only once as we do not replace the selected observation before drawing the next sample. <br>\n",
    "If there are `N` observations in the population then the probability of drawing `n` samples without replacement is $\\frac{1}{N \\choose n}$"
   ]
  },
  {
   "cell_type": "markdown",
   "metadata": {},
   "source": [
    "### Example:\n",
    "\n",
    "#### 1.  An ice-cream manufacturer wants to study the sales of ice-creams to decide the production policies of the company. He collects the data for the number of ice-creams sold in a month from the 30 franchise. Randomly select the sales of 10 franchise for the study. \n",
    "\n",
    "data = [21, 93, 62, 76, 73, 20, 56, 95, 41, 36, 38, 13, 80, 88, 34, 18, 40, 11, 25, 29, 61, 23, 82, 10, 92, 69, 60, 87, 14, 91]"
   ]
  },
  {
   "cell_type": "code",
   "execution_count": 5,
   "metadata": {},
   "outputs": [],
   "source": [
    "data = [21, 93, 62, 76, 73, 20, 56, 95, 41,\n",
    "        36, 38, 13, 80, 88, 34, 18, 40, 11,\n",
    "        25, 29, 61, 23, 82, 10, 92, 69, 60,\n",
    "        87, 14, 91]"
   ]
  },
  {
   "cell_type": "code",
   "execution_count": 46,
   "metadata": {},
   "outputs": [
    {
     "data": {
      "text/plain": [
       "[36, 34, 69, 10, 41, 95, 38, 20, 14, 88]"
      ]
     },
     "execution_count": 46,
     "metadata": {},
     "output_type": "execute_result"
    }
   ],
   "source": [
    "# b\n",
    "random.sample(data,k=10)"
   ]
  },
  {
   "cell_type": "code",
   "execution_count": 47,
   "metadata": {},
   "outputs": [
    {
     "data": {
      "text/plain": [
       "[40, 82, 88, 36, 93, 41, 80, 25, 13, 11]"
      ]
     },
     "execution_count": 47,
     "metadata": {},
     "output_type": "execute_result"
    }
   ],
   "source": [
    "random.sample(data,10)"
   ]
  },
  {
   "cell_type": "markdown",
   "metadata": {},
   "source": [
    "<a id=\"CLT\"></a>\n",
    "#  Central Limit Theorem"
   ]
  },
  {
   "cell_type": "markdown",
   "metadata": {},
   "source": [
    "Let $X_{1}, X_{2}, X_{3},..., X_{n}$ be the random sample drawn from a population with mean $\\mu$ and standard deviation $\\sigma$. The central limit theorem states that, for sufficiently large n, the sample mean $\\overline{X}$ follows an approximately normal distribution with mean $\\mu$ and standard deviation $\\frac{\\sigma}{\\sqrt{n}}$.\n",
    "\n",
    "i.e. $\\frac{\\overline{X} - \\mu}{\\frac{\\sigma}{\\sqrt{n}}}$ follows a standard normal distribution.\n",
    "\n",
    "For a normally distributed population, the above result holds for any sample size.\n",
    "\n",
    "For the population with distribution other than normal, generally, the sample size greater than or equal to 30 is considered as the large sample size."
   ]
  },
  {
   "cell_type": "markdown",
   "metadata": {},
   "source": [
    "Consider a population with mean $\\mu$ and standard deviation $\\sigma$. Let us take a sample of `n` observations from the population such that, $n \\geq 30$. The central limit theorem states that the sampling distribution of mean follows a normal distribution with mean $\\mu$ and standard deviation $\\frac{\\sigma}{\\sqrt(n)}$."
   ]
  },
  {
   "cell_type": "markdown",
   "metadata": {},
   "source": [
    "# Population with no skewness(Normal population)"
   ]
  },
  {
   "cell_type": "code",
   "execution_count": 48,
   "metadata": {},
   "outputs": [],
   "source": [
    "from scipy.stats import skewnorm"
   ]
  },
  {
   "cell_type": "code",
   "execution_count": 49,
   "metadata": {},
   "outputs": [],
   "source": [
    "normal_population=skewnorm.rvs(0,size=10000,random_state=1)"
   ]
  },
  {
   "cell_type": "code",
   "execution_count": 50,
   "metadata": {},
   "outputs": [
    {
     "data": {
      "text/plain": [
       "<Axes: ylabel='Density'>"
      ]
     },
     "execution_count": 50,
     "metadata": {},
     "output_type": "execute_result"
    },
    {
     "data": {
      "image/png": "[encoded data removed]",
      "text/plain": [
       "<Figure size 640x480 with 1 Axes>"
      ]
     },
     "metadata": {},
     "output_type": "display_data"
    }
   ],
   "source": [
    "sns.distplot(normal_population)"
   ]
  },
  {
   "cell_type": "code",
   "execution_count": 51,
   "metadata": {},
   "outputs": [],
   "source": [
    "# Generate 100 random samples with replacement from normal_population"
   ]
  },
  {
   "cell_type": "markdown",
   "metadata": {},
   "source": [
    "# Sample Distribution 1"
   ]
  },
  {
   "cell_type": "code",
   "execution_count": 52,
   "metadata": {},
   "outputs": [
    {
     "data": {
      "text/plain": [
       "[-0.5540669139650402,\n",
       " 1.9723129588868666,\n",
       " 0.7573172102892606,\n",
       " -1.2928404339175816,\n",
       " -0.39870069868410707,\n",
       " -0.7822039420610251,\n",
       " -2.031835115343652,\n",
       " -0.513685244385529,\n",
       " -0.39870069868410707,\n",
       " 0.9221979994019386,\n",
       " -0.16419651006418057,\n",
       " -0.06838872975073343,\n",
       " 0.6839693346709431,\n",
       " 0.3307690522478247,\n",
       " 0.7402515224327864,\n",
       " -1.541356765388516,\n",
       " -0.13302044473756677,\n",
       " 0.04800745283513371,\n",
       " 0.4895924404514744,\n",
       " -2.1164433603313983,\n",
       " -0.6529884059503951,\n",
       " 2.1239751697531286,\n",
       " -0.10861266256568823,\n",
       " 0.28236731782183716,\n",
       " -1.2240936160894627,\n",
       " 0.5242241593333916,\n",
       " 0.7655124439543447,\n",
       " -0.773302447489327,\n",
       " 0.6062656539956759,\n",
       " 0.5697198112640695,\n",
       " 0.4298618223662252,\n",
       " -1.2104383712629625,\n",
       " -0.9619296546342524,\n",
       " -1.542022840655194,\n",
       " -0.2543780114049703,\n",
       " -1.861870742793574,\n",
       " -0.9293274337003716,\n",
       " -1.0564281899562105,\n",
       " 0.5681870850276793,\n",
       " -0.18412479411578378,\n",
       " 1.9349656638070225,\n",
       " 0.16849868246814587,\n",
       " -0.4998917623561632,\n",
       " -1.7166464317811965,\n",
       " -0.7182391205443441,\n",
       " -0.12481017904006492,\n",
       " 0.8959126481930882,\n",
       " 1.568627974034705,\n",
       " 0.09062444694541666,\n",
       " -2.7542701481570595,\n",
       " 1.060251611869727,\n",
       " -0.47964729008491863,\n",
       " -0.0010572976889628013,\n",
       " 0.3333531137899578,\n",
       " 2.277345473947868,\n",
       " 1.7054484962875383,\n",
       " -0.07834101502644777,\n",
       " 0.13269659002005238,\n",
       " 0.8952282094857409,\n",
       " -0.2327091804999008,\n",
       " -0.7340712426426064,\n",
       " 1.1385015709604724,\n",
       " -0.14261638671128693,\n",
       " -0.3965760030501109,\n",
       " 1.4836391944680014,\n",
       " -0.7119210413501098,\n",
       " -0.5251776042113991,\n",
       " -0.16639982710636345,\n",
       " -1.407201182794149,\n",
       " 0.5040812429579189,\n",
       " -0.055065596672699335,\n",
       " 0.9411351696030501,\n",
       " -0.8989480306475524,\n",
       " 0.4567875076780074,\n",
       " -0.03723285079490654,\n",
       " 0.5383313019795396,\n",
       " -0.5426680066708799,\n",
       " -1.4335095967427323,\n",
       " -1.0953181742211564,\n",
       " 1.1054369765818581,\n",
       " -1.117734592760397,\n",
       " 0.9855020716584743,\n",
       " 0.03141621285280788,\n",
       " -0.7040321918650873,\n",
       " 1.4669175587094936,\n",
       " 2.0999833946203195,\n",
       " 0.4923677647164724,\n",
       " 0.8660465785006561,\n",
       " -1.244161241927044,\n",
       " 1.3768171941374614,\n",
       " 0.7982434638929896,\n",
       " 0.5344774731658549,\n",
       " 0.28328172421070524,\n",
       " 0.994560352029712,\n",
       " -1.666521207309084,\n",
       " -1.6866297317686247,\n",
       " -1.9058993010963052,\n",
       " -0.7619838828583836,\n",
       " 0.3776561767502259,\n",
       " -0.09565639712175066]"
      ]
     },
     "execution_count": 52,
     "metadata": {},
     "output_type": "execute_result"
    }
   ],
   "source": [
    "random.choices(normal_population,k=100)"
   ]
  },
  {
   "cell_type": "code",
   "execution_count": 53,
   "metadata": {},
   "outputs": [
    {
     "data": {
      "image/png": "[encoded data removed]",
      "text/plain": [
       "<Figure size 640x480 with 1 Axes>"
      ]
     },
     "metadata": {},
     "output_type": "display_data"
    }
   ],
   "source": [
    "x1=random.choices(normal_population,k=100)# not limit in \n",
    "sns.distplot(x1)\n",
    "plt.show()"
   ]
  },
  {
   "cell_type": "code",
   "execution_count": 54,
   "metadata": {},
   "outputs": [
    {
     "data": {
      "image/png": "[encoded data removed]",
      "text/plain": [
       "<Figure size 640x480 with 1 Axes>"
      ]
     },
     "metadata": {},
     "output_type": "display_data"
    }
   ],
   "source": [
    "x2=random.choices(normal_population,k=100)\n",
    "sns.distplot(x2)\n",
    "plt.show()"
   ]
  },
  {
   "cell_type": "code",
   "execution_count": 55,
   "metadata": {},
   "outputs": [
    {
     "data": {
      "image/png": "[encoded data removed]",
      "text/plain": [
       "<Figure size 640x480 with 1 Axes>"
      ]
     },
     "metadata": {},
     "output_type": "display_data"
    }
   ],
   "source": [
    "x3=random.choices(normal_population,k=100)\n",
    "sns.distplot(x3)\n",
    "plt.show()"
   ]
  },
  {
   "cell_type": "code",
   "execution_count": 56,
   "metadata": {},
   "outputs": [
    {
     "data": {
      "image/png": "[encoded data removed]",
      "text/plain": [
       "<Figure size 640x480 with 1 Axes>"
      ]
     },
     "metadata": {},
     "output_type": "display_data"
    }
   ],
   "source": [
    "x4=random.choices(normal_population,k=100)\n",
    "sns.distplot(x4)\n",
    "plt.show()"
   ]
  },
  {
   "cell_type": "code",
   "execution_count": 57,
   "metadata": {},
   "outputs": [
    {
     "data": {
      "image/png": "[encoded data removed]",
      "text/plain": [
       "<Figure size 640x480 with 1 Axes>"
      ]
     },
     "metadata": {},
     "output_type": "display_data"
    }
   ],
   "source": [
    "x5=random.choices(normal_population,k=100)\n",
    "sns.distplot(x5)\n",
    "plt.show()"
   ]
  },
  {
   "cell_type": "code",
   "execution_count": 58,
   "metadata": {},
   "outputs": [
    {
     "data": {
      "image/png": "[encoded data removed]",
      "text/plain": [
       "<Figure size 640x480 with 1 Axes>"
      ]
     },
     "metadata": {},
     "output_type": "display_data"
    }
   ],
   "source": [
    "x6=random.choices(normal_population,k=100)\n",
    "sns.distplot(x6)\n",
    "plt.show()"
   ]
  },
  {
   "cell_type": "code",
   "execution_count": 59,
   "metadata": {},
   "outputs": [
    {
     "data": {
      "image/png": "[encoded data removed]",
      "text/plain": [
       "<Figure size 640x480 with 1 Axes>"
      ]
     },
     "metadata": {},
     "output_type": "display_data"
    }
   ],
   "source": [
    "x7=random.choices(normal_population,k=100)\n",
    "sns.distplot(x7)\n",
    "plt.show()"
   ]
  },
  {
   "cell_type": "code",
   "execution_count": 60,
   "metadata": {},
   "outputs": [
    {
     "data": {
      "image/png": "[encoded data removed]",
      "text/plain": [
       "<Figure size 640x480 with 1 Axes>"
      ]
     },
     "metadata": {},
     "output_type": "display_data"
    }
   ],
   "source": [
    "x8=random.choices(normal_population,k=100)\n",
    "sns.distplot(x8)\n",
    "plt.show()"
   ]
  },
  {
   "cell_type": "markdown",
   "metadata": {},
   "source": [
    "# Sampling Distribution"
   ]
  },
  {
   "cell_type": "code",
   "execution_count": 61,
   "metadata": {},
   "outputs": [],
   "source": [
    "no_of_samples=10000\n",
    "sample_size=1000\n",
    "sample_mean_list=[]\n",
    "for i in range(no_of_samples):\n",
    "    sample=random.choices(normal_population,k=sample_size)\n",
    "    sample_mean_list.append(pd.Series(sample).mean())"
   ]
  },
  {
   "cell_type": "code",
   "execution_count": 62,
   "metadata": {},
   "outputs": [
    {
     "data": {
      "text/plain": [
       "<Axes: ylabel='Density'>"
      ]
     },
     "execution_count": 62,
     "metadata": {},
     "output_type": "execute_result"
    },
    {
     "data": {
      "image/png": "[encoded data removed]",
      "text/plain": [
       "<Figure size 640x480 with 1 Axes>"
      ]
     },
     "metadata": {},
     "output_type": "display_data"
    }
   ],
   "source": [
    "sns.distplot(sample_mean_list)"
   ]
  },
  {
   "cell_type": "markdown",
   "metadata": {},
   "source": [
    "# Right Skewed Population"
   ]
  },
  {
   "cell_type": "code",
   "execution_count": 63,
   "metadata": {},
   "outputs": [],
   "source": [
    "# Right skwede \n",
    "rskew_population=skewnorm.rvs(20,size=10000,random_state=1)"
   ]
  },
  {
   "cell_type": "code",
   "execution_count": 64,
   "metadata": {},
   "outputs": [],
   "source": [
    "# sns.distplot(rskew_population)"
   ]
  },
  {
   "cell_type": "code",
   "execution_count": 65,
   "metadata": {},
   "outputs": [],
   "source": [
    "no_of_samples=10000\n",
    "sample_size=1000\n",
    "sample_mean_list=[]\n",
    "for i in range(no_of_samples):\n",
    "    sample=random.choices(normal_population,k=sample_size)\n",
    "    sample_mean_list.append(pd.Series(sample).mean())"
   ]
  },
  {
   "cell_type": "code",
   "execution_count": 66,
   "metadata": {},
   "outputs": [
    {
     "data": {
      "text/plain": [
       "<Axes: ylabel='Density'>"
      ]
     },
     "execution_count": 66,
     "metadata": {},
     "output_type": "execute_result"
    },
    {
     "data": {
      "image/png": "[encoded data removed]",
      "text/plain": [
       "<Figure size 640x480 with 1 Axes>"
      ]
     },
     "metadata": {},
     "output_type": "display_data"
    }
   ],
   "source": [
    "sns.distplot(sample_mean_list)"
   ]
  },
  {
   "cell_type": "code",
   "execution_count": 67,
   "metadata": {},
   "outputs": [],
   "source": [
    "# for Left Skwed\n",
    "rskew_population=skewnorm.rvs(-20,size=10000,random_state=1)"
   ]
  },
  {
   "cell_type": "code",
   "execution_count": 68,
   "metadata": {},
   "outputs": [],
   "source": [
    "no_of_samples=10000\n",
    "Asample_size=1000\n",
    "sample_mean_list=[]\n",
    "for i in range(no_of_samples):\n",
    "    sample=random.choices(normal_population,k=Asample_size)\n",
    "    sample_mean_list.append(pd.Series(sample).mean())"
   ]
  },
  {
   "cell_type": "code",
   "execution_count": 69,
   "metadata": {},
   "outputs": [
    {
     "data": {
      "text/plain": [
       "<Axes: ylabel='Density'>"
      ]
     },
     "execution_count": 69,
     "metadata": {},
     "output_type": "execute_result"
    },
    {
     "data": {
      "image/png": "[encoded data removed]",
      "text/plain": [
       "<Figure size 640x480 with 1 Axes>"
      ]
     },
     "metadata": {},
     "output_type": "display_data"
    }
   ],
   "source": [
    "sns.distplot(sample_mean_list)"
   ]
  },
  {
   "cell_type": "code",
   "execution_count": 70,
   "metadata": {},
   "outputs": [],
   "source": [
    "# sampling list distribution"
   ]
  },
  {
   "cell_type": "code",
   "execution_count": 71,
   "metadata": {},
   "outputs": [],
   "source": [
    "no_of_samples=10000\n",
    "Asample_size=1000\n",
    "sample_mean_list=[]\n",
    "for i in range(no_of_samples):\n",
    "    sample=random.choices(normal_population,k=Asample_size)\n",
    "    sample_mean_list.append(pd.Series(sample).mean())"
   ]
  },
  {
   "cell_type": "code",
   "execution_count": 72,
   "metadata": {},
   "outputs": [
    {
     "data": {
      "text/plain": [
       "<Axes: ylabel='Density'>"
      ]
     },
     "execution_count": 72,
     "metadata": {},
     "output_type": "execute_result"
    },
    {
     "data": {
      "image/png": "[encoded data removed]",
      "text/plain": [
       "<Figure size 640x480 with 1 Axes>"
      ]
     },
     "metadata": {},
     "output_type": "display_data"
    }
   ],
   "source": [
    "sns.distplot(sample_mean_list)"
   ]
  },
  {
   "cell_type": "code",
   "execution_count": 74,
   "metadata": {},
   "outputs": [],
   "source": [
    "no_of__dice=2\n",
    "dice=np.zeros(1000)\n",
    "dice_sides=10"
   ]
  },
  {
   "cell_type": "code",
   "execution_count": 75,
   "metadata": {},
   "outputs": [
    {
     "data": {
      "text/plain": [
       "<Axes: ylabel='Density'>"
      ]
     },
     "execution_count": 75,
     "metadata": {},
     "output_type": "execute_result"
    },
    {
     "data": {
      "image/png": "[encoded data removed]",
      "text/plain": [
       "<Figure size 640x480 with 1 Axes>"
      ]
     },
     "metadata": {},
     "output_type": "display_data"
    }
   ],
   "source": [
    "no_of_samples=10000\n",
    "Asample_size=1000\n",
    "sample_mean_list=[]\n",
    "for i in range(no_of_samples):\n",
    "    sample=random.choices(normal_population,k=Asample_size)\n",
    "    sample_mean_list.append(pd.Series(sample).mean())\n",
    "sns.distplot(sample_mean_list)   "
   ]
  },
  {
   "cell_type": "code",
   "execution_count": null,
   "metadata": {},
   "outputs": [],
   "source": []
  }
 ],
 "metadata": {
  "kernelspec": {
   "display_name": "Python 3 (ipykernel)",
   "language": "python",
   "name": "python3"
  },
  "language_info": {
   "codemirror_mode": {
    "name": "ipython",
    "version": 3
   },
   "file_extension": ".py",
   "mimetype": "text/x-python",
   "name": "python",
   "nbconvert_exporter": "python",
   "pygments_lexer": "ipython3",
   "version": "3.10.11"
  }
 },
 "nbformat": 4,
 "nbformat_minor": 4
}
