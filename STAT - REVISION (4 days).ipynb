{
 "cells": [
  {
   "cell_type": "markdown",
   "metadata": {},
   "source": [
    "<a id=\"lib\"></a>\n",
    "# 1. Import Libraries"
   ]
  },
  {
   "cell_type": "markdown",
   "metadata": {},
   "source": [
    "**Let us import the required libraries.**"
   ]
  },
  {
   "cell_type": "code",
   "execution_count": 1,
   "metadata": {},
   "outputs": [],
   "source": [
    "import scipy.stats as stats\n",
    "import numpy as np\n",
    "import pandas as pd\n",
    "import matplotlib.pyplot as plt\n",
    "import seaborn as sns\n",
    "import math as m"
   ]
  },
  {
   "cell_type": "markdown",
   "metadata": {},
   "source": [
    "## Binomial Distribution"
   ]
  },
  {
   "cell_type": "markdown",
   "metadata": {},
   "source": [
    "<span style=\"font-family: Arial; font-weight:bold;font-size:1.2em;\">In a library 50 books are selected at random.On an average 1 out of 10 books is a statistics book. .\n",
    "\n",
    "i) Probability of getting exactly 3 statistics book.\n",
    "\n",
    "ii) Probability of getting atleast 3 statistics book.\n",
    "\n",
    "iii) Probability of getting atmost 3 statistics book.\n",
    "\n",
    "iv) Probability of getting between 3 and 10 statistics book.\n",
    "\n"
   ]
  },
  {
   "cell_type": "code",
   "execution_count": 2,
   "metadata": {},
   "outputs": [
    {
     "data": {
      "text/plain": [
       "0.13856514960695693"
      ]
     },
     "execution_count": 2,
     "metadata": {},
     "output_type": "execute_result"
    }
   ],
   "source": [
    "# i) Probability of getting exactly 3 statistics book\n",
    "n=50  \n",
    "p=0.1\n",
    "x=3\n",
    "stats.binom.pmf(x,n,p)  # x,n,p"
   ]
  },
  {
   "cell_type": "code",
   "execution_count": 3,
   "metadata": {},
   "outputs": [
    {
     "data": {
      "text/plain": [
       "0.8882712436536526"
      ]
     },
     "execution_count": 3,
     "metadata": {},
     "output_type": "execute_result"
    }
   ],
   "source": [
    "# ii) Probability of getting atleast 3 statistics book\n",
    "1- stats.binom.cdf(2,n,p)"
   ]
  },
  {
   "cell_type": "code",
   "execution_count": 4,
   "metadata": {},
   "outputs": [
    {
     "data": {
      "text/plain": [
       "0.2502939059533075"
      ]
     },
     "execution_count": 4,
     "metadata": {},
     "output_type": "execute_result"
    }
   ],
   "source": [
    "# iii) Probability of getting atmost 3 statistics book- [0-3]\n",
    "stats.binom.cdf(3,n,p)"
   ]
  },
  {
   "cell_type": "code",
   "execution_count": 5,
   "metadata": {},
   "outputs": [
    {
     "data": {
      "text/plain": [
       "0.725168158342101"
      ]
     },
     "execution_count": 5,
     "metadata": {},
     "output_type": "execute_result"
    }
   ],
   "source": [
    "# iv Probability of getting between 3 and 10 statistics book -[4,5,6,7,8,9]\n",
    "stats.binom.cdf(9,n,p) - stats.binom.cdf(3,n,p)\n"
   ]
  },
  {
   "cell_type": "markdown",
   "metadata": {},
   "source": [
    "# Normal Distribution"
   ]
  },
  {
   "cell_type": "markdown",
   "metadata": {},
   "source": [
    "<span style=\"font-family: Arial; font-weight:bold;font-size:1.2em;\">The piston pressure in a randomly selected bike is normally distributed with mean value of 28 psi and standard deviation of 0.7 psi.\n",
    "\n",
    "\n",
    "What is the probability that the pressure for a randomly selected piston:\n",
    "\n",
    "(a) between 25 and 29 psi \n",
    "\n",
    "(b) less than 30 psi\n",
    "\n",
    "(c) greater than 30.5 psi  "
   ]
  },
  {
   "cell_type": "code",
   "execution_count": 17,
   "metadata": {},
   "outputs": [
    {
     "data": {
      "text/plain": [
       "0.9234271668415907"
      ]
     },
     "execution_count": 17,
     "metadata": {},
     "output_type": "execute_result"
    }
   ],
   "source": [
    "# (a) between 25 and 29 psi \n",
    "\n",
    "mu=28\n",
    "sigma=0.7\n",
    "z1= (25-mu)/sigma\n",
    "z2= (29-mu)/sigma\n",
    "stats.norm.cdf(z2)-stats.norm.cdf(z1)"
   ]
  },
  {
   "cell_type": "code",
   "execution_count": 18,
   "metadata": {},
   "outputs": [
    {
     "data": {
      "text/plain": [
       "0.9978626330199137"
      ]
     },
     "execution_count": 18,
     "metadata": {},
     "output_type": "execute_result"
    }
   ],
   "source": [
    "# (b) less than 30 psi\n",
    "mu=28\n",
    "sigma=0.7\n",
    "z1= (30-mu)/sigma\n",
    "stats.norm.cdf(z1)"
   ]
  },
  {
   "cell_type": "code",
   "execution_count": 19,
   "metadata": {},
   "outputs": [
    {
     "data": {
      "text/plain": [
       "0.00017751969037349546"
      ]
     },
     "execution_count": 19,
     "metadata": {},
     "output_type": "execute_result"
    }
   ],
   "source": [
    "# (b) greater than 30.5 psi\n",
    "mu=28\n",
    "sigma=0.7\n",
    "z1= (30.5-mu)/sigma\n",
    "1- stats.norm.cdf(z1)"
   ]
  },
  {
   "cell_type": "code",
   "execution_count": null,
   "metadata": {},
   "outputs": [],
   "source": []
  },
  {
   "cell_type": "markdown",
   "metadata": {},
   "source": [
    "<a id=\"CLT\"></a>\n",
    "#  Central Limit Theorem"
   ]
  },
  {
   "cell_type": "markdown",
   "metadata": {},
   "source": [
    "Let $X_{1}, X_{2}, X_{3},..., X_{n}$ be the random sample drawn from a population with mean $\\mu$ and standard deviation $\\sigma$. The central limit theorem states that, for sufficiently large n, the sample mean $\\overline{X}$ follows an approximately normal distribution with mean $\\mu$ and standard deviation $\\frac{\\sigma}{\\sqrt{n}}$.\n",
    "\n",
    "i.e. $\\frac{\\overline{X} - \\mu}{\\frac{\\sigma}{\\sqrt{n}}}$ follows a standard normal distribution.\n",
    "\n",
    "For a normally distributed population, the above result holds for any sample size.\n",
    "\n",
    "For the population with distribution other than normal, generally, the sample size greater than or equal to 30 is considered as the large sample size."
   ]
  },
  {
   "cell_type": "markdown",
   "metadata": {},
   "source": [
    "Consider a population with mean $\\mu$ and standard deviation $\\sigma$. Let us take a sample of `n` observations from the population such that, $n \\geq 30$. The central limit theorem states that the sampling distribution of mean follows a normal distribution with mean $\\mu$ and standard deviation $\\frac{\\sigma}{\\sqrt(n)}$."
   ]
  },
  {
   "cell_type": "markdown",
   "metadata": {},
   "source": [
    "# Population with no skewness(Normal population)"
   ]
  },
  {
   "cell_type": "code",
   "execution_count": 101,
   "metadata": {},
   "outputs": [
    {
     "name": "stderr",
     "output_type": "stream",
     "text": [
      "C:\\Users\\Sekhar\\lib\\site-packages\\seaborn\\distributions.py:2619: FutureWarning: `distplot` is a deprecated function and will be removed in a future version. Please adapt your code to use either `displot` (a figure-level function with similar flexibility) or `histplot` (an axes-level function for histograms).\n",
      "  warnings.warn(msg, FutureWarning)\n"
     ]
    },
    {
     "data": {
      "text/plain": [
       "<AxesSubplot:ylabel='Density'>"
      ]
     },
     "execution_count": 101,
     "metadata": {},
     "output_type": "execute_result"
    },
    {
     "data": {
      "image/png": "[encoded data removed]",
      "text/plain": [
       "<Figure size 432x288 with 1 Axes>"
      ]
     },
     "metadata": {
      "needs_background": "light"
     },
     "output_type": "display_data"
    }
   ],
   "source": [
    "pop = stats.skewnorm.rvs(a=-3,size=100000,random_state=0)  # a-skew\n",
    "sns.distplot(pop)\n",
    "\n",
    "    # a => -ve = left skewed\n",
    "    # a => +ve = right skewed"
   ]
  },
  {
   "cell_type": "code",
   "execution_count": 102,
   "metadata": {},
   "outputs": [
    {
     "name": "stderr",
     "output_type": "stream",
     "text": [
      "C:\\Users\\Sekhar\\lib\\site-packages\\seaborn\\distributions.py:2619: FutureWarning: `distplot` is a deprecated function and will be removed in a future version. Please adapt your code to use either `displot` (a figure-level function with similar flexibility) or `histplot` (an axes-level function for histograms).\n",
      "  warnings.warn(msg, FutureWarning)\n"
     ]
    },
    {
     "data": {
      "text/plain": [
       "<AxesSubplot:ylabel='Density'>"
      ]
     },
     "execution_count": 102,
     "metadata": {},
     "output_type": "execute_result"
    },
    {
     "data": {
      "image/png": "[encoded data removed]",
      "text/plain": [
       "<Figure size 432x288 with 1 Axes>"
      ]
     },
     "metadata": {
      "needs_background": "light"
     },
     "output_type": "display_data"
    }
   ],
   "source": [
    "sample_size = 100\n",
    "no_of_samples = 50\n",
    "samp_mean_list= []\n",
    "for i in range(no_of_samples):   \n",
    "    sample = np.random.choice(pop,size = sample_size,replace = False)\n",
    "    sample_mean = np.mean(sample) # calculating sample mean\n",
    "    samp_mean_list.append(sample_mean)\n",
    "sns.distplot(samp_mean_list)"
   ]
  },
  {
   "cell_type": "markdown",
   "metadata": {},
   "source": [
    "<a id=\"pt\"></a>\n",
    "##  Point Estimation"
   ]
  },
  {
   "cell_type": "markdown",
   "metadata": {},
   "source": [
    "This method considers a single value (sample statistic) as the population parameter. \n",
    "\n",
    "Let $X_{1}, X_{2}, X_{3},..., X_{n}$ be the random sample drawn from a population with mean $\\mu$ and standard deviation $\\sigma$. <br>\n",
    "The point estimation method estimates the population mean, $\\mu = \\overline{X}$, where $\\overline{X}$ is the sample mean and population standard deviation, $\\sigma = s$, where $s$ is the standard deviation of the sample ."
   ]
  },
  {
   "cell_type": "markdown",
   "metadata": {},
   "source": [
    "<a id=\"err\"></a>\n",
    "### 2.1.1 Sampling Error"
   ]
  },
  {
   "cell_type": "markdown",
   "metadata": {},
   "source": [
    "Sampling error is considered as the absolute difference between the sample statistic used to estimate the parameter and the corresponding population parameter. Since the entire population is not considered as the sample, the values of mean, median, quantiles, and so on calculated on sample differ from the actual population values. \n",
    "\n",
    "One can reduce the sampling error either by increasing the sample size or determining the optimal sample size using various methods."
   ]
  },
  {
   "cell_type": "markdown",
   "metadata": {},
   "source": [
    "### Example:\n",
    "\n",
    "#### 1. Consider the data for the number of ice-creams sold per day. An ice-cream vendor collected this data for 90 days and then a sample is drawn (without replacement) containing ice-creams sold for 25 days. \n",
    "\n",
    "data = [21, 93, 62, 76, 73, 20, 56, 95, 41, 36, 38, 13, 80, 88, 34, 18, 40, 11, \n",
    "        25, 29, 61, 23, 82, 10, 92, 69, 60, 87, 14, 91, 94, 49, 57, 83, 96, 55, \n",
    "        79, 52, 59, 39, 58, 17, 19, 98, 15, 54, 48, 46, 72, 45, 65, 28, 37, 30, \n",
    "        68, 75, 16, 33, 31, 99, 22, 51, 27, 67, 85, 47, 44, 77, 64, 97, 84, 42, \n",
    "        90, 70, 74, 89, 32, 26, 24, 12, 81, 53, 50, 35, 71, 63, 43, 86, 78, 66]\n",
    "        \n",
    "sample = [10, 22, 47, 66, 11, 57, 77, 98, 31, 63, 74, 84, 50, 96, 88, 92, 70, 54, 65, 44, 16, 72, 20, 90, 43]\n",
    "\n",
    "Comupte the sampling error for mean."
   ]
  },
  {
   "cell_type": "code",
   "execution_count": 8,
   "metadata": {},
   "outputs": [
    {
     "data": {
      "text/plain": [
       "-3.1000000000000014"
      ]
     },
     "execution_count": 8,
     "metadata": {},
     "output_type": "execute_result"
    }
   ],
   "source": [
    "data = [21, 93, 62, 76, 73, 20, 56, 95, 41, 36, 38, 13, 80, 88, 34, 18, 40, 11, \n",
    "        25, 29, 61, 23, 82, 10, 92, 69, 60, 87, 14, 91, 94, 49, 57, 83, 96, 55, \n",
    "        79, 52, 59, 39, 58, 17, 19, 98, 15, 54, 48, 46, 72, 45, 65, 28, 37, 30, \n",
    "        68, 75, 16, 33, 31, 99, 22, 51, 27, 67, 85, 47, 44, 77, 64, 97, 84, 42, \n",
    "        90, 70, 74, 89, 32, 26, 24, 12, 81, 53, 50, 35, 71, 63, 43, 86, 78, 66]\n",
    "sample = [10, 22, 47, 66, 11, 57, 77, 98, 31, 63, 74, 84, 50, 96, 88, 92, 70, 54, 65, 44, 16, 72, 20, 90, 43]\n",
    "\n",
    "np.mean(data)-np.mean(sample)"
   ]
  },
  {
   "cell_type": "markdown",
   "metadata": {},
   "source": [
    "<a id=\"int\"></a>\n",
    "## 2.2 Interval Estimation for Mean"
   ]
  },
  {
   "cell_type": "markdown",
   "metadata": {},
   "source": [
    "This method considers the range of values in which the population parameter is likely to lie. The confidence interval is an interval that describes the range of values in which the parameter lies with a specific probability. It is given by the formula,<br> <p style='text-indent:20em'> `conf_interval = sample statistic ± margin of error`</p>\n",
    "\n",
    "The uncertainty of an estimate is described by the `confidence level` which is used to calculate the margin of error. "
   ]
  },
  {
   "cell_type": "markdown",
   "metadata": {},
   "source": [
    "<a id=\"large\"></a>\n",
    "### 2.2.1 Interval Estimation with Z stat"
   ]
  },
  {
   "cell_type": "markdown",
   "metadata": {},
   "source": [
    "Here the standard deviation of the population is known.The confidence interval for the population mean with $100(1-\\alpha)$% confidence level is given as: $\\overline{X} \\pm Z_{\\frac{\\alpha}{2}}\\frac{\\sigma}{\\sqrt{n}}$\n",
    "\n",
    "Where, <br>\n",
    "$\\overline{X}$: Sample mean<br>\n",
    "$\\alpha$: Level of significance<br>\n",
    "$\\sigma$: Population Standard deviation <br>\n",
    "$n$: Sample size"
   ]
  },
  {
   "cell_type": "code",
   "execution_count": 11,
   "metadata": {
    "scrolled": true
   },
   "outputs": [
    {
     "data": {
      "text/html": [
       "<div>\n",
       "<style scoped>\n",
       "    .dataframe tbody tr th:only-of-type {\n",
       "        vertical-align: middle;\n",
       "    }\n",
       "\n",
       "    .dataframe tbody tr th {\n",
       "        vertical-align: top;\n",
       "    }\n",
       "\n",
       "    .dataframe thead th {\n",
       "        text-align: right;\n",
       "    }\n",
       "</style>\n",
       "<table border=\"1\" class=\"dataframe\">\n",
       "  <thead>\n",
       "    <tr style=\"text-align: right;\">\n",
       "      <th></th>\n",
       "      <th>alpha</th>\n",
       "      <th>Z_alpha_by_2</th>\n",
       "    </tr>\n",
       "  </thead>\n",
       "  <tbody>\n",
       "    <tr>\n",
       "      <th>0</th>\n",
       "      <td>10</td>\n",
       "      <td>1.6449</td>\n",
       "    </tr>\n",
       "    <tr>\n",
       "      <th>1</th>\n",
       "      <td>5</td>\n",
       "      <td>1.9600</td>\n",
       "    </tr>\n",
       "    <tr>\n",
       "      <th>2</th>\n",
       "      <td>2</td>\n",
       "      <td>2.3263</td>\n",
       "    </tr>\n",
       "    <tr>\n",
       "      <th>3</th>\n",
       "      <td>1</td>\n",
       "      <td>2.5758</td>\n",
       "    </tr>\n",
       "  </tbody>\n",
       "</table>\n",
       "</div>"
      ],
      "text/plain": [
       "   alpha  Z_alpha_by_2\n",
       "0     10        1.6449\n",
       "1      5        1.9600\n",
       "2      2        2.3263\n",
       "3      1        2.5758"
      ]
     },
     "execution_count": 11,
     "metadata": {},
     "output_type": "execute_result"
    }
   ],
   "source": [
    "df = pd.DataFrame({'alpha':[10,5,2,1],'Z_alpha_by_2':[1.6449,1.9600,2.3263,2.5758]})\n",
    "df"
   ]
  },
  {
   "cell_type": "code",
   "execution_count": 12,
   "metadata": {},
   "outputs": [
    {
     "data": {
      "text/plain": [
       "0.6826894921370859"
      ]
     },
     "execution_count": 12,
     "metadata": {},
     "output_type": "execute_result"
    }
   ],
   "source": [
    "stats.norm.cdf(1)-stats.norm.cdf(-1)"
   ]
  },
  {
   "cell_type": "code",
   "execution_count": 14,
   "metadata": {},
   "outputs": [
    {
     "data": {
      "text/plain": [
       "0.9544997361036416"
      ]
     },
     "execution_count": 14,
     "metadata": {},
     "output_type": "execute_result"
    }
   ],
   "source": [
    "stats.norm.cdf(2)-stats.norm.cdf(-2)"
   ]
  },
  {
   "cell_type": "code",
   "execution_count": 13,
   "metadata": {},
   "outputs": [
    {
     "data": {
      "text/plain": [
       "0.9973002039367398"
      ]
     },
     "execution_count": 13,
     "metadata": {},
     "output_type": "execute_result"
    }
   ],
   "source": [
    "stats.norm.cdf(3)-stats.norm.cdf(-3)"
   ]
  },
  {
   "cell_type": "code",
   "execution_count": 18,
   "metadata": {},
   "outputs": [
    {
     "data": {
      "text/plain": [
       "1.9599639845400545"
      ]
     },
     "execution_count": 18,
     "metadata": {},
     "output_type": "execute_result"
    }
   ],
   "source": [
    "stats.norm.isf(0.025)"
   ]
  },
  {
   "cell_type": "code",
   "execution_count": 19,
   "metadata": {},
   "outputs": [],
   "source": [
    "x_bar = 8\n",
    "sigma = 2\n",
    "n = 20\n",
    "z = stats.norm.isf(0.025)"
   ]
  },
  {
   "cell_type": "code",
   "execution_count": 25,
   "metadata": {},
   "outputs": [
    {
     "name": "stdout",
     "output_type": "stream",
     "text": [
      "8.876522540576582 7.123477459423418\n"
     ]
    }
   ],
   "source": [
    "ul = x_bar + z * (sigma/(n**0.5))\n",
    "Ll = x_bar - z * (sigma/(n**0.5))\n",
    "print(ul,Ll)"
   ]
  },
  {
   "cell_type": "code",
   "execution_count": 27,
   "metadata": {},
   "outputs": [
    {
     "data": {
      "text/plain": [
       "(7.123477459423419, 8.876522540576582)"
      ]
     },
     "execution_count": 27,
     "metadata": {},
     "output_type": "execute_result"
    }
   ],
   "source": [
    "# syntax\n",
    "# stats.norm.interval (loc = x_bar,scale = sigma/root n, alpha = confidence level)\n",
    "# only here alpha means confidence level for calculating corresponding significance level\n",
    "# used to calculate confidence interval\n",
    "stats.norm.interval(loc =x_bar,scale = sigma/(n**0.5),alpha = 0.95)"
   ]
  },
  {
   "cell_type": "markdown",
   "metadata": {},
   "source": [
    "To calculate the confidence interval with 95% confidence, use the Z-value corresponding to `alpha = 0.05`. "
   ]
  },
  {
   "cell_type": "markdown",
   "metadata": {},
   "source": [
    "### Example:\n",
    "\n",
    "#### 1. A random sample of weight (in kg.) for 35 diabetic patients is drawn from the population with a standard deviation of 8 kg. Find the 90% confidence interval for the population mean.\n",
    "\n",
    "    Weight: [59.1, 65.0, 75.8, 79.2, 95.0, 99.8, 89.1, 65.3, 41.9, 55.2, 94.8, 84.1, 83.2, 74.0, 75.5, 76.2, 79.1, 80.1, \n",
    "             92.1, 74.2, 59.2, 64.0, 75, 78.2, 95.6, 97.8, 89.5, 64.2, 41.8, 57.2, 85, 91.4, 81.8, 74.6, 90]"
   ]
  },
  {
   "cell_type": "code",
   "execution_count": 33,
   "metadata": {},
   "outputs": [],
   "source": [
    "Weight = [59.1, 65.0, 75.8, 79.2, 95.0, 99.8, 89.1, 65.3, 41.9, 55.2, 94.8, 84.1, 83.2, 74.0, 75.5, 76.2, 79.1, 80.1, \n",
    "         92.1, 74.2, 59.2, 64.0, 75, 78.2, 95.6, 97.8, 89.5, 64.2, 41.8, 57.2, 85, 91.4, 81.8, 74.6, 90]"
   ]
  },
  {
   "cell_type": "code",
   "execution_count": 34,
   "metadata": {},
   "outputs": [
    {
     "data": {
      "text/plain": [
       "(74.46146621975642, 78.90996235167215)"
      ]
     },
     "execution_count": 34,
     "metadata": {},
     "output_type": "execute_result"
    }
   ],
   "source": [
    "sigma = 8\n",
    "n = 35\n",
    "x_bar = np.mean(Weight)\n",
    "stats.norm.interval(loc =x_bar,scale = sigma/(n**0.5),alpha = 0.90)"
   ]
  },
  {
   "cell_type": "markdown",
   "metadata": {},
   "source": [
    "#### Practice\n",
    "\n",
    "2. There are 150 apples on a tree. You randomly choose 40 apples and found that the average weight of apples is 182 grams with a population standard deviation of 30 grams. Find the 95% confidence interval for the population mean."
   ]
  },
  {
   "cell_type": "code",
   "execution_count": 35,
   "metadata": {},
   "outputs": [
    {
     "data": {
      "text/plain": [
       "(172.70307451543158, 191.29692548456842)"
      ]
     },
     "execution_count": 35,
     "metadata": {},
     "output_type": "execute_result"
    }
   ],
   "source": [
    "n = 40\n",
    "x_bar = 182\n",
    "sigma = 30\n",
    "stats.norm.interval(loc =x_bar,scale = sigma/(n**0.5),alpha = 0.95)"
   ]
  },
  {
   "cell_type": "markdown",
   "metadata": {},
   "source": [
    "#### 3. A movie production house needs to estimate the average monthly wage of the technical crew members. The previous data shows that the standard deviation of the wages is 190 dollars. The production team thinks that the estimation of the average wage should not exceed 54 dollars. The team has decided to take a small subset of wages for the estimation. Find a suitable number of wages to be considered to get the estimate with 90% confidence."
   ]
  },
  {
   "cell_type": "code",
   "execution_count": 39,
   "metadata": {},
   "outputs": [
    {
     "data": {
      "text/plain": [
       "33"
      ]
     },
     "execution_count": 39,
     "metadata": {},
     "output_type": "execute_result"
    }
   ],
   "source": [
    "sigma = 190\n",
    "ME = 54\n",
    "CI = 0.90\n",
    "z = stats.norm.isf(0.05)  # calculating z from confidence level\n",
    "n = ((z*sigma)/ME)**2     # calculating the number of samples using the formula..\n",
    "round(n)"
   ]
  },
  {
   "cell_type": "markdown",
   "metadata": {},
   "source": [
    "<a id=\"small\"></a>\n",
    "### 2.2.2  Interval Estimation with t stat"
   ]
  },
  {
   "cell_type": "markdown",
   "metadata": {},
   "source": [
    "Here the standard deviation of the population is unknown. The confidence interval for the population mean with $100(1-\\alpha)$% confidence level is given as: $\\overline{X} \\pm t_{\\frac{\\alpha}{2}, n-1}\\frac{s}{\\sqrt{n}}$\n",
    "\n",
    "Where, <br>\n",
    "$\\overline{X}$: Sample mean<br>\n",
    "$\\alpha$: Level of significance<br>\n",
    "$s$: Sample standard deviation<br>\n",
    "$n-1$: degrees of freedom\n",
    "\n",
    "The ratio $\\frac{s}{\\sqrt{n}}$ is the estimate of the standard error of the mean. And $t_{\\frac{\\alpha}{2}, n-1}\\frac{s}{\\sqrt{n}}$ is the margin of error for the estimate.\n",
    "\n",
    "The value of $t_{\\frac{\\alpha}{2}, n-1}$ for different $\\alpha$ values can be obtained using the `stats.t.isf()` from the scipy library.  "
   ]
  },
  {
   "cell_type": "markdown",
   "metadata": {},
   "source": [
    "### Example:\n",
    "\n",
    "#### 1. In a apple tree, you randomly choose 17 apples and found that the average weight of apples is 78 grams with a standard deviation of 23 grams. Find the 90% confidence interval for the population mean."
   ]
  },
  {
   "cell_type": "code",
   "execution_count": 49,
   "metadata": {},
   "outputs": [],
   "source": [
    "import math\n",
    "n = 17\n",
    "x_bar = 78\n",
    "S = 23\n",
    "cl = 0.90\n",
    "t = stats.t.isf(0.05,df=n-1)"
   ]
  },
  {
   "cell_type": "code",
   "execution_count": 50,
   "metadata": {},
   "outputs": [
    {
     "name": "stdout",
     "output_type": "stream",
     "text": [
      "68.26090326067306 87.73909673932694\n"
     ]
    }
   ],
   "source": [
    "ll = x_bar-(t*S/n**0.5)\n",
    "ul = x_bar+(t*S/n**0.5)\n",
    "print(ll,ul)"
   ]
  },
  {
   "cell_type": "code",
   "execution_count": 51,
   "metadata": {},
   "outputs": [
    {
     "data": {
      "text/plain": [
       "(68.26090326067306, 87.73909673932694)"
      ]
     },
     "execution_count": 51,
     "metadata": {},
     "output_type": "execute_result"
    }
   ],
   "source": [
    "# syntax : stats.t.interval(loc = x_bar,scale = S/roon (n),alpha = confidenceleve,df = n-1)\n",
    "stats.t.interval(loc = x_bar,scale = S/(n**0.5),alpha = cl,df = n-1)"
   ]
  },
  {
   "cell_type": "markdown",
   "metadata": {},
   "source": [
    "### Practice:\n",
    "\n",
    "#### 1. In a class.  randomly 15 students are selected and found that the average weight of height is 145 cm with a standard deviation of 10cm. Find the 95% confidence interval for the population mean."
   ]
  },
  {
   "cell_type": "code",
   "execution_count": 60,
   "metadata": {},
   "outputs": [
    {
     "data": {
      "text/plain": [
       "(139.4621845843536, 150.5378154156464)"
      ]
     },
     "execution_count": 60,
     "metadata": {},
     "output_type": "execute_result"
    }
   ],
   "source": [
    "stats.t.interval(loc = 145 ,scale = 10/(m.sqrt(15)),alpha = 0.95,df = 14)"
   ]
  },
  {
   "cell_type": "markdown",
   "metadata": {},
   "source": [
    "<a id=\"prop\"></a>\n",
    "## 2.3 Interval Estimation for Proportion"
   ]
  },
  {
   "cell_type": "markdown",
   "metadata": {},
   "source": [
    "Consider a population in which each observation is either a success or a failure. The population proportion is denoted by `P` which the ratio of the number of successes to the size of the population.\n",
    "\n",
    "The confidence interval for the population proportion with $100(1-\\alpha)$% confidence level is given as: $p \\pm Z_{\\frac{\\alpha}{2}}\\sqrt{\\frac{p(1 - p)}{n}}$\n",
    "\n",
    "Where, <br>\n",
    "$p$: Sample proportion<br>\n",
    "$\\alpha$: Level of significance<br>\n",
    "$n$: Sample size\n",
    "\n",
    "The quantity $Z_{\\frac{\\alpha}{2}}\\sqrt{\\frac{p(1 - p)}{n}}$ is the margin of error."
   ]
  },
  {
   "cell_type": "markdown",
   "metadata": {},
   "source": [
    "### Example:\n",
    "\n",
    "#### 1. A financial firm has created 50 portfolios. From them, a sample of 13 portfolios was selected, out of which 8 were found to be underperforming. Construct a 99% confidence interval to estimate the population proportion."
   ]
  },
  {
   "cell_type": "code",
   "execution_count": 106,
   "metadata": {},
   "outputs": [],
   "source": [
    "prop = 8/13\n",
    "cl = 0.99\n",
    "n = 13\n",
    "z = stats.norm.isf(0.01/2) \n",
    "# http://localhost:8888/notebooks/SEKHAR_GL/STATISTICS/STAT%20-%20Day-2%20mrng%20Before_Session.ipynb#1.-A-financial-firm-has-created-50-portfolios.-From-them,-a-sample-of-13-portfolios-was-selected,-out-of-which-8-were-found-to-be-underperforming.-Construct-a-99%-confidence-interval-to-estimate-the-population-proportion."
   ]
  },
  {
   "cell_type": "code",
   "execution_count": 107,
   "metadata": {},
   "outputs": [
    {
     "name": "stdout",
     "output_type": "stream",
     "text": [
      "0.26782280814713794 0.962946422622093\n"
     ]
    }
   ],
   "source": [
    "ll = prop-(z * m.sqrt(prop*(1-prop)/n))\n",
    "ul = prop+(z * m.sqrt(prop*(1-prop)/n))\n",
    "print(ll,ul)"
   ]
  },
  {
   "cell_type": "code",
   "execution_count": 89,
   "metadata": {},
   "outputs": [
    {
     "data": {
      "text/plain": [
       "(0.26782280814713805, 0.9629464226220927)"
      ]
     },
     "execution_count": 89,
     "metadata": {},
     "output_type": "execute_result"
    }
   ],
   "source": [
    "stats.norm.interval(loc = prop,scale = m.sqrt(prop*(1-prop)/n),alpha = cl)"
   ]
  },
  {
   "cell_type": "markdown",
   "metadata": {},
   "source": [
    "### Practice:\n",
    "\n",
    "#### 1. A survey is taken for the preference of work from home. A sample of 60  was selected, out of which 42 were opting work from home. Construct a 99% confidence interval to estimate the population proportion."
   ]
  },
  {
   "cell_type": "code",
   "execution_count": 92,
   "metadata": {},
   "outputs": [
    {
     "data": {
      "text/plain": [
       "(0.5382187831229905, 0.8617812168770094)"
      ]
     },
     "execution_count": 92,
     "metadata": {},
     "output_type": "execute_result"
    }
   ],
   "source": [
    "p = 42/60\n",
    "cl = 0.99\n",
    "n = 60\n",
    "stats.norm.interval(loc =p,scale = m.sqrt((prop*(1-prop))/n),alpha = cl)"
   ]
  },
  {
   "cell_type": "code",
   "execution_count": 2,
   "metadata": {},
   "outputs": [
    {
     "data": {
      "text/plain": [
       "(64.20859083117598, 69.79140916882402)"
      ]
     },
     "execution_count": 2,
     "metadata": {},
     "output_type": "execute_result"
    }
   ],
   "source": [
    "stats.norm.interval(loc =67,scale = 12/(50**0.5),alpha = 0.90)"
   ]
  },
  {
   "cell_type": "markdown",
   "metadata": {},
   "source": [
    "<a id=\"defn\"></a>\n",
    "# 3. Test of Hypothesis"
   ]
  },
  {
   "cell_type": "markdown",
   "metadata": {},
   "source": [
    "It is the process of evaluating the validity of the claim made using the sample data obtained from the population. A statistical test is a rule used to decide the acceptance or rejection of the claim.\n",
    "\n",
    "**Examples of hypothesis:**\n",
    "\n",
    "        1. One can get 'A' grade if the attendance in the class is more than 75%.\n",
    "        2. A probiotic drink can improve the immunity of a person. "
   ]
  },
  {
   "cell_type": "markdown",
   "metadata": {},
   "source": [
    "<a id=\"types\"></a>\n",
    "## 3.1 Types of Hypothesis"
   ]
  },
  {
   "cell_type": "markdown",
   "metadata": {},
   "source": [
    "`Null Hypothesis`: The null hypothesis is the claim suggesting 'no difference'. It is denoted as H<sub>0</sub>.\n",
    "\n",
    "`Alternative Hypothesis`: It is the hypothesis that is tested against the null hypothesis. The acceptance or rejection of the hypothesis is based on the likelihood of H<sub>0</sub> being true. It is denoted by H<sub>a</sub> or H<sub>1</sub>.\n",
    "\n"
   ]
  },
  {
   "cell_type": "markdown",
   "metadata": {},
   "source": [
    "<a id=\"test_type\"></a>\n",
    "# 4. Types of Test"
   ]
  },
  {
   "cell_type": "markdown",
   "metadata": {},
   "source": [
    "The hypothesis test is used to validate the claim given by the null hypothesis. The types of tests are based on the nature of the alternative hypothesis. "
   ]
  },
  {
   "cell_type": "markdown",
   "metadata": {},
   "source": [
    "<a id=\"2tailed\"></a>\n",
    "## 4.1 Two Tailed Test"
   ]
  },
  {
   "cell_type": "markdown",
   "metadata": {},
   "source": [
    "Two tailed test considers the value of the population parameter is less than or greater than (i.e. not equal) a specific value. <br>\n",
    "If we test the population mean ($\\mu$) with a specific value ($\\mu_{0}$) the null hypothesis is: $H_{0}: \\mu = \\mu_{0}$. \n",
    "\n",
    "The alternative hypothesis for the two tailed test is given as: $H_{1}: \\mu \\neq \\mu_{0}$"
   ]
  },
  {
   "cell_type": "markdown",
   "metadata": {},
   "source": [
    "#### Example:\n",
    "\n",
    "A company that produces tennis balls claimed that the diameter of a tennis ball is 2.625 inches on average. To test the company's claim, a statistical test can be performed considering the hypothesis:\n",
    "\n",
    "                    "
   ]
  },
  {
   "cell_type": "markdown",
   "metadata": {},
   "source": [
    "<a id=\"1tailed\"></a>\n",
    "## 4.2 One Tailed Test"
   ]
  },
  {
   "cell_type": "markdown",
   "metadata": {},
   "source": [
    "One tailed test considers the value of the population parameter is less than or greater than (but not both) a specific value. <br>\n",
    "If we test the population mean ($\\mu$) with a specific value ($\\mu_{0}$) the null hypothesis is: $H_{0}: \\mu \\leq \\mu_{0}$ and the alternative hypothesis is $H_{1}: \\mu > \\mu_{0}$, the one tailed test is also known as a `right-tailed test`.\n",
    "\n",
    "If we test the population mean ($\\mu$) with a specific value ($\\mu_{0}$) the null hypothesis is: $H_{0}: \\mu \\geq \\mu_{0}$ and the alternative hypothesis is $H_{1}: \\mu < \\mu_{0}$, the one tailed test is also known as a `left-tailed test`.\n"
   ]
  },
  {
   "cell_type": "markdown",
   "metadata": {},
   "source": [
    "### Example:\n",
    "\n",
    "**1.** The company's annual quality report of machines states that a lathe machine works efficiently at most for 8 months on average after the servicing. The production manager claims that after the special tuxan servicing, the machine works efficiently for more than 8 months. To test the claim of production manager consider the hypothesis:\n",
    "\n",
    "                    Null Hypothesis: Machine efficiency ≤ 8 months\n",
    "                    Alternative Hypothesis: Machine efficiency > 8 months\n",
    "\n",
    "This is the example of a **right-tailed test**. "
   ]
  },
  {
   "cell_type": "markdown",
   "metadata": {},
   "source": [
    "**2.** A railway authority claims that all the trains on the Chicago-Seattle route run with a speed of at least 54 mph on average. A customer forum declares that there are various records from passengers claiming that the speed of the train is less than what railway has claimed. In this scenario, a statistical test can be performed to test the claim of customer forum considering the hypothesis:\n",
    "\n",
    "                    Null Hypothesis: Speed ≥ 54 mph\n",
    "                    Alternative Hypothesis: Speed < 54 mph\n",
    "\n",
    "This is the example of a **left-tailed test**. "
   ]
  },
  {
   "cell_type": "markdown",
   "metadata": {},
   "source": [
    "<a id=\"eg\"></a>\n",
    "# 5. Hypothesis Tests with Z Statistic"
   ]
  },
  {
   "cell_type": "markdown",
   "metadata": {},
   "source": [
    "Let us perform one sample Z test for the population mean. We compare the population mean with a specific value. The sample is assumed to be taken from a population following a normal distribution.\n",
    "\n",
    "To check the normality of the data, a test for normality is used. The `Shapiro-Wilk Test` is one of the methods used to check the normality. The hypothesis of the test is given as:\n",
    "<p style='text-indent:25em'> <strong> H<sub>0</sub>:  The data is normally distributed </strong> </p>\n",
    "<p style='text-indent:25em'> <strong> H<sub>1</sub>:  The data is not normally distributed </strong> </p>\n",
    "\n",
    "The `shapiro()` from scipy library performs a Shapiro-Wilk normality test. "
   ]
  },
  {
   "cell_type": "markdown",
   "metadata": {},
   "source": [
    "The null and alternative hypothesis of Z-test is given as:\n",
    "<p style='text-indent:25em'> <strong> $H_{0}: \\mu = \\mu_{0}$ or $\\mu \\geq \\mu_{0}$ or $\\mu \\leq \\mu_{0}$</strong></p>\n",
    "<p style='text-indent:25em'> <strong> $H_{1}: \\mu \\neq \\mu_{0}$ or $\\mu < \\mu_{0}$ or $\\mu > \\mu_{0}$</strong></p>"
   ]
  },
  {
   "cell_type": "markdown",
   "metadata": {},
   "source": [
    "Consider a normal population with standard deviation $\\sigma$. Let us take a sample of size n, \n",
    "The test statistic for one sample Z-test is given as:\n",
    "<p style='text-indent:25em'> <strong> $Z = \\frac{\\overline{X} -  \\mu}{\\frac{\\sigma}{\\sqrt(n)}}$</strong></p>\n",
    "\n",
    "Where, <br>\n",
    "$\\overline{X}$: Sample mean<br>\n",
    "$\\mu$: Specified mean<br>\n",
    "$\\sigma$: Population standard deviation<br>\n",
    "$n$: Sample size\n",
    "\n",
    "\n",
    "\n"
   ]
  },
  {
   "cell_type": "markdown",
   "metadata": {},
   "source": [
    "### Example:\n",
    "\n",
    "#### 1. A car manufacturing company claims that the mileage of their new car is 25 kmph with a standard deviation of 2.5 kmph. A random sample of 45 cars was drawn and recorded their mileage as per the standard procedure. From the sample, the mean mileage was seen to be 24 kmph. Is this evidence to claim that the mean mileage is 25kmph? (assume the normality of the data) Use α = 0.01."
   ]
  },
  {
   "cell_type": "code",
   "execution_count": null,
   "metadata": {},
   "outputs": [],
   "source": [
    "# step1 checking the assumptions\n",
    "# data is normal\n",
    "# population std is known\n",
    "# it is evident that its one sample z test   (large sample)"
   ]
  },
  {
   "cell_type": "code",
   "execution_count": null,
   "metadata": {},
   "outputs": [],
   "source": [
    "#step2 : hypothes is formation\n",
    "# Ho : mu = 25\n",
    "#Ha : mu != 25"
   ]
  },
  {
   "cell_type": "code",
   "execution_count": null,
   "metadata": {},
   "outputs": [],
   "source": [
    "# step 3 : which direction test?\n",
    "# two tail Z test"
   ]
  },
  {
   "cell_type": "code",
   "execution_count": 3,
   "metadata": {},
   "outputs": [
    {
     "name": "stdout",
     "output_type": "stream",
     "text": [
      "-2.6832815729997477\n"
     ]
    }
   ],
   "source": [
    "# step 4 : calculating test statistics\n",
    "# mu - population\n",
    "# x_bar - sample\n",
    "x_bar = 24\n",
    "mu = 25\n",
    "sigma = 2.5\n",
    "n = 45\n",
    "z_stat = (x_bar - mu)/(sigma / np.sqrt(n))\n",
    "print(z_stat)"
   ]
  },
  {
   "cell_type": "code",
   "execution_count": 7,
   "metadata": {},
   "outputs": [
    {
     "data": {
      "text/plain": [
       "0.007290358091535638"
      ]
     },
     "execution_count": 7,
     "metadata": {},
     "output_type": "execute_result"
    }
   ],
   "source": [
    "# step 5 : calculating p value\n",
    "p_val = stats.norm.sf(abs(z_stat))* 2\n",
    "p_val"
   ]
  },
  {
   "cell_type": "code",
   "execution_count": 11,
   "metadata": {},
   "outputs": [
    {
     "name": "stdout",
     "output_type": "stream",
     "text": [
      " Null hypothesis is rejected\n"
     ]
    }
   ],
   "source": [
    "# inferences / conclusion\n",
    "alpha = 0.01\n",
    "p_value = p_val\n",
    "if p_val < alpha:\n",
    "    print(\" Null hypothesis is rejected\")\n",
    "else:\n",
    "    print(\"failed to reject the null hypothesis\")\n",
    "# since p_val is less than the given significance level it can be rejected"
   ]
  },
  {
   "cell_type": "markdown",
   "metadata": {},
   "source": [
    "## Practice:\n",
    "\n",
    "#### 2. The average calories in a slice bread of the brand 'Alphas' are 82 with a standard deviation of 15. An experiment is conducted to test the claim of the dietitians that the calories in a slice of bread are not as per the manufacturer's specification. A sample of 40 slices of bread is taken and the mean calories recorded are 95. Test the claim of dietitians with ⍺ value (significance level) as 0.05. (assume the normality of the data)."
   ]
  },
  {
   "cell_type": "code",
   "execution_count": null,
   "metadata": {},
   "outputs": [],
   "source": [
    "# step1 : \n",
    "# population std is known, \n",
    "# data is normal\n",
    "# its evident that its z test \n",
    "\n"
   ]
  },
  {
   "cell_type": "code",
   "execution_count": null,
   "metadata": {},
   "outputs": [],
   "source": [
    "# step 2 : framing hypothesis\n",
    "# Ho : mu = 82\n",
    "# Ha : mu != 95"
   ]
  },
  {
   "cell_type": "code",
   "execution_count": null,
   "metadata": {},
   "outputs": [],
   "source": [
    "# step3 : direction of the test\n",
    "# two tail z test"
   ]
  },
  {
   "cell_type": "code",
   "execution_count": 16,
   "metadata": {},
   "outputs": [
    {
     "name": "stdout",
     "output_type": "stream",
     "text": [
      "5.4812812776251905\n"
     ]
    }
   ],
   "source": [
    "# step4 : calculating test statstics\n",
    "\n",
    "# mu - population\n",
    "# x_bar - sample\n",
    "\n",
    "sigma = 15\n",
    "n = 40\n",
    "mu = 82\n",
    "x_bar = 95\n",
    "z_stat = (x_bar - mu)/(sigma / np.sqrt(n))\n",
    "print(z_stat)"
   ]
  },
  {
   "cell_type": "code",
   "execution_count": 17,
   "metadata": {},
   "outputs": [
    {
     "data": {
      "text/plain": [
       "0"
      ]
     },
     "execution_count": 17,
     "metadata": {},
     "output_type": "execute_result"
    }
   ],
   "source": [
    "# step 5 : calculating p value\n",
    "p_bread = stats.norm.sf(abs(z_stat))* 2\n",
    "round(p_bread)"
   ]
  },
  {
   "cell_type": "code",
   "execution_count": 22,
   "metadata": {},
   "outputs": [
    {
     "name": "stdout",
     "output_type": "stream",
     "text": [
      " Null hypothesis is rejected\n"
     ]
    }
   ],
   "source": [
    "#inferences/ conclusion \n",
    "# inferences / conclusion\n",
    "alpha = 0.05\n",
    "p_value = p_bread\n",
    "if p_val < alpha:\n",
    "    print(\" Null hypothesis is rejected\")\n",
    "else:\n",
    "    print(\"failed to reject the null hypothesis\")\n",
    "# since p_val is less than the given significance level it can be rejected"
   ]
  },
  {
   "cell_type": "markdown",
   "metadata": {},
   "source": [
    "#### 3. A typhoid vaccine in the market inscribes 3 mg of ascorbic acid in the vaccine with standard deviation of 1.2mg . The team claims that the vaccines contain less than 3 mg of acid. We collected the data of 40 vaccines by using random sampling from a population and recorded the amount of ascorbic acid. Test the claim of the team using the sample data ⍺ value (significance level) to 0.05.Assume Data is normal\n",
    "\n",
    "    acid_amt = [2.57, 3.06, 3.28 , 3.24, 2.79, 3.40, 3.36, 3.07, 2.46, 3.03, 3.05, 2.94, 3.46, 3.19, 3.09, 2.81, 3.13, 2.88, \n",
    "                2.76, 2.75, 3.17, 2.89, 2.54, 3.18, 3.08, 2.60, 3.06, 3.13, 3.11, 3.08, 2.93, 2.90, 3.06, 2.97, 3.24, 2.86, \n",
    "                2.87, 3.18, 3, 2.95]"
   ]
  },
  {
   "cell_type": "code",
   "execution_count": 23,
   "metadata": {},
   "outputs": [],
   "source": [
    "acid_amt = [2.57, 3.06, 3.28 , 3.24, 2.79, 3.40, 3.36, 3.07, 2.46, 3.03, 3.05, 2.94, 3.46, 3.19, 3.09, 2.81, 3.13, 2.88, \n",
    "            2.76, 2.75, 3.17, 2.89, 2.54, 3.18, 3.08, 2.60, 3.06, 3.13, 3.11, 3.08, 2.93, 2.90, 3.06, 2.97, 3.24, 2.86, \n",
    "            2.87, 3.18, 3, 2.95]"
   ]
  },
  {
   "cell_type": "code",
   "execution_count": 25,
   "metadata": {},
   "outputs": [],
   "source": [
    "# null hypothesis Ho = mu <=3\n",
    "# ha mu >3\n",
    "sigma = 1.2\n",
    "n = 40\n",
    "x_bar = np.mean(acid_amt)\n",
    "mu = 3"
   ]
  },
  {
   "cell_type": "code",
   "execution_count": 26,
   "metadata": {},
   "outputs": [
    {
     "data": {
      "text/plain": [
       "0.015811388300842496"
      ]
     },
     "execution_count": 26,
     "metadata": {},
     "output_type": "execute_result"
    }
   ],
   "source": [
    "z_stat = (x_bar - mu)/(sigma/np.sqrt(n))\n",
    "z_stat"
   ]
  },
  {
   "cell_type": "code",
   "execution_count": 30,
   "metadata": {},
   "outputs": [
    {
     "data": {
      "text/plain": [
       "0.493692431511398"
      ]
     },
     "execution_count": 30,
     "metadata": {},
     "output_type": "execute_result"
    }
   ],
   "source": [
    "p_vac = stats.norm.sf(z_stat)\n",
    "p_vac"
   ]
  },
  {
   "cell_type": "code",
   "execution_count": 31,
   "metadata": {},
   "outputs": [
    {
     "data": {
      "text/plain": [
       "False"
      ]
     },
     "execution_count": 31,
     "metadata": {},
     "output_type": "execute_result"
    }
   ],
   "source": [
    "alph = 0.05\n",
    "p_vac < 0.05"
   ]
  },
  {
   "cell_type": "code",
   "execution_count": null,
   "metadata": {},
   "outputs": [],
   "source": [
    "# since p_val is not less than sigmificance level we failt o reject the null hypothesis..\n",
    "# concluding the level of acid in vaccine is less than 3 mg"
   ]
  },
  {
   "cell_type": "markdown",
   "metadata": {},
   "source": [
    "## Practice\n",
    "\n",
    "#### 4. A sample of 900 PVC pipes is found to have an average thickness of 12.5 mm. The sample is coming from a normal population. Is there any evidence that pvc pipe thickeness is less than 13 mm. The population standard deviation is 1 mm. Test the hypothesis at 5% level of significance."
   ]
  },
  {
   "cell_type": "code",
   "execution_count": 37,
   "metadata": {},
   "outputs": [
    {
     "name": "stdout",
     "output_type": "stream",
     "text": [
      "-15.0\n"
     ]
    }
   ],
   "source": [
    "mu = 13\n",
    "x_bar = 12.5\n",
    "sigma = 1\n",
    "n = 900\n",
    "# ho : mu >= 13\n",
    "# ha mu < 13\n",
    "z_stat = (x_bar - mu)/(sigma / np.sqrt(n))\n",
    "print(z_stat)"
   ]
  },
  {
   "cell_type": "code",
   "execution_count": 42,
   "metadata": {},
   "outputs": [
    {
     "data": {
      "text/plain": [
       "3.6709661993126986e-51"
      ]
     },
     "execution_count": 42,
     "metadata": {},
     "output_type": "execute_result"
    }
   ],
   "source": [
    "p_pipe = stats.norm.cdf(z_stat)\n",
    "p_pipe"
   ]
  },
  {
   "cell_type": "code",
   "execution_count": 44,
   "metadata": {},
   "outputs": [
    {
     "data": {
      "text/plain": [
       "True"
      ]
     },
     "execution_count": 44,
     "metadata": {},
     "output_type": "execute_result"
    }
   ],
   "source": [
    "p_pipe < 0.05\n",
    "# since p_val less than significance we reject h0 concludin the thickness of pipe is less than 13"
   ]
  },
  {
   "cell_type": "markdown",
   "metadata": {
    "id": "6PdOJPyjjUMK"
   },
   "source": [
    "<a id=\"2z\"></a>\n",
    "## 2.2 Two Sample Z Test"
   ]
  },
  {
   "cell_type": "markdown",
   "metadata": {
    "id": "AZjn-F3qjUMK"
   },
   "source": [
    "Let us perform a two sample Z test for the population mean. We compare the means of the two independent populations. The samples are assumed to be taken from populations such that they follow a normal distribution. Also, the sample must have equal variance.\n",
    "\n",
    "The `Shapiro-Wilk Test` is used to check the normality of the data. The assumption of equal variances of the populations is tested using the `Levene's Test`. \n",
    "The hypothesis of the Levene's test is given as:\n",
    "<p style='text-indent:25em'> <strong> H<sub>0</sub>:  The variances are equal</strong> </p>\n",
    "<p style='text-indent:25em'> <strong> H<sub>1</sub>:  The variances are not equal </strong> </p>\n",
    "\n",
    "The `levene()` from scipy library performs a Levene's test. \n",
    "\n",
    "The null and alternative hypothesis of two sample Z-test is given as:\n",
    "\n",
    "<p style='text-indent:25em'> <strong> $H_{0}: \\mu_{1} - \\mu_{2} = \\mu_{0}$ or $\\mu_{1} - \\mu_{2} \\geq \\mu_{0}$ or $\\mu_{1} -\\mu_{2} \\leq \\mu_{0}$</strong></p>\n",
    "<p style='text-indent:25em'> <strong> $H_{1}: \\mu_{1} - \\mu_{2} \\neq \\mu_{0} $ or $\\mu_{1} - \\mu_{2} < \\mu_{0}$ or $\\mu_{1} -\\mu_{2} > \\mu_{0}$</strong></p>"
   ]
  },
  {
   "cell_type": "markdown",
   "metadata": {
    "id": "r4ANXi-rjUMK"
   },
   "source": [
    "\n",
    "\n",
    "The test statistic for two sample Z-test is given as:\n",
    "<p style='text-indent:25em'> <strong> $Z = \\frac{(\\overline{X_{1}} - \\overline{X_{2}})  - \\mu_{0}} {\\sqrt{\\frac{\\sigma_{1}^{2}}{n_{1}} + \\frac{\\sigma_{2}^{2}}{n_{2}}}}$</strong></p>\n",
    "\n",
    "Where, <br>\n",
    "$\\overline{X_{1}}$, $\\overline{X_{2}}$ : Mean of both the samples<br>\n",
    "$\\mu_{0}$: Mean difference given in the null hypothesis<br>\n",
    "$\\sigma_{1}, \\sigma_{2}$: Standard deviation of both the populations<br>\n",
    "$n_{1}, n_{2}$: Size of samples from both the populations\n",
    "\n",
    "\n"
   ]
  },
  {
   "cell_type": "markdown",
   "metadata": {},
   "source": [
    "#### 1. A study was carried out to understand amount of haemoglobin in blood for males and females. A random sample of 160 males and 180 females have means of 13 g/dl and 15 g/dl. The two population have standard deviation of 4.1 g/dl for male donors and 3.5 g/dl for female donor . Can it be said the population means of concentrations of the elements are the same for men and women? Use  α = 0.01.Assume data is normally distributed"
   ]
  },
  {
   "cell_type": "code",
   "execution_count": 45,
   "metadata": {},
   "outputs": [],
   "source": [
    "# conditions: data is normal\n",
    "# pop std is known\n",
    "# 2 samples\n",
    "\n",
    "# two sample z test\n"
   ]
  },
  {
   "cell_type": "code",
   "execution_count": null,
   "metadata": {},
   "outputs": [],
   "source": [
    "# hypothesis: \n",
    "# Ho: mu1 = mu2 or mu1-mu2 = 0\n",
    "# Ha : mu1 != mu2 or mu1 - mu2 != 0"
   ]
  },
  {
   "cell_type": "code",
   "execution_count": null,
   "metadata": {},
   "outputs": [],
   "source": [
    "# directionsality :\n",
    "# 2 tail 2 sample Ztest"
   ]
  },
  {
   "cell_type": "code",
   "execution_count": 49,
   "metadata": {},
   "outputs": [
    {
     "data": {
      "text/plain": [
       "-4.806830552525058"
      ]
     },
     "execution_count": 49,
     "metadata": {},
     "output_type": "execute_result"
    }
   ],
   "source": [
    "# we are considering s1 = male and s2 = female\n",
    "x1_bar = 13\n",
    "x2_bar = 15\n",
    "sigma1 = 4.1\n",
    "sigma2 = 3.5\n",
    "n1 = 160\n",
    "n2 = 180\n",
    "#mu1-mu2 = 0    #(null hypothesis always)\n",
    "num = ((x1_bar-x2_bar)-(0))\n",
    "den =np.sqrt((sigma1**2/n1)+ (sigma2**2/n2))\n",
    "z_stat = num/den\n",
    "z_stat"
   ]
  },
  {
   "cell_type": "code",
   "execution_count": 54,
   "metadata": {},
   "outputs": [
    {
     "data": {
      "text/plain": [
       "1.5334185117556497e-06"
      ]
     },
     "execution_count": 54,
     "metadata": {},
     "output_type": "execute_result"
    }
   ],
   "source": [
    "pval_2 = stats.norm.sf(abs(z_stat))*2\n",
    "pval_2"
   ]
  },
  {
   "cell_type": "code",
   "execution_count": 55,
   "metadata": {},
   "outputs": [
    {
     "data": {
      "text/plain": [
       "True"
      ]
     },
     "execution_count": 55,
     "metadata": {},
     "output_type": "execute_result"
    }
   ],
   "source": [
    "pval_2 < 0.01"
   ]
  },
  {
   "cell_type": "code",
   "execution_count": null,
   "metadata": {},
   "outputs": [],
   "source": [
    "#w we reject the hypothesis based on value difference\n",
    "# "
   ]
  },
  {
   "cell_type": "markdown",
   "metadata": {},
   "source": [
    "## Practice\n",
    "\n",
    "#### 2.  Avergae sales of 25 items in shop A is Rs.15000  with population standard deviation of Rs.2000. Avergae sales of 20 items in shop B is Rs.14000  with population standard deviation of Rs.1500.Perform hypothesis testing to check wether sales in shop A is greater than shop B with 5% significance level? "
   ]
  },
  {
   "cell_type": "code",
   "execution_count": null,
   "metadata": {},
   "outputs": [],
   "source": [
    "# hypothesis:\n",
    "# ho : mu1 <= mu2\n",
    "# ha: mu1 > mu2"
   ]
  },
  {
   "cell_type": "code",
   "execution_count": 80,
   "metadata": {},
   "outputs": [],
   "source": [
    "x1_bar = 15000\n",
    "x2_bar = 14000\n",
    "n1 = 25\n",
    "n2 = 20\n",
    "sigma1 = 2000\n",
    "sigma2 = 1500\n",
    "mu1 = 0\n",
    "mu2 = 0\n",
    "num = ((x1_bar-x2_bar)-(mu1-mu2))\n",
    "den =np.sqrt((sigma1**2/n1)+ (sigma2**2/n2))\n",
    "z_stat = num/den"
   ]
  },
  {
   "cell_type": "code",
   "execution_count": 81,
   "metadata": {},
   "outputs": [
    {
     "data": {
      "text/plain": [
       "1.9156525704423026"
      ]
     },
     "execution_count": 81,
     "metadata": {},
     "output_type": "execute_result"
    }
   ],
   "source": [
    "z_stat"
   ]
  },
  {
   "cell_type": "code",
   "execution_count": 82,
   "metadata": {},
   "outputs": [
    {
     "data": {
      "text/plain": [
       "0.02770466665184583"
      ]
     },
     "execution_count": 82,
     "metadata": {},
     "output_type": "execute_result"
    }
   ],
   "source": [
    "p_sale =stats.norm.sf(z_stat)\n",
    "p_sale"
   ]
  },
  {
   "cell_type": "code",
   "execution_count": 84,
   "metadata": {},
   "outputs": [
    {
     "data": {
      "text/plain": [
       "True"
      ]
     },
     "execution_count": 84,
     "metadata": {},
     "output_type": "execute_result"
    }
   ],
   "source": [
    "p_sale < 0.05"
   ]
  },
  {
   "cell_type": "code",
   "execution_count": null,
   "metadata": {},
   "outputs": [],
   "source": [
    "# since the pvalue is less than significance level we reject the null hypothesis\n",
    "# concluding that shop a is greater than shop2 \n"
   ]
  },
  {
   "cell_type": "markdown",
   "metadata": {
    "id": "1FHZAY-0jUMv"
   },
   "source": [
    "<a id=\"t\"></a>\n",
    "# 3. t Test"
   ]
  },
  {
   "cell_type": "markdown",
   "metadata": {
    "id": "NI4skzgvjUMw"
   },
   "source": [
    "<a id=\"1t\"></a>\n",
    "## 3.1 One Sample t Test"
   ]
  },
  {
   "cell_type": "markdown",
   "metadata": {
    "id": "-Sblu4a_jUMw"
   },
   "source": [
    "Let us perform a one sample t-test for the population mean. We compare the population mean with a specific value. \n",
    "\n",
    "The null and alternative hypothesis is given as:\n",
    "\n",
    "<p style='text-indent:25em'> <strong> $H_{0}: \\mu = \\mu_{0}$ or $\\mu \\geq \\mu_{0}$ or $\\mu \\leq \\mu_{0}$</strong></p>\n",
    "<p style='text-indent:25em'> <strong> $H_{1}: \\mu \\neq \\mu_{0}$ or $\\mu < \\mu_{0}$ or $\\mu > \\mu_{0}$</strong></p>"
   ]
  },
  {
   "cell_type": "markdown",
   "metadata": {
    "id": "q9CRXHIkjUMx"
   },
   "source": [
    "The test statistic is given as:\n",
    "<p style='text-indent:25em'> <strong> $t = \\frac{\\overline{X} -  \\mu_{0}}{\\frac{s}{\\sqrt(n)}}$</strong></p>\n",
    "\n",
    "Where, <br>\n",
    "$\\overline{X}$: Sample mean<br>\n",
    "$s$: Sample standard deviation<br>\n",
    "$n$: Sample size\n",
    " \n",
    "Under $H_{0}$ the test statistic follows a t-distribution with n-1 degrees of freedom."
   ]
  },
  {
   "cell_type": "markdown",
   "metadata": {
    "id": "5BunXsmKjUMx"
   },
   "source": [
    "\n",
    "#### 1. A survey claims that in a math test female students tend to score marks greater than 75. Consider a sample of 24 female students and perform a hypothesis test to check the claim with 90% confidence.\n",
    "\n",
    "Use the dataset available in the CSV file `mathscore_1ttest.csv`."
   ]
  },
  {
   "cell_type": "code",
   "execution_count": 188,
   "metadata": {},
   "outputs": [
    {
     "data": {
      "text/html": [
       "<div>\n",
       "<style scoped>\n",
       "    .dataframe tbody tr th:only-of-type {\n",
       "        vertical-align: middle;\n",
       "    }\n",
       "\n",
       "    .dataframe tbody tr th {\n",
       "        vertical-align: top;\n",
       "    }\n",
       "\n",
       "    .dataframe thead th {\n",
       "        text-align: right;\n",
       "    }\n",
       "</style>\n",
       "<table border=\"1\" class=\"dataframe\">\n",
       "  <thead>\n",
       "    <tr style=\"text-align: right;\">\n",
       "      <th></th>\n",
       "      <th>gender</th>\n",
       "      <th>race/ethnicity</th>\n",
       "      <th>lunch</th>\n",
       "      <th>test preparation course</th>\n",
       "      <th>math score</th>\n",
       "      <th>reading score</th>\n",
       "      <th>writing score</th>\n",
       "      <th>total score</th>\n",
       "      <th>training institute</th>\n",
       "    </tr>\n",
       "  </thead>\n",
       "  <tbody>\n",
       "    <tr>\n",
       "      <th>0</th>\n",
       "      <td>female</td>\n",
       "      <td>group C</td>\n",
       "      <td>standard</td>\n",
       "      <td>none</td>\n",
       "      <td>60</td>\n",
       "      <td>72</td>\n",
       "      <td>74</td>\n",
       "      <td>206</td>\n",
       "      <td>Nature Learning</td>\n",
       "    </tr>\n",
       "    <tr>\n",
       "      <th>1</th>\n",
       "      <td>female</td>\n",
       "      <td>group C</td>\n",
       "      <td>standard</td>\n",
       "      <td>none</td>\n",
       "      <td>59</td>\n",
       "      <td>72</td>\n",
       "      <td>68</td>\n",
       "      <td>199</td>\n",
       "      <td>Nature Learning</td>\n",
       "    </tr>\n",
       "    <tr>\n",
       "      <th>2</th>\n",
       "      <td>female</td>\n",
       "      <td>group E</td>\n",
       "      <td>standard</td>\n",
       "      <td>none</td>\n",
       "      <td>100</td>\n",
       "      <td>100</td>\n",
       "      <td>100</td>\n",
       "      <td>300</td>\n",
       "      <td>Speak Global Learning</td>\n",
       "    </tr>\n",
       "    <tr>\n",
       "      <th>3</th>\n",
       "      <td>female</td>\n",
       "      <td>group D</td>\n",
       "      <td>standard</td>\n",
       "      <td>none</td>\n",
       "      <td>69</td>\n",
       "      <td>74</td>\n",
       "      <td>74</td>\n",
       "      <td>217</td>\n",
       "      <td>Speak Global Learning</td>\n",
       "    </tr>\n",
       "    <tr>\n",
       "      <th>4</th>\n",
       "      <td>female</td>\n",
       "      <td>group A</td>\n",
       "      <td>free/reduced</td>\n",
       "      <td>none</td>\n",
       "      <td>47</td>\n",
       "      <td>59</td>\n",
       "      <td>50</td>\n",
       "      <td>156</td>\n",
       "      <td>Speak Global Learning</td>\n",
       "    </tr>\n",
       "  </tbody>\n",
       "</table>\n",
       "</div>"
      ],
      "text/plain": [
       "   gender race/ethnicity         lunch test preparation course  math score  \\\n",
       "0  female        group C      standard                    none          60   \n",
       "1  female        group C      standard                    none          59   \n",
       "2  female        group E      standard                    none         100   \n",
       "3  female        group D      standard                    none          69   \n",
       "4  female        group A  free/reduced                    none          47   \n",
       "\n",
       "   reading score  writing score  total score     training institute  \n",
       "0             72             74          206        Nature Learning  \n",
       "1             72             68          199        Nature Learning  \n",
       "2            100            100          300  Speak Global Learning  \n",
       "3             74             74          217  Speak Global Learning  \n",
       "4             59             50          156  Speak Global Learning  "
      ]
     },
     "execution_count": 188,
     "metadata": {},
     "output_type": "execute_result"
    }
   ],
   "source": [
    "df = pd.read_csv('mathscore_1ttest.csv')\n",
    "df.head()"
   ]
  },
  {
   "cell_type": "code",
   "execution_count": null,
   "metadata": {},
   "outputs": [],
   "source": [
    "# hypothesis \n",
    "# Ho : mu >=75\n",
    "#Ha mu< 75"
   ]
  },
  {
   "cell_type": "code",
   "execution_count": 189,
   "metadata": {},
   "outputs": [],
   "source": [
    "female_math = df[df['gender']=='female']['math score']\n",
    "x_bar = np.mean(female_math)"
   ]
  },
  {
   "cell_type": "code",
   "execution_count": 190,
   "metadata": {},
   "outputs": [
    {
     "data": {
      "text/plain": [
       "ShapiroResult(statistic=0.9368310570716858, pvalue=0.13859796524047852)"
      ]
     },
     "execution_count": 190,
     "metadata": {},
     "output_type": "execute_result"
    }
   ],
   "source": [
    "# test fro normality\n",
    "#ho : data is normal or skew = 0\n",
    "# ha :  data is not normal or skew != 0\n",
    "stats.shapiro(female_math)  # puthon gives the value for two tail test value"
   ]
  },
  {
   "cell_type": "code",
   "execution_count": 191,
   "metadata": {},
   "outputs": [
    {
     "data": {
      "text/plain": [
       "False"
      ]
     },
     "execution_count": 191,
     "metadata": {},
     "output_type": "execute_result"
    }
   ],
   "source": [
    "0.13859796524047852/2 < 0.05"
   ]
  },
  {
   "cell_type": "code",
   "execution_count": null,
   "metadata": {},
   "outputs": [],
   "source": [
    "# since value is not less  than 0.05 we can conclude that data is normal"
   ]
  },
  {
   "cell_type": "code",
   "execution_count": 192,
   "metadata": {},
   "outputs": [],
   "source": [
    "# hypothesis \n",
    "# Ho : mu >=75\n",
    "#Ha mu< 75"
   ]
  },
  {
   "cell_type": "code",
   "execution_count": null,
   "metadata": {},
   "outputs": [],
   "source": [
    "# t_stat = (x_bar - mu)/(S/np.sqrt(n))"
   ]
  },
  {
   "cell_type": "code",
   "execution_count": 193,
   "metadata": {},
   "outputs": [],
   "source": [
    "x_bar\n",
    "S = np.std(female_math,ddof =1)\n",
    "n = len(female_math)\n",
    "mu = 75\n",
    "t_stat = (x_bar - mu)/(S/np.sqrt(n))"
   ]
  },
  {
   "cell_type": "code",
   "execution_count": 194,
   "metadata": {},
   "outputs": [
    {
     "data": {
      "text/plain": [
       "-3.606738075702319"
      ]
     },
     "execution_count": 194,
     "metadata": {},
     "output_type": "execute_result"
    }
   ],
   "source": [
    "t_stat"
   ]
  },
  {
   "cell_type": "code",
   "execution_count": 195,
   "metadata": {},
   "outputs": [
    {
     "data": {
      "text/plain": [
       "0.08609168891658113"
      ]
     },
     "execution_count": 195,
     "metadata": {},
     "output_type": "execute_result"
    }
   ],
   "source": [
    "p_val = stats.t.cdf(t_stat,df=1)\n",
    "p_val"
   ]
  },
  {
   "cell_type": "code",
   "execution_count": 116,
   "metadata": {},
   "outputs": [
    {
     "data": {
      "text/plain": [
       "True"
      ]
     },
     "execution_count": 116,
     "metadata": {},
     "output_type": "execute_result"
    }
   ],
   "source": [
    "sig_val = 0.1\n",
    "p_val<sig_val"
   ]
  },
  {
   "cell_type": "code",
   "execution_count": null,
   "metadata": {},
   "outputs": [],
   "source": [
    "#inbuilt function\n",
    "# syntax : stats.ttest_1samp(sample,pop_mean)"
   ]
  },
  {
   "cell_type": "code",
   "execution_count": 123,
   "metadata": {},
   "outputs": [],
   "source": [
    "test_stat,p_value = stats.ttest_1samp(female_math,popmean = 75)"
   ]
  },
  {
   "cell_type": "code",
   "execution_count": 124,
   "metadata": {},
   "outputs": [
    {
     "data": {
      "text/plain": [
       "0.0007426613957678669"
      ]
     },
     "execution_count": 124,
     "metadata": {},
     "output_type": "execute_result"
    }
   ],
   "source": [
    "p_value = p_value/2\n",
    "p_value"
   ]
  },
  {
   "cell_type": "code",
   "execution_count": 121,
   "metadata": {},
   "outputs": [
    {
     "data": {
      "text/plain": [
       "-3.6067380757023204"
      ]
     },
     "execution_count": 121,
     "metadata": {},
     "output_type": "execute_result"
    }
   ],
   "source": [
    "test_stat"
   ]
  },
  {
   "cell_type": "markdown",
   "metadata": {
    "id": "JtUrRwbwjUNN"
   },
   "source": [
    "#### 2. A researcher is studying the growth of bacteria in waters of Lake Beach. The mean bacteria count of 100 per unit volume of water is within the safety level. The researcher collected 10 water samples of unit volume and found the mean bacteria count to be 94.8 with a sample variance of 72.66. Does the data indicate that the bacteria count is within the safety level? Test at the α = .05 level. Assume that the measurements constitute a sample from a normal population."
   ]
  },
  {
   "cell_type": "code",
   "execution_count": 127,
   "metadata": {},
   "outputs": [],
   "source": [
    "# Ho : mu >=100, Ha : mu < 100\n",
    "mu = 100\n",
    "x_bar = 94.8\n",
    "S = 72.66\n",
    "n = 10\n",
    "t_stat = (x_bar-mu)/(np.sqrt(S/n))"
   ]
  },
  {
   "cell_type": "code",
   "execution_count": 128,
   "metadata": {},
   "outputs": [
    {
     "data": {
      "text/plain": [
       "-1.9291040236750068"
      ]
     },
     "execution_count": 128,
     "metadata": {},
     "output_type": "execute_result"
    }
   ],
   "source": [
    "t_stat"
   ]
  },
  {
   "cell_type": "code",
   "execution_count": 130,
   "metadata": {},
   "outputs": [
    {
     "data": {
      "text/plain": [
       "0.957102178656725"
      ]
     },
     "execution_count": 130,
     "metadata": {},
     "output_type": "execute_result"
    }
   ],
   "source": [
    "p_val = stats.t.sf(t_stat,df=n-1)\n",
    "p_val"
   ]
  },
  {
   "cell_type": "markdown",
   "metadata": {
    "id": "xB0iAEpyjUNV"
   },
   "source": [
    "<a id=\"2t\"></a>\n",
    "## 3.2 Two Sample t Test (Unpaired)"
   ]
  },
  {
   "cell_type": "markdown",
   "metadata": {
    "id": "T0GSiOeFjUNV"
   },
   "source": [
    "The two sample t-test is used to compare the means of two independent populations. This test assumes that the populations are normally distributed from which the samples are taken.\n",
    "\n",
    "The null and alternative hypothesis is given as:\n",
    "<p style='text-indent:25em'> <strong> $H_{0}: \\mu_{1} - \\mu_{2} = \\mu_{0}$ or $\\mu_{1} - \\mu_{2} \\geq \\mu_{0}$ or $\\mu_{1} -\\mu_{2} \\leq \\mu_{0}$</strong></p>\n",
    "<p style='text-indent:25em'> <strong> $H_{1}: \\mu_{1} - \\mu_{2} \\neq \\mu_{0} $ or $\\mu_{1} - \\mu_{2} < \\mu_{0}$ or $\\mu_{1} -\\mu_{2} > \\mu_{0}$</strong></p>"
   ]
  },
  {
   "cell_type": "markdown",
   "metadata": {
    "id": "Ydl-oa6djUNV"
   },
   "source": [
    "Let us take a sample of size ($n_{1}$) from the first population and sample of size ($n_{2}$) from a second independent population. If both $n_{1}$ and $n_{2}$ are less than 30 and standard deviation of populations are unknown. We use two-sample t-test.\n",
    "\n",
    "Consider the equal variance for both the populations. The test statistic for two sample t-test is given as:\n",
    "<p style='text-indent:25em'> <strong> $t = \\frac{(\\overline{X_{1}} - \\overline{X_{2}}) - \\mu_{0}} {s \\sqrt{\\frac{1}{n_{1}} + \\frac{1}{n_{2}}}}$</strong></p>\n",
    "\n",
    "Where, <br>\n",
    "$\\overline{X_{1}}$, $\\overline{X_{2}}$: Mean of both the samples<br>\n",
    "$\\mu_{0}$: Mean difference given in the null hypothesis<br>\n",
    "$s$: Pooled standard deviation<br>\n",
    "$n_{1}, n_{2}$: Size of samples from both the populations\n",
    "\n",
    "The pooled standard deviation is defined as:\n",
    "$s = \\sqrt{\\frac{(n_{1} - 1)s_{1}^{2} + (n_{2} - 1)s_{2}^{2}}{n_{1} + n_{2} - 2}}$ $\\hspace{2cm}$  Where, $s_{1}, s_{2}$: Standard deviation of both the samples\n",
    "\n",
    "Under $H_{0}$, the test statistic follows a t-distribution with $(n_{1}+n_{2}-2)$ degrees of freedom."
   ]
  },
  {
   "cell_type": "markdown",
   "metadata": {
    "id": "ugMmycEPjUNW"
   },
   "source": [
    "If the population variances are equal and also the sample size is the same for both the samples then the test statistic is given as:\n",
    "<p style='text-indent:25em'> <strong> $t = \\frac{(\\overline{X_{1}} - \\overline{X_{2}}) - \\mu_{0}} {s \\sqrt{\\frac{2}{n}}}$</strong></p>\n",
    "\n",
    "Where the pooled standard deviation $s = \\sqrt{\\frac{s_{1}^{2} + s_{2}^{2}}{2}}$\n",
    "\n",
    "Under $H_{0}$, the test statistic follows a t-distribution with $(2n-2)$ degrees of freedom."
   ]
  },
  {
   "cell_type": "markdown",
   "metadata": {
    "id": "6FlpZGqkjUNX"
   },
   "source": [
    "If both the population variances and the sample sizes are not equal then the Welch's test is used."
   ]
  },
  {
   "cell_type": "markdown",
   "metadata": {
    "id": "pdA-6L1tjUNX"
   },
   "source": [
    "### Example: \n",
    "\n",
    "#### 1. The teachers' association claims that the total score of the students who completed the test preparation course is different than the total score of the students who have not completed the course. The sample data consists of 15 students who completed the course and 18 students who have not completed the course. Test the association's claim with ⍺ = 0.05."
   ]
  },
  {
   "cell_type": "markdown",
   "metadata": {
    "id": "rDve_0ZzjUNY"
   },
   "source": [
    "Consider the total score of the students who have/ have not completed the preparation course are given in the CSV file `totalmarks_2ttest.csv`."
   ]
  },
  {
   "cell_type": "code",
   "execution_count": 151,
   "metadata": {
    "scrolled": true
   },
   "outputs": [
    {
     "data": {
      "text/html": [
       "<div>\n",
       "<style scoped>\n",
       "    .dataframe tbody tr th:only-of-type {\n",
       "        vertical-align: middle;\n",
       "    }\n",
       "\n",
       "    .dataframe tbody tr th {\n",
       "        vertical-align: top;\n",
       "    }\n",
       "\n",
       "    .dataframe thead th {\n",
       "        text-align: right;\n",
       "    }\n",
       "</style>\n",
       "<table border=\"1\" class=\"dataframe\">\n",
       "  <thead>\n",
       "    <tr style=\"text-align: right;\">\n",
       "      <th></th>\n",
       "      <th>gender</th>\n",
       "      <th>race/ethnicity</th>\n",
       "      <th>lunch</th>\n",
       "      <th>test preparation course</th>\n",
       "      <th>math score</th>\n",
       "      <th>reading score</th>\n",
       "      <th>writing score</th>\n",
       "      <th>total score</th>\n",
       "      <th>training institute</th>\n",
       "    </tr>\n",
       "  </thead>\n",
       "  <tbody>\n",
       "    <tr>\n",
       "      <th>0</th>\n",
       "      <td>male</td>\n",
       "      <td>group E</td>\n",
       "      <td>standard</td>\n",
       "      <td>completed</td>\n",
       "      <td>84</td>\n",
       "      <td>83</td>\n",
       "      <td>78</td>\n",
       "      <td>245</td>\n",
       "      <td>Speak Global Learning</td>\n",
       "    </tr>\n",
       "    <tr>\n",
       "      <th>1</th>\n",
       "      <td>male</td>\n",
       "      <td>group C</td>\n",
       "      <td>free/reduced</td>\n",
       "      <td>completed</td>\n",
       "      <td>79</td>\n",
       "      <td>77</td>\n",
       "      <td>75</td>\n",
       "      <td>231</td>\n",
       "      <td>Speak Global Learning</td>\n",
       "    </tr>\n",
       "    <tr>\n",
       "      <th>2</th>\n",
       "      <td>male</td>\n",
       "      <td>group A</td>\n",
       "      <td>standard</td>\n",
       "      <td>none</td>\n",
       "      <td>91</td>\n",
       "      <td>96</td>\n",
       "      <td>92</td>\n",
       "      <td>279</td>\n",
       "      <td>Nature Learning</td>\n",
       "    </tr>\n",
       "    <tr>\n",
       "      <th>3</th>\n",
       "      <td>female</td>\n",
       "      <td>group B</td>\n",
       "      <td>free/reduced</td>\n",
       "      <td>completed</td>\n",
       "      <td>76</td>\n",
       "      <td>94</td>\n",
       "      <td>87</td>\n",
       "      <td>257</td>\n",
       "      <td>Speak Global Learning</td>\n",
       "    </tr>\n",
       "    <tr>\n",
       "      <th>4</th>\n",
       "      <td>male</td>\n",
       "      <td>group A</td>\n",
       "      <td>standard</td>\n",
       "      <td>completed</td>\n",
       "      <td>46</td>\n",
       "      <td>41</td>\n",
       "      <td>43</td>\n",
       "      <td>130</td>\n",
       "      <td>Nature Learning</td>\n",
       "    </tr>\n",
       "  </tbody>\n",
       "</table>\n",
       "</div>"
      ],
      "text/plain": [
       "   gender race/ethnicity         lunch test preparation course  math score  \\\n",
       "0    male        group E      standard               completed          84   \n",
       "1    male        group C  free/reduced               completed          79   \n",
       "2    male        group A      standard                    none          91   \n",
       "3  female        group B  free/reduced               completed          76   \n",
       "4    male        group A      standard               completed          46   \n",
       "\n",
       "   reading score  writing score  total score     training institute  \n",
       "0             83             78          245  Speak Global Learning  \n",
       "1             77             75          231  Speak Global Learning  \n",
       "2             96             92          279        Nature Learning  \n",
       "3             94             87          257  Speak Global Learning  \n",
       "4             41             43          130        Nature Learning  "
      ]
     },
     "execution_count": 151,
     "metadata": {},
     "output_type": "execute_result"
    }
   ],
   "source": [
    "df = pd.read_csv('totalmarks_2ttest.csv')\n",
    "df.head()"
   ]
  },
  {
   "cell_type": "code",
   "execution_count": null,
   "metadata": {},
   "outputs": [],
   "source": [
    "# Ho : mu1 = mu2\n",
    "# Ha: mu1 != mu2"
   ]
  },
  {
   "cell_type": "code",
   "execution_count": 198,
   "metadata": {},
   "outputs": [],
   "source": [
    "df_comp = df[df['test preparation course'] == 'completed']['total score']"
   ]
  },
  {
   "cell_type": "code",
   "execution_count": 199,
   "metadata": {},
   "outputs": [
    {
     "data": {
      "text/plain": [
       "ShapiroResult(statistic=0.9131930470466614, pvalue=0.4577338695526123)"
      ]
     },
     "execution_count": 199,
     "metadata": {},
     "output_type": "execute_result"
    }
   ],
   "source": [
    "# hypothesis\n",
    "# Ho: data is normal\n",
    "# Ha : data is not normal\n",
    "stats.shapiro(df_comp)"
   ]
  },
  {
   "cell_type": "code",
   "execution_count": 200,
   "metadata": {},
   "outputs": [
    {
     "data": {
      "text/plain": [
       "True"
      ]
     },
     "execution_count": 200,
     "metadata": {},
     "output_type": "execute_result"
    }
   ],
   "source": [
    "0.11574020/2   >= 0.05 # df_ccomp is normal as pvalue is = 0.05"
   ]
  },
  {
   "cell_type": "code",
   "execution_count": 139,
   "metadata": {},
   "outputs": [],
   "source": [
    "df_not_comp = df[df['test preparation course'] == 'none']['total score']"
   ]
  },
  {
   "cell_type": "code",
   "execution_count": 147,
   "metadata": {},
   "outputs": [
    {
     "data": {
      "text/plain": [
       "ShapiroResult(statistic=0.948186457157135, pvalue=0.39728137850761414)"
      ]
     },
     "execution_count": 147,
     "metadata": {},
     "output_type": "execute_result"
    }
   ],
   "source": [
    "stats.shapiro(df_not_comp)"
   ]
  },
  {
   "cell_type": "code",
   "execution_count": 201,
   "metadata": {},
   "outputs": [
    {
     "data": {
      "text/plain": [
       "True"
      ]
     },
     "execution_count": 201,
     "metadata": {},
     "output_type": "execute_result"
    }
   ],
   "source": [
    "0.397281/2 >=  0.05   # df_not_comp is normal 2 "
   ]
  },
  {
   "cell_type": "code",
   "execution_count": 149,
   "metadata": {},
   "outputs": [
    {
     "data": {
      "text/plain": [
       "LeveneResult(statistic=0.045113770764648356, pvalue=0.8331854285659768)"
      ]
     },
     "execution_count": 149,
     "metadata": {},
     "output_type": "execute_result"
    }
   ],
   "source": [
    "# Ho : data has equal variance\n",
    "# Ha : data does not have equal variance\n",
    "\n",
    "stats.levene(df_comp,df_not_comp)"
   ]
  },
  {
   "cell_type": "code",
   "execution_count": 150,
   "metadata": {},
   "outputs": [
    {
     "data": {
      "text/plain": [
       "True"
      ]
     },
     "execution_count": 150,
     "metadata": {},
     "output_type": "execute_result"
    }
   ],
   "source": [
    "0.8331854285659768 >= 0.05  # hence the datas considered has equal variance as value of p > 0.05"
   ]
  },
  {
   "cell_type": "code",
   "execution_count": null,
   "metadata": {},
   "outputs": [],
   "source": [
    "# inbuilt function :\n",
    "# sybtax: stats.ttest_ind(sample_1,sample_2)"
   ]
  },
  {
   "cell_type": "code",
   "execution_count": 152,
   "metadata": {},
   "outputs": [
    {
     "data": {
      "text/plain": [
       "Ttest_indResult(statistic=1.4385323319823262, pvalue=0.16030339806989594)"
      ]
     },
     "execution_count": 152,
     "metadata": {},
     "output_type": "execute_result"
    }
   ],
   "source": [
    "stats.ttest_ind(df_comp,df_not_comp)"
   ]
  },
  {
   "cell_type": "code",
   "execution_count": null,
   "metadata": {},
   "outputs": [],
   "source": []
  },
  {
   "cell_type": "markdown",
   "metadata": {},
   "source": [
    "## Practice:\n",
    "\n",
    "1. The teachers' association claims that the total score of Speak Global Learning is greater than the total score of Nature Learning.  Test the association's claim with ⍺ = 0.05."
   ]
  },
  {
   "cell_type": "code",
   "execution_count": null,
   "metadata": {},
   "outputs": [],
   "source": [
    "# Hypothesis : Ho : mu1 >= mu2\n",
    "# Ha : mu1< mu2"
   ]
  },
  {
   "cell_type": "code",
   "execution_count": 157,
   "metadata": {},
   "outputs": [],
   "source": [
    "samp_1 = df[df['training institute'] == 'Speak Global Learning']['total score']\n",
    "samp_2 = df[df['training institute'] == 'Nature Learning']['total score']"
   ]
  },
  {
   "cell_type": "code",
   "execution_count": 158,
   "metadata": {},
   "outputs": [
    {
     "data": {
      "text/plain": [
       "ShapiroResult(statistic=0.940517246723175, pvalue=0.26940712332725525)"
      ]
     },
     "execution_count": 158,
     "metadata": {},
     "output_type": "execute_result"
    }
   ],
   "source": [
    "stats.shapiro(samp_1)"
   ]
  },
  {
   "cell_type": "code",
   "execution_count": null,
   "metadata": {},
   "outputs": [],
   "source": [
    "# shapiro : Ho : data is normal\n",
    "# Ha : data is not normal"
   ]
  },
  {
   "cell_type": "code",
   "execution_count": 159,
   "metadata": {},
   "outputs": [
    {
     "data": {
      "text/plain": [
       "ShapiroResult(statistic=0.960299015045166, pvalue=0.7280198335647583)"
      ]
     },
     "execution_count": 159,
     "metadata": {},
     "output_type": "execute_result"
    }
   ],
   "source": [
    "stats.shapiro(samp_2)"
   ]
  },
  {
   "cell_type": "code",
   "execution_count": 160,
   "metadata": {},
   "outputs": [
    {
     "data": {
      "text/plain": [
       "Ttest_indResult(statistic=0.9984458677537893, pvalue=0.32579344760218754)"
      ]
     },
     "execution_count": 160,
     "metadata": {},
     "output_type": "execute_result"
    }
   ],
   "source": [
    "stats.ttest_ind(samp_1,samp_2)"
   ]
  },
  {
   "cell_type": "code",
   "execution_count": 163,
   "metadata": {},
   "outputs": [],
   "source": [
    "p_val = 0.32579344760218754/2"
   ]
  },
  {
   "cell_type": "code",
   "execution_count": 164,
   "metadata": {},
   "outputs": [
    {
     "data": {
      "text/plain": [
       "False"
      ]
     },
     "execution_count": 164,
     "metadata": {},
     "output_type": "execute_result"
    }
   ],
   "source": [
    "p_val < 0.05   # hence we fail to reject the sample as p_val is > 0.05"
   ]
  },
  {
   "cell_type": "markdown",
   "metadata": {
    "id": "L0LxrVdxjUN9"
   },
   "source": [
    "<a id=\"paired\"></a>\n",
    "## 3.3 Paired t Test"
   ]
  },
  {
   "cell_type": "markdown",
   "metadata": {
    "id": "eRwOufQqjUN9"
   },
   "source": [
    "A paired t-test is used to compare the mean of the population for two dependent samples. The dependent samples can be the scores before and after a specific treatment. \n",
    "\n",
    "Let $X_{i}$ be the sample before the treatment and $Y_{i}$ be the sample after the treatment. Let $\\mu_{X}$, $\\mu_{Y}$ be the mean of the data X and Y respectively. The mean difference $\\mu_{d} = \\mu_{Y} - \\mu_{X}$.\n",
    "\n",
    "The null and alternative hypothesis is given as:\n",
    "\n",
    "<p style='text-indent:25em'> <strong> $H_{0}: \\mu_{d} = \\mu_{0}$ or $\\mu_{d} \\geq \\mu_{0}$ or $\\mu_{d} \\leq \\mu_{0}$</strong></p>\n",
    "<p style='text-indent:25em'> <strong> $H_{1}: \\mu_{d} \\neq \\mu_{0}$ or $\\mu_{d} < \\mu_{0}$ or $\\mu_{d} > \\mu_{0}$</strong></p>\n",
    "\n",
    "The test statistic for paired t-test is given as:\n",
    "<p style='text-indent:25em'> <strong> $t = \\frac{\\overline{X_{D}} - \\mu_{0}} {\\frac{s_{D}}{\\sqrt{n}}}$</strong></p>\n",
    "\n",
    "Where, <br>\n",
    "$\\overline{X_{D}}$: Mean difference between the pairs<br>\n",
    "$\\mu_{0}$: Mean difference given in the null hypothesis<br>\n",
    "$s_{D}$: Standard deviation of differences between the pairs<br>\n",
    "$n$: Sample size\n",
    "\n",
    "Under $H_{0}$, the test statistic follows a t-distribution with (n-1) degrees of freedom."
   ]
  },
  {
   "cell_type": "markdown",
   "metadata": {
    "id": "99MYxwsYjUN-"
   },
   "source": [
    "### Example:\n",
    "\n",
    "#### 1. A training institute wants to check if their writing training program was effective or not. 17 students are selected to check the hypothesis. Consider 0.05 as the level of significance.\n",
    "\n",
    "The writing scores before and after training are provided in the CSV file `WritingScores.csv`. "
   ]
  },
  {
   "cell_type": "code",
   "execution_count": 168,
   "metadata": {},
   "outputs": [
    {
     "data": {
      "text/html": [
       "<div>\n",
       "<style scoped>\n",
       "    .dataframe tbody tr th:only-of-type {\n",
       "        vertical-align: middle;\n",
       "    }\n",
       "\n",
       "    .dataframe tbody tr th {\n",
       "        vertical-align: top;\n",
       "    }\n",
       "\n",
       "    .dataframe thead th {\n",
       "        text-align: right;\n",
       "    }\n",
       "</style>\n",
       "<table border=\"1\" class=\"dataframe\">\n",
       "  <thead>\n",
       "    <tr style=\"text-align: right;\">\n",
       "      <th></th>\n",
       "      <th>score_before</th>\n",
       "      <th>score_after</th>\n",
       "    </tr>\n",
       "  </thead>\n",
       "  <tbody>\n",
       "    <tr>\n",
       "      <th>0</th>\n",
       "      <td>59</td>\n",
       "      <td>50</td>\n",
       "    </tr>\n",
       "    <tr>\n",
       "      <th>1</th>\n",
       "      <td>62</td>\n",
       "      <td>67</td>\n",
       "    </tr>\n",
       "    <tr>\n",
       "      <th>2</th>\n",
       "      <td>76</td>\n",
       "      <td>92</td>\n",
       "    </tr>\n",
       "    <tr>\n",
       "      <th>3</th>\n",
       "      <td>32</td>\n",
       "      <td>75</td>\n",
       "    </tr>\n",
       "    <tr>\n",
       "      <th>4</th>\n",
       "      <td>61</td>\n",
       "      <td>98</td>\n",
       "    </tr>\n",
       "  </tbody>\n",
       "</table>\n",
       "</div>"
      ],
      "text/plain": [
       "   score_before  score_after\n",
       "0            59           50\n",
       "1            62           67\n",
       "2            76           92\n",
       "3            32           75\n",
       "4            61           98"
      ]
     },
     "execution_count": 168,
     "metadata": {},
     "output_type": "execute_result"
    }
   ],
   "source": [
    "df = pd.read_csv('WritingScores.csv')\n",
    "df.head()"
   ]
  },
  {
   "cell_type": "code",
   "execution_count": null,
   "metadata": {},
   "outputs": [],
   "source": [
    "# mu1 = before\n",
    "# mu2 = after\n",
    "\n",
    "# Ho: mu2 >= mu1\n",
    "# Ha : mu2 < mu1"
   ]
  },
  {
   "cell_type": "code",
   "execution_count": null,
   "metadata": {},
   "outputs": [],
   "source": [
    "# inbuilt function\n",
    "# stats.ttest_rel(sample1,sample2)"
   ]
  },
  {
   "cell_type": "code",
   "execution_count": 170,
   "metadata": {},
   "outputs": [],
   "source": [
    "test_stat,p_val = stats.ttest_rel(df['score_before'],df['score_after'])"
   ]
  },
  {
   "cell_type": "code",
   "execution_count": 172,
   "metadata": {},
   "outputs": [],
   "source": [
    "p_val =  p_val/2"
   ]
  },
  {
   "cell_type": "code",
   "execution_count": 173,
   "metadata": {},
   "outputs": [
    {
     "data": {
      "text/plain": [
       "0.08464506448139923"
      ]
     },
     "execution_count": 173,
     "metadata": {},
     "output_type": "execute_result"
    }
   ],
   "source": [
    "p_val  # p_val is not less than o.o5 hence we fail to reject the hypothesis"
   ]
  },
  {
   "cell_type": "markdown",
   "metadata": {
    "id": "DZHZrGTxjUOS"
   },
   "source": [
    "#### 2. An energy drink distributor claims that a new advertisement poster, featuring a life-size picture of a well-known athlete, will increase the product sales in outlets by an average of 50 bottles in a week. For a random sample of 10 outlets, the following data was collected. Test that the null hypothesis that there the advertisement was effective in increasing sales. Test the hypothesis using critical region technique. Use α = 0.05.\n",
    "\n",
    "Given data:\n",
    "\n",
    "        sales_before = [33, 32, 38, 45, 37, 47, 48, 41, 45]\n",
    "        sales_after = [42, 35, 31, 41, 37, 36, 49, 49, 48]"
   ]
  },
  {
   "cell_type": "code",
   "execution_count": 174,
   "metadata": {},
   "outputs": [],
   "source": [
    "sales_before = [33, 32, 38, 45, 37, 47, 48, 41, 45]\n",
    "sales_after = [42, 35, 31, 41, 37, 36, 49, 49, 48]"
   ]
  },
  {
   "cell_type": "code",
   "execution_count": null,
   "metadata": {},
   "outputs": [],
   "source": [
    "# hypothesis Ho : mu1 >= mu2\n",
    "# Ha : mu1 < mu2"
   ]
  },
  {
   "cell_type": "code",
   "execution_count": 175,
   "metadata": {},
   "outputs": [],
   "source": [
    "test_stat,p_val = stats.ttest_rel(sales_before,sales_after)"
   ]
  },
  {
   "cell_type": "code",
   "execution_count": 176,
   "metadata": {},
   "outputs": [
    {
     "data": {
      "text/plain": [
       "0.46107385734626494"
      ]
     },
     "execution_count": 176,
     "metadata": {},
     "output_type": "execute_result"
    }
   ],
   "source": [
    "p_val/2"
   ]
  },
  {
   "cell_type": "code",
   "execution_count": 177,
   "metadata": {},
   "outputs": [
    {
     "data": {
      "text/plain": [
       "40.666666666666664"
      ]
     },
     "execution_count": 177,
     "metadata": {},
     "output_type": "execute_result"
    }
   ],
   "source": [
    "np.mean(sales_before)"
   ]
  },
  {
   "cell_type": "code",
   "execution_count": 178,
   "metadata": {},
   "outputs": [
    {
     "data": {
      "text/plain": [
       "40.888888888888886"
      ]
     },
     "execution_count": 178,
     "metadata": {},
     "output_type": "execute_result"
    }
   ],
   "source": [
    "np.mean(sales_after)"
   ]
  },
  {
   "cell_type": "markdown",
   "metadata": {
    "id": "Qnofe5hBjUOf"
   },
   "source": [
    "<a id=\"prop\"></a>\n",
    "# 4. Z Proportion Test"
   ]
  },
  {
   "cell_type": "markdown",
   "metadata": {
    "id": "z95224vGjUOf"
   },
   "source": [
    "<a id=\"1_p\"></a>\n",
    "## 4.1 One Sample Z Proportion Test"
   ]
  },
  {
   "cell_type": "markdown",
   "metadata": {
    "id": "4xvgUcCtjUOf"
   },
   "source": [
    "Perform one sample Z test for the population proportion. We compare the population proportion ($P$) with a specific value ($P_{0}$).\n",
    "\n",
    "The null and alternative hypothesis is given as:\n",
    "\n",
    "<p style='text-indent:25em'> <strong> $H_{0}: P = P_{0}$ or $P \\geq P_{0}$ or $P \\leq P_{0}$</strong></p>\n",
    "<p style='text-indent:25em'> <strong> $H_{1}: P \\neq P_{0}$ or $P < P_{0}$ or $P > P_{0}$</strong></p>"
   ]
  },
  {
   "cell_type": "markdown",
   "metadata": {
    "id": "CjLNMxSqjUOg"
   },
   "source": [
    "The test statistic for proportion Z-test is given as:\n",
    "<p style='text-indent:25em'> <strong> $Z = \\frac{p -  P_{0}}{\\sqrt{\\frac{P_{0}(1-P_{0})}{n}}}$</strong></p>\n",
    "\n",
    "Where, <br>\n",
    "$p$: Sample proportion<br>\n",
    "$n$: Sample size\n",
    "\n",
    "Under $H_{0}$, the test statistic follows a standard normal distribution."
   ]
  },
  {
   "cell_type": "markdown",
   "metadata": {
    "id": "BAsQHKx6jUOg"
   },
   "source": [
    "### Example:\n",
    "\n",
    "#### 1. In previous years, people believed that at most 80% of male students score more than 50 marks out of 100 in Mathematics. Perform a test to check whether this percentage is more than 80. Consider the level of significance as 0.05.\n",
    "\n",
    "Consider the sample of math scores of male students available in the CSV file `StudentsPerformance.csv`."
   ]
  },
  {
   "cell_type": "code",
   "execution_count": 3,
   "metadata": {},
   "outputs": [
    {
     "data": {
      "text/html": [
       "<div>\n",
       "<style scoped>\n",
       "    .dataframe tbody tr th:only-of-type {\n",
       "        vertical-align: middle;\n",
       "    }\n",
       "\n",
       "    .dataframe tbody tr th {\n",
       "        vertical-align: top;\n",
       "    }\n",
       "\n",
       "    .dataframe thead th {\n",
       "        text-align: right;\n",
       "    }\n",
       "</style>\n",
       "<table border=\"1\" class=\"dataframe\">\n",
       "  <thead>\n",
       "    <tr style=\"text-align: right;\">\n",
       "      <th></th>\n",
       "      <th>gender</th>\n",
       "      <th>race/ethnicity</th>\n",
       "      <th>lunch</th>\n",
       "      <th>test preparation course</th>\n",
       "      <th>math score</th>\n",
       "      <th>reading score</th>\n",
       "      <th>writing score</th>\n",
       "      <th>total score</th>\n",
       "      <th>training institute</th>\n",
       "    </tr>\n",
       "  </thead>\n",
       "  <tbody>\n",
       "    <tr>\n",
       "      <th>0</th>\n",
       "      <td>female</td>\n",
       "      <td>group B</td>\n",
       "      <td>standard</td>\n",
       "      <td>none</td>\n",
       "      <td>89</td>\n",
       "      <td>55</td>\n",
       "      <td>56</td>\n",
       "      <td>200</td>\n",
       "      <td>Nature Learning</td>\n",
       "    </tr>\n",
       "    <tr>\n",
       "      <th>1</th>\n",
       "      <td>female</td>\n",
       "      <td>group C</td>\n",
       "      <td>standard</td>\n",
       "      <td>completed</td>\n",
       "      <td>55</td>\n",
       "      <td>63</td>\n",
       "      <td>72</td>\n",
       "      <td>190</td>\n",
       "      <td>Nature Learning</td>\n",
       "    </tr>\n",
       "    <tr>\n",
       "      <th>2</th>\n",
       "      <td>female</td>\n",
       "      <td>group B</td>\n",
       "      <td>standard</td>\n",
       "      <td>none</td>\n",
       "      <td>64</td>\n",
       "      <td>71</td>\n",
       "      <td>56</td>\n",
       "      <td>191</td>\n",
       "      <td>Nature Learning</td>\n",
       "    </tr>\n",
       "    <tr>\n",
       "      <th>3</th>\n",
       "      <td>male</td>\n",
       "      <td>group A</td>\n",
       "      <td>free/reduced</td>\n",
       "      <td>none</td>\n",
       "      <td>60</td>\n",
       "      <td>99</td>\n",
       "      <td>72</td>\n",
       "      <td>231</td>\n",
       "      <td>Nature Learning</td>\n",
       "    </tr>\n",
       "    <tr>\n",
       "      <th>4</th>\n",
       "      <td>male</td>\n",
       "      <td>group C</td>\n",
       "      <td>standard</td>\n",
       "      <td>none</td>\n",
       "      <td>75</td>\n",
       "      <td>66</td>\n",
       "      <td>51</td>\n",
       "      <td>192</td>\n",
       "      <td>Nature Learning</td>\n",
       "    </tr>\n",
       "  </tbody>\n",
       "</table>\n",
       "</div>"
      ],
      "text/plain": [
       "   gender race/ethnicity         lunch test preparation course  math score  \\\n",
       "0  female        group B      standard                    none          89   \n",
       "1  female        group C      standard               completed          55   \n",
       "2  female        group B      standard                    none          64   \n",
       "3    male        group A  free/reduced                    none          60   \n",
       "4    male        group C      standard                    none          75   \n",
       "\n",
       "   reading score  writing score  total score training institute  \n",
       "0             55             56          200    Nature Learning  \n",
       "1             63             72          190    Nature Learning  \n",
       "2             71             56          191    Nature Learning  \n",
       "3             99             72          231    Nature Learning  \n",
       "4             66             51          192    Nature Learning  "
      ]
     },
     "execution_count": 3,
     "metadata": {},
     "output_type": "execute_result"
    }
   ],
   "source": [
    "df = pd.read_csv('StudentsPerformance.csv')\n",
    "df.head()"
   ]
  },
  {
   "cell_type": "code",
   "execution_count": 4,
   "metadata": {},
   "outputs": [
    {
     "data": {
      "text/html": [
       "<div>\n",
       "<style scoped>\n",
       "    .dataframe tbody tr th:only-of-type {\n",
       "        vertical-align: middle;\n",
       "    }\n",
       "\n",
       "    .dataframe tbody tr th {\n",
       "        vertical-align: top;\n",
       "    }\n",
       "\n",
       "    .dataframe thead th {\n",
       "        text-align: right;\n",
       "    }\n",
       "</style>\n",
       "<table border=\"1\" class=\"dataframe\">\n",
       "  <thead>\n",
       "    <tr style=\"text-align: right;\">\n",
       "      <th></th>\n",
       "      <th>gender</th>\n",
       "      <th>race/ethnicity</th>\n",
       "      <th>lunch</th>\n",
       "      <th>test preparation course</th>\n",
       "      <th>math score</th>\n",
       "      <th>reading score</th>\n",
       "      <th>writing score</th>\n",
       "      <th>total score</th>\n",
       "      <th>training institute</th>\n",
       "    </tr>\n",
       "  </thead>\n",
       "  <tbody>\n",
       "    <tr>\n",
       "      <th>3</th>\n",
       "      <td>male</td>\n",
       "      <td>group A</td>\n",
       "      <td>free/reduced</td>\n",
       "      <td>none</td>\n",
       "      <td>60</td>\n",
       "      <td>99</td>\n",
       "      <td>72</td>\n",
       "      <td>231</td>\n",
       "      <td>Nature Learning</td>\n",
       "    </tr>\n",
       "    <tr>\n",
       "      <th>4</th>\n",
       "      <td>male</td>\n",
       "      <td>group C</td>\n",
       "      <td>standard</td>\n",
       "      <td>none</td>\n",
       "      <td>75</td>\n",
       "      <td>66</td>\n",
       "      <td>51</td>\n",
       "      <td>192</td>\n",
       "      <td>Nature Learning</td>\n",
       "    </tr>\n",
       "    <tr>\n",
       "      <th>7</th>\n",
       "      <td>male</td>\n",
       "      <td>group B</td>\n",
       "      <td>free/reduced</td>\n",
       "      <td>none</td>\n",
       "      <td>74</td>\n",
       "      <td>49</td>\n",
       "      <td>77</td>\n",
       "      <td>200</td>\n",
       "      <td>Nature Learning</td>\n",
       "    </tr>\n",
       "    <tr>\n",
       "      <th>10</th>\n",
       "      <td>male</td>\n",
       "      <td>group C</td>\n",
       "      <td>standard</td>\n",
       "      <td>none</td>\n",
       "      <td>82</td>\n",
       "      <td>80</td>\n",
       "      <td>44</td>\n",
       "      <td>206</td>\n",
       "      <td>Nature Learning</td>\n",
       "    </tr>\n",
       "    <tr>\n",
       "      <th>11</th>\n",
       "      <td>male</td>\n",
       "      <td>group D</td>\n",
       "      <td>standard</td>\n",
       "      <td>none</td>\n",
       "      <td>58</td>\n",
       "      <td>89</td>\n",
       "      <td>66</td>\n",
       "      <td>213</td>\n",
       "      <td>Nature Learning</td>\n",
       "    </tr>\n",
       "  </tbody>\n",
       "</table>\n",
       "</div>"
      ],
      "text/plain": [
       "   gender race/ethnicity         lunch test preparation course  math score  \\\n",
       "3    male        group A  free/reduced                    none          60   \n",
       "4    male        group C      standard                    none          75   \n",
       "7    male        group B  free/reduced                    none          74   \n",
       "10   male        group C      standard                    none          82   \n",
       "11   male        group D      standard                    none          58   \n",
       "\n",
       "    reading score  writing score  total score training institute  \n",
       "3              99             72          231    Nature Learning  \n",
       "4              66             51          192    Nature Learning  \n",
       "7              49             77          200    Nature Learning  \n",
       "10             80             44          206    Nature Learning  \n",
       "11             89             66          213    Nature Learning  "
      ]
     },
     "execution_count": 4,
     "metadata": {},
     "output_type": "execute_result"
    }
   ],
   "source": [
    "# Data preparation\n",
    "mal_grt_50 = df[(df['gender']=='male')&(df['math score']>50)]\n",
    "mal_grt_50.head()"
   ]
  },
  {
   "cell_type": "code",
   "execution_count": 5,
   "metadata": {},
   "outputs": [
    {
     "name": "stdout",
     "output_type": "stream",
     "text": [
      "0.423\n"
     ]
    }
   ],
   "source": [
    "# P_samp\n",
    "\n",
    "p_sam = len(mal_grt_50)/len(df)\n",
    "print(p_sam)"
   ]
  },
  {
   "cell_type": "code",
   "execution_count": 6,
   "metadata": {},
   "outputs": [],
   "source": [
    "# No normality check"
   ]
  },
  {
   "cell_type": "code",
   "execution_count": 7,
   "metadata": {},
   "outputs": [],
   "source": [
    "# Assumption\n",
    "\n",
    "# 1) Sample is discrete"
   ]
  },
  {
   "cell_type": "code",
   "execution_count": 8,
   "metadata": {},
   "outputs": [],
   "source": [
    "# Hypothesis:\n",
    "\n",
    "# P_sam<p_pop\n",
    "\n",
    "# Ho:  p_pop >= 0.8\n",
    "# Ha : p_pop< 0.8"
   ]
  },
  {
   "cell_type": "code",
   "execution_count": 9,
   "metadata": {},
   "outputs": [],
   "source": [
    "# One sample z proportion - left tailed"
   ]
  },
  {
   "cell_type": "code",
   "execution_count": 10,
   "metadata": {},
   "outputs": [
    {
     "name": "stdout",
     "output_type": "stream",
     "text": [
      "-19.384363382633957\n"
     ]
    }
   ],
   "source": [
    "ps = len(mal_grt_50)/len(df)\n",
    "pp=0.8\n",
    "n = len(mal_grt_50)\n",
    "num = ps-pp\n",
    "den = np.sqrt((pp*(1-pp))/n)\n",
    "zstat = num/den\n",
    "print(zstat)"
   ]
  },
  {
   "cell_type": "code",
   "execution_count": 11,
   "metadata": {},
   "outputs": [
    {
     "name": "stdout",
     "output_type": "stream",
     "text": [
      "5.229558370616259e-84\n"
     ]
    }
   ],
   "source": [
    "# pval:\n",
    "pval = stats.norm.cdf(zstat)\n",
    "print(pval)"
   ]
  },
  {
   "cell_type": "code",
   "execution_count": 12,
   "metadata": {},
   "outputs": [
    {
     "name": "stdout",
     "output_type": "stream",
     "text": [
      "Ha is selected\n"
     ]
    }
   ],
   "source": [
    "sig_lvl= 0.05\n",
    "if pval<sig_lvl:\n",
    "    print('Ha is selected')\n",
    "else:\n",
    "    print('Ho is selected')"
   ]
  },
  {
   "cell_type": "code",
   "execution_count": 1,
   "metadata": {},
   "outputs": [],
   "source": [
    "# Pop proportion of male scoring greater than 50 is less than 80%"
   ]
  },
  {
   "cell_type": "markdown",
   "metadata": {},
   "source": [
    "\t\n",
    "### 2. The store manager claims that he received more 20% of defective plastic boxes in his previous order. Test the manager's claim using a critical value method. From a sample of 120 boxes, 42 were found to be defective. Test the claim with 90% confidence."
   ]
  },
  {
   "cell_type": "code",
   "execution_count": 13,
   "metadata": {},
   "outputs": [],
   "source": [
    "# The null and alternative hypothesis is:\n",
    "\n",
    "# H0:  𝑃≤0.2 \n",
    "# H1:  𝑃>0.2"
   ]
  },
  {
   "cell_type": "code",
   "execution_count": 16,
   "metadata": {},
   "outputs": [
    {
     "data": {
      "text/plain": [
       "1.2815515655446004"
      ]
     },
     "execution_count": 16,
     "metadata": {},
     "output_type": "execute_result"
    }
   ],
   "source": [
    "stats.norm.isf(0.1)"
   ]
  },
  {
   "cell_type": "code",
   "execution_count": 17,
   "metadata": {},
   "outputs": [
    {
     "name": "stdout",
     "output_type": "stream",
     "text": [
      "Test statistic: 4.107919181288744\n"
     ]
    }
   ],
   "source": [
    "# sample size\n",
    "n = 120\n",
    "\n",
    "# number of defective boxes in the sample\n",
    "x = 42\n",
    "\n",
    "# sample proportion\n",
    "p_samp = x / n\n",
    "\n",
    "# hypothesized proportion\n",
    "hypo_p = 0.2\n",
    "\n",
    "# calculate test statistic value for 1 sample proportion test\n",
    "z_prop = (p_samp - hypo_p) / np.sqrt((hypo_p * (1 - hypo_p)) / n)\n",
    "\n",
    "print('Test statistic:', z_prop)"
   ]
  },
  {
   "cell_type": "code",
   "execution_count": 18,
   "metadata": {},
   "outputs": [],
   "source": [
    "p_val = stats.norm.sf(z_prop)"
   ]
  },
  {
   "cell_type": "code",
   "execution_count": 19,
   "metadata": {},
   "outputs": [],
   "source": [
    "sig_level = 0.1"
   ]
  },
  {
   "cell_type": "code",
   "execution_count": 20,
   "metadata": {},
   "outputs": [
    {
     "data": {
      "text/plain": [
       "True"
      ]
     },
     "execution_count": 20,
     "metadata": {},
     "output_type": "execute_result"
    }
   ],
   "source": [
    "p_val <  sig_level"
   ]
  },
  {
   "cell_type": "code",
   "execution_count": 21,
   "metadata": {},
   "outputs": [],
   "source": [
    "# We reject the Null Hypothesis"
   ]
  },
  {
   "cell_type": "markdown",
   "metadata": {
    "id": "da2MCj6mjUOx"
   },
   "source": [
    "<a id=\"2_p\"></a>\n",
    "## 4.2 Two Sample Z proportion Test"
   ]
  },
  {
   "cell_type": "markdown",
   "metadata": {
    "id": "q88y4I7AjUOz"
   },
   "source": [
    "Perform two sample Z test for the population proportion. We check the equality of population proportions $P_{1}$ and $P_{2}$.\n",
    "\n",
    "The null and alternative hypothesis is given as:\n",
    "\n",
    "<p style='text-indent:25em'> <strong> $H_{0}: P_{1} - P_{2} = P_{0}$ or $P_{1} - P_{2} \\geq P_{0}$ or $P_{1} - P_{2} \\leq P_{0}$</strong></p>\n",
    "<p style='text-indent:25em'> <strong> $H_{1}: P_{1} - P_{2} \\neq P_{0}$ or $P_{1} - P_{2} < P_{0}$ or $P_{1} - P_{2} > P_{0}$</strong></p>"
   ]
  },
  {
   "cell_type": "markdown",
   "metadata": {
    "id": "5FLa5YnSjUOz"
   },
   "source": [
    "The test statistic for two sample proportion Z-test is given as:\n",
    "<p style='text-indent:25em'> <strong> $Z = \\frac{(p_{1} -  p_{2}) - P_{0}}{\\sqrt{\\bar{P}(1-\\bar{P})(\\frac{1}{n_{1}} + \\frac{1}{n_{2}})}}$   $\\hspace{2 cm} \\bar{P} = \\frac{n_{1}p_{1} + n_{2}p_{2}}{n_{1} + n_{2}}$ </strong></p>\n",
    "\n",
    "Where, <br>\n",
    "$p_{1}, p_{2}$: Samples proportions<br>\n",
    "$P_{0}$: Hypothesized proportion<br>\n",
    "$\\bar{P}$: Proportion of pooled sample<br>\n",
    "$n_{1}, n_{2}$: Samples sizes"
   ]
  },
  {
   "cell_type": "markdown",
   "metadata": {
    "id": "_Nnef7g_jUO0"
   },
   "source": [
    "### Example:\n",
    "\n",
    "#### 1. A team of nutritionists believes that each institute provides 'standard' lunch to an equal proportion of students. A sample of students from institutes <i>Nature Learning</i> and <i>Speak Global Learning</i> is given. Consider the null hypothesis as equality of proportion with 0.1 level of significance.\n",
    "\n",
    "Consider the sample data available in the CSV file `StudentsPerformance.csv`."
   ]
  },
  {
   "cell_type": "code",
   "execution_count": 43,
   "metadata": {},
   "outputs": [],
   "source": [
    "# type your code here"
   ]
  },
  {
   "cell_type": "code",
   "execution_count": 22,
   "metadata": {},
   "outputs": [
    {
     "data": {
      "text/html": [
       "<div>\n",
       "<style scoped>\n",
       "    .dataframe tbody tr th:only-of-type {\n",
       "        vertical-align: middle;\n",
       "    }\n",
       "\n",
       "    .dataframe tbody tr th {\n",
       "        vertical-align: top;\n",
       "    }\n",
       "\n",
       "    .dataframe thead th {\n",
       "        text-align: right;\n",
       "    }\n",
       "</style>\n",
       "<table border=\"1\" class=\"dataframe\">\n",
       "  <thead>\n",
       "    <tr style=\"text-align: right;\">\n",
       "      <th></th>\n",
       "      <th>gender</th>\n",
       "      <th>race/ethnicity</th>\n",
       "      <th>lunch</th>\n",
       "      <th>test preparation course</th>\n",
       "      <th>math score</th>\n",
       "      <th>reading score</th>\n",
       "      <th>writing score</th>\n",
       "      <th>total score</th>\n",
       "      <th>training institute</th>\n",
       "    </tr>\n",
       "  </thead>\n",
       "  <tbody>\n",
       "    <tr>\n",
       "      <th>0</th>\n",
       "      <td>female</td>\n",
       "      <td>group B</td>\n",
       "      <td>standard</td>\n",
       "      <td>none</td>\n",
       "      <td>89</td>\n",
       "      <td>55</td>\n",
       "      <td>56</td>\n",
       "      <td>200</td>\n",
       "      <td>Nature Learning</td>\n",
       "    </tr>\n",
       "    <tr>\n",
       "      <th>1</th>\n",
       "      <td>female</td>\n",
       "      <td>group C</td>\n",
       "      <td>standard</td>\n",
       "      <td>completed</td>\n",
       "      <td>55</td>\n",
       "      <td>63</td>\n",
       "      <td>72</td>\n",
       "      <td>190</td>\n",
       "      <td>Nature Learning</td>\n",
       "    </tr>\n",
       "    <tr>\n",
       "      <th>2</th>\n",
       "      <td>female</td>\n",
       "      <td>group B</td>\n",
       "      <td>standard</td>\n",
       "      <td>none</td>\n",
       "      <td>64</td>\n",
       "      <td>71</td>\n",
       "      <td>56</td>\n",
       "      <td>191</td>\n",
       "      <td>Nature Learning</td>\n",
       "    </tr>\n",
       "    <tr>\n",
       "      <th>3</th>\n",
       "      <td>male</td>\n",
       "      <td>group A</td>\n",
       "      <td>free/reduced</td>\n",
       "      <td>none</td>\n",
       "      <td>60</td>\n",
       "      <td>99</td>\n",
       "      <td>72</td>\n",
       "      <td>231</td>\n",
       "      <td>Nature Learning</td>\n",
       "    </tr>\n",
       "    <tr>\n",
       "      <th>4</th>\n",
       "      <td>male</td>\n",
       "      <td>group C</td>\n",
       "      <td>standard</td>\n",
       "      <td>none</td>\n",
       "      <td>75</td>\n",
       "      <td>66</td>\n",
       "      <td>51</td>\n",
       "      <td>192</td>\n",
       "      <td>Nature Learning</td>\n",
       "    </tr>\n",
       "  </tbody>\n",
       "</table>\n",
       "</div>"
      ],
      "text/plain": [
       "   gender race/ethnicity         lunch test preparation course  math score  \\\n",
       "0  female        group B      standard                    none          89   \n",
       "1  female        group C      standard               completed          55   \n",
       "2  female        group B      standard                    none          64   \n",
       "3    male        group A  free/reduced                    none          60   \n",
       "4    male        group C      standard                    none          75   \n",
       "\n",
       "   reading score  writing score  total score training institute  \n",
       "0             55             56          200    Nature Learning  \n",
       "1             63             72          190    Nature Learning  \n",
       "2             71             56          191    Nature Learning  \n",
       "3             99             72          231    Nature Learning  \n",
       "4             66             51          192    Nature Learning  "
      ]
     },
     "execution_count": 22,
     "metadata": {},
     "output_type": "execute_result"
    }
   ],
   "source": [
    "df=pd.read_csv('StudentsPerformance.csv')\n",
    "df.head()"
   ]
  },
  {
   "cell_type": "code",
   "execution_count": 23,
   "metadata": {},
   "outputs": [],
   "source": [
    "# Assumption\n",
    "# 1. Sample is discrete\n",
    "# 2. 2 sample\n",
    "# 2 sample z proportion"
   ]
  },
  {
   "cell_type": "code",
   "execution_count": 24,
   "metadata": {},
   "outputs": [],
   "source": [
    "# 1 - Nature Learning\n",
    "# 2 - Speak Global Learning\n",
    "\n",
    "# Ho : P1=P2\n",
    "# Ha : P1!=P2"
   ]
  },
  {
   "cell_type": "code",
   "execution_count": 25,
   "metadata": {},
   "outputs": [],
   "source": [
    "# Test - 2 sample z proportion two tailed"
   ]
  },
  {
   "cell_type": "code",
   "execution_count": 32,
   "metadata": {},
   "outputs": [
    {
     "name": "stdout",
     "output_type": "stream",
     "text": [
      "500 500\n"
     ]
    }
   ],
   "source": [
    "totat_nl = len(df[df['training institute']=='Nature Learning']) # NAture leanring count\n",
    "totat_sgl = len(df[df['training institute']=='Speak Global Learning']) # Speak Global Learning\n",
    "print(totat_nl,totat_sgl)"
   ]
  },
  {
   "cell_type": "code",
   "execution_count": 33,
   "metadata": {},
   "outputs": [
    {
     "name": "stdout",
     "output_type": "stream",
     "text": [
      "329 317\n"
     ]
    }
   ],
   "source": [
    "std_nl = len(df[(df['training institute']=='Nature Learning')&(df['lunch']=='standard')]) # Nature Learning standard lunc\n",
    "std_sgl = len(df[(df['training institute']=='Speak Global Learning')&(df['lunch']=='standard')]) # Speak Global Learning standard lunc\n",
    "print(std_nl,std_sgl)\n"
   ]
  },
  {
   "cell_type": "code",
   "execution_count": 31,
   "metadata": {},
   "outputs": [],
   "source": [
    "#proportion.proportions_ztest(count = success count ,nobs = total count)"
   ]
  },
  {
   "cell_type": "code",
   "execution_count": 38,
   "metadata": {},
   "outputs": [
    {
     "name": "stdout",
     "output_type": "stream",
     "text": [
      "0.7935300106078008 0.4274690915859791\n"
     ]
    }
   ],
   "source": [
    "# default - two sided probability\n",
    "\n",
    "zstat,twosid_pval = proportion.proportions_ztest(count = [std_nl,std_sgl], nobs =[totat_nl,totat_sgl])\n",
    "print(zstat,twosid_pval)"
   ]
  },
  {
   "cell_type": "code",
   "execution_count": 39,
   "metadata": {},
   "outputs": [
    {
     "name": "stdout",
     "output_type": "stream",
     "text": [
      "Ho is selected\n"
     ]
    }
   ],
   "source": [
    "sig_lvl= 0.1\n",
    "if twosid_pval<sig_lvl:\n",
    "    print('Ha is selected')\n",
    "else:\n",
    "    print('Ho is selected')"
   ]
  },
  {
   "cell_type": "code",
   "execution_count": 15,
   "metadata": {},
   "outputs": [],
   "source": [
    "# The proportion of standard lunch is equal to NL and SGL"
   ]
  },
  {
   "cell_type": "markdown",
   "metadata": {
    "colab_type": "text",
    "id": "6YXVLVi9f98b"
   },
   "source": [
    "<table align=\"left\">\n",
    "    <tr>\n",
    "        <td width=\"6%\">\n",
    "            <img src=\"question_icon.png\">\n",
    "        </td>\n",
    "        <td>\n",
    "            <div align=\"left\", style=\"font-size:120%\">\n",
    "                <font color=\"#21618C\">\n",
    "                        <b>2. The HR head of a company claims that the company supports the woman empowerment and the proportion of female employees is same in the New York and Oneonta branches. The women empowerment cell wants to check whether the proportion is different for the two branches. The sample of 150 employees is selected from New York branch out of which 53 are females and a sample of 170 employees is selected from Oneonta branch out of which 76 are females. Use the p-value technique with 95% confidence. </b>\n",
    "                </font>\n",
    "            </div>\n",
    "        </td>\n",
    "    </tr>\n",
    "</table>"
   ]
  },
  {
   "cell_type": "markdown",
   "metadata": {
    "id": "bgBeLslUwseZ"
   },
   "source": [
    "Let us consider the population proportion of females in New York branch be `P_1` and the population proportion of females in the Oneonta branch be `P_2`.   \n",
    "\n",
    "The null and alternative hypothesis is:\n",
    "\n",
    "H<sub>0</sub>: $P_{1} = P_{2}$<br>\n",
    "H<sub>1</sub>: $P_{1} \\neq P_{2}$ "
   ]
  },
  {
   "cell_type": "code",
   "execution_count": 42,
   "metadata": {
    "executionInfo": {
     "elapsed": 5596,
     "status": "aborted",
     "timestamp": 1616816339664,
     "user": {
      "displayName": "Mallikarjuna Doddamane",
      "photoUrl": "https://lh3.googleusercontent.com/a-/AOh14GjOdnL6KUzzQMPHfk6as2xRMsOSbJoBMF9oJSaK=s64",
      "userId": "11697854241316775674"
     },
     "user_tz": -330
    },
    "id": "XNVjBD6ywseZ"
   },
   "outputs": [
    {
     "name": "stdout",
     "output_type": "stream",
     "text": [
      "p-value: 0.08807228185564836\n"
     ]
    }
   ],
   "source": [
    "# number of employees selected from New York branch\n",
    "NY_emp = 150\n",
    "\n",
    "# number of employees selected from Oneonta branch\n",
    "One_emp = 170\n",
    "\n",
    "# number of female employees in New York branch sample\n",
    "NY_female = 53\n",
    "\n",
    "# number of female employees in Oneonta branch sample\n",
    "One_female = 76\n",
    "\n",
    "# calculate test statistic value for two sample proportion test\n",
    "# pass the number of females from both the branches to the parameter, 'count'\n",
    "# pass the size of both the samples to the parameter, 'nobs'\n",
    "# pass the two-tailed condition to the parameter, 'alternative'\n",
    "z_prop, p_val = sm.stats.proportions_ztest(count = np.array([NY_female, One_female]), \n",
    "                                             nobs = np.array([NY_emp, One_emp]),  \n",
    "                                             alternative = 'two-sided')\n",
    "\n",
    "# print the p-value\n",
    "print('p-value:', p_val)"
   ]
  },
  {
   "cell_type": "markdown",
   "metadata": {
    "colab_type": "text",
    "id": "3uPwVwgAf99s"
   },
   "source": [
    "<table align=\"left\">\n",
    "    <tr>\n",
    "        <td width=\"6%\">\n",
    "            <img src=\"question_icon.png\">\n",
    "        </td>\n",
    "        <td>\n",
    "            <div align=\"left\", style=\"font-size:120%\">\n",
    "                <font color=\"#21618C\">\n",
    "                    <b>3. The education department claims that the proportion of students failed in Mathematics is more than the proportion of students failed in English. To test the claim a sample of 200 students enrolled for Mathematics was considered out of which 73 students failed in the exam and a sample of 150 students enrolled for English was considered out of which 53 students failed in the exam. Use the critical value method to test the department's claim with 90% confidence. </b>\n",
    "                </font>\n",
    "            </div>\n",
    "        </td>\n",
    "    </tr>\n",
    "</table>"
   ]
  },
  {
   "cell_type": "markdown",
   "metadata": {
    "id": "aZX3IDPjwsea"
   },
   "source": [
    "Let us consider the population proportion of students failed in Mathematics be `P_1` and the population proportion of students failed in English be `P_2`.   \n",
    "\n",
    "The null and alternative hypothesis is:\n",
    "\n",
    "H<sub>0</sub>: $P_{1} \\leq P_{2}$<br>\n",
    "H<sub>1</sub>: $P_{1} > P_{2}$ "
   ]
  },
  {
   "cell_type": "markdown",
   "metadata": {
    "id": "xj6iu2skwsea"
   },
   "source": [
    "Here ⍺ = 0.1, for a one-tailed test calculate the critical z-value."
   ]
  },
  {
   "cell_type": "code",
   "execution_count": 43,
   "metadata": {
    "executionInfo": {
     "elapsed": 5589,
     "status": "aborted",
     "timestamp": 1616816339665,
     "user": {
      "displayName": "Mallikarjuna Doddamane",
      "photoUrl": "https://lh3.googleusercontent.com/a-/AOh14GjOdnL6KUzzQMPHfk6as2xRMsOSbJoBMF9oJSaK=s64",
      "userId": "11697854241316775674"
     },
     "user_tz": -330
    },
    "id": "E3-Wi-qKwsea"
   },
   "outputs": [
    {
     "name": "stdout",
     "output_type": "stream",
     "text": [
      "Critical value for one-tailed Z-test: 1.28\n"
     ]
    }
   ],
   "source": [
    "# calculate the z-value for 90% of confidence level\n",
    "# use 'stats.norm.isf()' to find the z-value corresponding to the upper tail probability 'q'\n",
    "# pass the value of 'alpha' to the parameter 'q', here alpha = 0.1\n",
    "# use 'round()' to round-off the value to 2 digits\n",
    "z_val = np.abs(round(stats.norm.isf(q = 0.1), 2))\n",
    "\n",
    "print('Critical value for one-tailed Z-test:', z_val)"
   ]
  },
  {
   "cell_type": "markdown",
   "metadata": {
    "id": "RsauM8Jrwseb"
   },
   "source": [
    "i.e. if z is greater than 1.28 then we reject the null hypothesis."
   ]
  },
  {
   "cell_type": "code",
   "execution_count": 44,
   "metadata": {
    "executionInfo": {
     "elapsed": 5583,
     "status": "aborted",
     "timestamp": 1616816339665,
     "user": {
      "displayName": "Mallikarjuna Doddamane",
      "photoUrl": "https://lh3.googleusercontent.com/a-/AOh14GjOdnL6KUzzQMPHfk6as2xRMsOSbJoBMF9oJSaK=s64",
      "userId": "11697854241316775674"
     },
     "user_tz": -330
    },
    "id": "O9jTQLJEwseb"
   },
   "outputs": [
    {
     "name": "stdout",
     "output_type": "stream",
     "text": [
      "Test statistic: 0.22502571869471721\n"
     ]
    }
   ],
   "source": [
    "# number of students enrolled for Mathematics\n",
    "n_math = 200\n",
    "\n",
    "# number of students enrolled for English\n",
    "n_eng = 150\n",
    "\n",
    "# number of students failed in Mathematics\n",
    "fail_math = 73\n",
    "\n",
    "# number of students failed in English\n",
    "fail_eng = 53\n",
    "\n",
    "# calculate test statistic value for two sample proportion test\n",
    "# pass the number of students failed in subjects to the parameter, 'count'\n",
    "# pass the size of both the samples to the parameter, 'nobs'\n",
    "# pass the one-tailed condition to the parameter, 'alternative'\n",
    "z_prop, p_val = sm.stats.proportions_ztest(count = np.array([fail_math, fail_eng]), \n",
    "                                             nobs = np.array([n_math, n_eng]),  \n",
    "                                             alternative = 'larger')\n",
    "\n",
    "# print the test statistic\n",
    "print('Test statistic:', z_prop)"
   ]
  },
  {
   "cell_type": "code",
   "execution_count": 45,
   "metadata": {},
   "outputs": [
    {
     "data": {
      "text/plain": [
       "0.41097963333926457"
      ]
     },
     "execution_count": 45,
     "metadata": {},
     "output_type": "execute_result"
    }
   ],
   "source": [
    "p_val"
   ]
  },
  {
   "cell_type": "code",
   "execution_count": 46,
   "metadata": {},
   "outputs": [],
   "source": [
    "z_prop, p_val = sm.stats.proportions_ztest(count = np.array([fail_math, fail_eng]), \n",
    "                                             nobs = np.array([n_math, n_eng]))"
   ]
  },
  {
   "cell_type": "code",
   "execution_count": 47,
   "metadata": {},
   "outputs": [
    {
     "data": {
      "text/plain": [
       "0.41097963333926457"
      ]
     },
     "execution_count": 47,
     "metadata": {},
     "output_type": "execute_result"
    }
   ],
   "source": [
    "p_val/2"
   ]
  },
  {
   "cell_type": "markdown",
   "metadata": {
    "id": "LUdtYaCIwseb"
   },
   "source": [
    "Here the test statistic is less than 1.28. Thus, we fail to reject (i.e. accept) the null hypothesis and conclude that the  proportion of students failed in Mathematics is not more than the proportion of students failed in English."
   ]
  },
  {
   "cell_type": "code",
   "execution_count": null,
   "metadata": {},
   "outputs": [],
   "source": []
  }
 ],
 "metadata": {
  "kernelspec": {
   "display_name": "Python 3 (ipykernel)",
   "language": "python",
   "name": "python3"
  },
  "language_info": {
   "codemirror_mode": {
    "name": "ipython",
    "version": 3
   },
   "file_extension": ".py",
   "mimetype": "text/x-python",
   "name": "python",
   "nbconvert_exporter": "python",
   "pygments_lexer": "ipython3",
   "version": "3.9.7"
  }
 },
 "nbformat": 4,
 "nbformat_minor": 2
}
