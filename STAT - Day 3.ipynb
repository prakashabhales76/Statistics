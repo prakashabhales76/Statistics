{
 "cells": [
  {
   "cell_type": "markdown",
   "metadata": {},
   "source": [
    "<a id=\"lib\"></a>\n",
    "# 1. Import Libraries"
   ]
  },
  {
   "cell_type": "markdown",
   "metadata": {},
   "source": [
    "**Let us import the required libraries.**"
   ]
  },
  {
   "cell_type": "code",
   "execution_count": 1,
   "metadata": {},
   "outputs": [],
   "source": [
    "# to suppress warnings \n",
    "from warnings import filterwarnings\n",
    "filterwarnings('ignore')"
   ]
  },
  {
   "cell_type": "code",
   "execution_count": 2,
   "metadata": {},
   "outputs": [],
   "source": [
    "# import 'pandas' \n",
    "import pandas as pd \n",
    "\n",
    "# import 'numpy' \n",
    "import numpy as np\n",
    "\n",
    "# show all data in csv\n",
    "pd.options.display.max_columns-100\n",
    "\n",
    "# import subpackage of matplotlib\n",
    "import matplotlib.pyplot as plt\n",
    "\n",
    "# import 'seaborn'\n",
    "import seaborn as sns\n",
    "\n",
    "\n",
    "# import 'random' to generate random sample\n",
    "import random\n",
    "\n",
    "# import statistics to perform statistical computation  \n",
    "import statistics\n",
    "\n",
    "# import 'stats' package from scipy library\n",
    "from scipy import stats\n",
    "\n",
    "# import a library to perform Z-test\n",
    "from statsmodels.stats import weightstats as stests\n",
    "\n",
    "# to test the normality \n",
    "from scipy.stats import shapiro\n",
    "\n",
    "# import the function to calculate the power of test\n",
    "from statsmodels.stats import power\n",
    "\n",
    "from statsmodels.stats.proportion import proportions_ztest"
   ]
  },
  {
   "cell_type": "markdown",
   "metadata": {
    "id": "1FHZAY-0jUMv"
   },
   "source": [
    "<a id=\"t\"></a>\n",
    "# 3. t Test"
   ]
  },
  {
   "cell_type": "markdown",
   "metadata": {
    "id": "NI4skzgvjUMw"
   },
   "source": [
    "<a id=\"1t\"></a>\n",
    "## 3.1 One Sample t Test"
   ]
  },
  {
   "cell_type": "markdown",
   "metadata": {
    "id": "-Sblu4a_jUMw"
   },
   "source": [
    "Let us perform a one sample t-test for the population mean. We compare the population mean with a specific value. \n",
    "\n",
    "The null and alternative hypothesis is given as:\n",
    "\n",
    "<p style='text-indent:25em'> <strong> $H_{0}: \\mu = \\mu_{0}$ or $\\mu \\geq \\mu_{0}$ or $\\mu \\leq \\mu_{0}$</strong></p>\n",
    "<p style='text-indent:25em'> <strong> $H_{1}: \\mu \\neq \\mu_{0}$ or $\\mu < \\mu_{0}$ or $\\mu > \\mu_{0}$</strong></p>"
   ]
  },
  {
   "cell_type": "markdown",
   "metadata": {
    "id": "q9CRXHIkjUMx"
   },
   "source": [
    "The test statistic is given as:\n",
    "<p style='text-indent:25em'> <strong> $t = \\frac{\\overline{X} -  \\mu_{0}}{\\frac{s}{\\sqrt(n)}}$</strong></p>\n",
    "\n",
    "Where, <br>\n",
    "$\\overline{X}$: Sample mean<br>\n",
    "$s$: Sample standard deviation<br>\n",
    "$n$: Sample size\n",
    " \n",
    "Under $H_{0}$ the test statistic follows a t-distribution with n-1 degrees of freedom."
   ]
  },
  {
   "cell_type": "markdown",
   "metadata": {
    "id": "5BunXsmKjUMx"
   },
   "source": [
    "\n",
    "#### 1. A survey claims that in a math test female students tend to score marks greater than 75. Consider a sample of 24 female students and perform a hypothesis test to check the claim with 90% confidence.\n",
    "\n",
    "Use the dataset available in the CSV file `mathscore_1ttest.csv`."
   ]
  },
  {
   "cell_type": "code",
   "execution_count": 3,
   "metadata": {
    "scrolled": true
   },
   "outputs": [
    {
     "data": {
      "text/html": [
       "<div>\n",
       "<style scoped>\n",
       "    .dataframe tbody tr th:only-of-type {\n",
       "        vertical-align: middle;\n",
       "    }\n",
       "\n",
       "    .dataframe tbody tr th {\n",
       "        vertical-align: top;\n",
       "    }\n",
       "\n",
       "    .dataframe thead th {\n",
       "        text-align: right;\n",
       "    }\n",
       "</style>\n",
       "<table border=\"1\" class=\"dataframe\">\n",
       "  <thead>\n",
       "    <tr style=\"text-align: right;\">\n",
       "      <th></th>\n",
       "      <th>gender</th>\n",
       "      <th>race/ethnicity</th>\n",
       "      <th>lunch</th>\n",
       "      <th>test preparation course</th>\n",
       "      <th>math score</th>\n",
       "      <th>reading score</th>\n",
       "      <th>writing score</th>\n",
       "      <th>total score</th>\n",
       "      <th>training institute</th>\n",
       "    </tr>\n",
       "  </thead>\n",
       "  <tbody>\n",
       "    <tr>\n",
       "      <th>0</th>\n",
       "      <td>female</td>\n",
       "      <td>group C</td>\n",
       "      <td>standard</td>\n",
       "      <td>none</td>\n",
       "      <td>60</td>\n",
       "      <td>72</td>\n",
       "      <td>74</td>\n",
       "      <td>206</td>\n",
       "      <td>Nature Learning</td>\n",
       "    </tr>\n",
       "    <tr>\n",
       "      <th>1</th>\n",
       "      <td>female</td>\n",
       "      <td>group C</td>\n",
       "      <td>standard</td>\n",
       "      <td>none</td>\n",
       "      <td>59</td>\n",
       "      <td>72</td>\n",
       "      <td>68</td>\n",
       "      <td>199</td>\n",
       "      <td>Nature Learning</td>\n",
       "    </tr>\n",
       "    <tr>\n",
       "      <th>2</th>\n",
       "      <td>female</td>\n",
       "      <td>group E</td>\n",
       "      <td>standard</td>\n",
       "      <td>none</td>\n",
       "      <td>100</td>\n",
       "      <td>100</td>\n",
       "      <td>100</td>\n",
       "      <td>300</td>\n",
       "      <td>Speak Global Learning</td>\n",
       "    </tr>\n",
       "    <tr>\n",
       "      <th>3</th>\n",
       "      <td>female</td>\n",
       "      <td>group D</td>\n",
       "      <td>standard</td>\n",
       "      <td>none</td>\n",
       "      <td>69</td>\n",
       "      <td>74</td>\n",
       "      <td>74</td>\n",
       "      <td>217</td>\n",
       "      <td>Speak Global Learning</td>\n",
       "    </tr>\n",
       "    <tr>\n",
       "      <th>4</th>\n",
       "      <td>female</td>\n",
       "      <td>group A</td>\n",
       "      <td>free/reduced</td>\n",
       "      <td>none</td>\n",
       "      <td>47</td>\n",
       "      <td>59</td>\n",
       "      <td>50</td>\n",
       "      <td>156</td>\n",
       "      <td>Speak Global Learning</td>\n",
       "    </tr>\n",
       "  </tbody>\n",
       "</table>\n",
       "</div>"
      ],
      "text/plain": [
       "   gender race/ethnicity         lunch test preparation course  math score  \\\n",
       "0  female        group C      standard                    none          60   \n",
       "1  female        group C      standard                    none          59   \n",
       "2  female        group E      standard                    none         100   \n",
       "3  female        group D      standard                    none          69   \n",
       "4  female        group A  free/reduced                    none          47   \n",
       "\n",
       "   reading score  writing score  total score     training institute  \n",
       "0             72             74          206        Nature Learning  \n",
       "1             72             68          199        Nature Learning  \n",
       "2            100            100          300  Speak Global Learning  \n",
       "3             74             74          217  Speak Global Learning  \n",
       "4             59             50          156  Speak Global Learning  "
      ]
     },
     "execution_count": 3,
     "metadata": {},
     "output_type": "execute_result"
    }
   ],
   "source": [
    "df = pd.read_csv('mathscore_1ttest.csv')\n",
    "df.head()"
   ]
  },
  {
   "cell_type": "markdown",
   "metadata": {},
   "source": [
    "test of normality - shapiro\n",
    "h0:data is normal\n",
    "ha:data is not normal"
   ]
  },
  {
   "cell_type": "code",
   "execution_count": 4,
   "metadata": {},
   "outputs": [],
   "source": [
    "female_math=df['math score']"
   ]
  },
  {
   "cell_type": "code",
   "execution_count": 5,
   "metadata": {},
   "outputs": [
    {
     "data": {
      "text/plain": [
       "ShapiroResult(statistic=0.9368310570716858, pvalue=0.13859796524047852)"
      ]
     },
     "execution_count": 5,
     "metadata": {},
     "output_type": "execute_result"
    }
   ],
   "source": [
    "stats.shapiro(female_math)"
   ]
  },
  {
   "cell_type": "raw",
   "metadata": {},
   "source": [
    "data is normal \n",
    "pop std dev is not known\n",
    "one sample t test\n",
    "one tail right tail"
   ]
  },
  {
   "cell_type": "markdown",
   "metadata": {},
   "source": [
    "h0:mu<=75\n",
    "ha:mu>75"
   ]
  },
  {
   "cell_type": "code",
   "execution_count": 7,
   "metadata": {},
   "outputs": [
    {
     "data": {
      "text/plain": [
       "11.357740263313339"
      ]
     },
     "execution_count": 7,
     "metadata": {},
     "output_type": "execute_result"
    }
   ],
   "source": [
    "mu=75\n",
    "xbar=np.mean(female_math)\n",
    "s=np.std(female_math)#,ddof=1)# ddof means Digree of Freedom\n",
    "n=24\n",
    "s"
   ]
  },
  {
   "cell_type": "code",
   "execution_count": null,
   "metadata": {},
   "outputs": [],
   "source": [
    "female_math.std()"
   ]
  },
  {
   "cell_type": "code",
   "execution_count": 8,
   "metadata": {},
   "outputs": [
    {
     "data": {
      "text/plain": [
       "-3.6843112100134086"
      ]
     },
     "execution_count": 8,
     "metadata": {},
     "output_type": "execute_result"
    }
   ],
   "source": [
    "tstat=(xbar-mu)/(s/(n**0.5))\n",
    "tstat"
   ]
  },
  {
   "cell_type": "code",
   "execution_count": 9,
   "metadata": {
    "scrolled": true
   },
   "outputs": [
    {
     "data": {
      "text/plain": [
       "0.9993861124656039"
      ]
     },
     "execution_count": 9,
     "metadata": {},
     "output_type": "execute_result"
    }
   ],
   "source": [
    "pval=stats.t.sf(tstat,df=n-1)\n",
    "pval"
   ]
  },
  {
   "cell_type": "raw",
   "metadata": {},
   "source": [
    "pval =.99\n",
    "sigma value=0.1\n",
    "pval>sig lavel\n",
    "fail to reject H0\n",
    "mu<=75"
   ]
  },
  {
   "cell_type": "code",
   "execution_count": 10,
   "metadata": {},
   "outputs": [
    {
     "data": {
      "text/plain": [
       "TtestResult(statistic=-3.6067380757023204, pvalue=0.9992573386042322, df=23)"
      ]
     },
     "execution_count": 10,
     "metadata": {},
     "output_type": "execute_result"
    }
   ],
   "source": [
    "stats.ttest_1samp(female_math,popmean=75,alternative='greater')   # n24 -1 23 the na value"
   ]
  },
  {
   "cell_type": "markdown",
   "metadata": {
    "id": "JtUrRwbwjUNN"
   },
   "source": [
    "#### 2. A researcher is studying the growth of bacteria in waters of Lake Beach. The mean bacteria count of 100 per unit volume of water is within the safety level. The researcher collected 10 water samples of unit volume and found the mean bacteria count to be 94.8 with a sample variance of 72.66. Does the data indicate that the bacteria count is within the safety level? Test at the α = .05 level. Assume that the measurements constitute a sample from a normal population."
   ]
  },
  {
   "cell_type": "raw",
   "metadata": {},
   "source": [
    "# Hypothesis\n",
    "h0:mu>=100\n",
    "ha:mu<100"
   ]
  },
  {
   "cell_type": "code",
   "execution_count": null,
   "metadata": {},
   "outputs": [],
   "source": [
    "# Data is normal\n",
    "# pop std is not known\n",
    "# one sample t test(left tailed)"
   ]
  },
  {
   "cell_type": "code",
   "execution_count": 11,
   "metadata": {},
   "outputs": [],
   "source": [
    "mu=100\n",
    "n=10\n",
    "xbar=94.8\n",
    "s=np.sqrt(72.66)"
   ]
  },
  {
   "cell_type": "code",
   "execution_count": 12,
   "metadata": {},
   "outputs": [
    {
     "data": {
      "text/plain": [
       "-1.9291040236750068"
      ]
     },
     "execution_count": 12,
     "metadata": {},
     "output_type": "execute_result"
    }
   ],
   "source": [
    "tstat=(xbar-mu)/(s/(n**0.5))\n",
    "tstat"
   ]
  },
  {
   "cell_type": "code",
   "execution_count": 13,
   "metadata": {},
   "outputs": [
    {
     "data": {
      "text/plain": [
       "0.04289782134327503"
      ]
     },
     "execution_count": 13,
     "metadata": {},
     "output_type": "execute_result"
    }
   ],
   "source": [
    "pval=stats.t.cdf(tstat,df=n-1)\n",
    "pval"
   ]
  },
  {
   "cell_type": "raw",
   "metadata": {},
   "source": [
    "pval==.04\n",
    "sigma lave0.05\n",
    "pval<sig lavel\n",
    "Reject H0\n",
    "ha:mu<1000"
   ]
  },
  {
   "cell_type": "code",
   "execution_count": null,
   "metadata": {},
   "outputs": [],
   "source": []
  },
  {
   "cell_type": "code",
   "execution_count": null,
   "metadata": {},
   "outputs": [],
   "source": []
  },
  {
   "cell_type": "code",
   "execution_count": null,
   "metadata": {},
   "outputs": [],
   "source": []
  },
  {
   "cell_type": "markdown",
   "metadata": {
    "id": "xB0iAEpyjUNV"
   },
   "source": [
    "<a id=\"2t\"></a>\n",
    "## 3.2 Two Sample t Test (Unpaired)"
   ]
  },
  {
   "cell_type": "markdown",
   "metadata": {
    "id": "T0GSiOeFjUNV"
   },
   "source": [
    "The two sample t-test is used to compare the means of two independent populations. This test assumes that the populations are normally distributed from which the samples are taken.\n",
    "\n",
    "The null and alternative hypothesis is given as:\n",
    "<p style='text-indent:25em'> <strong> $H_{0}: \\mu_{1} - \\mu_{2} = \\mu_{0}$ or $\\mu_{1} - \\mu_{2} \\geq \\mu_{0}$ or $\\mu_{1} -\\mu_{2} \\leq \\mu_{0}$</strong></p>\n",
    "<p style='text-indent:25em'> <strong> $H_{1}: \\mu_{1} - \\mu_{2} \\neq \\mu_{0} $ or $\\mu_{1} - \\mu_{2} < \\mu_{0}$ or $\\mu_{1} -\\mu_{2} > \\mu_{0}$</strong></p>"
   ]
  },
  {
   "cell_type": "markdown",
   "metadata": {
    "id": "Ydl-oa6djUNV"
   },
   "source": [
    "Let us take a sample of size ($n_{1}$) from the first population and sample of size ($n_{2}$) from a second independent population. If both $n_{1}$ and $n_{2}$ are less than 30 and standard deviation of populations are unknown. We use two-sample t-test.\n",
    "\n",
    "Consider the equal variance for both the populations. The test statistic for two sample t-test is given as:\n",
    "<p style='text-indent:25em'> <strong> $t = \\frac{(\\overline{X_{1}} - \\overline{X_{2}}) - \\mu_{0}} {s \\sqrt{\\frac{1}{n_{1}} + \\frac{1}{n_{2}}}}$</strong></p>\n",
    "\n",
    "Where, <br>\n",
    "$\\overline{X_{1}}$, $\\overline{X_{2}}$: Mean of both the samples<br>\n",
    "$\\mu_{0}$: Mean difference given in the null hypothesis<br>\n",
    "$s$: Pooled standard deviation<br>\n",
    "$n_{1}, n_{2}$: Size of samples from both the populations\n",
    "\n",
    "The pooled standard deviation is defined as:\n",
    "$s = \\sqrt{\\frac{(n_{1} - 1)s_{1}^{2} + (n_{2} - 1)s_{2}^{2}}{n_{1} + n_{2} - 2}}$ $\\hspace{2cm}$  Where, $s_{1}, s_{2}$: Standard deviation of both the samples\n",
    "\n",
    "Under $H_{0}$, the test statistic follows a t-distribution with $(n_{1}+n_{2}-2)$ degrees of freedom."
   ]
  },
  {
   "cell_type": "markdown",
   "metadata": {
    "id": "ugMmycEPjUNW"
   },
   "source": [
    "If the population variances are equal and also the sample size is the same for both the samples then the test statistic is given as:\n",
    "<p style='text-indent:25em'> <strong> $t = \\frac{(\\overline{X_{1}} - \\overline{X_{2}}) - \\mu_{0}} {s \\sqrt{\\frac{2}{n}}}$</strong></p>\n",
    "\n",
    "Where the pooled standard deviation $s = \\sqrt{\\frac{s_{1}^{2} + s_{2}^{2}}{2}}$\n",
    "\n",
    "Under $H_{0}$, the test statistic follows a t-distribution with $(2n-2)$ degrees of freedom."
   ]
  },
  {
   "cell_type": "markdown",
   "metadata": {
    "id": "6FlpZGqkjUNX"
   },
   "source": [
    "If both the population variances and the sample sizes are not equal then the Welch's test is used."
   ]
  },
  {
   "cell_type": "markdown",
   "metadata": {
    "id": "pdA-6L1tjUNX"
   },
   "source": [
    "### Example: \n",
    "\n",
    "#### 1. The teachers' association claims that the total score of the students who completed the test preparation course is different than the total score of the students who have not completed the course. The sample data consists of 15 students who completed the course and 18 students who have not completed the course. Test the association's claim with ⍺ = 0.05."
   ]
  },
  {
   "cell_type": "markdown",
   "metadata": {
    "id": "rDve_0ZzjUNY"
   },
   "source": [
    "Consider the total score of the students who have/ have not completed the preparation course are given in the CSV file `totalmarks_2ttest.csv`."
   ]
  },
  {
   "cell_type": "code",
   "execution_count": 14,
   "metadata": {},
   "outputs": [
    {
     "data": {
      "text/html": [
       "<div>\n",
       "<style scoped>\n",
       "    .dataframe tbody tr th:only-of-type {\n",
       "        vertical-align: middle;\n",
       "    }\n",
       "\n",
       "    .dataframe tbody tr th {\n",
       "        vertical-align: top;\n",
       "    }\n",
       "\n",
       "    .dataframe thead th {\n",
       "        text-align: right;\n",
       "    }\n",
       "</style>\n",
       "<table border=\"1\" class=\"dataframe\">\n",
       "  <thead>\n",
       "    <tr style=\"text-align: right;\">\n",
       "      <th></th>\n",
       "      <th>gender</th>\n",
       "      <th>race/ethnicity</th>\n",
       "      <th>lunch</th>\n",
       "      <th>test preparation course</th>\n",
       "      <th>math score</th>\n",
       "      <th>reading score</th>\n",
       "      <th>writing score</th>\n",
       "      <th>total score</th>\n",
       "      <th>training institute</th>\n",
       "    </tr>\n",
       "  </thead>\n",
       "  <tbody>\n",
       "    <tr>\n",
       "      <th>0</th>\n",
       "      <td>male</td>\n",
       "      <td>group E</td>\n",
       "      <td>standard</td>\n",
       "      <td>completed</td>\n",
       "      <td>84</td>\n",
       "      <td>83</td>\n",
       "      <td>78</td>\n",
       "      <td>245</td>\n",
       "      <td>Speak Global Learning</td>\n",
       "    </tr>\n",
       "    <tr>\n",
       "      <th>1</th>\n",
       "      <td>male</td>\n",
       "      <td>group C</td>\n",
       "      <td>free/reduced</td>\n",
       "      <td>completed</td>\n",
       "      <td>79</td>\n",
       "      <td>77</td>\n",
       "      <td>75</td>\n",
       "      <td>231</td>\n",
       "      <td>Speak Global Learning</td>\n",
       "    </tr>\n",
       "    <tr>\n",
       "      <th>2</th>\n",
       "      <td>male</td>\n",
       "      <td>group A</td>\n",
       "      <td>standard</td>\n",
       "      <td>none</td>\n",
       "      <td>91</td>\n",
       "      <td>96</td>\n",
       "      <td>92</td>\n",
       "      <td>279</td>\n",
       "      <td>Nature Learning</td>\n",
       "    </tr>\n",
       "    <tr>\n",
       "      <th>3</th>\n",
       "      <td>female</td>\n",
       "      <td>group B</td>\n",
       "      <td>free/reduced</td>\n",
       "      <td>completed</td>\n",
       "      <td>76</td>\n",
       "      <td>94</td>\n",
       "      <td>87</td>\n",
       "      <td>257</td>\n",
       "      <td>Speak Global Learning</td>\n",
       "    </tr>\n",
       "    <tr>\n",
       "      <th>4</th>\n",
       "      <td>male</td>\n",
       "      <td>group A</td>\n",
       "      <td>standard</td>\n",
       "      <td>completed</td>\n",
       "      <td>46</td>\n",
       "      <td>41</td>\n",
       "      <td>43</td>\n",
       "      <td>130</td>\n",
       "      <td>Nature Learning</td>\n",
       "    </tr>\n",
       "  </tbody>\n",
       "</table>\n",
       "</div>"
      ],
      "text/plain": [
       "   gender race/ethnicity         lunch test preparation course  math score  \\\n",
       "0    male        group E      standard               completed          84   \n",
       "1    male        group C  free/reduced               completed          79   \n",
       "2    male        group A      standard                    none          91   \n",
       "3  female        group B  free/reduced               completed          76   \n",
       "4    male        group A      standard               completed          46   \n",
       "\n",
       "   reading score  writing score  total score     training institute  \n",
       "0             83             78          245  Speak Global Learning  \n",
       "1             77             75          231  Speak Global Learning  \n",
       "2             96             92          279        Nature Learning  \n",
       "3             94             87          257  Speak Global Learning  \n",
       "4             41             43          130        Nature Learning  "
      ]
     },
     "execution_count": 14,
     "metadata": {},
     "output_type": "execute_result"
    }
   ],
   "source": [
    "df = pd.read_csv('totalmarks_2ttest.csv')\n",
    "df.head()"
   ]
  },
  {
   "cell_type": "code",
   "execution_count": 15,
   "metadata": {},
   "outputs": [
    {
     "data": {
      "text/plain": [
       "array(['completed', 'none'], dtype=object)"
      ]
     },
     "execution_count": 15,
     "metadata": {},
     "output_type": "execute_result"
    }
   ],
   "source": [
    "df['test preparation course'].unique()"
   ]
  },
  {
   "cell_type": "code",
   "execution_count": null,
   "metadata": {},
   "outputs": [],
   "source": []
  },
  {
   "cell_type": "code",
   "execution_count": null,
   "metadata": {},
   "outputs": [],
   "source": [
    "# Test of Normality - Shapiro  test  # unpaired qution\n",
    "# Ho: skew=0 (normal)\n",
    "# Ha : skew!=0 (not normal)"
   ]
  },
  {
   "cell_type": "code",
   "execution_count": 16,
   "metadata": {},
   "outputs": [],
   "source": [
    "completed =df[df['test preparation course']=='completed']['total score']\n",
    "notcompleted =df[df['test preparation course']=='none']['total score']"
   ]
  },
  {
   "cell_type": "code",
   "execution_count": 17,
   "metadata": {},
   "outputs": [
    {
     "data": {
      "text/plain": [
       "ShapiroResult(statistic=0.9055536389350891, pvalue=0.11574102193117142)"
      ]
     },
     "execution_count": 17,
     "metadata": {},
     "output_type": "execute_result"
    }
   ],
   "source": [
    "stats.shapiro(completed)"
   ]
  },
  {
   "cell_type": "code",
   "execution_count": null,
   "metadata": {},
   "outputs": [],
   "source": [
    "# completed data is normal"
   ]
  },
  {
   "cell_type": "code",
   "execution_count": null,
   "metadata": {},
   "outputs": [],
   "source": [
    "# pval =0.11\n",
    "# sig lvl = 0.05\n",
    "# pval> sig lvl . Ho is selected\n",
    "# skew = 0 (Data is normal)"
   ]
  },
  {
   "cell_type": "code",
   "execution_count": 18,
   "metadata": {},
   "outputs": [
    {
     "data": {
      "text/plain": [
       "ShapiroResult(statistic=0.9481862187385559, pvalue=0.3972780704498291)"
      ]
     },
     "execution_count": 18,
     "metadata": {},
     "output_type": "execute_result"
    }
   ],
   "source": [
    "stats.shapiro(notcompleted)   # not completed is also "
   ]
  },
  {
   "cell_type": "code",
   "execution_count": null,
   "metadata": {},
   "outputs": [],
   "source": [
    "# pval =0.11\n",
    "# sig lvl = 0.05\n",
    "# pval> sig lvl . Ho is selected\n",
    "# skew = 0 (Data is normal)"
   ]
  },
  {
   "cell_type": "code",
   "execution_count": null,
   "metadata": {},
   "outputs": [],
   "source": []
  },
  {
   "cell_type": "code",
   "execution_count": null,
   "metadata": {},
   "outputs": [],
   "source": [
    "# Hypothesis:\n",
    "h0:Average of completed=Average is notcompleted\n",
    "ha:Average of completed !=Average of not completed"
   ]
  },
  {
   "cell_type": "code",
   "execution_count": null,
   "metadata": {},
   "outputs": [],
   "source": [
    "# Data is normal\n",
    "# pop std is not known\n",
    "# pop is independant\n",
    "# Unpaired two sample t test (two tailed)"
   ]
  },
  {
   "cell_type": "code",
   "execution_count": 19,
   "metadata": {},
   "outputs": [
    {
     "data": {
      "text/plain": [
       "Ttest_indResult(statistic=1.4385323319823262, pvalue=0.16030339806989594)"
      ]
     },
     "execution_count": 19,
     "metadata": {},
     "output_type": "execute_result"
    }
   ],
   "source": [
    "# ind means indipendent\n",
    "stats.ttest_ind(completed,notcompleted)"
   ]
  },
  {
   "cell_type": "raw",
   "metadata": {},
   "source": [
    "pval=0.16\n",
    "sig lvl=0.5\n",
    "pval>sig lvl.h0 is selected\n",
    "Average of completed = average of notcompleted"
   ]
  },
  {
   "cell_type": "code",
   "execution_count": null,
   "metadata": {},
   "outputs": [],
   "source": []
  },
  {
   "cell_type": "code",
   "execution_count": null,
   "metadata": {},
   "outputs": [],
   "source": []
  },
  {
   "cell_type": "code",
   "execution_count": null,
   "metadata": {},
   "outputs": [],
   "source": [
    "# Test of Normality - Shapiro  test\n",
    "# Ho: skew=0 (normal)\n",
    "# Ha : skew!=0 (not normal)"
   ]
  },
  {
   "cell_type": "code",
   "execution_count": 20,
   "metadata": {},
   "outputs": [
    {
     "name": "stdout",
     "output_type": "stream",
     "text": [
      "1.4367647266795065\n"
     ]
    }
   ],
   "source": [
    "n2=18\n",
    "n1=15\n",
    "df1=n1-1\n",
    "df2=n2-2\n",
    "x1bar=completed.mean()\n",
    "x2bar=notcompleted.mean()\n",
    "s1=completed.std()\n",
    "s2=notcompleted.std()\n",
    "num=(x1bar-x2bar)\n",
    "sp2=(df1*(s1**2)+df2*(s2**2))/(df1+df2)\n",
    "k=((1/n1)+(1/n2))\n",
    "z=num/np.sqrt(k*sp2)\n",
    "print(z)"
   ]
  },
  {
   "cell_type": "code",
   "execution_count": 21,
   "metadata": {},
   "outputs": [
    {
     "data": {
      "text/plain": [
       "0.16080151242483784"
      ]
     },
     "execution_count": 21,
     "metadata": {},
     "output_type": "execute_result"
    }
   ],
   "source": [
    "stats.t.sf(z,31)*2"
   ]
  },
  {
   "cell_type": "code",
   "execution_count": 22,
   "metadata": {},
   "outputs": [
    {
     "data": {
      "text/plain": [
       "Ttest_indResult(statistic=1.4385323319823262, pvalue=0.16030339806989594)"
      ]
     },
     "execution_count": 22,
     "metadata": {},
     "output_type": "execute_result"
    }
   ],
   "source": [
    "stats.ttest_ind(completed,notcompleted)"
   ]
  },
  {
   "cell_type": "markdown",
   "metadata": {
    "id": "L0LxrVdxjUN9"
   },
   "source": [
    "<a id=\"paired\"></a>\n",
    "## 3.3 Paired t Test"
   ]
  },
  {
   "cell_type": "markdown",
   "metadata": {
    "id": "eRwOufQqjUN9"
   },
   "source": [
    "A paired t-test is used to compare the mean of the population for two dependent samples. The dependent samples can be the scores before and after a specific treatment. \n",
    "\n",
    "Let $X_{i}$ be the sample before the treatment and $Y_{i}$ be the sample after the treatment. Let $\\mu_{X}$, $\\mu_{Y}$ be the mean of the data X and Y respectively. The mean difference $\\mu_{d} = \\mu_{Y} - \\mu_{X}$.\n",
    "\n",
    "The null and alternative hypothesis is given as:\n",
    "\n",
    "<p style='text-indent:25em'> <strong> $H_{0}: \\mu_{d} = \\mu_{0}$ or $\\mu_{d} \\geq \\mu_{0}$ or $\\mu_{d} \\leq \\mu_{0}$</strong></p>\n",
    "<p style='text-indent:25em'> <strong> $H_{1}: \\mu_{d} \\neq \\mu_{0}$ or $\\mu_{d} < \\mu_{0}$ or $\\mu_{d} > \\mu_{0}$</strong></p>\n",
    "\n",
    "The test statistic for paired t-test is given as:\n",
    "<p style='text-indent:25em'> <strong> $t = \\frac{\\overline{X_{D}} - \\mu_{0}} {\\frac{s_{D}}{\\sqrt{n}}}$</strong></p>\n",
    "\n",
    "Where, <br>\n",
    "$\\overline{X_{D}}$: Mean difference between the pairs<br>\n",
    "$\\mu_{0}$: Mean difference given in the null hypothesis<br>\n",
    "$s_{D}$: Standard deviation of differences between the pairs<br>\n",
    "$n$: Sample size\n",
    "\n",
    "Under $H_{0}$, the test statistic follows a t-distribution with (n-1) degrees of freedom."
   ]
  },
  {
   "cell_type": "markdown",
   "metadata": {
    "id": "99MYxwsYjUN-"
   },
   "source": [
    "### Example:\n",
    "\n",
    "#### 1. A training institute wants to check if their writing training program was effective or not. 17 students are selected to check the hypothesis. Consider 0.05 as the level of significance.\n",
    "\n",
    "The writing scores before and after training are provided in the CSV file `WritingScores.csv`. "
   ]
  },
  {
   "cell_type": "code",
   "execution_count": 23,
   "metadata": {
    "scrolled": true
   },
   "outputs": [
    {
     "data": {
      "text/html": [
       "<div>\n",
       "<style scoped>\n",
       "    .dataframe tbody tr th:only-of-type {\n",
       "        vertical-align: middle;\n",
       "    }\n",
       "\n",
       "    .dataframe tbody tr th {\n",
       "        vertical-align: top;\n",
       "    }\n",
       "\n",
       "    .dataframe thead th {\n",
       "        text-align: right;\n",
       "    }\n",
       "</style>\n",
       "<table border=\"1\" class=\"dataframe\">\n",
       "  <thead>\n",
       "    <tr style=\"text-align: right;\">\n",
       "      <th></th>\n",
       "      <th>score_before</th>\n",
       "      <th>score_after</th>\n",
       "    </tr>\n",
       "  </thead>\n",
       "  <tbody>\n",
       "    <tr>\n",
       "      <th>0</th>\n",
       "      <td>59</td>\n",
       "      <td>50</td>\n",
       "    </tr>\n",
       "    <tr>\n",
       "      <th>1</th>\n",
       "      <td>62</td>\n",
       "      <td>67</td>\n",
       "    </tr>\n",
       "    <tr>\n",
       "      <th>2</th>\n",
       "      <td>76</td>\n",
       "      <td>92</td>\n",
       "    </tr>\n",
       "    <tr>\n",
       "      <th>3</th>\n",
       "      <td>32</td>\n",
       "      <td>75</td>\n",
       "    </tr>\n",
       "    <tr>\n",
       "      <th>4</th>\n",
       "      <td>61</td>\n",
       "      <td>98</td>\n",
       "    </tr>\n",
       "  </tbody>\n",
       "</table>\n",
       "</div>"
      ],
      "text/plain": [
       "   score_before  score_after\n",
       "0            59           50\n",
       "1            62           67\n",
       "2            76           92\n",
       "3            32           75\n",
       "4            61           98"
      ]
     },
     "execution_count": 23,
     "metadata": {},
     "output_type": "execute_result"
    }
   ],
   "source": [
    "df = pd.read_csv('WritingScores.csv')\n",
    "df.head()"
   ]
  },
  {
   "cell_type": "code",
   "execution_count": 24,
   "metadata": {},
   "outputs": [],
   "source": [
    "before=df['score_before']\n",
    "after=df['score_after']"
   ]
  },
  {
   "cell_type": "code",
   "execution_count": 25,
   "metadata": {},
   "outputs": [
    {
     "data": {
      "text/plain": [
       "ShapiroResult(statistic=0.947382390499115, pvalue=0.41645893454551697)"
      ]
     },
     "execution_count": 25,
     "metadata": {},
     "output_type": "execute_result"
    }
   ],
   "source": [
    "stats.shapiro(before)"
   ]
  },
  {
   "cell_type": "code",
   "execution_count": null,
   "metadata": {},
   "outputs": [],
   "source": [
    "pval=0.41"
   ]
  },
  {
   "cell_type": "code",
   "execution_count": null,
   "metadata": {},
   "outputs": [],
   "source": [
    "# Test of Normality - Shapiro  test\n",
    "# Ho: skew=0 (normal)\n",
    "# Ha : skew!=0 (not normal)"
   ]
  },
  {
   "cell_type": "code",
   "execution_count": 26,
   "metadata": {},
   "outputs": [
    {
     "data": {
      "text/plain": [
       "ShapiroResult(statistic=0.9686525464057922, pvalue=0.7944169044494629)"
      ]
     },
     "execution_count": 26,
     "metadata": {},
     "output_type": "execute_result"
    }
   ],
   "source": [
    "stats.shapiro(after)"
   ]
  },
  {
   "cell_type": "raw",
   "metadata": {},
   "source": [
    "pval=\n",
    "sig lvl=\n",
    "pval   sig lvl ho is selected\n"
   ]
  },
  {
   "cell_type": "raw",
   "metadata": {},
   "source": [
    "# Hypothesis\n",
    "h0:score of before>=score of after\n",
    "ha:score of before < score of after"
   ]
  },
  {
   "cell_type": "markdown",
   "metadata": {},
   "source": [
    "data is normal\n",
    "pop std dev is not known\n",
    "pop is dependent\n",
    "paired to sample ttest\n",
    "one tail (left tail)"
   ]
  },
  {
   "cell_type": "code",
   "execution_count": 27,
   "metadata": {},
   "outputs": [
    {
     "data": {
      "text/plain": [
       "TtestResult(statistic=-1.4394882729049499, pvalue=0.08464506448139923, df=16)"
      ]
     },
     "execution_count": 27,
     "metadata": {},
     "output_type": "execute_result"
    }
   ],
   "source": [
    "stats.ttest_rel(before,after,alternative='less')"
   ]
  },
  {
   "cell_type": "raw",
   "metadata": {},
   "source": [
    "pval=0.08\n",
    "sig lvl = 0.05\n",
    "pval> sig lvl ho is selected\n",
    "score of before >=score of after"
   ]
  },
  {
   "cell_type": "markdown",
   "metadata": {
    "id": "DZHZrGTxjUOS"
   },
   "source": [
    "#### 2. An energy drink distributor claims that a new advertisement poster, featuring a life-size picture of a well-known athlete, will increase the product sales in outlets by an average of 50 bottles in a week. For a random sample of 10 outlets, the following data was collected. Test that the null hypothesis that there the advertisement was effective in increasing sales. Test the hypothesis using critical region technique. Use α = 0.05.\n",
    "\n",
    "Given data:\n",
    "\n",
    "        sales_before = [33, 32, 38, 45, 37, 47, 48, 41, 45]\n",
    "        sales_after = [42, 35, 31, 41, 37, 36, 49, 49, 48]"
   ]
  },
  {
   "cell_type": "code",
   "execution_count": 28,
   "metadata": {},
   "outputs": [],
   "source": [
    "sales_before = [33, 32, 38, 45, 37, 47, 48, 41, 45]\n",
    "sales_after = [42, 35, 31, 41, 37, 36, 49, 49, 48]"
   ]
  },
  {
   "cell_type": "code",
   "execution_count": null,
   "metadata": {},
   "outputs": [],
   "source": []
  },
  {
   "cell_type": "code",
   "execution_count": 29,
   "metadata": {},
   "outputs": [
    {
     "name": "stdout",
     "output_type": "stream",
     "text": [
      "0.3817565143108368 0.3293103277683258\n"
     ]
    }
   ],
   "source": [
    "print(shapiro(sales_before )[1],shapiro(sales_after)[1])"
   ]
  },
  {
   "cell_type": "code",
   "execution_count": 30,
   "metadata": {},
   "outputs": [],
   "source": [
    "# Test of Normality - Shapiro  test\n",
    "# Ho: skew=0 (normal)\n",
    "# Ha : skew!=0 (not normal)"
   ]
  },
  {
   "cell_type": "code",
   "execution_count": 31,
   "metadata": {},
   "outputs": [],
   "source": [
    "# Hypothesis:\n",
    "\n",
    "# Ho : sales_before = sales_after(The advertisement was not effective in increasing sales ( 𝜇𝑑≤0)\n",
    "# Ha : sales_before != sales_after"
   ]
  },
  {
   "cell_type": "code",
   "execution_count": 32,
   "metadata": {},
   "outputs": [],
   "source": [
    "# Data is normal\n",
    "# pop std is not known\n",
    "# pop is dependent\n",
    "# Paired two sample t test (left tailed)"
   ]
  },
  {
   "cell_type": "code",
   "execution_count": 33,
   "metadata": {},
   "outputs": [
    {
     "data": {
      "text/plain": [
       "TtestResult(statistic=-0.10085458113185983, pvalue=0.46107385734626494, df=8)"
      ]
     },
     "execution_count": 33,
     "metadata": {},
     "output_type": "execute_result"
    }
   ],
   "source": [
    "stats.ttest_rel(sales_before,sales_after,alternative='less')"
   ]
  },
  {
   "cell_type": "code",
   "execution_count": null,
   "metadata": {},
   "outputs": [],
   "source": [
    "pval=0.46\n",
    "sig lvl=0.05\n",
    "pval >sig lvl,hence null hyp is accepted"
   ]
  },
  {
   "cell_type": "code",
   "execution_count": null,
   "metadata": {},
   "outputs": [],
   "source": []
  },
  {
   "cell_type": "markdown",
   "metadata": {
    "id": "Qnofe5hBjUOf"
   },
   "source": [
    "<a id=\"prop\"></a>\n",
    "# 4. Z Proportion Test"
   ]
  },
  {
   "cell_type": "markdown",
   "metadata": {
    "id": "z95224vGjUOf"
   },
   "source": [
    "<a id=\"1_p\"></a>\n",
    "## 4.1 One Sample Test"
   ]
  },
  {
   "cell_type": "markdown",
   "metadata": {
    "id": "4xvgUcCtjUOf"
   },
   "source": [
    "Perform one sample Z test for the population proportion. We compare the population proportion ($P$) with a specific value ($P_{0}$).\n",
    "\n",
    "The null and alternative hypothesis is given as:\n",
    "\n",
    "<p style='text-indent:25em'> <strong> $H_{0}: P = P_{0}$ or $P \\geq P_{0}$ or $P \\leq P_{0}$</strong></p>\n",
    "<p style='text-indent:25em'> <strong> $H_{1}: P \\neq P_{0}$ or $P < P_{0}$ or $P > P_{0}$</strong></p>"
   ]
  },
  {
   "cell_type": "markdown",
   "metadata": {
    "id": "CjLNMxSqjUOg"
   },
   "source": [
    "The test statistic for proportion Z-test is given as:\n",
    "<p style='text-indent:25em'> <strong> $Z = \\frac{p -  P_{0}}{\\sqrt{\\frac{P_{0}(1-P_{0})}{n}}}$</strong></p>\n",
    "\n",
    "Where, <br>\n",
    "$p$: Sample proportion<br>\n",
    "$n$: Sample size\n",
    "\n",
    "Under $H_{0}$, the test statistic follows a standard normal distribution."
   ]
  },
  {
   "cell_type": "markdown",
   "metadata": {},
   "source": [
    "#### A claim states 70% people opts of LED TV. A sample of 100 people are choosen and found that 65% of people are opting for LED TV. Test the hypothesis with 95% CI."
   ]
  },
  {
   "cell_type": "code",
   "execution_count": null,
   "metadata": {},
   "outputs": [],
   "source": [
    "# h0: Proportion of LED TV(prop_population) = 70% = 0.7\n",
    "# ha: Proportion of LED TV(prop_population) <> 70% <> 0.7"
   ]
  },
  {
   "cell_type": "code",
   "execution_count": null,
   "metadata": {},
   "outputs": [],
   "source": [
    "# No Conditions need to be checked"
   ]
  },
  {
   "cell_type": "code",
   "execution_count": 35,
   "metadata": {},
   "outputs": [
    {
     "data": {
      "text/plain": [
       "-1.0910894511799603"
      ]
     },
     "execution_count": 35,
     "metadata": {},
     "output_type": "execute_result"
    }
   ],
   "source": [
    "psamp=0.65\n",
    "prop_pop=0.7\n",
    "n=100\n",
    "num=psamp-prop_pop\n",
    "den=np.sqrt((prop_pop*(1-prop_pop))/n)\n",
    "zstat=num/den\n",
    "zstat"
   ]
  },
  {
   "cell_type": "code",
   "execution_count": 36,
   "metadata": {},
   "outputs": [
    {
     "data": {
      "text/plain": [
       "0.27523352407483503"
      ]
     },
     "execution_count": 36,
     "metadata": {},
     "output_type": "execute_result"
    }
   ],
   "source": [
    "pval=stats.norm.sf(abs(zstat))*2\n",
    "pval"
   ]
  },
  {
   "cell_type": "raw",
   "metadata": {},
   "source": [
    "pval=0.27\n",
    "sig lvl =0.05\n",
    "pval>sig lvl.\n",
    "failed to reject H0\n",
    "proportion of led tv (prop_population)=70%"
   ]
  },
  {
   "cell_type": "code",
   "execution_count": 37,
   "metadata": {},
   "outputs": [],
   "source": [
    "from statsmodels.stats.proportion import proportions_ztest"
   ]
  },
  {
   "cell_type": "code",
   "execution_count": 38,
   "metadata": {},
   "outputs": [
    {
     "data": {
      "text/plain": [
       "(1.0910894511799603, 0.27523352407483503)"
      ]
     },
     "execution_count": 38,
     "metadata": {},
     "output_type": "execute_result"
    }
   ],
   "source": [
    "proportions_ztest(count=70,nobs=100,value=0.65)   # 2 Tailed"
   ]
  },
  {
   "cell_type": "code",
   "execution_count": null,
   "metadata": {},
   "outputs": [],
   "source": []
  },
  {
   "cell_type": "markdown",
   "metadata": {
    "id": "BAsQHKx6jUOg"
   },
   "source": [
    "### Example:\n",
    "\n",
    "#### 1. In previous years, people believed that at most 80% of male students score more than 50 marks out of 100 in Mathematics. Perform a test to check whether this percentage is more than 80. Consider the level of significance as 0.05.\n",
    "\n",
    "Consider the sample of math scores of male students available in the CSV file `StudentsPerformance.csv`."
   ]
  },
  {
   "cell_type": "code",
   "execution_count": 42,
   "metadata": {},
   "outputs": [
    {
     "data": {
      "text/html": [
       "<div>\n",
       "<style scoped>\n",
       "    .dataframe tbody tr th:only-of-type {\n",
       "        vertical-align: middle;\n",
       "    }\n",
       "\n",
       "    .dataframe tbody tr th {\n",
       "        vertical-align: top;\n",
       "    }\n",
       "\n",
       "    .dataframe thead th {\n",
       "        text-align: right;\n",
       "    }\n",
       "</style>\n",
       "<table border=\"1\" class=\"dataframe\">\n",
       "  <thead>\n",
       "    <tr style=\"text-align: right;\">\n",
       "      <th></th>\n",
       "      <th>gender</th>\n",
       "      <th>race/ethnicity</th>\n",
       "      <th>lunch</th>\n",
       "      <th>test preparation course</th>\n",
       "      <th>math score</th>\n",
       "      <th>reading score</th>\n",
       "      <th>writing score</th>\n",
       "      <th>total score</th>\n",
       "      <th>training institute</th>\n",
       "    </tr>\n",
       "  </thead>\n",
       "  <tbody>\n",
       "    <tr>\n",
       "      <th>0</th>\n",
       "      <td>female</td>\n",
       "      <td>group B</td>\n",
       "      <td>standard</td>\n",
       "      <td>none</td>\n",
       "      <td>89</td>\n",
       "      <td>55</td>\n",
       "      <td>56</td>\n",
       "      <td>200</td>\n",
       "      <td>Nature Learning</td>\n",
       "    </tr>\n",
       "  </tbody>\n",
       "</table>\n",
       "</div>"
      ],
      "text/plain": [
       "   gender race/ethnicity     lunch test preparation course  math score  \\\n",
       "0  female        group B  standard                    none          89   \n",
       "\n",
       "   reading score  writing score  total score training institute  \n",
       "0             55             56          200    Nature Learning  "
      ]
     },
     "execution_count": 42,
     "metadata": {},
     "output_type": "execute_result"
    }
   ],
   "source": [
    "df =pd.read_csv('StudentsPerformance.csv')\n",
    "df.head(1)"
   ]
  },
  {
   "cell_type": "code",
   "execution_count": 43,
   "metadata": {},
   "outputs": [
    {
     "ename": "TypeError",
     "evalue": "list indices must be integers or slices, not str",
     "output_type": "error",
     "traceback": [
      "\u001b[1;31m---------------------------------------------------------------------------\u001b[0m",
      "\u001b[1;31mTypeError\u001b[0m                                 Traceback (most recent call last)",
      "Cell \u001b[1;32mIn[43], line 3\u001b[0m\n\u001b[0;32m      1\u001b[0m math_score\u001b[38;5;241m=\u001b[39mdf\u001b[38;5;241m=\u001b[39m[\u001b[38;5;124m'\u001b[39m\u001b[38;5;124mmath score\u001b[39m\u001b[38;5;124m'\u001b[39m]\n\u001b[0;32m      2\u001b[0m pop\u001b[38;5;241m=\u001b[39m\u001b[38;5;241m0.8\u001b[39m\n\u001b[1;32m----> 3\u001b[0m n\u001b[38;5;241m=\u001b[39mdf[\u001b[43mdf\u001b[49m\u001b[43m[\u001b[49m\u001b[38;5;124;43m'\u001b[39;49m\u001b[38;5;124;43mgender\u001b[39;49m\u001b[38;5;124;43m'\u001b[39;49m\u001b[43m]\u001b[49m\u001b[38;5;241m==\u001b[39m\u001b[38;5;124m'\u001b[39m\u001b[38;5;124mmale\u001b[39m\u001b[38;5;124m'\u001b[39m][\u001b[38;5;124m'\u001b[39m\u001b[38;5;124mmath score\u001b[39m\u001b[38;5;124m'\u001b[39m]\u001b[38;5;241m.\u001b[39mshape[\u001b[38;5;241m0\u001b[39m]\n\u001b[0;32m      4\u001b[0m psam\u001b[38;5;241m=\u001b[39mdf[df[\u001b[38;5;124m'\u001b[39m\u001b[38;5;124mmath score\u001b[39m\u001b[38;5;124m'\u001b[39m]\u001b[38;5;241m>\u001b[39m\u001b[38;5;241m50\u001b[39m \u001b[38;5;241m&\u001b[39m (df[\u001b[38;5;124m'\u001b[39m\u001b[38;5;124mgender\u001b[39m\u001b[38;5;124m'\u001b[39m]\u001b[38;5;241m==\u001b[39m\u001b[38;5;124m'\u001b[39m\u001b[38;5;124mmale\u001b[39m\u001b[38;5;124m'\u001b[39m)][\u001b[38;5;124m'\u001b[39m\u001b[38;5;124mmath score\u001b[39m\u001b[38;5;124m'\u001b[39m]\u001b[38;5;241m.\u001b[39mshape[\u001b[38;5;241m0\u001b[39m]\u001b[38;5;241m/\u001b[39mmath_score\u001b[38;5;241m.\u001b[39mshape[\u001b[38;5;241m0\u001b[39m]\n\u001b[0;32m      5\u001b[0m z\u001b[38;5;241m=\u001b[39m(psam\u001b[38;5;241m-\u001b[39mpop)\u001b[38;5;241m/\u001b[39m(np\u001b[38;5;241m.\u001b[39msqrt)\n",
      "\u001b[1;31mTypeError\u001b[0m: list indices must be integers or slices, not str"
     ]
    }
   ],
   "source": [
    "math_score=df=['math score']\n",
    "pop=0.8\n",
    "n=df[df['gender']=='male']['math score'].shape[0]\n",
    "psam=df[df['math score']>50 & (df['gender']=='male')]['math score'].shape[0]/math_score.shape[0]\n",
    "z=(psam-pop)/(np.sqrt)"
   ]
  },
  {
   "cell_type": "code",
   "execution_count": 44,
   "metadata": {},
   "outputs": [
    {
     "ename": "TypeError",
     "evalue": "list indices must be integers or slices, not str",
     "output_type": "error",
     "traceback": [
      "\u001b[1;31m---------------------------------------------------------------------------\u001b[0m",
      "\u001b[1;31mTypeError\u001b[0m                                 Traceback (most recent call last)",
      "Cell \u001b[1;32mIn[44], line 1\u001b[0m\n\u001b[1;32m----> 1\u001b[0m male\u001b[38;5;241m=\u001b[39mdf[\u001b[43mdf\u001b[49m\u001b[43m[\u001b[49m\u001b[38;5;124;43m'\u001b[39;49m\u001b[38;5;124;43mgender\u001b[39;49m\u001b[38;5;124;43m'\u001b[39;49m\u001b[43m]\u001b[49m\u001b[38;5;241m==\u001b[39m\u001b[38;5;124m'\u001b[39m\u001b[38;5;124mmale\u001b[39m\u001b[38;5;124m'\u001b[39m]\n",
      "\u001b[1;31mTypeError\u001b[0m: list indices must be integers or slices, not str"
     ]
    }
   ],
   "source": [
    "male=df[df['gender']=='male']"
   ]
  },
  {
   "cell_type": "code",
   "execution_count": 45,
   "metadata": {},
   "outputs": [
    {
     "ename": "TypeError",
     "evalue": "list indices must be integers or slices, not str",
     "output_type": "error",
     "traceback": [
      "\u001b[1;31m---------------------------------------------------------------------------\u001b[0m",
      "\u001b[1;31mTypeError\u001b[0m                                 Traceback (most recent call last)",
      "Cell \u001b[1;32mIn[45], line 1\u001b[0m\n\u001b[1;32m----> 1\u001b[0m male_gr_50\u001b[38;5;241m=\u001b[39mdf[(\u001b[43mdf\u001b[49m\u001b[43m[\u001b[49m\u001b[38;5;124;43m'\u001b[39;49m\u001b[38;5;124;43mgender\u001b[39;49m\u001b[38;5;124;43m'\u001b[39;49m\u001b[43m]\u001b[49m\u001b[38;5;241m==\u001b[39m\u001b[38;5;124m'\u001b[39m\u001b[38;5;124mmale\u001b[39m\u001b[38;5;124m'\u001b[39m)\u001b[38;5;241m&\u001b[39m(df[\u001b[38;5;124m'\u001b[39m\u001b[38;5;124mmath score\u001b[39m\u001b[38;5;124m'\u001b[39m]\u001b[38;5;241m>\u001b[39m\u001b[38;5;241m50\u001b[39m)]\n",
      "\u001b[1;31mTypeError\u001b[0m: list indices must be integers or slices, not str"
     ]
    }
   ],
   "source": [
    "male_gr_50=df[(df['gender']=='male')&(df['math score']>50)]"
   ]
  },
  {
   "cell_type": "raw",
   "metadata": {},
   "source": [
    "Hypothesis  # always \n",
    "H0:propotion of male student scoring grater than 50<=0.8\n",
    "Ha:propotion of male stuudent scoring grater than 50>0.8"
   ]
  },
  {
   "cell_type": "code",
   "execution_count": 46,
   "metadata": {},
   "outputs": [
    {
     "ename": "NameError",
     "evalue": "name 'male_gr_50' is not defined",
     "output_type": "error",
     "traceback": [
      "\u001b[1;31m---------------------------------------------------------------------------\u001b[0m",
      "\u001b[1;31mNameError\u001b[0m                                 Traceback (most recent call last)",
      "Cell \u001b[1;32mIn[46], line 2\u001b[0m\n\u001b[0;32m      1\u001b[0m pop\u001b[38;5;241m=\u001b[39m\u001b[38;5;241m0.8\u001b[39m\n\u001b[1;32m----> 2\u001b[0m psamp\u001b[38;5;241m=\u001b[39m\u001b[38;5;28mlen\u001b[39m(\u001b[43mmale_gr_50\u001b[49m)\u001b[38;5;241m/\u001b[39m\u001b[38;5;28mlen\u001b[39m(male)\n\u001b[0;32m      3\u001b[0m psamp\n",
      "\u001b[1;31mNameError\u001b[0m: name 'male_gr_50' is not defined"
     ]
    }
   ],
   "source": [
    "pop=0.8\n",
    "psamp=len(male_gr_50)/len(male)\n",
    "psamp"
   ]
  },
  {
   "cell_type": "code",
   "execution_count": 47,
   "metadata": {},
   "outputs": [
    {
     "ename": "NameError",
     "evalue": "name 'male' is not defined",
     "output_type": "error",
     "traceback": [
      "\u001b[1;31m---------------------------------------------------------------------------\u001b[0m",
      "\u001b[1;31mNameError\u001b[0m                                 Traceback (most recent call last)",
      "Cell \u001b[1;32mIn[47], line 1\u001b[0m\n\u001b[1;32m----> 1\u001b[0m n\u001b[38;5;241m=\u001b[39m\u001b[38;5;28mlen\u001b[39m(\u001b[43mmale\u001b[49m)\n",
      "\u001b[1;31mNameError\u001b[0m: name 'male' is not defined"
     ]
    }
   ],
   "source": [
    "n=len(male)"
   ]
  },
  {
   "cell_type": "code",
   "execution_count": 48,
   "metadata": {},
   "outputs": [
    {
     "data": {
      "text/plain": [
       "-3.7500000000000004"
      ]
     },
     "execution_count": 48,
     "metadata": {},
     "output_type": "execute_result"
    }
   ],
   "source": [
    "num=psamp-pop\n",
    "den=np.sqrt((pop*(1-pop))/n)\n",
    "zstat=num/den\n",
    "zstat"
   ]
  },
  {
   "cell_type": "code",
   "execution_count": 49,
   "metadata": {},
   "outputs": [
    {
     "data": {
      "text/plain": [
       "0.9999115827147992"
      ]
     },
     "execution_count": 49,
     "metadata": {},
     "output_type": "execute_result"
    }
   ],
   "source": [
    "stats.norm.sf(zstat)"
   ]
  },
  {
   "cell_type": "code",
   "execution_count": 50,
   "metadata": {},
   "outputs": [
    {
     "ename": "SyntaxError",
     "evalue": "invalid syntax (3822885847.py, line 2)",
     "output_type": "error",
     "traceback": [
      "\u001b[1;36m  Cell \u001b[1;32mIn[50], line 2\u001b[1;36m\u001b[0m\n\u001b[1;33m    sig lvl =0.05\u001b[0m\n\u001b[1;37m        ^\u001b[0m\n\u001b[1;31mSyntaxError\u001b[0m\u001b[1;31m:\u001b[0m invalid syntax\n"
     ]
    }
   ],
   "source": [
    "pval=0\n",
    "sig lvl =0.05\n",
    "pval< sig lvl\n",
    "reject H0\n",
    "proportion of male student scoring grater than 50>0.8"
   ]
  },
  {
   "cell_type": "code",
   "execution_count": null,
   "metadata": {},
   "outputs": [],
   "source": []
  },
  {
   "cell_type": "markdown",
   "metadata": {
    "id": "CjjxOuZ6jUOt"
   },
   "source": [
    "#### 2. From a sample of 361 business owners had gone into bankruptcy due to recession. On taking a survey, it was found that 105 of them had not consulted any professional for managing their finance before opening the business. Test the null hypothesis that at most 25% of all businesses had not consulted before opening the business. Test the claim using p-value technique. Use α = 0.05."
   ]
  },
  {
   "cell_type": "markdown",
   "metadata": {},
   "source": [
    "The null and alternative hypothesis is:\n",
    "\n",
    "H<sub>0</sub>: $P \\leq 0.25$<br>\n",
    "H<sub>1</sub>: $P > 0.25$ "
   ]
  },
  {
   "cell_type": "code",
   "execution_count": 51,
   "metadata": {},
   "outputs": [
    {
     "data": {
      "text/plain": [
       "1.7928245201151534"
      ]
     },
     "execution_count": 51,
     "metadata": {},
     "output_type": "execute_result"
    }
   ],
   "source": [
    "pop=0.25\n",
    "psamp=105/361\n",
    "n=361\n",
    "num=psamp-pop\n",
    "den=np.sqrt((pop*(1-pop))/n)\n",
    "zstat=num/den\n",
    "zstat"
   ]
  },
  {
   "cell_type": "code",
   "execution_count": 52,
   "metadata": {},
   "outputs": [
    {
     "data": {
      "text/plain": [
       "0.03650049373124949"
      ]
     },
     "execution_count": 52,
     "metadata": {},
     "output_type": "execute_result"
    }
   ],
   "source": [
    "stats.norm.sf(zstat)"
   ]
  },
  {
   "cell_type": "code",
   "execution_count": 53,
   "metadata": {},
   "outputs": [
    {
     "ename": "SyntaxError",
     "evalue": "invalid syntax (3804992873.py, line 2)",
     "output_type": "error",
     "traceback": [
      "\u001b[1;36m  Cell \u001b[1;32mIn[53], line 2\u001b[1;36m\u001b[0m\n\u001b[1;33m    sig lvl =0.05\u001b[0m\n\u001b[1;37m        ^\u001b[0m\n\u001b[1;31mSyntaxError\u001b[0m\u001b[1;31m:\u001b[0m invalid syntax\n"
     ]
    }
   ],
   "source": [
    "pval=0.03\n",
    "sig lvl =0.05\n",
    "pval< sig lvl\n",
    "reject H0\n"
   ]
  },
  {
   "cell_type": "code",
   "execution_count": null,
   "metadata": {},
   "outputs": [],
   "source": []
  },
  {
   "cell_type": "markdown",
   "metadata": {
    "id": "da2MCj6mjUOx"
   },
   "source": [
    "<a id=\"2_p\"></a>\n",
    "## 4.2 Two Sample Test"
   ]
  },
  {
   "cell_type": "markdown",
   "metadata": {
    "id": "q88y4I7AjUOz"
   },
   "source": [
    "Perform two sample Z test for the population proportion. We check the equality of population proportions $P_{1}$ and $P_{2}$.\n",
    "\n",
    "The null and alternative hypothesis is given as:\n",
    "\n",
    "<p style='text-indent:25em'> <strong> $H_{0}: P_{1} - P_{2} = P_{0}$ or $P_{1} - P_{2} \\geq P_{0}$ or $P_{1} - P_{2} \\leq P_{0}$</strong></p>\n",
    "<p style='text-indent:25em'> <strong> $H_{1}: P_{1} - P_{2} \\neq P_{0}$ or $P_{1} - P_{2} < P_{0}$ or $P_{1} - P_{2} > P_{0}$</strong></p>"
   ]
  },
  {
   "cell_type": "markdown",
   "metadata": {
    "id": "5FLa5YnSjUOz"
   },
   "source": [
    "The test statistic for two sample proportion Z-test is given as:\n",
    "<p style='text-indent:25em'> <strong> $Z = \\frac{(p_{1} -  p_{2}) - P_{0}}{\\sqrt{\\bar{P}(1-\\bar{P})(\\frac{1}{n_{1}} + \\frac{1}{n_{2}})}}$   $\\hspace{2 cm} \\bar{P} = \\frac{n_{1}p_{1} + n_{2}p_{2}}{n_{1} + n_{2}}$ </strong></p>\n",
    "\n",
    "Where, <br>\n",
    "$p_{1}, p_{2}$: Samples proportions<br>\n",
    "$P_{0}$: Hypothesized proportion<br>\n",
    "$\\bar{P}$: Proportion of pooled sample<br>\n",
    "$n_{1}, n_{2}$: Samples sizes"
   ]
  },
  {
   "cell_type": "code",
   "execution_count": null,
   "metadata": {},
   "outputs": [],
   "source": []
  },
  {
   "cell_type": "code",
   "execution_count": null,
   "metadata": {},
   "outputs": [],
   "source": []
  },
  {
   "cell_type": "code",
   "execution_count": null,
   "metadata": {},
   "outputs": [],
   "source": []
  },
  {
   "cell_type": "code",
   "execution_count": null,
   "metadata": {},
   "outputs": [],
   "source": []
  },
  {
   "cell_type": "code",
   "execution_count": null,
   "metadata": {},
   "outputs": [],
   "source": []
  },
  {
   "cell_type": "markdown",
   "metadata": {
    "id": "_Nnef7g_jUO0"
   },
   "source": [
    "### Example:\n",
    "\n",
    "#### 1. A team of nutritionists believes that each institute provides 'standard' lunch to an equal proportion of students. A sample of students from institutes <i>Nature Learning</i> and <i>Speak Global Learning</i> is given. Consider the null hypothesis as equality of proportion with 0.1 level of significance.\n",
    "\n",
    "Consider the sample data available in the CSV file `StudentsPerformance.csv`."
   ]
  },
  {
   "cell_type": "code",
   "execution_count": 54,
   "metadata": {
    "id": "9D6_FJWsjUO0",
    "outputId": "2ff2cc81-91db-4cee-c5cf-28587e38f078",
    "scrolled": true
   },
   "outputs": [
    {
     "data": {
      "text/html": [
       "<div>\n",
       "<style scoped>\n",
       "    .dataframe tbody tr th:only-of-type {\n",
       "        vertical-align: middle;\n",
       "    }\n",
       "\n",
       "    .dataframe tbody tr th {\n",
       "        vertical-align: top;\n",
       "    }\n",
       "\n",
       "    .dataframe thead th {\n",
       "        text-align: right;\n",
       "    }\n",
       "</style>\n",
       "<table border=\"1\" class=\"dataframe\">\n",
       "  <thead>\n",
       "    <tr style=\"text-align: right;\">\n",
       "      <th></th>\n",
       "      <th>gender</th>\n",
       "      <th>race/ethnicity</th>\n",
       "      <th>lunch</th>\n",
       "      <th>test preparation course</th>\n",
       "      <th>math score</th>\n",
       "      <th>reading score</th>\n",
       "      <th>writing score</th>\n",
       "      <th>total score</th>\n",
       "      <th>training institute</th>\n",
       "    </tr>\n",
       "  </thead>\n",
       "  <tbody>\n",
       "    <tr>\n",
       "      <th>0</th>\n",
       "      <td>female</td>\n",
       "      <td>group B</td>\n",
       "      <td>standard</td>\n",
       "      <td>none</td>\n",
       "      <td>89</td>\n",
       "      <td>55</td>\n",
       "      <td>56</td>\n",
       "      <td>200</td>\n",
       "      <td>Nature Learning</td>\n",
       "    </tr>\n",
       "    <tr>\n",
       "      <th>1</th>\n",
       "      <td>female</td>\n",
       "      <td>group C</td>\n",
       "      <td>standard</td>\n",
       "      <td>completed</td>\n",
       "      <td>55</td>\n",
       "      <td>63</td>\n",
       "      <td>72</td>\n",
       "      <td>190</td>\n",
       "      <td>Nature Learning</td>\n",
       "    </tr>\n",
       "    <tr>\n",
       "      <th>2</th>\n",
       "      <td>female</td>\n",
       "      <td>group B</td>\n",
       "      <td>standard</td>\n",
       "      <td>none</td>\n",
       "      <td>64</td>\n",
       "      <td>71</td>\n",
       "      <td>56</td>\n",
       "      <td>191</td>\n",
       "      <td>Nature Learning</td>\n",
       "    </tr>\n",
       "    <tr>\n",
       "      <th>3</th>\n",
       "      <td>male</td>\n",
       "      <td>group A</td>\n",
       "      <td>free/reduced</td>\n",
       "      <td>none</td>\n",
       "      <td>60</td>\n",
       "      <td>99</td>\n",
       "      <td>72</td>\n",
       "      <td>231</td>\n",
       "      <td>Nature Learning</td>\n",
       "    </tr>\n",
       "    <tr>\n",
       "      <th>4</th>\n",
       "      <td>male</td>\n",
       "      <td>group C</td>\n",
       "      <td>standard</td>\n",
       "      <td>none</td>\n",
       "      <td>75</td>\n",
       "      <td>66</td>\n",
       "      <td>51</td>\n",
       "      <td>192</td>\n",
       "      <td>Nature Learning</td>\n",
       "    </tr>\n",
       "    <tr>\n",
       "      <th>5</th>\n",
       "      <td>female</td>\n",
       "      <td>group B</td>\n",
       "      <td>standard</td>\n",
       "      <td>none</td>\n",
       "      <td>74</td>\n",
       "      <td>85</td>\n",
       "      <td>55</td>\n",
       "      <td>214</td>\n",
       "      <td>Nature Learning</td>\n",
       "    </tr>\n",
       "    <tr>\n",
       "      <th>6</th>\n",
       "      <td>female</td>\n",
       "      <td>group B</td>\n",
       "      <td>standard</td>\n",
       "      <td>completed</td>\n",
       "      <td>55</td>\n",
       "      <td>51</td>\n",
       "      <td>51</td>\n",
       "      <td>157</td>\n",
       "      <td>Nature Learning</td>\n",
       "    </tr>\n",
       "    <tr>\n",
       "      <th>7</th>\n",
       "      <td>male</td>\n",
       "      <td>group B</td>\n",
       "      <td>free/reduced</td>\n",
       "      <td>none</td>\n",
       "      <td>74</td>\n",
       "      <td>49</td>\n",
       "      <td>77</td>\n",
       "      <td>200</td>\n",
       "      <td>Nature Learning</td>\n",
       "    </tr>\n",
       "    <tr>\n",
       "      <th>8</th>\n",
       "      <td>male</td>\n",
       "      <td>group D</td>\n",
       "      <td>free/reduced</td>\n",
       "      <td>completed</td>\n",
       "      <td>43</td>\n",
       "      <td>87</td>\n",
       "      <td>77</td>\n",
       "      <td>207</td>\n",
       "      <td>Nature Learning</td>\n",
       "    </tr>\n",
       "    <tr>\n",
       "      <th>9</th>\n",
       "      <td>female</td>\n",
       "      <td>group B</td>\n",
       "      <td>free/reduced</td>\n",
       "      <td>none</td>\n",
       "      <td>76</td>\n",
       "      <td>70</td>\n",
       "      <td>71</td>\n",
       "      <td>217</td>\n",
       "      <td>Nature Learning</td>\n",
       "    </tr>\n",
       "  </tbody>\n",
       "</table>\n",
       "</div>"
      ],
      "text/plain": [
       "   gender race/ethnicity         lunch test preparation course  math score  \\\n",
       "0  female        group B      standard                    none          89   \n",
       "1  female        group C      standard               completed          55   \n",
       "2  female        group B      standard                    none          64   \n",
       "3    male        group A  free/reduced                    none          60   \n",
       "4    male        group C      standard                    none          75   \n",
       "5  female        group B      standard                    none          74   \n",
       "6  female        group B      standard               completed          55   \n",
       "7    male        group B  free/reduced                    none          74   \n",
       "8    male        group D  free/reduced               completed          43   \n",
       "9  female        group B  free/reduced                    none          76   \n",
       "\n",
       "   reading score  writing score  total score training institute  \n",
       "0             55             56          200    Nature Learning  \n",
       "1             63             72          190    Nature Learning  \n",
       "2             71             56          191    Nature Learning  \n",
       "3             99             72          231    Nature Learning  \n",
       "4             66             51          192    Nature Learning  \n",
       "5             85             55          214    Nature Learning  \n",
       "6             51             51          157    Nature Learning  \n",
       "7             49             77          200    Nature Learning  \n",
       "8             87             77          207    Nature Learning  \n",
       "9             70             71          217    Nature Learning  "
      ]
     },
     "execution_count": 54,
     "metadata": {},
     "output_type": "execute_result"
    }
   ],
   "source": [
    "# read the students performance data \n",
    "df = pd.read_csv('StudentsPerformance.csv')\n",
    "\n",
    "# display the first two observations\n",
    "df.head(10)"
   ]
  },
  {
   "cell_type": "code",
   "execution_count": 55,
   "metadata": {},
   "outputs": [],
   "source": [
    "import statsmodels\n",
    "from statsmodels.stats import proportion"
   ]
  },
  {
   "cell_type": "code",
   "execution_count": 56,
   "metadata": {},
   "outputs": [],
   "source": [
    "nl=df[df['training institute']=='Nature Learning']\n",
    "nl_std=nl[nl['lunch']=='standard']\n",
    "nl_count=len(nl)\n",
    "nl_std_count=len(nl_std)"
   ]
  },
  {
   "cell_type": "code",
   "execution_count": 57,
   "metadata": {},
   "outputs": [],
   "source": [
    "sgl=df[df['training institute']=='Speak Global Learning']\n",
    "sgl_std=sgl[sgl['lunch']=='standard']\n",
    "sgl_count=len(sgl)\n",
    "sgl_std_count=len(sgl_std)"
   ]
  },
  {
   "cell_type": "raw",
   "metadata": {},
   "source": [
    "H0:prop_nl=prop_sgl\n",
    "Ha=prop_nl !=prop_sgl"
   ]
  },
  {
   "cell_type": "code",
   "execution_count": 58,
   "metadata": {},
   "outputs": [
    {
     "data": {
      "text/plain": [
       "(0.7935300106078008, 0.4274690915859791)"
      ]
     },
     "execution_count": 58,
     "metadata": {},
     "output_type": "execute_result"
    }
   ],
   "source": [
    "pval=proportions_ztest(count=[nl_std_count,sgl_std_count],\n",
    "                 nobs=[nl_count,sgl_count])\n",
    "pval"
   ]
  },
  {
   "cell_type": "code",
   "execution_count": null,
   "metadata": {},
   "outputs": [],
   "source": []
  },
  {
   "cell_type": "code",
   "execution_count": null,
   "metadata": {},
   "outputs": [],
   "source": []
  },
  {
   "cell_type": "code",
   "execution_count": null,
   "metadata": {},
   "outputs": [],
   "source": []
  },
  {
   "cell_type": "markdown",
   "metadata": {
    "id": "122B7SORjUPD"
   },
   "source": [
    "#### 2. Steve owns a kiosk where he sells two magazines - A and B in a month. He buys 100 copies of magazine A out of which 78 were sold and 70 copies of magazine B out of which 65 were sold. Is there enough evidence to say that magazine is B is more popular? Test the claim using p-value technique with α = 0.05."
   ]
  },
  {
   "cell_type": "raw",
   "metadata": {},
   "source": [
    "# Hypothesis\n",
    "H0:prop_a>=prop_b\n",
    "Ha:prop_a<prop_b"
   ]
  },
  {
   "cell_type": "code",
   "execution_count": 59,
   "metadata": {},
   "outputs": [],
   "source": [
    "a_count=100\n",
    "a_sold_count=78\n",
    "prop_a=a_sold_count/a_count"
   ]
  },
  {
   "cell_type": "code",
   "execution_count": 60,
   "metadata": {},
   "outputs": [],
   "source": [
    "b_count=70\n",
    "b_sold_count=65\n",
    "prop_b=b_sold_count/b_count"
   ]
  },
  {
   "cell_type": "code",
   "execution_count": 61,
   "metadata": {},
   "outputs": [
    {
     "data": {
      "text/plain": [
       "(0.78, 0.9285714285714286)"
      ]
     },
     "execution_count": 61,
     "metadata": {},
     "output_type": "execute_result"
    }
   ],
   "source": [
    "prop_a,prop_b"
   ]
  },
  {
   "cell_type": "code",
   "execution_count": 62,
   "metadata": {},
   "outputs": [
    {
     "data": {
      "text/plain": [
       "(-2.60830803458311, 0.004549551600547303)"
      ]
     },
     "execution_count": 62,
     "metadata": {},
     "output_type": "execute_result"
    }
   ],
   "source": [
    "proportions_ztest(count=[a_sold_count,b_sold_count],\n",
    "                 nobs=[a_count,b_count],alternative='smaller')"
   ]
  },
  {
   "cell_type": "code",
   "execution_count": null,
   "metadata": {},
   "outputs": [],
   "source": []
  }
 ],
 "metadata": {
  "kernelspec": {
   "display_name": "Python 3 (ipykernel)",
   "language": "python",
   "name": "python3"
  },
  "language_info": {
   "codemirror_mode": {
    "name": "ipython",
    "version": 3
   },
   "file_extension": ".py",
   "mimetype": "text/x-python",
   "name": "python",
   "nbconvert_exporter": "python",
   "pygments_lexer": "ipython3",
   "version": "3.10.11"
  }
 },
 "nbformat": 4,
 "nbformat_minor": 4
}
