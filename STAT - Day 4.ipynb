{
 "cells": [
  {
   "cell_type": "markdown",
   "metadata": {},
   "source": [
    "<a id=\"lib\"></a>\n",
    "# 1. Import Libraries"
   ]
  },
  {
   "cell_type": "markdown",
   "metadata": {},
   "source": [
    "**Let us import the required libraries.**"
   ]
  },
  {
   "cell_type": "code",
   "execution_count": 1,
   "metadata": {},
   "outputs": [],
   "source": [
    "# import 'pandas' \n",
    "import pandas as pd \n",
    "\n",
    "# import 'numpy' \n",
    "import numpy as np\n",
    "\n",
    "# show the all data in csv\n",
    "pd.options.display.max_columns-100\n",
    "\n",
    "# import subpackage of matplotlib\n",
    "import matplotlib.pyplot as plt\n",
    "\n",
    "# import 'seaborn'\n",
    "import seaborn as sns\n",
    "\n",
    "# to suppress warnings \n",
    "from warnings import filterwarnings\n",
    "filterwarnings('ignore')\n",
    "\n",
    "# import 'random' to generate random sample\n",
    "import random\n",
    "\n",
    "# import statistics to perform statistical computation  \n",
    "import statistics\n",
    "\n",
    "# import 'stats' package from scipy library\n",
    "from scipy import stats\n",
    "\n",
    "# import a library to perform Z-test\n",
    "from statsmodels.stats import weightstats as stests\n",
    "\n",
    "# to test the normality \n",
    "from scipy.stats import shapiro\n",
    "\n",
    "# import the function to calculate the power of test\n",
    "from statsmodels.stats import power"
   ]
  },
  {
   "cell_type": "code",
   "execution_count": 2,
   "metadata": {},
   "outputs": [],
   "source": [
    "# set the plot size using 'rcParams'\n",
    "# once the plot size is set using 'rcParams', it sets the size of all the forthcoming plots in the file\n",
    "# pass width and height in inches to 'figure.figsize' \n",
    "plt.rcParams['figure.figsize'] = [15,8]"
   ]
  },
  {
   "cell_type": "markdown",
   "metadata": {},
   "source": [
    "<a id=\"chisq\"></a>\n",
    "# 2. Chi-Square Test"
   ]
  },
  {
   "cell_type": "markdown",
   "metadata": {},
   "source": [
    "It is a non-parametric test. `Non-parametric tests` do not require any assumptions on the parameter of the population from which the sample is taken. These tests can be applied to the ordinal/ nominal data. A non-parametric test can be performed on the data containing outliers.\n",
    "\n",
    "The chi-square test statistic follows a Chi-square ($\\chi^{2}$) distribution under the null hypothesis. It can be used to check the relationship between the categorical variables. \n",
    "\n",
    "Let us calculate the right-tailed $\\chi^{2}$ values for different levels of significance ($\\alpha$)."
   ]
  },
  {
   "cell_type": "markdown",
   "metadata": {},
   "source": [
    "<a id=\"goodness\"></a>\n",
    "## 2.1 Chi-Square Test for Goodness of Fit"
   ]
  },
  {
   "cell_type": "markdown",
   "metadata": {},
   "source": [
    "This test is used to compare the distribution of the categorical data with the expected distribution. \n",
    "\n",
    "<p style='text-indent:6em'> <strong> $H_{0}$: There is no significant difference between the observed and expected frequencies from the expected distribution</strong></p>\n",
    "<p style='text-indent:6em'> <strong> $H_{1}$: There is a significant difference between the observed and expected frequencies from the expected distribution</strong></p>"
   ]
  },
  {
   "cell_type": "markdown",
   "metadata": {},
   "source": [
    "### Example:\n",
    "\n"
   ]
  },
  {
   "cell_type": "markdown",
   "metadata": {},
   "source": [
    "#### 1. At an emporium, the manager is interested in knowing the age group which visits the mall during the day. He defines categories as - children, teenagers, adults and senior citizens. He plans to have his inventory of goods accordingly. He claims that out of all the people who visited 5% are children, 38% are teenagers, 2% are senior citizens are remaining are adults. From a sample of 180 people, it was seen that 25 were children, 50 were teenagers, 90 were adults and  15 were senior citizens. Test the manager’s claim at a 95% confidence level.\n"
   ]
  },
  {
   "cell_type": "code",
   "execution_count": 3,
   "metadata": {},
   "outputs": [],
   "source": [
    "exp_per=np.array([0.05,0.38,0.55,0.02])  # exp means expected obs mean obserevation\n",
    "n=180\n",
    "exp_count=exp_per*180\n",
    "obs_count=[25,50,90,15]"
   ]
  },
  {
   "cell_type": "raw",
   "metadata": {},
   "source": [
    "h0:obs=exp\n",
    "ha:obs!=exp"
   ]
  },
  {
   "cell_type": "code",
   "execution_count": 4,
   "metadata": {},
   "outputs": [
    {
     "name": "stdout",
     "output_type": "stream",
     "text": [
      "[25, 50, 90, 15]\n",
      "[ 9.  68.4 99.   3.6]\n"
     ]
    }
   ],
   "source": [
    "print(obs_count)\n",
    "print(exp_count)"
   ]
  },
  {
   "cell_type": "code",
   "execution_count": 5,
   "metadata": {},
   "outputs": [
    {
     "data": {
      "text/plain": [
       "70.31233386496544"
      ]
     },
     "execution_count": 5,
     "metadata": {},
     "output_type": "execute_result"
    }
   ],
   "source": [
    "((25-9)**2/9)+((50-68.4)**2/68.4)+((90-99)**2/99)+((15-3.6)**2/3.6)"
   ]
  },
  {
   "cell_type": "code",
   "execution_count": 6,
   "metadata": {},
   "outputs": [
    {
     "data": {
      "text/plain": [
       "Power_divergenceResult(statistic=70.31233386496544, pvalue=3.659118590746896e-15)"
      ]
     },
     "execution_count": 6,
     "metadata": {},
     "output_type": "execute_result"
    }
   ],
   "source": [
    "stats.chisquare(f_exp=exp_count,f_obs=obs_count)"
   ]
  },
  {
   "cell_type": "raw",
   "metadata": {},
   "source": [
    "pval=0\n",
    "sig val=0.05\n",
    "pval/sig lvl\n",
    "hence  Reject the null hypothesis h0\n",
    "There is a significant difference between the observed and expected frequencies from the expected distribution"
   ]
  },
  {
   "cell_type": "code",
   "execution_count": 7,
   "metadata": {},
   "outputs": [
    {
     "data": {
      "text/plain": [
       "0.0"
      ]
     },
     "execution_count": 7,
     "metadata": {},
     "output_type": "execute_result"
    }
   ],
   "source": [
    "stats.chi.sf(70,df=179)"
   ]
  },
  {
   "cell_type": "code",
   "execution_count": null,
   "metadata": {},
   "outputs": [],
   "source": []
  },
  {
   "cell_type": "markdown",
   "metadata": {},
   "source": [
    "### Practice:\n",
    "\n",
    "1) In a school, sports teacher is willing to see the proportion of\n",
    "people participating in different sports. He expects that all the sports\n",
    "are equal in proportion. After the observation, he found that\n",
    "\n",
    "cricket - 35%\n",
    "volley ball - 25%\n",
    "foot ball - 20%\n",
    "basket ball - 20%\n",
    "\n",
    "Total number of student in the school - 200\n",
    "\n",
    "Check the hypotheis with 95% Confidence level."
   ]
  },
  {
   "cell_type": "raw",
   "metadata": {},
   "source": [
    "#exp_per=np.array([0.25,0.25,0.25,0.25])\n",
    "#obs_per=np.array([0.35,0.25,0.20,0.20])\n",
    "n=200\n",
    "exp_count=exp_per*200\n",
    "exp_count"
   ]
  },
  {
   "cell_type": "code",
   "execution_count": 8,
   "metadata": {},
   "outputs": [
    {
     "name": "stdout",
     "output_type": "stream",
     "text": [
      "[50, 50, 50, 50]\n",
      "[70. 50. 40. 40.]\n"
     ]
    }
   ],
   "source": [
    "n=200\n",
    "obs_per=np.array([0.35,0.25,0.20,0.20])\n",
    "exp_count=[50,50,50,50]\n",
    "obs_count=obs_per*n\n",
    "print(exp_count)\n",
    "print(obs_count)"
   ]
  },
  {
   "cell_type": "code",
   "execution_count": 9,
   "metadata": {},
   "outputs": [
    {
     "data": {
      "text/plain": [
       "12.0"
      ]
     },
     "execution_count": 9,
     "metadata": {},
     "output_type": "execute_result"
    }
   ],
   "source": [
    "z=(400/50)+0+(100/50)*2\n",
    "z"
   ]
  },
  {
   "cell_type": "code",
   "execution_count": 10,
   "metadata": {},
   "outputs": [
    {
     "data": {
      "text/plain": [
       "Power_divergenceResult(statistic=12.0, pvalue=0.007383160505359769)"
      ]
     },
     "execution_count": 10,
     "metadata": {},
     "output_type": "execute_result"
    }
   ],
   "source": [
    "stats.chisquare(f_exp=exp_count,f_obs=obs_count)"
   ]
  },
  {
   "cell_type": "raw",
   "metadata": {},
   "source": [
    "pval=0.07\n",
    "sig lvl=0.05"
   ]
  },
  {
   "cell_type": "markdown",
   "metadata": {},
   "source": [
    "<a id=\"ind\"></a>\n",
    "## 2.2 Chi-Square Test for Independence"
   ]
  },
  {
   "cell_type": "markdown",
   "metadata": {},
   "source": [
    "This test is used to test whether the categorical variables are independent or not.\n",
    "\n",
    "<p style='text-indent:20em'> <strong> $H_{0}$: The variables are independent</strong></p>\n",
    "<p style='text-indent:20em'> <strong> $H_{1}$: The variables are not independent (i.e. variables are dependent)</strong></p>"
   ]
  },
  {
   "cell_type": "markdown",
   "metadata": {},
   "source": [
    "Consider a categorical variable `A` with `r` levels and variable `B` with `c` levels. Let us test the independence of variables A and B.\n",
    "\n",
    "The test statistic is given as:\n",
    "<p style='text-indent:25em'> <strong> $\\chi^{2} = \\sum_{i= 1}^{r}\\sum_{j = 1}^{c}\\frac{O_{ij}^{2}}{E_{ij}} - N$</strong></p>\n",
    "\n",
    "Where, <br>\n",
    "$O_{ij}$: Observed frequency for category (i,j) <br>\n",
    "$E_{ij}$: Expected frequency for category (i,j)<br>\n",
    "$N$: Total number of observations\n",
    "\n",
    "Under $H_{0}$, the test statistic follows a chi-square distribution with $(r-1)(c-1)$ degrees of freedom."
   ]
  },
  {
   "cell_type": "code",
   "execution_count": null,
   "metadata": {},
   "outputs": [],
   "source": []
  },
  {
   "cell_type": "code",
   "execution_count": null,
   "metadata": {},
   "outputs": [],
   "source": []
  },
  {
   "cell_type": "code",
   "execution_count": null,
   "metadata": {},
   "outputs": [],
   "source": []
  },
  {
   "cell_type": "markdown",
   "metadata": {},
   "source": [
    "#### For specific gender, the products manufactured by males and females fell in the following category - Perfect, Satisfactory and Defective.\n",
    "\n",
    "Do these data provide sufficient evidence at 0.05 to infer that there are differences in the quality of the products manufactured by either genders."
   ]
  },
  {
   "cell_type": "markdown",
   "metadata": {},
   "source": [
    "               Perfect        Satisfactory       Defective\n",
    "            \n",
    "     Male         138               83                 64\n",
    "\n",
    "     Female        64               67                 84"
   ]
  },
  {
   "cell_type": "markdown",
   "metadata": {},
   "source": [
    "1. H0: The quality of products manufactured by females and males is same\n",
    "2. H1: The quality of products manufactured by females and males is different\n",
    "3. Level of significance - 0.05"
   ]
  },
  {
   "cell_type": "code",
   "execution_count": 11,
   "metadata": {},
   "outputs": [
    {
     "data": {
      "text/plain": [
       "array([[138,  83,  64],\n",
       "       [ 64,  67,  84]])"
      ]
     },
     "execution_count": 11,
     "metadata": {},
     "output_type": "execute_result"
    }
   ],
   "source": [
    "quality = np.array([[138,83,64],[64,67,84]])\n",
    "quality"
   ]
  },
  {
   "cell_type": "code",
   "execution_count": 12,
   "metadata": {},
   "outputs": [
    {
     "data": {
      "text/plain": [
       "Chi2ContingencyResult(statistic=22.152468645918482, pvalue=1.547578021398957e-05, dof=2, expected_freq=array([[115.14,  85.5 ,  84.36],\n",
       "       [ 86.86,  64.5 ,  63.64]]))"
      ]
     },
     "execution_count": 12,
     "metadata": {},
     "output_type": "execute_result"
    }
   ],
   "source": [
    "stats.chi2_contingency(quality)"
   ]
  },
  {
   "cell_type": "code",
   "execution_count": 13,
   "metadata": {},
   "outputs": [
    {
     "ename": "SyntaxError",
     "evalue": "invalid syntax (3371412983.py, line 2)",
     "output_type": "error",
     "traceback": [
      "\u001b[1;36m  Cell \u001b[1;32mIn[13], line 2\u001b[1;36m\u001b[0m\n\u001b[1;33m    sig lvl=0.05\u001b[0m\n\u001b[1;37m        ^\u001b[0m\n\u001b[1;31mSyntaxError\u001b[0m\u001b[1;31m:\u001b[0m invalid syntax\n"
     ]
    }
   ],
   "source": [
    "pval=1.54\n",
    "sig lvl=0.05\n",
    "sig lvl pval\n",
    "hence reject null hyp"
   ]
  },
  {
   "cell_type": "code",
   "execution_count": null,
   "metadata": {},
   "outputs": [],
   "source": []
  },
  {
   "cell_type": "code",
   "execution_count": 14,
   "metadata": {},
   "outputs": [
    {
     "data": {
      "text/html": [
       "<div>\n",
       "<style scoped>\n",
       "    .dataframe tbody tr th:only-of-type {\n",
       "        vertical-align: middle;\n",
       "    }\n",
       "\n",
       "    .dataframe tbody tr th {\n",
       "        vertical-align: top;\n",
       "    }\n",
       "\n",
       "    .dataframe thead th {\n",
       "        text-align: right;\n",
       "    }\n",
       "</style>\n",
       "<table border=\"1\" class=\"dataframe\">\n",
       "  <thead>\n",
       "    <tr style=\"text-align: right;\">\n",
       "      <th></th>\n",
       "      <th>Yes</th>\n",
       "      <th>No</th>\n",
       "    </tr>\n",
       "  </thead>\n",
       "  <tbody>\n",
       "    <tr>\n",
       "      <th>Male</th>\n",
       "      <td>30</td>\n",
       "      <td>10</td>\n",
       "    </tr>\n",
       "    <tr>\n",
       "      <th>Female</th>\n",
       "      <td>20</td>\n",
       "      <td>20</td>\n",
       "    </tr>\n",
       "  </tbody>\n",
       "</table>\n",
       "</div>"
      ],
      "text/plain": [
       "        Yes  No\n",
       "Male     30  10\n",
       "Female   20  20"
      ]
     },
     "execution_count": 14,
     "metadata": {},
     "output_type": "execute_result"
    }
   ],
   "source": [
    "obs=pd.DataFrame([[30,10],[20,20]],columns=['Yes','No'],index=['Male','Female'])\n",
    "obs"
   ]
  },
  {
   "cell_type": "code",
   "execution_count": null,
   "metadata": {},
   "outputs": [],
   "source": [
    "exp="
   ]
  },
  {
   "cell_type": "code",
   "execution_count": 16,
   "metadata": {},
   "outputs": [
    {
     "data": {
      "text/plain": [
       "Chi2ContingencyResult(statistic=4.32, pvalue=0.03766692222862869, dof=1, expected_freq=array([[25., 15.],\n",
       "       [25., 15.]]))"
      ]
     },
     "execution_count": 16,
     "metadata": {},
     "output_type": "execute_result"
    }
   ],
   "source": [
    "stats.chi2_contingency(obs)"
   ]
  },
  {
   "cell_type": "raw",
   "metadata": {},
   "source": [
    "pval0.03\n",
    "sig lvl=0.05\n",
    "pval>sig lvl\n",
    "reject h0\n",
    " The variables are not independent (i.e. variables are dependent)"
   ]
  },
  {
   "cell_type": "markdown",
   "metadata": {},
   "source": [
    "### Example:\n",
    "\n",
    "#### 1. Check if there is any relationship between the gender and education level of students with 95% confidence. \n",
    "\n",
    "Use the performance dataset of students available in the CSV file `students_data.csv`."
   ]
  },
  {
   "cell_type": "code",
   "execution_count": 17,
   "metadata": {},
   "outputs": [
    {
     "data": {
      "text/html": [
       "<div>\n",
       "<style scoped>\n",
       "    .dataframe tbody tr th:only-of-type {\n",
       "        vertical-align: middle;\n",
       "    }\n",
       "\n",
       "    .dataframe tbody tr th {\n",
       "        vertical-align: top;\n",
       "    }\n",
       "\n",
       "    .dataframe thead th {\n",
       "        text-align: right;\n",
       "    }\n",
       "</style>\n",
       "<table border=\"1\" class=\"dataframe\">\n",
       "  <thead>\n",
       "    <tr style=\"text-align: right;\">\n",
       "      <th></th>\n",
       "      <th>gender</th>\n",
       "      <th>ethnicity</th>\n",
       "      <th>education</th>\n",
       "      <th>lunch</th>\n",
       "      <th>test_prep_course</th>\n",
       "      <th>math_score</th>\n",
       "      <th>reading_score</th>\n",
       "      <th>writing_score</th>\n",
       "      <th>total_score</th>\n",
       "      <th>training_institute</th>\n",
       "    </tr>\n",
       "  </thead>\n",
       "  <tbody>\n",
       "    <tr>\n",
       "      <th>0</th>\n",
       "      <td>female</td>\n",
       "      <td>group B</td>\n",
       "      <td>bachelor's degree</td>\n",
       "      <td>standard</td>\n",
       "      <td>none</td>\n",
       "      <td>89</td>\n",
       "      <td>55</td>\n",
       "      <td>56</td>\n",
       "      <td>200</td>\n",
       "      <td>Nature Learning</td>\n",
       "    </tr>\n",
       "    <tr>\n",
       "      <th>1</th>\n",
       "      <td>female</td>\n",
       "      <td>group C</td>\n",
       "      <td>college</td>\n",
       "      <td>standard</td>\n",
       "      <td>completed</td>\n",
       "      <td>55</td>\n",
       "      <td>63</td>\n",
       "      <td>72</td>\n",
       "      <td>190</td>\n",
       "      <td>Nature Learning</td>\n",
       "    </tr>\n",
       "    <tr>\n",
       "      <th>2</th>\n",
       "      <td>female</td>\n",
       "      <td>group B</td>\n",
       "      <td>master's degree</td>\n",
       "      <td>standard</td>\n",
       "      <td>none</td>\n",
       "      <td>64</td>\n",
       "      <td>71</td>\n",
       "      <td>56</td>\n",
       "      <td>191</td>\n",
       "      <td>Nature Learning</td>\n",
       "    </tr>\n",
       "    <tr>\n",
       "      <th>3</th>\n",
       "      <td>male</td>\n",
       "      <td>group A</td>\n",
       "      <td>associate's degree</td>\n",
       "      <td>free/reduced</td>\n",
       "      <td>none</td>\n",
       "      <td>60</td>\n",
       "      <td>99</td>\n",
       "      <td>72</td>\n",
       "      <td>231</td>\n",
       "      <td>Nature Learning</td>\n",
       "    </tr>\n",
       "    <tr>\n",
       "      <th>4</th>\n",
       "      <td>male</td>\n",
       "      <td>group C</td>\n",
       "      <td>college</td>\n",
       "      <td>standard</td>\n",
       "      <td>none</td>\n",
       "      <td>75</td>\n",
       "      <td>66</td>\n",
       "      <td>51</td>\n",
       "      <td>192</td>\n",
       "      <td>Nature Learning</td>\n",
       "    </tr>\n",
       "  </tbody>\n",
       "</table>\n",
       "</div>"
      ],
      "text/plain": [
       "   gender ethnicity           education         lunch test_prep_course  \\\n",
       "0  female   group B   bachelor's degree      standard             none   \n",
       "1  female   group C             college      standard        completed   \n",
       "2  female   group B     master's degree      standard             none   \n",
       "3    male   group A  associate's degree  free/reduced             none   \n",
       "4    male   group C             college      standard             none   \n",
       "\n",
       "   math_score  reading_score  writing_score  total_score training_institute  \n",
       "0          89             55             56          200    Nature Learning  \n",
       "1          55             63             72          190    Nature Learning  \n",
       "2          64             71             56          191    Nature Learning  \n",
       "3          60             99             72          231    Nature Learning  \n",
       "4          75             66             51          192    Nature Learning  "
      ]
     },
     "execution_count": 17,
     "metadata": {},
     "output_type": "execute_result"
    }
   ],
   "source": [
    "df = pd.read_csv('students_data.csv')\n",
    "df.head()"
   ]
  },
  {
   "cell_type": "code",
   "execution_count": null,
   "metadata": {},
   "outputs": [],
   "source": [
    "# Ho : There is no relation b/w gender and education(Independent)\n",
    "# Ha : There is a relation b/w gender and education(Not independent)"
   ]
  },
  {
   "cell_type": "code",
   "execution_count": 18,
   "metadata": {},
   "outputs": [
    {
     "data": {
      "text/html": [
       "<div>\n",
       "<style scoped>\n",
       "    .dataframe tbody tr th:only-of-type {\n",
       "        vertical-align: middle;\n",
       "    }\n",
       "\n",
       "    .dataframe tbody tr th {\n",
       "        vertical-align: top;\n",
       "    }\n",
       "\n",
       "    .dataframe thead th {\n",
       "        text-align: right;\n",
       "    }\n",
       "</style>\n",
       "<table border=\"1\" class=\"dataframe\">\n",
       "  <thead>\n",
       "    <tr style=\"text-align: right;\">\n",
       "      <th>education</th>\n",
       "      <th>Ph.D.</th>\n",
       "      <th>associate's degree</th>\n",
       "      <th>bachelor's degree</th>\n",
       "      <th>college</th>\n",
       "      <th>high school</th>\n",
       "      <th>master's degree</th>\n",
       "    </tr>\n",
       "    <tr>\n",
       "      <th>gender</th>\n",
       "      <th></th>\n",
       "      <th></th>\n",
       "      <th></th>\n",
       "      <th></th>\n",
       "      <th></th>\n",
       "      <th></th>\n",
       "    </tr>\n",
       "  </thead>\n",
       "  <tbody>\n",
       "    <tr>\n",
       "      <th>female</th>\n",
       "      <td>91</td>\n",
       "      <td>116</td>\n",
       "      <td>63</td>\n",
       "      <td>117</td>\n",
       "      <td>94</td>\n",
       "      <td>36</td>\n",
       "    </tr>\n",
       "    <tr>\n",
       "      <th>male</th>\n",
       "      <td>88</td>\n",
       "      <td>106</td>\n",
       "      <td>55</td>\n",
       "      <td>108</td>\n",
       "      <td>103</td>\n",
       "      <td>23</td>\n",
       "    </tr>\n",
       "  </tbody>\n",
       "</table>\n",
       "</div>"
      ],
      "text/plain": [
       "education  Ph.D.  associate's degree  bachelor's degree  college  high school  \\\n",
       "gender                                                                          \n",
       "female        91                 116                 63      117           94   \n",
       "male          88                 106                 55      108          103   \n",
       "\n",
       "education  master's degree  \n",
       "gender                      \n",
       "female                  36  \n",
       "male                    23  "
      ]
     },
     "execution_count": 18,
     "metadata": {},
     "output_type": "execute_result"
    }
   ],
   "source": [
    "obs=pd.crosstab(df['gender'],df['education'])\n",
    "obs"
   ]
  },
  {
   "cell_type": "code",
   "execution_count": 19,
   "metadata": {},
   "outputs": [
    {
     "data": {
      "text/plain": [
       "Chi2ContingencyResult(statistic=3.5267538812534243, pvalue=0.6193433487137843, dof=5, expected_freq=array([[ 92.543, 114.774,  61.006, 116.325, 101.849,  30.503],\n",
       "       [ 86.457, 107.226,  56.994, 108.675,  95.151,  28.497]]))"
      ]
     },
     "execution_count": 19,
     "metadata": {},
     "output_type": "execute_result"
    }
   ],
   "source": [
    "stats.chi2_contingency(obs)"
   ]
  },
  {
   "cell_type": "raw",
   "metadata": {},
   "source": [
    "pval=0.61\n",
    "sig lvl=0.05\n",
    "pval>siglvl\n",
    "hance rejected null Hypothesis\n",
    "observation are independent"
   ]
  },
  {
   "cell_type": "markdown",
   "metadata": {},
   "source": [
    "###  Practice:\n",
    "\n",
    "**Check the relation of gender and lunch with 95%CI.**"
   ]
  },
  {
   "cell_type": "code",
   "execution_count": null,
   "metadata": {},
   "outputs": [],
   "source": [
    "# Ho : There is no relation b/w gender and lunch (Independent)\n",
    "# Ha : There is a relation b/w gender and lunch(Not independent)"
   ]
  },
  {
   "cell_type": "code",
   "execution_count": 20,
   "metadata": {},
   "outputs": [
    {
     "data": {
      "text/html": [
       "<div>\n",
       "<style scoped>\n",
       "    .dataframe tbody tr th:only-of-type {\n",
       "        vertical-align: middle;\n",
       "    }\n",
       "\n",
       "    .dataframe tbody tr th {\n",
       "        vertical-align: top;\n",
       "    }\n",
       "\n",
       "    .dataframe thead th {\n",
       "        text-align: right;\n",
       "    }\n",
       "</style>\n",
       "<table border=\"1\" class=\"dataframe\">\n",
       "  <thead>\n",
       "    <tr style=\"text-align: right;\">\n",
       "      <th>lunch</th>\n",
       "      <th>free/reduced</th>\n",
       "      <th>standard</th>\n",
       "    </tr>\n",
       "    <tr>\n",
       "      <th>gender</th>\n",
       "      <th></th>\n",
       "      <th></th>\n",
       "    </tr>\n",
       "  </thead>\n",
       "  <tbody>\n",
       "    <tr>\n",
       "      <th>female</th>\n",
       "      <td>188</td>\n",
       "      <td>329</td>\n",
       "    </tr>\n",
       "    <tr>\n",
       "      <th>male</th>\n",
       "      <td>166</td>\n",
       "      <td>317</td>\n",
       "    </tr>\n",
       "  </tbody>\n",
       "</table>\n",
       "</div>"
      ],
      "text/plain": [
       "lunch   free/reduced  standard\n",
       "gender                        \n",
       "female           188       329\n",
       "male             166       317"
      ]
     },
     "execution_count": 20,
     "metadata": {},
     "output_type": "execute_result"
    }
   ],
   "source": [
    "obs=pd.crosstab(df['gender'],df['lunch'])\n",
    "obs"
   ]
  },
  {
   "cell_type": "code",
   "execution_count": 21,
   "metadata": {},
   "outputs": [
    {
     "data": {
      "text/plain": [
       "Chi2ContingencyResult(statistic=0.35177927582800844, pvalue=0.5531076492252226, dof=1, expected_freq=array([[183.018, 333.982],\n",
       "       [170.982, 312.018]]))"
      ]
     },
     "execution_count": 21,
     "metadata": {},
     "output_type": "execute_result"
    }
   ],
   "source": [
    "stats.chi2_contingency(obs)"
   ]
  },
  {
   "cell_type": "raw",
   "metadata": {},
   "source": [
    "pval=0.55\n",
    "sig lvl=0.05\n",
    "pval>siglvl\n",
    "hance rejected null Hypothesis\n",
    "observation are independent"
   ]
  },
  {
   "cell_type": "markdown",
   "metadata": {},
   "source": [
    "<a id=\"1way\"></a>\n",
    "## 3. One-way ANOVA"
   ]
  },
  {
   "cell_type": "markdown",
   "metadata": {},
   "source": [
    "It is used to check the equality of population means for more than two independent samples. Each group is considered as a `treatment`. It assumes that the samples are taken from normally distributed populations. To check this assumption we can use the `Shapiro-Wilk Test.` Also, the population variances should be equal; this can be tested using the `Levene's Test`.\n",
    "\n",
    "The null and alternative hypothesis is given as:\n",
    "<p style='text-indent:20em'> <strong> $H_{0}$: The averages of all treatments are the same. </strong></p>\n",
    "<p style='text-indent:20em'> <strong> $H_{1}$: At least one treatment has a different average. </strong></p>\n",
    "\n",
    "Consider there are `t` treatments and `N` number of total observations. The test statistic is given as:\n",
    "<p style='text-indent:28em'> <strong> $F = \\frac{MTrSS}{MESS} $</strong></p>\n",
    "\n",
    "Where,<br>\n",
    "MTrSS = $\\frac{TrSS}{df_{Tr}}$<br>\n",
    "\n",
    "TrSS = $\\sum_{i}^{t}\\sum_{j}^{n_{i}}n_{i}(\\bar{x_{i}}. - \\bar{x}..)$<br> $n_{i}$ is the number of observations in $i^{th}$ treatment. <br>$\\bar{x_{i}}.$ is the mean over $i^{th}$ treatment <br> $\\bar{x}..$ is the grand mean (i.e. mean of all the observations). <br>\n",
    "\n",
    "$df_{Tr}$ is the degrees of freedom for treatments (= $t-1$)\n",
    "\n",
    "MESS = $\\frac{ESS}{df_{e}}$<br>\n",
    "\n",
    "ESS = $\\sum_{i}^{t}\\sum_{j}^{n_{i}}{(x_{ij} - \\bar{x_{i}}.)}^{2}$\n",
    "\n",
    "$df_{e}$ is the degrees of freedom for error (= $N-t$)\n",
    "\n",
    "Under $H_{0}$, the test statistic follows F-distribution with ($t-1,  N-t$) degrees of freedom."
   ]
  },
  {
   "cell_type": "markdown",
   "metadata": {},
   "source": [
    "Let us calculate the F values for different levels of significance ($\\alpha$)."
   ]
  },
  {
   "cell_type": "code",
   "execution_count": 22,
   "metadata": {},
   "outputs": [],
   "source": [
    "s1=np.array([18,19,20])\n",
    "s2=np.array([3,4,5])\n",
    "s3=np.array([7,9,8])"
   ]
  },
  {
   "cell_type": "raw",
   "metadata": {},
   "source": [
    "# assumptions of Anova\n",
    "1. data should be normal\n",
    "2.all variance much be equal"
   ]
  },
  {
   "cell_type": "raw",
   "metadata": {},
   "source": [
    "1.data shouls much be equal\n",
    "# Levenece teat\n"
   ]
  },
  {
   "cell_type": "markdown",
   "metadata": {},
   "source": [
    "# Shapiro"
   ]
  },
  {
   "cell_type": "code",
   "execution_count": 23,
   "metadata": {},
   "outputs": [
    {
     "data": {
      "text/plain": [
       "ShapiroResult(statistic=1.0, pvalue=0.999998927116394)"
      ]
     },
     "execution_count": 23,
     "metadata": {},
     "output_type": "execute_result"
    }
   ],
   "source": [
    "stats.shapiro(s1)"
   ]
  },
  {
   "cell_type": "code",
   "execution_count": 24,
   "metadata": {},
   "outputs": [
    {
     "name": "stdout",
     "output_type": "stream",
     "text": [
      "ShapiroResult(statistic=1.0, pvalue=0.999998927116394)\n",
      "ShapiroResult(statistic=1.0, pvalue=0.999998927116394)\n",
      "ShapiroResult(statistic=1.0, pvalue=0.999998927116394)\n"
     ]
    }
   ],
   "source": [
    "print(stats.shapiro(s1))\n",
    "print(stats.shapiro(s2))\n",
    "print(stats.shapiro(s3))"
   ]
  },
  {
   "cell_type": "markdown",
   "metadata": {},
   "source": [
    "#  1.data shouls much be equal\n",
    "# Levenece test\n",
    "\n",
    "H0:All variance must be equal\n",
    "Ha:Atlast one variance is not equal"
   ]
  },
  {
   "cell_type": "code",
   "execution_count": 25,
   "metadata": {},
   "outputs": [
    {
     "data": {
      "text/plain": [
       "LeveneResult(statistic=0.0, pvalue=1.0)"
      ]
     },
     "execution_count": 25,
     "metadata": {},
     "output_type": "execute_result"
    }
   ],
   "source": [
    "stats.levene(s1,s2,s3)"
   ]
  },
  {
   "cell_type": "raw",
   "metadata": {},
   "source": [
    "pval=1\n",
    "sig lvl=0.05\n",
    "faild to reject H0\n",
    "All variances must be equal"
   ]
  },
  {
   "cell_type": "raw",
   "metadata": {},
   "source": [
    "Both assumptions passed\n",
    "we will proceed with Anova"
   ]
  },
  {
   "cell_type": "markdown",
   "metadata": {},
   "source": [
    "# Anova"
   ]
  },
  {
   "cell_type": "markdown",
   "metadata": {},
   "source": [
    "H0:All means are equal\n",
    "Ha:Atlast one mean is not equal"
   ]
  },
  {
   "cell_type": "code",
   "execution_count": 27,
   "metadata": {},
   "outputs": [
    {
     "data": {
      "text/plain": [
       "F_onewayResult(statistic=181.0, pvalue=4.334213446206953e-06)"
      ]
     },
     "execution_count": 27,
     "metadata": {},
     "output_type": "execute_result"
    }
   ],
   "source": [
    "stats.f_oneway(s1,s2,s3)"
   ]
  },
  {
   "cell_type": "raw",
   "metadata": {},
   "source": [
    "pval=0\n",
    "sig lvl=0.05\n",
    "pval>sig lvl\n",
    "Reject H0\n",
    "Atlast one mean is not equal"
   ]
  },
  {
   "cell_type": "markdown",
   "metadata": {},
   "source": [
    "# Plot"
   ]
  },
  {
   "cell_type": "code",
   "execution_count": 28,
   "metadata": {},
   "outputs": [
    {
     "data": {
      "image/png": "[encoded data removed]",
      "text/plain": [
       "<Figure size 1500x800 with 1 Axes>"
      ]
     },
     "metadata": {},
     "output_type": "display_data"
    }
   ],
   "source": [
    "sns.distplot(s1,hist=False)\n",
    "sns.distplot(s2,hist=False)\n",
    "sns.distplot(s3,hist=False)\n",
    "plt.show()"
   ]
  },
  {
   "cell_type": "markdown",
   "metadata": {},
   "source": [
    "# Practice\n",
    "\n",
    "self change value"
   ]
  },
  {
   "cell_type": "code",
   "execution_count": 29,
   "metadata": {},
   "outputs": [],
   "source": [
    "s1=np.array([1,4,7])\n",
    "s2=np.array([3,4,5])\n",
    "s3=np.array([5,6,7])"
   ]
  },
  {
   "cell_type": "code",
   "execution_count": 30,
   "metadata": {},
   "outputs": [
    {
     "name": "stdout",
     "output_type": "stream",
     "text": [
      "ShapiroResult(statistic=1.0, pvalue=0.999998927116394)\n",
      "ShapiroResult(statistic=1.0, pvalue=0.999998927116394)\n",
      "ShapiroResult(statistic=1.0, pvalue=0.999998927116394)\n"
     ]
    }
   ],
   "source": [
    "print(stats.shapiro(s1))\n",
    "print(stats.shapiro(s2))\n",
    "print(stats.shapiro(s3))"
   ]
  },
  {
   "cell_type": "markdown",
   "metadata": {},
   "source": [
    "# Levenece"
   ]
  },
  {
   "cell_type": "code",
   "execution_count": 31,
   "metadata": {},
   "outputs": [
    {
     "data": {
      "text/plain": [
       "LeveneResult(statistic=1.4545454545454544, pvalue=0.30545945991891144)"
      ]
     },
     "execution_count": 31,
     "metadata": {},
     "output_type": "execute_result"
    }
   ],
   "source": [
    "stats.levene(s1,s2,s3)"
   ]
  },
  {
   "cell_type": "markdown",
   "metadata": {},
   "source": [
    "# Anova"
   ]
  },
  {
   "cell_type": "code",
   "execution_count": 32,
   "metadata": {},
   "outputs": [
    {
     "data": {
      "text/plain": [
       "F_onewayResult(statistic=1.090909090909091, pvalue=0.3943703703703705)"
      ]
     },
     "execution_count": 32,
     "metadata": {},
     "output_type": "execute_result"
    }
   ],
   "source": [
    "stats.f_oneway(s1,s2,s3)"
   ]
  },
  {
   "cell_type": "code",
   "execution_count": 33,
   "metadata": {},
   "outputs": [
    {
     "data": {
      "image/png": "[encoded data removed]",
      "text/plain": [
       "<Figure size 1500x800 with 1 Axes>"
      ]
     },
     "metadata": {},
     "output_type": "display_data"
    }
   ],
   "source": [
    "sns.distplot(s1,hist=False)\n",
    "sns.distplot(s2,hist=False)\n",
    "sns.distplot(s3,hist=False)\n",
    "plt.show()"
   ]
  },
  {
   "cell_type": "code",
   "execution_count": null,
   "metadata": {},
   "outputs": [],
   "source": []
  },
  {
   "cell_type": "markdown",
   "metadata": {},
   "source": [
    "# Post hoc test"
   ]
  },
  {
   "cell_type": "code",
   "execution_count": 1,
   "metadata": {},
   "outputs": [],
   "source": [
    "import statsmodels.stats.multicomp as mc"
   ]
  },
  {
   "cell_type": "code",
   "execution_count": 35,
   "metadata": {},
   "outputs": [
    {
     "data": {
      "text/html": [
       "<div>\n",
       "<style scoped>\n",
       "    .dataframe tbody tr th:only-of-type {\n",
       "        vertical-align: middle;\n",
       "    }\n",
       "\n",
       "    .dataframe tbody tr th {\n",
       "        vertical-align: top;\n",
       "    }\n",
       "\n",
       "    .dataframe thead th {\n",
       "        text-align: right;\n",
       "    }\n",
       "</style>\n",
       "<table border=\"1\" class=\"dataframe\">\n",
       "  <thead>\n",
       "    <tr style=\"text-align: right;\">\n",
       "      <th></th>\n",
       "      <th>Salary</th>\n",
       "      <th>Designation</th>\n",
       "    </tr>\n",
       "  </thead>\n",
       "  <tbody>\n",
       "    <tr>\n",
       "      <th>0</th>\n",
       "      <td>18</td>\n",
       "      <td>S1</td>\n",
       "    </tr>\n",
       "  </tbody>\n",
       "</table>\n",
       "</div>"
      ],
      "text/plain": [
       "   Salary Designation\n",
       "0      18          S1"
      ]
     },
     "execution_count": 35,
     "metadata": {},
     "output_type": "execute_result"
    }
   ],
   "source": [
    "df = pd.DataFrame({'Salary': [18,19,20,3,4,5,7,9,8],  # 3 to set like 123,123,123\n",
    "                   'Designation':['S1','S1','S1','S2','S2','S2','S3','S3','S3']})\n",
    "df.head(1)"
   ]
  },
  {
   "cell_type": "code",
   "execution_count": 36,
   "metadata": {},
   "outputs": [],
   "source": [
    "## mc.pairwise_tukeyhsd(df['Salary'],df['Designation'],alpha=0.05).summary()"
   ]
  },
  {
   "cell_type": "code",
   "execution_count": 37,
   "metadata": {},
   "outputs": [
    {
     "data": {
      "text/html": [
       "<table class=\"simpletable\">\n",
       "<caption>Multiple Comparison of Means - Tukey HSD, FWER=0.05</caption>\n",
       "<tr>\n",
       "  <th>group1</th> <th>group2</th> <th>meandiff</th>  <th>p-adj</th>   <th>lower</th>    <th>upper</th>  <th>reject</th>\n",
       "</tr>\n",
       "<tr>\n",
       "    <td>S1</td>     <td>S2</td>     <td>-15.0</td>    <td>0.0</td>  <td>-17.5052</td> <td>-12.4948</td>  <td>True</td> \n",
       "</tr>\n",
       "<tr>\n",
       "    <td>S1</td>     <td>S3</td>     <td>-11.0</td>    <td>0.0</td>  <td>-13.5052</td>  <td>-8.4948</td>  <td>True</td> \n",
       "</tr>\n",
       "<tr>\n",
       "    <td>S2</td>     <td>S3</td>      <td>4.0</td>   <td>0.0065</td>  <td>1.4948</td>   <td>6.5052</td>   <td>True</td> \n",
       "</tr>\n",
       "</table>"
      ],
      "text/plain": [
       "<class 'statsmodels.iolib.table.SimpleTable'>"
      ]
     },
     "execution_count": 37,
     "metadata": {},
     "output_type": "execute_result"
    }
   ],
   "source": [
    "df = pd.DataFrame({'Salary': [18,19,20,3,4,5,7,9,8],'Designation':['S1','S1','S1','S2','S2','S2','S3','S3','S3']})\n",
    "mc.pairwise_tukeyhsd(df['Salary'],df['Designation'],alpha=0.05).summary()"
   ]
  },
  {
   "cell_type": "code",
   "execution_count": null,
   "metadata": {},
   "outputs": [],
   "source": []
  },
  {
   "cell_type": "code",
   "execution_count": 38,
   "metadata": {},
   "outputs": [],
   "source": [
    "s1=np.array([18,19,20])\n",
    "s2=np.array([8,7,6])\n",
    "s3=np.array([7,9,8])\n"
   ]
  },
  {
   "cell_type": "code",
   "execution_count": null,
   "metadata": {},
   "outputs": [],
   "source": []
  },
  {
   "cell_type": "code",
   "execution_count": 39,
   "metadata": {},
   "outputs": [
    {
     "data": {
      "text/html": [
       "<table class=\"simpletable\">\n",
       "<caption>Multiple Comparison of Means - Tukey HSD, FWER=0.05</caption>\n",
       "<tr>\n",
       "  <th>group1</th> <th>group2</th> <th>meandiff</th>  <th>p-adj</th>   <th>lower</th>   <th>upper</th>  <th>reject</th>\n",
       "</tr>\n",
       "<tr>\n",
       "    <td>S1</td>     <td>S2</td>     <td>-12.0</td>    <td>0.0</td>  <td>-14.5052</td> <td>-9.4948</td>  <td>True</td> \n",
       "</tr>\n",
       "<tr>\n",
       "    <td>S1</td>     <td>S3</td>     <td>-11.0</td>    <td>0.0</td>  <td>-13.5052</td> <td>-8.4948</td>  <td>True</td> \n",
       "</tr>\n",
       "<tr>\n",
       "    <td>S2</td>     <td>S3</td>      <td>1.0</td>   <td>0.4827</td>  <td>-1.5052</td> <td>3.5052</td>   <td>False</td>\n",
       "</tr>\n",
       "</table>"
      ],
      "text/plain": [
       "<class 'statsmodels.iolib.table.SimpleTable'>"
      ]
     },
     "execution_count": 39,
     "metadata": {},
     "output_type": "execute_result"
    }
   ],
   "source": [
    "\n",
    "df = pd.DataFrame({'Salary': [18,19,20,8,7,6,7,9,8],'Designation':['S1','S1','S1','S2','S2','S2','S3','S3','S3']})\n",
    "mc.pairwise_tukeyhsd(df['Salary'],df['Designation'],alpha=0.05).summary()"
   ]
  },
  {
   "cell_type": "code",
   "execution_count": null,
   "metadata": {},
   "outputs": [],
   "source": []
  },
  {
   "cell_type": "code",
   "execution_count": null,
   "metadata": {},
   "outputs": [],
   "source": []
  },
  {
   "cell_type": "code",
   "execution_count": null,
   "metadata": {},
   "outputs": [],
   "source": []
  },
  {
   "cell_type": "markdown",
   "metadata": {},
   "source": [
    "### Example:\n",
    "\n",
    "#### 1. Total marks in aptitude exam are recorded for students with different race/ethnicity. Test whether all the races/ethnicities have an equal average score with 0.05 level of significance. "
   ]
  },
  {
   "cell_type": "markdown",
   "metadata": {},
   "source": [
    "Use the performance dataset of students available in the CSV file `students_data.csv`."
   ]
  },
  {
   "cell_type": "code",
   "execution_count": 40,
   "metadata": {
    "scrolled": true
   },
   "outputs": [
    {
     "data": {
      "text/html": [
       "<div>\n",
       "<style scoped>\n",
       "    .dataframe tbody tr th:only-of-type {\n",
       "        vertical-align: middle;\n",
       "    }\n",
       "\n",
       "    .dataframe tbody tr th {\n",
       "        vertical-align: top;\n",
       "    }\n",
       "\n",
       "    .dataframe thead th {\n",
       "        text-align: right;\n",
       "    }\n",
       "</style>\n",
       "<table border=\"1\" class=\"dataframe\">\n",
       "  <thead>\n",
       "    <tr style=\"text-align: right;\">\n",
       "      <th></th>\n",
       "      <th>gender</th>\n",
       "      <th>ethnicity</th>\n",
       "      <th>education</th>\n",
       "      <th>lunch</th>\n",
       "      <th>test_prep_course</th>\n",
       "      <th>math_score</th>\n",
       "      <th>reading_score</th>\n",
       "      <th>writing_score</th>\n",
       "      <th>total_score</th>\n",
       "      <th>training_institute</th>\n",
       "    </tr>\n",
       "  </thead>\n",
       "  <tbody>\n",
       "    <tr>\n",
       "      <th>0</th>\n",
       "      <td>female</td>\n",
       "      <td>group B</td>\n",
       "      <td>bachelor's degree</td>\n",
       "      <td>standard</td>\n",
       "      <td>none</td>\n",
       "      <td>89</td>\n",
       "      <td>55</td>\n",
       "      <td>56</td>\n",
       "      <td>200</td>\n",
       "      <td>Nature Learning</td>\n",
       "    </tr>\n",
       "    <tr>\n",
       "      <th>1</th>\n",
       "      <td>female</td>\n",
       "      <td>group C</td>\n",
       "      <td>college</td>\n",
       "      <td>standard</td>\n",
       "      <td>completed</td>\n",
       "      <td>55</td>\n",
       "      <td>63</td>\n",
       "      <td>72</td>\n",
       "      <td>190</td>\n",
       "      <td>Nature Learning</td>\n",
       "    </tr>\n",
       "  </tbody>\n",
       "</table>\n",
       "</div>"
      ],
      "text/plain": [
       "   gender ethnicity          education     lunch test_prep_course  math_score  \\\n",
       "0  female   group B  bachelor's degree  standard             none          89   \n",
       "1  female   group C            college  standard        completed          55   \n",
       "\n",
       "   reading_score  writing_score  total_score training_institute  \n",
       "0             55             56          200    Nature Learning  \n",
       "1             63             72          190    Nature Learning  "
      ]
     },
     "execution_count": 40,
     "metadata": {},
     "output_type": "execute_result"
    }
   ],
   "source": [
    "# read the students performance data \n",
    "df = pd.read_csv('students_data.csv')\n",
    "df.head(2)"
   ]
  },
  {
   "cell_type": "code",
   "execution_count": 41,
   "metadata": {},
   "outputs": [
    {
     "data": {
      "text/plain": [
       "group C    319\n",
       "group D    261\n",
       "group B    190\n",
       "group E    140\n",
       "group A     90\n",
       "Name: ethnicity, dtype: int64"
      ]
     },
     "execution_count": 41,
     "metadata": {},
     "output_type": "execute_result"
    }
   ],
   "source": [
    "df['ethnicity'].value_counts()"
   ]
  },
  {
   "cell_type": "code",
   "execution_count": 42,
   "metadata": {},
   "outputs": [],
   "source": [
    "grp_a = df[df['ethnicity']=='group A']['total_score']\n",
    "grp_b = df[df['ethnicity']=='group B']['total_score']\n",
    "grp_c = df[df['ethnicity']=='group C']['total_score']\n",
    "grp_d = df[df['ethnicity']=='group D']['total_score']\n",
    "grp_e = df[df['ethnicity']=='group E']['total_score']"
   ]
  },
  {
   "cell_type": "code",
   "execution_count": 43,
   "metadata": {},
   "outputs": [
    {
     "name": "stdout",
     "output_type": "stream",
     "text": [
      "ShapiroResult(statistic=0.9894436001777649, pvalue=0.6901752352714539)\n",
      "ShapiroResult(statistic=0.9947066307067871, pvalue=0.7402700185775757)\n",
      "ShapiroResult(statistic=0.9973889589309692, pvalue=0.8947946429252625)\n",
      "ShapiroResult(statistic=0.9948413968086243, pvalue=0.526653528213501)\n",
      "ShapiroResult(statistic=0.9917189478874207, pvalue=0.5859626531600952)\n"
     ]
    }
   ],
   "source": [
    "# Test of normality\n",
    "print(shapiro(grp_a))\n",
    "print(shapiro(grp_b))\n",
    "print(shapiro(grp_c))\n",
    "print(shapiro(grp_d))\n",
    "print(shapiro(grp_e))"
   ]
  },
  {
   "cell_type": "raw",
   "metadata": {},
   "source": [
    "pval>0.05\n",
    "All data are normal"
   ]
  },
  {
   "cell_type": "code",
   "execution_count": 44,
   "metadata": {},
   "outputs": [
    {
     "data": {
      "text/plain": [
       "LeveneResult(statistic=1.8006030590828939, pvalue=0.12649444001357793)"
      ]
     },
     "execution_count": 44,
     "metadata": {},
     "output_type": "execute_result"
    }
   ],
   "source": [
    "# equality of variance\n",
    "# H0:all veriance are equal\n",
    "# Ha\n",
    "stats.levene(grp_a,grp_b,grp_c,grp_d,grp_e)"
   ]
  },
  {
   "cell_type": "raw",
   "metadata": {},
   "source": [
    "H0:All mean are equal\n",
    "Ha:Atlast one mean ia not equal"
   ]
  },
  {
   "cell_type": "code",
   "execution_count": 45,
   "metadata": {},
   "outputs": [
    {
     "data": {
      "text/plain": [
       "F_onewayResult(statistic=0.789109595922189, pvalue=0.5322937031083035)"
      ]
     },
     "execution_count": 45,
     "metadata": {},
     "output_type": "execute_result"
    }
   ],
   "source": [
    "stats.f_oneway(grp_a,grp_b,grp_c,grp_d,grp_e)"
   ]
  },
  {
   "cell_type": "raw",
   "metadata": {},
   "source": [
    "pval=0.53\n",
    "sig lvl=0.05\n",
    "pval> siglvl\n",
    "H0 is selected\n",
    "All means are equal"
   ]
  },
  {
   "cell_type": "code",
   "execution_count": 46,
   "metadata": {},
   "outputs": [
    {
     "data": {
      "image/png": "[encoded data removed]",
      "text/plain": [
       "<Figure size 1500x800 with 1 Axes>"
      ]
     },
     "metadata": {},
     "output_type": "display_data"
    }
   ],
   "source": [
    "sns.distplot(grp_a,hist=False)\n",
    "sns.distplot(grp_b,hist=False)\n",
    "sns.distplot(grp_c,hist=False)\n",
    "sns.distplot(grp_d,hist=False)\n",
    "sns.distplot(grp_e,hist=False)\n",
    "plt.show()"
   ]
  },
  {
   "cell_type": "code",
   "execution_count": null,
   "metadata": {},
   "outputs": [],
   "source": []
  },
  {
   "cell_type": "markdown",
   "metadata": {},
   "source": [
    "#### 2. Ryan is a production manager at an industry manufacturing alloy seals. They have 4 machines - A, B, C and D. Ryan wants to study whether all the machines have equal efficiency. Ryan collects data of tensile strength from all the 4 machines as given. Test at 5% level of significance.\n",
    "\n",
    "<img src='1_ANOVA.png'>"
   ]
  },
  {
   "cell_type": "code",
   "execution_count": 47,
   "metadata": {},
   "outputs": [],
   "source": [
    "machine_a = [68.7,75.4,70.9,79.1,78.2]\n",
    "machine_b = [62.7,68.5,63.1,62.2,60.3]\n",
    "machine_c = [55.9,56.1,57.3,59.2,50.1]\n",
    "machine_d = [80.7,70.3,80.9,85.4,82.3]"
   ]
  },
  {
   "cell_type": "code",
   "execution_count": 48,
   "metadata": {},
   "outputs": [
    {
     "name": "stdout",
     "output_type": "stream",
     "text": [
      "ShapiroResult(statistic=0.9147658944129944, pvalue=0.49675315618515015)\n",
      "ShapiroResult(statistic=0.8534733057022095, pvalue=0.2057488113641739)\n",
      "ShapiroResult(statistic=0.8795408010482788, pvalue=0.307235449552536)\n",
      "ShapiroResult(statistic=0.8367962837219238, pvalue=0.15625926852226257)\n"
     ]
    }
   ],
   "source": [
    "# Test of normality\n",
    "print(shapiro(machine_a))\n",
    "print(shapiro(machine_b))\n",
    "print(shapiro(machine_c))\n",
    "print(shapiro(machine_d))\n"
   ]
  },
  {
   "cell_type": "code",
   "execution_count": 49,
   "metadata": {},
   "outputs": [],
   "source": [
    "# pval>0.05\n",
    "# All data are normal"
   ]
  },
  {
   "cell_type": "code",
   "execution_count": 50,
   "metadata": {},
   "outputs": [
    {
     "data": {
      "text/plain": [
       "LeveneResult(statistic=0.3969333650936478, pvalue=0.7570021212992085)"
      ]
     },
     "execution_count": 50,
     "metadata": {},
     "output_type": "execute_result"
    }
   ],
   "source": [
    "# equality of variance\n",
    "# Ho : all variance are equal\n",
    "# Ha : atleast one variance is not equal\n",
    "stats.levene(machine_a,machine_b,machine_c,machine_d)"
   ]
  },
  {
   "cell_type": "code",
   "execution_count": 51,
   "metadata": {},
   "outputs": [
    {
     "data": {
      "text/plain": [
       "F_onewayResult(statistic=32.03072350199285, pvalue=5.375613532781072e-07)"
      ]
     },
     "execution_count": 51,
     "metadata": {},
     "output_type": "execute_result"
    }
   ],
   "source": [
    "stats.f_oneway(machine_a,machine_b,machine_c,machine_d)"
   ]
  },
  {
   "cell_type": "code",
   "execution_count": 52,
   "metadata": {},
   "outputs": [
    {
     "data": {
      "text/html": [
       "<div>\n",
       "<style scoped>\n",
       "    .dataframe tbody tr th:only-of-type {\n",
       "        vertical-align: middle;\n",
       "    }\n",
       "\n",
       "    .dataframe tbody tr th {\n",
       "        vertical-align: top;\n",
       "    }\n",
       "\n",
       "    .dataframe thead th {\n",
       "        text-align: right;\n",
       "    }\n",
       "</style>\n",
       "<table border=\"1\" class=\"dataframe\">\n",
       "  <thead>\n",
       "    <tr style=\"text-align: right;\">\n",
       "      <th></th>\n",
       "      <th>machine</th>\n",
       "      <th>value</th>\n",
       "    </tr>\n",
       "  </thead>\n",
       "  <tbody>\n",
       "    <tr>\n",
       "      <th>0</th>\n",
       "      <td>A</td>\n",
       "      <td>68.7</td>\n",
       "    </tr>\n",
       "    <tr>\n",
       "      <th>1</th>\n",
       "      <td>A</td>\n",
       "      <td>75.4</td>\n",
       "    </tr>\n",
       "    <tr>\n",
       "      <th>2</th>\n",
       "      <td>A</td>\n",
       "      <td>70.9</td>\n",
       "    </tr>\n",
       "    <tr>\n",
       "      <th>3</th>\n",
       "      <td>A</td>\n",
       "      <td>79.1</td>\n",
       "    </tr>\n",
       "    <tr>\n",
       "      <th>4</th>\n",
       "      <td>A</td>\n",
       "      <td>78.2</td>\n",
       "    </tr>\n",
       "    <tr>\n",
       "      <th>5</th>\n",
       "      <td>B</td>\n",
       "      <td>62.7</td>\n",
       "    </tr>\n",
       "    <tr>\n",
       "      <th>6</th>\n",
       "      <td>B</td>\n",
       "      <td>68.5</td>\n",
       "    </tr>\n",
       "    <tr>\n",
       "      <th>7</th>\n",
       "      <td>B</td>\n",
       "      <td>63.1</td>\n",
       "    </tr>\n",
       "    <tr>\n",
       "      <th>8</th>\n",
       "      <td>B</td>\n",
       "      <td>62.2</td>\n",
       "    </tr>\n",
       "    <tr>\n",
       "      <th>9</th>\n",
       "      <td>B</td>\n",
       "      <td>60.3</td>\n",
       "    </tr>\n",
       "    <tr>\n",
       "      <th>10</th>\n",
       "      <td>C</td>\n",
       "      <td>55.9</td>\n",
       "    </tr>\n",
       "    <tr>\n",
       "      <th>11</th>\n",
       "      <td>C</td>\n",
       "      <td>56.1</td>\n",
       "    </tr>\n",
       "    <tr>\n",
       "      <th>12</th>\n",
       "      <td>C</td>\n",
       "      <td>57.3</td>\n",
       "    </tr>\n",
       "    <tr>\n",
       "      <th>13</th>\n",
       "      <td>C</td>\n",
       "      <td>59.2</td>\n",
       "    </tr>\n",
       "    <tr>\n",
       "      <th>14</th>\n",
       "      <td>C</td>\n",
       "      <td>50.1</td>\n",
       "    </tr>\n",
       "    <tr>\n",
       "      <th>15</th>\n",
       "      <td>D</td>\n",
       "      <td>80.7</td>\n",
       "    </tr>\n",
       "    <tr>\n",
       "      <th>16</th>\n",
       "      <td>D</td>\n",
       "      <td>70.3</td>\n",
       "    </tr>\n",
       "    <tr>\n",
       "      <th>17</th>\n",
       "      <td>D</td>\n",
       "      <td>80.9</td>\n",
       "    </tr>\n",
       "    <tr>\n",
       "      <th>18</th>\n",
       "      <td>D</td>\n",
       "      <td>85.4</td>\n",
       "    </tr>\n",
       "    <tr>\n",
       "      <th>19</th>\n",
       "      <td>D</td>\n",
       "      <td>82.3</td>\n",
       "    </tr>\n",
       "  </tbody>\n",
       "</table>\n",
       "</div>"
      ],
      "text/plain": [
       "   machine  value\n",
       "0        A   68.7\n",
       "1        A   75.4\n",
       "2        A   70.9\n",
       "3        A   79.1\n",
       "4        A   78.2\n",
       "5        B   62.7\n",
       "6        B   68.5\n",
       "7        B   63.1\n",
       "8        B   62.2\n",
       "9        B   60.3\n",
       "10       C   55.9\n",
       "11       C   56.1\n",
       "12       C   57.3\n",
       "13       C   59.2\n",
       "14       C   50.1\n",
       "15       D   80.7\n",
       "16       D   70.3\n",
       "17       D   80.9\n",
       "18       D   85.4\n",
       "19       D   82.3"
      ]
     },
     "execution_count": 52,
     "metadata": {},
     "output_type": "execute_result"
    }
   ],
   "source": [
    "df=pd.DataFrame({'machine':['A','A','A','A','A','B','B','B','B','B','C','C','C','C','C','D','D','D','D','D'],\n",
    "        'value':[68.7,75.4,70.9,79.1,78.2,62.7,68.5,63.1,62.2,60.3,55.9,56.1,57.3,59.2,50.1,80.7,70.3,80.9,85.4,82.3]})\n",
    "df"
   ]
  },
  {
   "cell_type": "code",
   "execution_count": 53,
   "metadata": {},
   "outputs": [
    {
     "data": {
      "text/html": [
       "<table class=\"simpletable\">\n",
       "<caption>Multiple Comparison of Means - Tukey HSD, FWER=0.05</caption>\n",
       "<tr>\n",
       "  <th>group1</th> <th>group2</th> <th>meandiff</th>  <th>p-adj</th>   <th>lower</th>    <th>upper</th>  <th>reject</th>\n",
       "</tr>\n",
       "<tr>\n",
       "     <td>A</td>      <td>B</td>     <td>-11.1</td>  <td>0.0044</td> <td>-18.8836</td>  <td>-3.3164</td>  <td>True</td> \n",
       "</tr>\n",
       "<tr>\n",
       "     <td>A</td>      <td>C</td>    <td>-18.74</td>    <td>0.0</td>  <td>-26.5236</td> <td>-10.9564</td>  <td>True</td> \n",
       "</tr>\n",
       "<tr>\n",
       "     <td>A</td>      <td>D</td>     <td>5.46</td>   <td>0.2264</td>  <td>-2.3236</td>  <td>13.2436</td>  <td>False</td>\n",
       "</tr>\n",
       "<tr>\n",
       "     <td>B</td>      <td>C</td>     <td>-7.64</td>  <td>0.0553</td> <td>-15.4236</td>  <td>0.1436</td>   <td>False</td>\n",
       "</tr>\n",
       "<tr>\n",
       "     <td>B</td>      <td>D</td>     <td>16.56</td>  <td>0.0001</td>  <td>8.7764</td>   <td>24.3436</td>  <td>True</td> \n",
       "</tr>\n",
       "<tr>\n",
       "     <td>C</td>      <td>D</td>     <td>24.2</td>     <td>0.0</td>   <td>16.4164</td>  <td>31.9836</td>  <td>True</td> \n",
       "</tr>\n",
       "</table>"
      ],
      "text/plain": [
       "<class 'statsmodels.iolib.table.SimpleTable'>"
      ]
     },
     "execution_count": 53,
     "metadata": {},
     "output_type": "execute_result"
    }
   ],
   "source": [
    "mc.pairwise_tukeyhsd(df['value'],df['machine'],alpha=0.05).summary()"
   ]
  },
  {
   "cell_type": "code",
   "execution_count": 54,
   "metadata": {},
   "outputs": [
    {
     "data": {
      "image/png": "[encoded data removed]",
      "text/plain": [
       "<Figure size 1500x800 with 1 Axes>"
      ]
     },
     "metadata": {},
     "output_type": "display_data"
    }
   ],
   "source": [
    "sns.kdeplot(machine_a,label='machine_a')\n",
    "sns.kdeplot(machine_b,label='machine_b')\n",
    "sns.kdeplot(machine_c,label='machine_c')\n",
    "sns.kdeplot(machine_d,label='machine_d')\n",
    "plt.legend()\n",
    "plt.show()"
   ]
  },
  {
   "cell_type": "code",
   "execution_count": null,
   "metadata": {},
   "outputs": [],
   "source": []
  }
 ],
 "metadata": {
  "kernelspec": {
   "display_name": "Python 3 (ipykernel)",
   "language": "python",
   "name": "python3"
  },
  "language_info": {
   "codemirror_mode": {
    "name": "ipython",
    "version": 3
   },
   "file_extension": ".py",
   "mimetype": "text/x-python",
   "name": "python",
   "nbconvert_exporter": "python",
   "pygments_lexer": "ipython3",
   "version": "3.10.11"
  }
 },
 "nbformat": 4,
 "nbformat_minor": 4
}
