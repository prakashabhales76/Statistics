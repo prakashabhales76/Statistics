{
 "cells": [
  {
   "cell_type": "code",
   "execution_count": 1,
   "id": "7994fc5a",
   "metadata": {},
   "outputs": [],
   "source": [
    "# import the library\n",
    "import pandas as pd\n",
    "import numpy as np\n",
    "import seaborn as sns\n",
    "from scipy import stats\n",
    "import matplotlib.pyplot as plt"
   ]
  },
  {
   "cell_type": "code",
   "execution_count": null,
   "id": "1abb9246",
   "metadata": {},
   "outputs": [],
   "source": []
  },
  {
   "cell_type": "code",
   "execution_count": 19,
   "id": "feb48dae",
   "metadata": {},
   "outputs": [
    {
     "data": {
      "text/html": [
       "<div>\n",
       "<style scoped>\n",
       "    .dataframe tbody tr th:only-of-type {\n",
       "        vertical-align: middle;\n",
       "    }\n",
       "\n",
       "    .dataframe tbody tr th {\n",
       "        vertical-align: top;\n",
       "    }\n",
       "\n",
       "    .dataframe thead th {\n",
       "        text-align: right;\n",
       "    }\n",
       "</style>\n",
       "<table border=\"1\" class=\"dataframe\">\n",
       "  <thead>\n",
       "    <tr style=\"text-align: right;\">\n",
       "      <th></th>\n",
       "      <th>Salary</th>\n",
       "      <th>Age</th>\n",
       "      <th>Experience</th>\n",
       "      <th>Highest_Degree</th>\n",
       "      <th>Designation</th>\n",
       "      <th>Upskilling_Certification_Courses</th>\n",
       "    </tr>\n",
       "  </thead>\n",
       "  <tbody>\n",
       "    <tr>\n",
       "      <th>0</th>\n",
       "      <td>0</td>\n",
       "      <td>22</td>\n",
       "      <td>0</td>\n",
       "      <td>Degree</td>\n",
       "      <td>Intern</td>\n",
       "      <td>0</td>\n",
       "    </tr>\n",
       "    <tr>\n",
       "      <th>1</th>\n",
       "      <td>0</td>\n",
       "      <td>22</td>\n",
       "      <td>0</td>\n",
       "      <td>Degree</td>\n",
       "      <td>Intern</td>\n",
       "      <td>0</td>\n",
       "    </tr>\n",
       "    <tr>\n",
       "      <th>2</th>\n",
       "      <td>22000</td>\n",
       "      <td>24</td>\n",
       "      <td>2</td>\n",
       "      <td>Degree</td>\n",
       "      <td>Associates</td>\n",
       "      <td>1</td>\n",
       "    </tr>\n",
       "    <tr>\n",
       "      <th>3</th>\n",
       "      <td>0</td>\n",
       "      <td>23</td>\n",
       "      <td>1</td>\n",
       "      <td>Degree</td>\n",
       "      <td>Intern</td>\n",
       "      <td>0</td>\n",
       "    </tr>\n",
       "    <tr>\n",
       "      <th>4</th>\n",
       "      <td>48000</td>\n",
       "      <td>26</td>\n",
       "      <td>4</td>\n",
       "      <td>Degree</td>\n",
       "      <td>Manager</td>\n",
       "      <td>3</td>\n",
       "    </tr>\n",
       "  </tbody>\n",
       "</table>\n",
       "</div>"
      ],
      "text/plain": [
       "   Salary  Age  Experience Highest_Degree Designation  \\\n",
       "0       0   22           0         Degree      Intern   \n",
       "1       0   22           0         Degree      Intern   \n",
       "2   22000   24           2         Degree  Associates   \n",
       "3       0   23           1         Degree      Intern   \n",
       "4   48000   26           4         Degree     Manager   \n",
       "\n",
       "   Upskilling_Certification_Courses  \n",
       "0                                 0  \n",
       "1                                 0  \n",
       "2                                 1  \n",
       "3                                 0  \n",
       "4                                 3  "
      ]
     },
     "execution_count": 19,
     "metadata": {},
     "output_type": "execute_result"
    }
   ],
   "source": [
    "df=pd.read_csv('salary_.csv')\n",
    "df.head()"
   ]
  },
  {
   "cell_type": "code",
   "execution_count": 20,
   "id": "4ee062fc",
   "metadata": {},
   "outputs": [
    {
     "data": {
      "text/plain": [
       "(205, 6)"
      ]
     },
     "execution_count": 20,
     "metadata": {},
     "output_type": "execute_result"
    }
   ],
   "source": [
    "df.shape"
   ]
  },
  {
   "cell_type": "code",
   "execution_count": 21,
   "id": "bb3420c1",
   "metadata": {},
   "outputs": [
    {
     "name": "stdout",
     "output_type": "stream",
     "text": [
      "<class 'pandas.core.frame.DataFrame'>\n",
      "RangeIndex: 205 entries, 0 to 204\n",
      "Data columns (total 6 columns):\n",
      " #   Column                            Non-Null Count  Dtype \n",
      "---  ------                            --------------  ----- \n",
      " 0   Salary                            205 non-null    int64 \n",
      " 1   Age                               205 non-null    int64 \n",
      " 2   Experience                        205 non-null    int64 \n",
      " 3   Highest_Degree                    205 non-null    object\n",
      " 4   Designation                       205 non-null    object\n",
      " 5   Upskilling_Certification_Courses  205 non-null    int64 \n",
      "dtypes: int64(4), object(2)\n",
      "memory usage: 9.7+ KB\n"
     ]
    }
   ],
   "source": [
    "df.info()"
   ]
  },
  {
   "cell_type": "code",
   "execution_count": 22,
   "id": "4678bbfd",
   "metadata": {},
   "outputs": [],
   "source": [
    "# Target - salary-numarical\n",
    "\n",
    "# age- numarical"
   ]
  },
  {
   "cell_type": "code",
   "execution_count": 23,
   "id": "f2cdb56f",
   "metadata": {},
   "outputs": [
    {
     "data": {
      "text/html": [
       "<div>\n",
       "<style scoped>\n",
       "    .dataframe tbody tr th:only-of-type {\n",
       "        vertical-align: middle;\n",
       "    }\n",
       "\n",
       "    .dataframe tbody tr th {\n",
       "        vertical-align: top;\n",
       "    }\n",
       "\n",
       "    .dataframe thead th {\n",
       "        text-align: right;\n",
       "    }\n",
       "</style>\n",
       "<table border=\"1\" class=\"dataframe\">\n",
       "  <thead>\n",
       "    <tr style=\"text-align: right;\">\n",
       "      <th></th>\n",
       "      <th>Salary</th>\n",
       "      <th>Age</th>\n",
       "    </tr>\n",
       "  </thead>\n",
       "  <tbody>\n",
       "    <tr>\n",
       "      <th>Salary</th>\n",
       "      <td>1.000000</td>\n",
       "      <td>0.607104</td>\n",
       "    </tr>\n",
       "    <tr>\n",
       "      <th>Age</th>\n",
       "      <td>0.607104</td>\n",
       "      <td>1.000000</td>\n",
       "    </tr>\n",
       "  </tbody>\n",
       "</table>\n",
       "</div>"
      ],
      "text/plain": [
       "          Salary       Age\n",
       "Salary  1.000000  0.607104\n",
       "Age     0.607104  1.000000"
      ]
     },
     "execution_count": 23,
     "metadata": {},
     "output_type": "execute_result"
    }
   ],
   "source": [
    "df[['Salary','Age']].corr() # By EDA"
   ]
  },
  {
   "cell_type": "code",
   "execution_count": 24,
   "id": "3009f49f",
   "metadata": {},
   "outputs": [],
   "source": [
    "# step-1\n",
    "# chacking the assumptions\n",
    "# normality\n",
    "#Equal Variance"
   ]
  },
  {
   "cell_type": "code",
   "execution_count": 25,
   "id": "c0869f35",
   "metadata": {},
   "outputs": [
    {
     "data": {
      "text/plain": [
       "0          0\n",
       "1          0\n",
       "2      22000\n",
       "3          0\n",
       "4      48000\n",
       "       ...  \n",
       "200    18000\n",
       "201        0\n",
       "202        0\n",
       "203    65000\n",
       "204    61000\n",
       "Name: Salary, Length: 205, dtype: int64"
      ]
     },
     "execution_count": 25,
     "metadata": {},
     "output_type": "execute_result"
    }
   ],
   "source": [
    "df['Salary'] # normality of salary"
   ]
  },
  {
   "cell_type": "code",
   "execution_count": 26,
   "id": "f10a5024",
   "metadata": {},
   "outputs": [],
   "source": [
    "# checking normality -shapiro test\n",
    "\n",
    "# null-data is normal  skew=0\n",
    "\n",
    "#Alternate-data is not normal"
   ]
  },
  {
   "cell_type": "code",
   "execution_count": 27,
   "id": "698f4c6d",
   "metadata": {},
   "outputs": [],
   "source": [
    "#  Directionality -two tailed check the"
   ]
  },
  {
   "cell_type": "code",
   "execution_count": 28,
   "id": "215b3f36",
   "metadata": {},
   "outputs": [
    {
     "data": {
      "text/plain": [
       "ShapiroResult(statistic=0.9641101360321045, pvalue=4.521189475781284e-05)"
      ]
     },
     "execution_count": 28,
     "metadata": {},
     "output_type": "execute_result"
    }
   ],
   "source": [
    "# calculate test stats , p_value\n",
    "# signaficance lavel =0.05\n",
    "stats.shapiro(df['Salary'])"
   ]
  },
  {
   "cell_type": "code",
   "execution_count": 29,
   "id": "f7cae95a",
   "metadata": {},
   "outputs": [],
   "source": [
    "# sig=0.05\n",
    "# pvalue=0.000004\n",
    "# since p_value is less than sign lavel,we can conclute that data normaly distributed so we reject the null hypothesis"
   ]
  },
  {
   "cell_type": "code",
   "execution_count": 30,
   "id": "bdb96cb7",
   "metadata": {},
   "outputs": [
    {
     "data": {
      "text/plain": [
       "ShapiroResult(statistic=0.9254341125488281, pvalue=1.0748831158480243e-08)"
      ]
     },
     "execution_count": 30,
     "metadata": {},
     "output_type": "execute_result"
    }
   ],
   "source": [
    "# calculate test stats ,p_value\n",
    "#ig lavel=.05\n",
    "stats.shapiro(df['Age'])"
   ]
  },
  {
   "cell_type": "code",
   "execution_count": 31,
   "id": "1cd7a13e",
   "metadata": {},
   "outputs": [],
   "source": [
    "#sig lvl =0.05\n",
    "#pval=0.000000001\n",
    "# since p_val is less than the sign_lvl,we calculate that daya is not normal we reject null"
   ]
  },
  {
   "cell_type": "code",
   "execution_count": 32,
   "id": "788e336c",
   "metadata": {},
   "outputs": [],
   "source": [
    "# null-All sample have equel variance\n",
    "# Alternative samples doesnot have equel variance"
   ]
  },
  {
   "cell_type": "code",
   "execution_count": 33,
   "id": "ffbc2ce2",
   "metadata": {},
   "outputs": [],
   "source": [
    "# Directionality-2"
   ]
  },
  {
   "cell_type": "code",
   "execution_count": 34,
   "id": "792bc367",
   "metadata": {},
   "outputs": [],
   "source": [
    "# sign =0.05\n",
    "#  stats.levence (sample1,sample2,sample3.......sample)"
   ]
  },
  {
   "cell_type": "code",
   "execution_count": 35,
   "id": "cbd2f752",
   "metadata": {},
   "outputs": [
    {
     "data": {
      "text/plain": [
       "LeveneResult(statistic=326.19498641549933, pvalue=5.252192581360276e-54)"
      ]
     },
     "execution_count": 35,
     "metadata": {},
     "output_type": "execute_result"
    }
   ],
   "source": [
    "stats.levene(df['Salary'],# sample 1\n",
    "             df['Age']) # sample 2"
   ]
  },
  {
   "cell_type": "code",
   "execution_count": 36,
   "id": "e5b9c501",
   "metadata": {},
   "outputs": [],
   "source": [
    "# since p_value is less than sign vlue we calculate that sample doesnot have equel variance and reject null hypothesis"
   ]
  },
  {
   "cell_type": "code",
   "execution_count": 37,
   "id": "1c283f8b",
   "metadata": {},
   "outputs": [],
   "source": [
    "from sklearn.preprocessing import StandardScaler\n",
    "from sklearn.preprocessing import MinMaxScaler"
   ]
  },
  {
   "cell_type": "code",
   "execution_count": 38,
   "id": "df38336b",
   "metadata": {},
   "outputs": [
    {
     "data": {
      "text/plain": [
       "array([[-1.79329401, -1.26656697],\n",
       "       [-1.79329401, -1.26656697],\n",
       "       [-0.93880315, -1.06355976],\n",
       "       [-1.79329401, -1.16506337],\n",
       "       [ 0.07104968, -0.86055254],\n",
       "       [ 0.34293314, -0.75904893],\n",
       "       [-0.97764364, -0.96205615],\n",
       "       [-1.09416512, -0.86055254],\n",
       "       [-1.2106866 , -1.06355976],\n",
       "       [-0.12315278, -0.15002728],\n",
       "       [ 0.22641166, -0.25153089],\n",
       "       [ 1.89655288, -1.16506337],\n",
       "       [-0.66691969, -1.16506337],\n",
       "       [-0.93880315, -1.16506337],\n",
       "       [ 0.07104968, -0.15002728],\n",
       "       [ 0.18757116, -0.04852368],\n",
       "       [ 0.14873067,  0.05297993],\n",
       "       [ 0.42061413,  0.15448354],\n",
       "       [ 0.38177363,  0.25598715],\n",
       "       [-0.12315278,  0.15448354],\n",
       "       [ 0.22641166,  0.35749076],\n",
       "       [ 0.92554054,  0.15448354],\n",
       "       [-0.27851476, -0.75904893],\n",
       "       [ 0.22641166,  0.96651241],\n",
       "       [ 1.197424  ,  0.8650088 ],\n",
       "       [ 1.35278597,  1.06801601],\n",
       "       [ 1.50814795,  0.66200158],\n",
       "       [ 2.47916029,  1.16951962],\n",
       "       [ 1.1585835 ,  0.76350519],\n",
       "       [ 1.31394548,  1.27102323],\n",
       "       [ 0.14873067,  0.8650088 ],\n",
       "       [-0.0454718 ,  1.37252684],\n",
       "       [ 0.22641166,  0.96651241],\n",
       "       [-0.12315278,  1.47403045],\n",
       "       [ 0.22641166,  0.25598715],\n",
       "       [-0.16199328,  0.05297993],\n",
       "       [-0.27851476,  0.15448354],\n",
       "       [ 0.22641166, -0.86055254],\n",
       "       [-0.97764364, -0.75904893],\n",
       "       [-1.09416512, -0.96205615],\n",
       "       [-1.09416512, -0.55604172],\n",
       "       [ 0.42061413,  2.08305209],\n",
       "       [-0.78344118, -1.16506337],\n",
       "       [-0.31735525,  2.28605931],\n",
       "       [-0.12315278, -0.86055254],\n",
       "       [-1.79329401, -1.26656697],\n",
       "       [-1.79329401, -1.26656697],\n",
       "       [-1.79329401, -1.16506337],\n",
       "       [-1.79329401, -1.26656697],\n",
       "       [ 0.07104968,  1.37252684],\n",
       "       [-0.97764364, -1.06355976],\n",
       "       [-0.82228167, -0.55604172],\n",
       "       [-0.74460068, -0.75904893],\n",
       "       [-0.78344118, -0.96205615],\n",
       "       [-0.86112216, -0.86055254],\n",
       "       [-1.09416512, -0.86055254],\n",
       "       [-0.12315278, -0.75904893],\n",
       "       [-0.93880315, -0.96205615],\n",
       "       [-0.93880315, -0.55604172],\n",
       "       [-0.89996266,  0.05297993],\n",
       "       [ 0.22641166,  1.88004488],\n",
       "       [ 0.07104968,  0.25598715],\n",
       "       [ 0.18757116,  0.15448354],\n",
       "       [ 0.14873067,  0.35749076],\n",
       "       [ 0.42061413,  0.15448354],\n",
       "       [ 0.38177363, -0.75904893],\n",
       "       [-0.89996266, -1.06355976],\n",
       "       [-0.89996266, -0.96205615],\n",
       "       [-0.89996266, -0.96205615],\n",
       "       [-0.97764364, -1.06355976],\n",
       "       [ 0.22641166, -0.86055254],\n",
       "       [-1.79329401, -1.26656697],\n",
       "       [-0.89996266, -0.96205615],\n",
       "       [ 0.65365709,  0.8650088 ],\n",
       "       [ 0.96438104,  1.37252684],\n",
       "       [-1.79329401, -1.16506337],\n",
       "       [ 0.22641166, -0.55604172],\n",
       "       [-0.12315278,  0.25598715],\n",
       "       [ 0.22641166,  0.05297993],\n",
       "       [-0.16199328,  0.15448354],\n",
       "       [-0.27851476, -0.86055254],\n",
       "       [ 0.22641166, -0.75904893],\n",
       "       [ 0.07104968, -0.96205615],\n",
       "       [-0.97764364, -0.55604172],\n",
       "       [-1.01648414, -1.06355976],\n",
       "       [-0.74460068, -1.16506337],\n",
       "       [-0.78344118, -0.75904893],\n",
       "       [-1.09416512, -0.65754532],\n",
       "       [-0.16199328,  1.67703766],\n",
       "       [ 0.69249758,  0.76350519],\n",
       "       [ 0.34293314,  1.27102323],\n",
       "       [-1.2106866 , -1.06355976],\n",
       "       [-1.2106866 , -1.16506337],\n",
       "       [ 1.62466943,  2.28605931],\n",
       "       [ 1.70235041,  2.1845557 ],\n",
       "       [ 1.89655288,  1.67703766],\n",
       "       [-0.93880315, -0.86055254],\n",
       "       [ 2.47916029,  1.27102323],\n",
       "       [ 2.09075535,  0.8650088 ],\n",
       "       [ 1.50814795,  1.37252684],\n",
       "       [ 2.09075535,  0.96651241],\n",
       "       [ 1.50814795,  1.47403045],\n",
       "       [ 1.70235041,  0.25598715],\n",
       "       [-0.16199328,  0.05297993],\n",
       "       [ 0.18757116,  0.15448354],\n",
       "       [-0.12315278, -0.86055254],\n",
       "       [ 0.22641166, -0.75904893],\n",
       "       [-0.16199328, -0.96205615],\n",
       "       [-0.27851476,  1.47403045],\n",
       "       [ 0.22641166,  2.08305209],\n",
       "       [ 0.07104968,  1.88004488],\n",
       "       [ 0.18757116,  0.25598715],\n",
       "       [ 0.14873067,  0.15448354],\n",
       "       [ 0.42061413,  0.35749076],\n",
       "       [ 0.38177363,  0.15448354],\n",
       "       [ 0.18757116, -0.75904893],\n",
       "       [ 2.47916029,  0.15448354],\n",
       "       [ 2.09075535, -0.15002728],\n",
       "       [ 1.50814795, -0.15002728],\n",
       "       [ 2.09075535, -0.3530345 ],\n",
       "       [ 0.69249758,  0.15448354],\n",
       "       [ 0.34293314,  0.76350519],\n",
       "       [-0.12315278,  1.27102323],\n",
       "       [ 0.22641166,  0.35749076],\n",
       "       [-0.16199328,  0.15448354],\n",
       "       [-0.27851476, -0.75904893],\n",
       "       [-0.93880315, -1.16506337],\n",
       "       [-0.70576019, -1.16506337],\n",
       "       [ 0.18757116,  1.06801601],\n",
       "       [ 0.14873067,  0.66200158],\n",
       "       [ 0.42061413,  1.16951962],\n",
       "       [ 0.38177363,  0.76350519],\n",
       "       [ 1.50814795,  1.27102323],\n",
       "       [ 0.22641166, -0.15002728],\n",
       "       [-0.70576019, -1.26656697],\n",
       "       [-0.89996266, -1.26656697],\n",
       "       [ 1.00322153,  1.47403045],\n",
       "       [ 1.11974301,  0.25598715],\n",
       "       [-0.12315278,  0.05297993],\n",
       "       [ 0.22641166,  0.15448354],\n",
       "       [-0.89996266, -0.86055254],\n",
       "       [-0.58923871, -0.75904893],\n",
       "       [-0.97764364, -0.96205615],\n",
       "       [ 1.08090252, -1.26656697],\n",
       "       [-1.79329401, -1.26656697],\n",
       "       [-0.78344118, -0.15002728],\n",
       "       [-0.89996266, -1.26656697],\n",
       "       [-0.89996266, -1.26656697],\n",
       "       [-0.89996266, -1.26656697],\n",
       "       [-1.09416512, -1.16506337],\n",
       "       [-0.89996266, -1.26656697],\n",
       "       [-0.89996266, -1.26656697],\n",
       "       [-0.89996266, -1.26656697],\n",
       "       [-0.16199328,  2.28605931],\n",
       "       [-0.27851476,  2.1845557 ],\n",
       "       [ 1.39162647,  1.67703766],\n",
       "       [ 1.31394548,  0.76350519],\n",
       "       [ 1.11974301,  1.27102323],\n",
       "       [ 0.22641166,  0.8650088 ],\n",
       "       [ 0.65365709,  0.35749076],\n",
       "       [ 1.00322153, -0.04852368],\n",
       "       [ 0.73133807,  1.47403045],\n",
       "       [ 0.84785955,  0.25598715],\n",
       "       [ 2.47916029,  0.05297993],\n",
       "       [ 2.09075535,  0.8650088 ],\n",
       "       [ 1.50814795,  1.37252684],\n",
       "       [ 2.09075535,  0.96651241],\n",
       "       [ 0.07104968,  1.47403045],\n",
       "       [ 0.18757116,  0.25598715],\n",
       "       [ 0.14873067,  0.05297993],\n",
       "       [ 1.81887189,  0.15448354],\n",
       "       [-0.82228167, -0.86055254],\n",
       "       [ 0.18757116, -0.75904893],\n",
       "       [ 0.42061413, -0.96205615],\n",
       "       [ 0.65365709,  1.47403045],\n",
       "       [-1.09416512, -0.96205615],\n",
       "       [-1.2106866 ,  1.88004488],\n",
       "       [-1.09416512,  0.25598715],\n",
       "       [ 1.23626449,  0.15448354],\n",
       "       [-0.31735525,  0.35749076],\n",
       "       [ 0.18757116,  0.15448354],\n",
       "       [-0.82228167, -0.75904893],\n",
       "       [ 0.96438104,  0.96651241],\n",
       "       [ 0.88670005,  0.8650088 ],\n",
       "       [-1.2106866 , -1.06355976],\n",
       "       [-1.2106866 , -1.16506337],\n",
       "       [-1.09416512, -0.86055254],\n",
       "       [-0.12315278,  0.76350519],\n",
       "       [ 0.53713561,  1.27102323],\n",
       "       [-0.08431229,  0.35749076],\n",
       "       [ 0.38177363, -0.3530345 ],\n",
       "       [-0.89996266, -0.75904893],\n",
       "       [ 0.26525215, -0.3530345 ],\n",
       "       [ 0.30409264, -0.15002728],\n",
       "       [ 0.45945462,  1.06801601],\n",
       "       [ 0.18757116,  0.66200158],\n",
       "       [-0.0454718 ,  1.16951962],\n",
       "       [-0.58923871,  0.76350519],\n",
       "       [ 0.03220919,  1.27102323],\n",
       "       [ 0.30409264,  0.8650088 ],\n",
       "       [-1.09416512, -1.16506337],\n",
       "       [-1.79329401, -1.26656697],\n",
       "       [-1.79329401, -1.26656697],\n",
       "       [ 0.73133807,  0.25598715],\n",
       "       [ 0.5759761 ,  0.05297993]])"
      ]
     },
     "execution_count": 38,
     "metadata": {},
     "output_type": "execute_result"
    }
   ],
   "source": [
    "sc=StandardScaler()\n",
    "x=sc.fit_transform(df[['Salary','Age']])\n",
    "x"
   ]
  },
  {
   "cell_type": "code",
   "execution_count": 39,
   "id": "e347c49b",
   "metadata": {},
   "outputs": [
    {
     "data": {
      "text/plain": [
       "LeveneResult(statistic=1.3700680989293983, pvalue=0.24248340171173044)"
      ]
     },
     "execution_count": 39,
     "metadata": {},
     "output_type": "execute_result"
    }
   ],
   "source": [
    "stats.levene(x[:,0],\n",
    "            x[:,1])"
   ]
  },
  {
   "cell_type": "code",
   "execution_count": null,
   "id": "13f883c8",
   "metadata": {},
   "outputs": [],
   "source": []
  },
  {
   "cell_type": "code",
   "execution_count": 40,
   "id": "dce0bf59",
   "metadata": {},
   "outputs": [
    {
     "ename": "SyntaxError",
     "evalue": "invalid decimal literal (4171778570.py, line 1)",
     "output_type": "error",
     "traceback": [
      "\u001b[1;36m  Cell \u001b[1;32mIn[40], line 1\u001b[1;36m\u001b[0m\n\u001b[1;33m    50k   4\u001b[0m\n\u001b[1;37m     ^\u001b[0m\n\u001b[1;31mSyntaxError\u001b[0m\u001b[1;31m:\u001b[0m invalid decimal literal\n"
     ]
    }
   ],
   "source": [
    "50k   4\n",
    "20k   1\n",
    "25k   1.6\n",
    "30k   \n",
    "26k"
   ]
  },
  {
   "cell_type": "code",
   "execution_count": 41,
   "id": "f3a19176",
   "metadata": {},
   "outputs": [
    {
     "data": {
      "text/plain": [
       "array([[0.        , 0.        ],\n",
       "       [0.        , 0.        ],\n",
       "       [0.2       , 0.05714286],\n",
       "       [0.        , 0.02857143],\n",
       "       [0.43636364, 0.11428571],\n",
       "       [0.5       , 0.14285714],\n",
       "       [0.19090909, 0.08571429],\n",
       "       [0.16363636, 0.11428571],\n",
       "       [0.13636364, 0.05714286],\n",
       "       [0.39090909, 0.31428571],\n",
       "       [0.47272727, 0.28571429],\n",
       "       [0.86363636, 0.02857143],\n",
       "       [0.26363636, 0.02857143],\n",
       "       [0.2       , 0.02857143],\n",
       "       [0.43636364, 0.31428571],\n",
       "       [0.46363636, 0.34285714],\n",
       "       [0.45454545, 0.37142857],\n",
       "       [0.51818182, 0.4       ],\n",
       "       [0.50909091, 0.42857143],\n",
       "       [0.39090909, 0.4       ],\n",
       "       [0.47272727, 0.45714286],\n",
       "       [0.63636364, 0.4       ],\n",
       "       [0.35454545, 0.14285714],\n",
       "       [0.47272727, 0.62857143],\n",
       "       [0.7       , 0.6       ],\n",
       "       [0.73636364, 0.65714286],\n",
       "       [0.77272727, 0.54285714],\n",
       "       [1.        , 0.68571429],\n",
       "       [0.69090909, 0.57142857],\n",
       "       [0.72727273, 0.71428571],\n",
       "       [0.45454545, 0.6       ],\n",
       "       [0.40909091, 0.74285714],\n",
       "       [0.47272727, 0.62857143],\n",
       "       [0.39090909, 0.77142857],\n",
       "       [0.47272727, 0.42857143],\n",
       "       [0.38181818, 0.37142857],\n",
       "       [0.35454545, 0.4       ],\n",
       "       [0.47272727, 0.11428571],\n",
       "       [0.19090909, 0.14285714],\n",
       "       [0.16363636, 0.08571429],\n",
       "       [0.16363636, 0.2       ],\n",
       "       [0.51818182, 0.94285714],\n",
       "       [0.23636364, 0.02857143],\n",
       "       [0.34545455, 1.        ],\n",
       "       [0.39090909, 0.11428571],\n",
       "       [0.        , 0.        ],\n",
       "       [0.        , 0.        ],\n",
       "       [0.        , 0.02857143],\n",
       "       [0.        , 0.        ],\n",
       "       [0.43636364, 0.74285714],\n",
       "       [0.19090909, 0.05714286],\n",
       "       [0.22727273, 0.2       ],\n",
       "       [0.24545455, 0.14285714],\n",
       "       [0.23636364, 0.08571429],\n",
       "       [0.21818182, 0.11428571],\n",
       "       [0.16363636, 0.11428571],\n",
       "       [0.39090909, 0.14285714],\n",
       "       [0.2       , 0.08571429],\n",
       "       [0.2       , 0.2       ],\n",
       "       [0.20909091, 0.37142857],\n",
       "       [0.47272727, 0.88571429],\n",
       "       [0.43636364, 0.42857143],\n",
       "       [0.46363636, 0.4       ],\n",
       "       [0.45454545, 0.45714286],\n",
       "       [0.51818182, 0.4       ],\n",
       "       [0.50909091, 0.14285714],\n",
       "       [0.20909091, 0.05714286],\n",
       "       [0.20909091, 0.08571429],\n",
       "       [0.20909091, 0.08571429],\n",
       "       [0.19090909, 0.05714286],\n",
       "       [0.47272727, 0.11428571],\n",
       "       [0.        , 0.        ],\n",
       "       [0.20909091, 0.08571429],\n",
       "       [0.57272727, 0.6       ],\n",
       "       [0.64545455, 0.74285714],\n",
       "       [0.        , 0.02857143],\n",
       "       [0.47272727, 0.2       ],\n",
       "       [0.39090909, 0.42857143],\n",
       "       [0.47272727, 0.37142857],\n",
       "       [0.38181818, 0.4       ],\n",
       "       [0.35454545, 0.11428571],\n",
       "       [0.47272727, 0.14285714],\n",
       "       [0.43636364, 0.08571429],\n",
       "       [0.19090909, 0.2       ],\n",
       "       [0.18181818, 0.05714286],\n",
       "       [0.24545455, 0.02857143],\n",
       "       [0.23636364, 0.14285714],\n",
       "       [0.16363636, 0.17142857],\n",
       "       [0.38181818, 0.82857143],\n",
       "       [0.58181818, 0.57142857],\n",
       "       [0.5       , 0.71428571],\n",
       "       [0.13636364, 0.05714286],\n",
       "       [0.13636364, 0.02857143],\n",
       "       [0.8       , 1.        ],\n",
       "       [0.81818182, 0.97142857],\n",
       "       [0.86363636, 0.82857143],\n",
       "       [0.2       , 0.11428571],\n",
       "       [1.        , 0.71428571],\n",
       "       [0.90909091, 0.6       ],\n",
       "       [0.77272727, 0.74285714],\n",
       "       [0.90909091, 0.62857143],\n",
       "       [0.77272727, 0.77142857],\n",
       "       [0.81818182, 0.42857143],\n",
       "       [0.38181818, 0.37142857],\n",
       "       [0.46363636, 0.4       ],\n",
       "       [0.39090909, 0.11428571],\n",
       "       [0.47272727, 0.14285714],\n",
       "       [0.38181818, 0.08571429],\n",
       "       [0.35454545, 0.77142857],\n",
       "       [0.47272727, 0.94285714],\n",
       "       [0.43636364, 0.88571429],\n",
       "       [0.46363636, 0.42857143],\n",
       "       [0.45454545, 0.4       ],\n",
       "       [0.51818182, 0.45714286],\n",
       "       [0.50909091, 0.4       ],\n",
       "       [0.46363636, 0.14285714],\n",
       "       [1.        , 0.4       ],\n",
       "       [0.90909091, 0.31428571],\n",
       "       [0.77272727, 0.31428571],\n",
       "       [0.90909091, 0.25714286],\n",
       "       [0.58181818, 0.4       ],\n",
       "       [0.5       , 0.57142857],\n",
       "       [0.39090909, 0.71428571],\n",
       "       [0.47272727, 0.45714286],\n",
       "       [0.38181818, 0.4       ],\n",
       "       [0.35454545, 0.14285714],\n",
       "       [0.2       , 0.02857143],\n",
       "       [0.25454545, 0.02857143],\n",
       "       [0.46363636, 0.65714286],\n",
       "       [0.45454545, 0.54285714],\n",
       "       [0.51818182, 0.68571429],\n",
       "       [0.50909091, 0.57142857],\n",
       "       [0.77272727, 0.71428571],\n",
       "       [0.47272727, 0.31428571],\n",
       "       [0.25454545, 0.        ],\n",
       "       [0.20909091, 0.        ],\n",
       "       [0.65454545, 0.77142857],\n",
       "       [0.68181818, 0.42857143],\n",
       "       [0.39090909, 0.37142857],\n",
       "       [0.47272727, 0.4       ],\n",
       "       [0.20909091, 0.11428571],\n",
       "       [0.28181818, 0.14285714],\n",
       "       [0.19090909, 0.08571429],\n",
       "       [0.67272727, 0.        ],\n",
       "       [0.        , 0.        ],\n",
       "       [0.23636364, 0.31428571],\n",
       "       [0.20909091, 0.        ],\n",
       "       [0.20909091, 0.        ],\n",
       "       [0.20909091, 0.        ],\n",
       "       [0.16363636, 0.02857143],\n",
       "       [0.20909091, 0.        ],\n",
       "       [0.20909091, 0.        ],\n",
       "       [0.20909091, 0.        ],\n",
       "       [0.38181818, 1.        ],\n",
       "       [0.35454545, 0.97142857],\n",
       "       [0.74545455, 0.82857143],\n",
       "       [0.72727273, 0.57142857],\n",
       "       [0.68181818, 0.71428571],\n",
       "       [0.47272727, 0.6       ],\n",
       "       [0.57272727, 0.45714286],\n",
       "       [0.65454545, 0.34285714],\n",
       "       [0.59090909, 0.77142857],\n",
       "       [0.61818182, 0.42857143],\n",
       "       [1.        , 0.37142857],\n",
       "       [0.90909091, 0.6       ],\n",
       "       [0.77272727, 0.74285714],\n",
       "       [0.90909091, 0.62857143],\n",
       "       [0.43636364, 0.77142857],\n",
       "       [0.46363636, 0.42857143],\n",
       "       [0.45454545, 0.37142857],\n",
       "       [0.84545455, 0.4       ],\n",
       "       [0.22727273, 0.11428571],\n",
       "       [0.46363636, 0.14285714],\n",
       "       [0.51818182, 0.08571429],\n",
       "       [0.57272727, 0.77142857],\n",
       "       [0.16363636, 0.08571429],\n",
       "       [0.13636364, 0.88571429],\n",
       "       [0.16363636, 0.42857143],\n",
       "       [0.70909091, 0.4       ],\n",
       "       [0.34545455, 0.45714286],\n",
       "       [0.46363636, 0.4       ],\n",
       "       [0.22727273, 0.14285714],\n",
       "       [0.64545455, 0.62857143],\n",
       "       [0.62727273, 0.6       ],\n",
       "       [0.13636364, 0.05714286],\n",
       "       [0.13636364, 0.02857143],\n",
       "       [0.16363636, 0.11428571],\n",
       "       [0.39090909, 0.57142857],\n",
       "       [0.54545455, 0.71428571],\n",
       "       [0.4       , 0.45714286],\n",
       "       [0.50909091, 0.25714286],\n",
       "       [0.20909091, 0.14285714],\n",
       "       [0.48181818, 0.25714286],\n",
       "       [0.49090909, 0.31428571],\n",
       "       [0.52727273, 0.65714286],\n",
       "       [0.46363636, 0.54285714],\n",
       "       [0.40909091, 0.68571429],\n",
       "       [0.28181818, 0.57142857],\n",
       "       [0.42727273, 0.71428571],\n",
       "       [0.49090909, 0.6       ],\n",
       "       [0.16363636, 0.02857143],\n",
       "       [0.        , 0.        ],\n",
       "       [0.        , 0.        ],\n",
       "       [0.59090909, 0.42857143],\n",
       "       [0.55454545, 0.37142857]])"
      ]
     },
     "execution_count": 41,
     "metadata": {},
     "output_type": "execute_result"
    }
   ],
   "source": [
    "sc=MinMaxScaler()\n",
    "x=sc.fit_transform(df[['Salary','Age']])\n",
    "x"
   ]
  },
  {
   "cell_type": "code",
   "execution_count": 42,
   "id": "aba84bbf",
   "metadata": {},
   "outputs": [
    {
     "data": {
      "text/plain": [
       "LeveneResult(statistic=14.922745860897253, pvalue=0.00013023205750093206)"
      ]
     },
     "execution_count": 42,
     "metadata": {},
     "output_type": "execute_result"
    }
   ],
   "source": [
    "stats.levene(x[:,0],\n",
    "            x[:,1])"
   ]
  },
  {
   "cell_type": "code",
   "execution_count": 43,
   "id": "8b18f365",
   "metadata": {},
   "outputs": [],
   "source": [
    "# as the assumption of normality and equal variance is valeted we will have to do non parametric tets"
   ]
  },
  {
   "cell_type": "code",
   "execution_count": 44,
   "id": "aa1929de",
   "metadata": {},
   "outputs": [
    {
     "data": {
      "text/html": [
       "<div>\n",
       "<style scoped>\n",
       "    .dataframe tbody tr th:only-of-type {\n",
       "        vertical-align: middle;\n",
       "    }\n",
       "\n",
       "    .dataframe tbody tr th {\n",
       "        vertical-align: top;\n",
       "    }\n",
       "\n",
       "    .dataframe thead th {\n",
       "        text-align: right;\n",
       "    }\n",
       "</style>\n",
       "<table border=\"1\" class=\"dataframe\">\n",
       "  <thead>\n",
       "    <tr style=\"text-align: right;\">\n",
       "      <th></th>\n",
       "      <th>Salary</th>\n",
       "      <th>Age</th>\n",
       "    </tr>\n",
       "  </thead>\n",
       "  <tbody>\n",
       "    <tr>\n",
       "      <th>Salary</th>\n",
       "      <td>1.000000</td>\n",
       "      <td>0.607104</td>\n",
       "    </tr>\n",
       "    <tr>\n",
       "      <th>Age</th>\n",
       "      <td>0.607104</td>\n",
       "      <td>1.000000</td>\n",
       "    </tr>\n",
       "  </tbody>\n",
       "</table>\n",
       "</div>"
      ],
      "text/plain": [
       "          Salary       Age\n",
       "Salary  1.000000  0.607104\n",
       "Age     0.607104  1.000000"
      ]
     },
     "execution_count": 44,
     "metadata": {},
     "output_type": "execute_result"
    }
   ],
   "source": [
    "df[['Salary','Age']].corr()"
   ]
  },
  {
   "cell_type": "code",
   "execution_count": 45,
   "id": "0b498dce",
   "metadata": {},
   "outputs": [],
   "source": [
    "# null- hypothesis there is no reletion b/w salary and age\n",
    "#Alter -there is reletion b/w salary and Age\n",
    "# Directionality -2"
   ]
  },
  {
   "cell_type": "code",
   "execution_count": 46,
   "id": "0a207411",
   "metadata": {},
   "outputs": [
    {
     "data": {
      "text/plain": [
       "PearsonRResult(statistic=0.6071040335127078, pvalue=4.937138646956397e-22)"
      ]
     },
     "execution_count": 46,
     "metadata": {},
     "output_type": "execute_result"
    }
   ],
   "source": [
    "stats.pearsonr(df['Salary'],df['Age'])"
   ]
  },
  {
   "cell_type": "code",
   "execution_count": 47,
   "id": "879db0a8",
   "metadata": {},
   "outputs": [],
   "source": [
    "# sign =0.05\n",
    "# pvalue=0\n",
    "# since pval is less than sign lvl ,we can calculate thate there is reletion b/w salary and age"
   ]
  },
  {
   "cell_type": "code",
   "execution_count": null,
   "id": "89aad6db",
   "metadata": {},
   "outputs": [],
   "source": []
  },
  {
   "cell_type": "code",
   "execution_count": 48,
   "id": "072d98af",
   "metadata": {},
   "outputs": [
    {
     "data": {
      "text/html": [
       "<div>\n",
       "<style scoped>\n",
       "    .dataframe tbody tr th:only-of-type {\n",
       "        vertical-align: middle;\n",
       "    }\n",
       "\n",
       "    .dataframe tbody tr th {\n",
       "        vertical-align: top;\n",
       "    }\n",
       "\n",
       "    .dataframe thead th {\n",
       "        text-align: right;\n",
       "    }\n",
       "</style>\n",
       "<table border=\"1\" class=\"dataframe\">\n",
       "  <thead>\n",
       "    <tr style=\"text-align: right;\">\n",
       "      <th></th>\n",
       "      <th>Salary</th>\n",
       "      <th>Age</th>\n",
       "    </tr>\n",
       "  </thead>\n",
       "  <tbody>\n",
       "    <tr>\n",
       "      <th>Salary</th>\n",
       "      <td>1.000000</td>\n",
       "      <td>0.653025</td>\n",
       "    </tr>\n",
       "    <tr>\n",
       "      <th>Age</th>\n",
       "      <td>0.653025</td>\n",
       "      <td>1.000000</td>\n",
       "    </tr>\n",
       "  </tbody>\n",
       "</table>\n",
       "</div>"
      ],
      "text/plain": [
       "          Salary       Age\n",
       "Salary  1.000000  0.653025\n",
       "Age     0.653025  1.000000"
      ]
     },
     "execution_count": 48,
     "metadata": {},
     "output_type": "execute_result"
    }
   ],
   "source": [
    "# by defolt corr perform pearsonr test\n",
    "df[['Salary','Age']].corr(method = 'spearman')  # spearman test"
   ]
  },
  {
   "cell_type": "code",
   "execution_count": 49,
   "id": "5a831a44",
   "metadata": {},
   "outputs": [],
   "source": [
    "# null- hypothesis there is no reletion b/w salary and age\n",
    "#Alter -there is reletion b/w salary and Age\n",
    "# Directionality -2"
   ]
  },
  {
   "cell_type": "code",
   "execution_count": 50,
   "id": "0889046d",
   "metadata": {},
   "outputs": [
    {
     "data": {
      "text/plain": [
       "SignificanceResult(statistic=0.6530246511033057, pvalue=2.6643121083087827e-26)"
      ]
     },
     "execution_count": 50,
     "metadata": {},
     "output_type": "execute_result"
    }
   ],
   "source": [
    "# test stats and p_value\n",
    "stats.spearmanr(df['Salary'],df['Age'])"
   ]
  },
  {
   "cell_type": "code",
   "execution_count": 51,
   "id": "da96d6c9",
   "metadata": {},
   "outputs": [],
   "source": [
    "# sign lv =0.05\n",
    "# p_value =0.0\n",
    "# since p_value is less than significance lavel ,we calculate that there is signaficant \n",
    "# relationship between salary and age and reject the null hypothesis"
   ]
  },
  {
   "cell_type": "markdown",
   "id": "7c8bc3e2",
   "metadata": {},
   "source": [
    "# Num vs Cat (2 Groups)"
   ]
  },
  {
   "cell_type": "code",
   "execution_count": 52,
   "id": "3535a9d0",
   "metadata": {},
   "outputs": [
    {
     "data": {
      "text/html": [
       "<div>\n",
       "<style scoped>\n",
       "    .dataframe tbody tr th:only-of-type {\n",
       "        vertical-align: middle;\n",
       "    }\n",
       "\n",
       "    .dataframe tbody tr th {\n",
       "        vertical-align: top;\n",
       "    }\n",
       "\n",
       "    .dataframe thead th {\n",
       "        text-align: right;\n",
       "    }\n",
       "</style>\n",
       "<table border=\"1\" class=\"dataframe\">\n",
       "  <thead>\n",
       "    <tr style=\"text-align: right;\">\n",
       "      <th></th>\n",
       "      <th>Salary</th>\n",
       "      <th>Age</th>\n",
       "      <th>Experience</th>\n",
       "      <th>Highest_Degree</th>\n",
       "      <th>Designation</th>\n",
       "      <th>Upskilling_Certification_Courses</th>\n",
       "    </tr>\n",
       "  </thead>\n",
       "  <tbody>\n",
       "    <tr>\n",
       "      <th>0</th>\n",
       "      <td>0</td>\n",
       "      <td>22</td>\n",
       "      <td>0</td>\n",
       "      <td>Degree</td>\n",
       "      <td>Intern</td>\n",
       "      <td>0</td>\n",
       "    </tr>\n",
       "    <tr>\n",
       "      <th>1</th>\n",
       "      <td>0</td>\n",
       "      <td>22</td>\n",
       "      <td>0</td>\n",
       "      <td>Degree</td>\n",
       "      <td>Intern</td>\n",
       "      <td>0</td>\n",
       "    </tr>\n",
       "    <tr>\n",
       "      <th>2</th>\n",
       "      <td>22000</td>\n",
       "      <td>24</td>\n",
       "      <td>2</td>\n",
       "      <td>Degree</td>\n",
       "      <td>Associates</td>\n",
       "      <td>1</td>\n",
       "    </tr>\n",
       "    <tr>\n",
       "      <th>3</th>\n",
       "      <td>0</td>\n",
       "      <td>23</td>\n",
       "      <td>1</td>\n",
       "      <td>Degree</td>\n",
       "      <td>Intern</td>\n",
       "      <td>0</td>\n",
       "    </tr>\n",
       "    <tr>\n",
       "      <th>4</th>\n",
       "      <td>48000</td>\n",
       "      <td>26</td>\n",
       "      <td>4</td>\n",
       "      <td>Degree</td>\n",
       "      <td>Manager</td>\n",
       "      <td>3</td>\n",
       "    </tr>\n",
       "  </tbody>\n",
       "</table>\n",
       "</div>"
      ],
      "text/plain": [
       "   Salary  Age  Experience Highest_Degree Designation  \\\n",
       "0       0   22           0         Degree      Intern   \n",
       "1       0   22           0         Degree      Intern   \n",
       "2   22000   24           2         Degree  Associates   \n",
       "3       0   23           1         Degree      Intern   \n",
       "4   48000   26           4         Degree     Manager   \n",
       "\n",
       "   Upskilling_Certification_Courses  \n",
       "0                                 0  \n",
       "1                                 0  \n",
       "2                                 1  \n",
       "3                                 0  \n",
       "4                                 3  "
      ]
     },
     "execution_count": 52,
     "metadata": {},
     "output_type": "execute_result"
    }
   ],
   "source": [
    "df.head()"
   ]
  },
  {
   "cell_type": "code",
   "execution_count": 56,
   "id": "feab2c4c",
   "metadata": {},
   "outputs": [
    {
     "data": {
      "text/plain": [
       "0       Degree\n",
       "1       Degree\n",
       "2       Degree\n",
       "3       Degree\n",
       "4       Degree\n",
       "        ...   \n",
       "200     Degree\n",
       "201     Degree\n",
       "202     Degree\n",
       "203    Masters\n",
       "204     Degree\n",
       "Name: Highest_Degree, Length: 205, dtype: object"
      ]
     },
     "execution_count": 56,
     "metadata": {},
     "output_type": "execute_result"
    }
   ],
   "source": [
    "df.Highest_Degree"
   ]
  },
  {
   "cell_type": "code",
   "execution_count": 57,
   "id": "f4f114e3",
   "metadata": {},
   "outputs": [
    {
     "data": {
      "text/plain": [
       "Degree     140\n",
       "Masters     65\n",
       "Name: Highest_Degree, dtype: int64"
      ]
     },
     "execution_count": 57,
     "metadata": {},
     "output_type": "execute_result"
    }
   ],
   "source": [
    "df['Highest_Degree'].value_counts()"
   ]
  },
  {
   "cell_type": "code",
   "execution_count": 58,
   "id": "3cddbbc4",
   "metadata": {},
   "outputs": [
    {
     "data": {
      "text/plain": [
       "<Axes: xlabel='Highest_Degree', ylabel='Salary'>"
      ]
     },
     "execution_count": 58,
     "metadata": {},
     "output_type": "execute_result"
    },
    {
     "data": {
      "image/png": "[encoded data removed]",
      "text/plain": [
       "<Figure size 640x480 with 1 Axes>"
      ]
     },
     "metadata": {},
     "output_type": "display_data"
    }
   ],
   "source": [
    "sns.boxplot(data=df,x='Highest_Degree',y='Salary') # standard daviation"
   ]
  },
  {
   "cell_type": "code",
   "execution_count": 59,
   "id": "d8937a38",
   "metadata": {},
   "outputs": [],
   "source": [
    "# step -1\n",
    "# chacking Assumptions\n",
    "# data is normal\n",
    "# sample have equal variance\n"
   ]
  },
  {
   "cell_type": "code",
   "execution_count": 60,
   "id": "b94dee43",
   "metadata": {},
   "outputs": [],
   "source": [
    "#Data is normal"
   ]
  },
  {
   "cell_type": "code",
   "execution_count": 61,
   "id": "8240ce06",
   "metadata": {},
   "outputs": [],
   "source": [
    "degree=df[df['Highest_Degree']=='Degree']['Salary']\n",
    "masters=df[df['Highest_Degree']=='Masters']['Salary']"
   ]
  },
  {
   "cell_type": "code",
   "execution_count": 62,
   "id": "37022ccc",
   "metadata": {},
   "outputs": [
    {
     "data": {
      "text/plain": [
       "ShapiroResult(statistic=0.9641101360321045, pvalue=4.521189475781284e-05)"
      ]
     },
     "execution_count": 62,
     "metadata": {},
     "output_type": "execute_result"
    }
   ],
   "source": [
    "# Normality -\n",
    "#null -Data is normal skew=0\n",
    "#alter -data is not normal skew!=0\n",
    "\n",
    "stats.shapiro(df['Salary'])"
   ]
  },
  {
   "cell_type": "code",
   "execution_count": 63,
   "id": "28423121",
   "metadata": {},
   "outputs": [
    {
     "data": {
      "text/plain": [
       "ShapiroResult(statistic=0.9596092700958252, pvalue=0.00038650797796435654)"
      ]
     },
     "execution_count": 63,
     "metadata": {},
     "output_type": "execute_result"
    }
   ],
   "source": [
    "stats.shapiro(degree) # Degree"
   ]
  },
  {
   "cell_type": "code",
   "execution_count": 64,
   "id": "e449599e",
   "metadata": {},
   "outputs": [
    {
     "data": {
      "text/plain": [
       "ShapiroResult(statistic=0.9436206221580505, pvalue=0.00516712199896574)"
      ]
     },
     "execution_count": 64,
     "metadata": {},
     "output_type": "execute_result"
    }
   ],
   "source": [
    "stats.shapiro(masters) # Masters"
   ]
  },
  {
   "cell_type": "code",
   "execution_count": 65,
   "id": "c3e3eb1a",
   "metadata": {},
   "outputs": [],
   "source": [
    "# since p_value is less than sign lavel we conclude that data is not normal and reject the null hypothesis"
   ]
  },
  {
   "cell_type": "code",
   "execution_count": 66,
   "id": "8117dd91",
   "metadata": {},
   "outputs": [],
   "source": [
    "# levene\n",
    "\n",
    "# null- variance of sample are equel var of degree = var of master\n",
    "# alter-variance of sample are not equal"
   ]
  },
  {
   "cell_type": "code",
   "execution_count": 67,
   "id": "d97a035d",
   "metadata": {},
   "outputs": [
    {
     "data": {
      "text/plain": [
       "LeveneResult(statistic=0.11716247840600362, pvalue=0.7324867489797675)"
      ]
     },
     "execution_count": 67,
     "metadata": {},
     "output_type": "execute_result"
    }
   ],
   "source": [
    "stats.levene(degree,masters)"
   ]
  },
  {
   "cell_type": "code",
   "execution_count": 68,
   "id": "d8045ec3",
   "metadata": {},
   "outputs": [],
   "source": [
    "# p_value =0.72\n",
    "# sign lvl=0.05\n",
    "# since p_value is grater than sign lvl we conclude that the variance are equal and we fail to reject null hypothesis"
   ]
  },
  {
   "cell_type": "code",
   "execution_count": 69,
   "id": "7a794013",
   "metadata": {},
   "outputs": [],
   "source": [
    "# since assumption of normality is voilated we  will perform no para test"
   ]
  },
  {
   "cell_type": "code",
   "execution_count": 70,
   "id": "778c1c3f",
   "metadata": {},
   "outputs": [],
   "source": [
    "# We assume data is normaly distribution and have equal variance\n"
   ]
  },
  {
   "cell_type": "code",
   "execution_count": 71,
   "id": "a4f98644",
   "metadata": {},
   "outputs": [],
   "source": [
    "# frame hypothesis\n",
    "\n",
    "# H0:-Avg salary of degree =Avg salary of masters , mu1=mu2\n",
    "# Ha:- Avg salary of degree != Avg salary of masters ,mu1!=mu2"
   ]
  },
  {
   "cell_type": "code",
   "execution_count": 72,
   "id": "cc112475",
   "metadata": {},
   "outputs": [],
   "source": [
    "# Directionality"
   ]
  },
  {
   "cell_type": "code",
   "execution_count": 75,
   "id": "76fdb40c",
   "metadata": {
    "collapsed": true,
    "jupyter": {
     "outputs_hidden": true
    }
   },
   "outputs": [
    {
     "ename": "TypeError",
     "evalue": "unsupported operand type(s) for /: 'str' and 'int'",
     "output_type": "error",
     "traceback": [
      "\u001b[1;31m---------------------------------------------------------------------------\u001b[0m",
      "\u001b[1;31mTypeError\u001b[0m                                 Traceback (most recent call last)",
      "Cell \u001b[1;32mIn[75], line 2\u001b[0m\n\u001b[0;32m      1\u001b[0m \u001b[38;5;66;03m# calculate test stats ,p_value\u001b[39;00m\n\u001b[1;32m----> 2\u001b[0m \u001b[43mstats\u001b[49m\u001b[38;5;241;43m.\u001b[39;49m\u001b[43mttest_ind\u001b[49m\u001b[43m(\u001b[49m\u001b[43mdf\u001b[49m\u001b[43m[\u001b[49m\u001b[38;5;124;43m'\u001b[39;49m\u001b[38;5;124;43mSalary\u001b[39;49m\u001b[38;5;124;43m'\u001b[39;49m\u001b[43m]\u001b[49m\u001b[43m,\u001b[49m\u001b[43mdf\u001b[49m\u001b[43m[\u001b[49m\u001b[38;5;124;43m'\u001b[39;49m\u001b[38;5;124;43mHighest_Degree\u001b[39;49m\u001b[38;5;124;43m'\u001b[39;49m\u001b[43m]\u001b[49m\u001b[43m)\u001b[49m\n",
      "File \u001b[1;32m~\\anaconda3\\lib\\site-packages\\scipy\\stats\\_stats_py.py:6819\u001b[0m, in \u001b[0;36mttest_ind\u001b[1;34m(a, b, axis, equal_var, nan_policy, permutations, random_state, alternative, trim)\u001b[0m\n\u001b[0;32m   6817\u001b[0m \u001b[38;5;28;01mif\u001b[39;00m trim \u001b[38;5;241m==\u001b[39m \u001b[38;5;241m0\u001b[39m:\n\u001b[0;32m   6818\u001b[0m     v1 \u001b[38;5;241m=\u001b[39m _var(a, axis, ddof\u001b[38;5;241m=\u001b[39m\u001b[38;5;241m1\u001b[39m)\n\u001b[1;32m-> 6819\u001b[0m     v2 \u001b[38;5;241m=\u001b[39m \u001b[43m_var\u001b[49m\u001b[43m(\u001b[49m\u001b[43mb\u001b[49m\u001b[43m,\u001b[49m\u001b[43m \u001b[49m\u001b[43maxis\u001b[49m\u001b[43m,\u001b[49m\u001b[43m \u001b[49m\u001b[43mddof\u001b[49m\u001b[38;5;241;43m=\u001b[39;49m\u001b[38;5;241;43m1\u001b[39;49m\u001b[43m)\u001b[49m\n\u001b[0;32m   6820\u001b[0m     m1 \u001b[38;5;241m=\u001b[39m np\u001b[38;5;241m.\u001b[39mmean(a, axis)\n\u001b[0;32m   6821\u001b[0m     m2 \u001b[38;5;241m=\u001b[39m np\u001b[38;5;241m.\u001b[39mmean(b, axis)\n",
      "File \u001b[1;32m~\\anaconda3\\lib\\site-packages\\scipy\\stats\\_stats_py.py:1211\u001b[0m, in \u001b[0;36m_var\u001b[1;34m(x, axis, ddof, mean)\u001b[0m\n\u001b[0;32m   1209\u001b[0m \u001b[38;5;28;01mdef\u001b[39;00m \u001b[38;5;21m_var\u001b[39m(x, axis\u001b[38;5;241m=\u001b[39m\u001b[38;5;241m0\u001b[39m, ddof\u001b[38;5;241m=\u001b[39m\u001b[38;5;241m0\u001b[39m, mean\u001b[38;5;241m=\u001b[39m\u001b[38;5;28;01mNone\u001b[39;00m):\n\u001b[0;32m   1210\u001b[0m     \u001b[38;5;66;03m# Calculate variance of sample, warning if precision is lost\u001b[39;00m\n\u001b[1;32m-> 1211\u001b[0m     var \u001b[38;5;241m=\u001b[39m \u001b[43m_moment\u001b[49m\u001b[43m(\u001b[49m\u001b[43mx\u001b[49m\u001b[43m,\u001b[49m\u001b[43m \u001b[49m\u001b[38;5;241;43m2\u001b[39;49m\u001b[43m,\u001b[49m\u001b[43m \u001b[49m\u001b[43maxis\u001b[49m\u001b[43m,\u001b[49m\u001b[43m \u001b[49m\u001b[43mmean\u001b[49m\u001b[38;5;241;43m=\u001b[39;49m\u001b[43mmean\u001b[49m\u001b[43m)\u001b[49m\n\u001b[0;32m   1212\u001b[0m     \u001b[38;5;28;01mif\u001b[39;00m ddof \u001b[38;5;241m!=\u001b[39m \u001b[38;5;241m0\u001b[39m:\n\u001b[0;32m   1213\u001b[0m         n \u001b[38;5;241m=\u001b[39m x\u001b[38;5;241m.\u001b[39mshape[axis] \u001b[38;5;28;01mif\u001b[39;00m axis \u001b[38;5;129;01mis\u001b[39;00m \u001b[38;5;129;01mnot\u001b[39;00m \u001b[38;5;28;01mNone\u001b[39;00m \u001b[38;5;28;01melse\u001b[39;00m x\u001b[38;5;241m.\u001b[39msize\n",
      "File \u001b[1;32m~\\anaconda3\\lib\\site-packages\\scipy\\stats\\_stats_py.py:1181\u001b[0m, in \u001b[0;36m_moment\u001b[1;34m(a, moment, axis, mean)\u001b[0m\n\u001b[0;32m   1178\u001b[0m     n_list\u001b[38;5;241m.\u001b[39mappend(current_n)\n\u001b[0;32m   1180\u001b[0m \u001b[38;5;66;03m# Starting point for exponentiation by squares\u001b[39;00m\n\u001b[1;32m-> 1181\u001b[0m mean \u001b[38;5;241m=\u001b[39m \u001b[43ma\u001b[49m\u001b[38;5;241;43m.\u001b[39;49m\u001b[43mmean\u001b[49m\u001b[43m(\u001b[49m\u001b[43maxis\u001b[49m\u001b[43m,\u001b[49m\u001b[43m \u001b[49m\u001b[43mkeepdims\u001b[49m\u001b[38;5;241;43m=\u001b[39;49m\u001b[38;5;28;43;01mTrue\u001b[39;49;00m\u001b[43m)\u001b[49m \u001b[38;5;28;01mif\u001b[39;00m mean \u001b[38;5;129;01mis\u001b[39;00m \u001b[38;5;28;01mNone\u001b[39;00m \u001b[38;5;28;01melse\u001b[39;00m mean\n\u001b[0;32m   1182\u001b[0m a_zero_mean \u001b[38;5;241m=\u001b[39m a \u001b[38;5;241m-\u001b[39m mean\n\u001b[0;32m   1184\u001b[0m eps \u001b[38;5;241m=\u001b[39m np\u001b[38;5;241m.\u001b[39mfinfo(a_zero_mean\u001b[38;5;241m.\u001b[39mdtype)\u001b[38;5;241m.\u001b[39mresolution \u001b[38;5;241m*\u001b[39m \u001b[38;5;241m10\u001b[39m\n",
      "File \u001b[1;32m~\\anaconda3\\lib\\site-packages\\numpy\\core\\_methods.py:182\u001b[0m, in \u001b[0;36m_mean\u001b[1;34m(a, axis, dtype, out, keepdims, where)\u001b[0m\n\u001b[0;32m    180\u001b[0m ret \u001b[38;5;241m=\u001b[39m umr_sum(arr, axis, dtype, out, keepdims, where\u001b[38;5;241m=\u001b[39mwhere)\n\u001b[0;32m    181\u001b[0m \u001b[38;5;28;01mif\u001b[39;00m \u001b[38;5;28misinstance\u001b[39m(ret, mu\u001b[38;5;241m.\u001b[39mndarray):\n\u001b[1;32m--> 182\u001b[0m     ret \u001b[38;5;241m=\u001b[39m \u001b[43mum\u001b[49m\u001b[38;5;241;43m.\u001b[39;49m\u001b[43mtrue_divide\u001b[49m\u001b[43m(\u001b[49m\n\u001b[0;32m    183\u001b[0m \u001b[43m            \u001b[49m\u001b[43mret\u001b[49m\u001b[43m,\u001b[49m\u001b[43m \u001b[49m\u001b[43mrcount\u001b[49m\u001b[43m,\u001b[49m\u001b[43m \u001b[49m\u001b[43mout\u001b[49m\u001b[38;5;241;43m=\u001b[39;49m\u001b[43mret\u001b[49m\u001b[43m,\u001b[49m\u001b[43m \u001b[49m\u001b[43mcasting\u001b[49m\u001b[38;5;241;43m=\u001b[39;49m\u001b[38;5;124;43m'\u001b[39;49m\u001b[38;5;124;43munsafe\u001b[39;49m\u001b[38;5;124;43m'\u001b[39;49m\u001b[43m,\u001b[49m\u001b[43m \u001b[49m\u001b[43msubok\u001b[49m\u001b[38;5;241;43m=\u001b[39;49m\u001b[38;5;28;43;01mFalse\u001b[39;49;00m\u001b[43m)\u001b[49m\n\u001b[0;32m    184\u001b[0m     \u001b[38;5;28;01mif\u001b[39;00m is_float16_result \u001b[38;5;129;01mand\u001b[39;00m out \u001b[38;5;129;01mis\u001b[39;00m \u001b[38;5;28;01mNone\u001b[39;00m:\n\u001b[0;32m    185\u001b[0m         ret \u001b[38;5;241m=\u001b[39m arr\u001b[38;5;241m.\u001b[39mdtype\u001b[38;5;241m.\u001b[39mtype(ret)\n",
      "\u001b[1;31mTypeError\u001b[0m: unsupported operand type(s) for /: 'str' and 'int'"
     ]
    }
   ],
   "source": [
    "# calculate test stats ,p_value\n",
    "stats.ttest_ind(df['Salary'],df['Highest_Degree'])"
   ]
  },
  {
   "cell_type": "code",
   "execution_count": 76,
   "id": "edd89880",
   "metadata": {},
   "outputs": [
    {
     "data": {
      "text/plain": [
       "Ttest_indResult(statistic=-5.3537310995406715, pvalue=2.3202430485928605e-07)"
      ]
     },
     "execution_count": 76,
     "metadata": {},
     "output_type": "execute_result"
    }
   ],
   "source": [
    "stats.ttest_ind(degree,masters)"
   ]
  },
  {
   "cell_type": "code",
   "execution_count": 74,
   "id": "820e6bf9",
   "metadata": {},
   "outputs": [],
   "source": [
    "# sign==0.05\n",
    "# p_value=0.0\n",
    "\n",
    "# since p_value is less than sign lavel we can \n",
    "# conclude thate there's difference b/w avg salary of masters and we reject null hypothesis"
   ]
  },
  {
   "cell_type": "code",
   "execution_count": null,
   "id": "e68052c9",
   "metadata": {},
   "outputs": [],
   "source": []
  },
  {
   "cell_type": "code",
   "execution_count": null,
   "id": "0d8af70e",
   "metadata": {},
   "outputs": [],
   "source": [
    "# frame hypothesis\n",
    "\n",
    "# H0:-Avg salary of degree =Avg salary of masters , mu1=mu2\n",
    "# Ha:- Avg salary of degree != Avg salary of masters ,mu1!=mu2 "
   ]
  },
  {
   "cell_type": "code",
   "execution_count": null,
   "id": "7d0b2ad1",
   "metadata": {},
   "outputs": [],
   "source": [
    "# test stats ,p_value"
   ]
  },
  {
   "cell_type": "code",
   "execution_count": 77,
   "id": "678f3113",
   "metadata": {},
   "outputs": [
    {
     "data": {
      "text/plain": [
       "MannwhitneyuResult(statistic=2670.0, pvalue=1.941021108313548e-06)"
      ]
     },
     "execution_count": 77,
     "metadata": {},
     "output_type": "execute_result"
    }
   ],
   "source": [
    "stats.mannwhitneyu(degree,masters)    # non parametric"
   ]
  },
  {
   "cell_type": "code",
   "execution_count": 78,
   "id": "c1dfc4c1",
   "metadata": {},
   "outputs": [],
   "source": [
    " # since pval<sign lvl,"
   ]
  },
  {
   "cell_type": "code",
   "execution_count": 79,
   "id": "9cd4ecf6",
   "metadata": {},
   "outputs": [
    {
     "data": {
      "text/plain": [
       "Ttest_indResult(statistic=-5.3537310995406715, pvalue=2.3202430485928605e-07)"
      ]
     },
     "execution_count": 79,
     "metadata": {},
     "output_type": "execute_result"
    }
   ],
   "source": [
    "stats.ttest_ind(degree,masters)"
   ]
  },
  {
   "cell_type": "code",
   "execution_count": 80,
   "id": "53b133df",
   "metadata": {},
   "outputs": [
    {
     "data": {
      "text/plain": [
       "F_onewayResult(statistic=28.66243668618897, pvalue=2.320243048592841e-07)"
      ]
     },
     "execution_count": 80,
     "metadata": {},
     "output_type": "execute_result"
    }
   ],
   "source": [
    "stats.f_oneway(degree,masters)"
   ]
  },
  {
   "cell_type": "markdown",
   "id": "ab0aa58c",
   "metadata": {},
   "source": [
    "# NUM vs CAT(<2)"
   ]
  },
  {
   "cell_type": "code",
   "execution_count": 81,
   "id": "c27bd4be",
   "metadata": {},
   "outputs": [
    {
     "data": {
      "text/html": [
       "<div>\n",
       "<style scoped>\n",
       "    .dataframe tbody tr th:only-of-type {\n",
       "        vertical-align: middle;\n",
       "    }\n",
       "\n",
       "    .dataframe tbody tr th {\n",
       "        vertical-align: top;\n",
       "    }\n",
       "\n",
       "    .dataframe thead th {\n",
       "        text-align: right;\n",
       "    }\n",
       "</style>\n",
       "<table border=\"1\" class=\"dataframe\">\n",
       "  <thead>\n",
       "    <tr style=\"text-align: right;\">\n",
       "      <th></th>\n",
       "      <th>Salary</th>\n",
       "      <th>Designation</th>\n",
       "    </tr>\n",
       "  </thead>\n",
       "  <tbody>\n",
       "    <tr>\n",
       "      <th>0</th>\n",
       "      <td>0</td>\n",
       "      <td>Intern</td>\n",
       "    </tr>\n",
       "    <tr>\n",
       "      <th>1</th>\n",
       "      <td>0</td>\n",
       "      <td>Intern</td>\n",
       "    </tr>\n",
       "    <tr>\n",
       "      <th>2</th>\n",
       "      <td>22000</td>\n",
       "      <td>Associates</td>\n",
       "    </tr>\n",
       "    <tr>\n",
       "      <th>3</th>\n",
       "      <td>0</td>\n",
       "      <td>Intern</td>\n",
       "    </tr>\n",
       "    <tr>\n",
       "      <th>4</th>\n",
       "      <td>48000</td>\n",
       "      <td>Manager</td>\n",
       "    </tr>\n",
       "    <tr>\n",
       "      <th>...</th>\n",
       "      <td>...</td>\n",
       "      <td>...</td>\n",
       "    </tr>\n",
       "    <tr>\n",
       "      <th>200</th>\n",
       "      <td>18000</td>\n",
       "      <td>Associates</td>\n",
       "    </tr>\n",
       "    <tr>\n",
       "      <th>201</th>\n",
       "      <td>0</td>\n",
       "      <td>Intern</td>\n",
       "    </tr>\n",
       "    <tr>\n",
       "      <th>202</th>\n",
       "      <td>0</td>\n",
       "      <td>Intern</td>\n",
       "    </tr>\n",
       "    <tr>\n",
       "      <th>203</th>\n",
       "      <td>65000</td>\n",
       "      <td>Manager</td>\n",
       "    </tr>\n",
       "    <tr>\n",
       "      <th>204</th>\n",
       "      <td>61000</td>\n",
       "      <td>Manager</td>\n",
       "    </tr>\n",
       "  </tbody>\n",
       "</table>\n",
       "<p>205 rows × 2 columns</p>\n",
       "</div>"
      ],
      "text/plain": [
       "     Salary Designation\n",
       "0         0      Intern\n",
       "1         0      Intern\n",
       "2     22000  Associates\n",
       "3         0      Intern\n",
       "4     48000     Manager\n",
       "..      ...         ...\n",
       "200   18000  Associates\n",
       "201       0      Intern\n",
       "202       0      Intern\n",
       "203   65000     Manager\n",
       "204   61000     Manager\n",
       "\n",
       "[205 rows x 2 columns]"
      ]
     },
     "execution_count": 81,
     "metadata": {},
     "output_type": "execute_result"
    }
   ],
   "source": [
    "df[['Salary','Designation']]"
   ]
  },
  {
   "cell_type": "code",
   "execution_count": 82,
   "id": "d234b617",
   "metadata": {},
   "outputs": [
    {
     "data": {
      "text/plain": [
       "Manager           88\n",
       "Associates        58\n",
       "Senior Manager    47\n",
       "Intern            12\n",
       "Name: Designation, dtype: int64"
      ]
     },
     "execution_count": 82,
     "metadata": {},
     "output_type": "execute_result"
    }
   ],
   "source": [
    "df['Designation'].value_counts()"
   ]
  },
  {
   "cell_type": "code",
   "execution_count": null,
   "id": "b7548aa1",
   "metadata": {},
   "outputs": [],
   "source": []
  },
  {
   "cell_type": "code",
   "execution_count": 83,
   "id": "46ef815f",
   "metadata": {},
   "outputs": [],
   "source": [
    "# check the assumptons\n",
    "#-normality\n",
    "#-Equal variance"
   ]
  },
  {
   "cell_type": "code",
   "execution_count": 84,
   "id": "71fe5e56",
   "metadata": {},
   "outputs": [
    {
     "data": {
      "text/plain": [
       "ShapiroResult(statistic=0.9641101360321045, pvalue=4.521189475781284e-05)"
      ]
     },
     "execution_count": 84,
     "metadata": {},
     "output_type": "execute_result"
    }
   ],
   "source": [
    "stats.shapiro(df['Salary'])"
   ]
  },
  {
   "cell_type": "code",
   "execution_count": 85,
   "id": "805492ba",
   "metadata": {},
   "outputs": [],
   "source": [
    "# pval<sign lvl hence reject null hypothesis"
   ]
  },
  {
   "cell_type": "code",
   "execution_count": 86,
   "id": "ef7ce678",
   "metadata": {},
   "outputs": [],
   "source": [
    "Manager=df[df['Designation']=='Manager']['Salary']\n",
    "Associates=df[df['Designation']=='Associates']['Salary']\n",
    "SeniorManager=df[df['Designation']=='Senior Manager']['Salary']\n",
    "Intern =df[df['Designation']=='Intern']['Salary']"
   ]
  },
  {
   "cell_type": "code",
   "execution_count": 87,
   "id": "8784772d",
   "metadata": {},
   "outputs": [
    {
     "data": {
      "text/plain": [
       "LeveneResult(statistic=23.504488225573887, pvalue=4.4008851713086473e-13)"
      ]
     },
     "execution_count": 87,
     "metadata": {},
     "output_type": "execute_result"
    }
   ],
   "source": [
    "stats.levene(Manager,Associates,SeniorManager,Intern)"
   ]
  },
  {
   "cell_type": "code",
   "execution_count": 88,
   "id": "baa0eba8",
   "metadata": {},
   "outputs": [],
   "source": [
    "# pval<signf lvl ,hance reject the null hypotesis"
   ]
  },
  {
   "cell_type": "code",
   "execution_count": 89,
   "id": "6b3c5718",
   "metadata": {},
   "outputs": [
    {
     "data": {
      "text/plain": [
       "F_onewayResult(statistic=219.51596484370396, pvalue=3.7585821219424857e-63)"
      ]
     },
     "execution_count": 89,
     "metadata": {},
     "output_type": "execute_result"
    }
   ],
   "source": [
    "stats.f_oneway(Manager,Associates,SeniorManager,Intern)"
   ]
  },
  {
   "cell_type": "code",
   "execution_count": 90,
   "id": "621075f1",
   "metadata": {},
   "outputs": [],
   "source": [
    "# pval<signf lvl ,hance reject the null hypotesis hence be conclude atlast one avg salary is not equal"
   ]
  },
  {
   "cell_type": "code",
   "execution_count": 91,
   "id": "35a5ba2e",
   "metadata": {},
   "outputs": [
    {
     "data": {
      "text/plain": [
       "KruskalResult(statistic=146.5247894944902, pvalue=1.4803896785590628e-31)"
      ]
     },
     "execution_count": 91,
     "metadata": {},
     "output_type": "execute_result"
    }
   ],
   "source": [
    "stats.kruskal(Manager,Associates,SeniorManager,Intern)"
   ]
  },
  {
   "cell_type": "code",
   "execution_count": 92,
   "id": "100135ee",
   "metadata": {},
   "outputs": [],
   "source": [
    "# pval<sigf lvl "
   ]
  },
  {
   "cell_type": "code",
   "execution_count": null,
   "id": "5a214f15",
   "metadata": {},
   "outputs": [],
   "source": []
  },
  {
   "cell_type": "code",
   "execution_count": 93,
   "id": "6cc8aed2",
   "metadata": {},
   "outputs": [
    {
     "data": {
      "text/plain": [
       "ShapiroResult(statistic=0.9641101360321045, pvalue=4.521189475781284e-05)"
      ]
     },
     "execution_count": 93,
     "metadata": {},
     "output_type": "execute_result"
    }
   ],
   "source": [
    "stats.shapiro(df['Salary'])"
   ]
  },
  {
   "cell_type": "code",
   "execution_count": 94,
   "id": "1de837e0",
   "metadata": {},
   "outputs": [
    {
     "name": "stderr",
     "output_type": "stream",
     "text": [
      "C:\\Users\\praka\\anaconda3\\lib\\site-packages\\scipy\\stats\\_morestats.py:1813: UserWarning: Input data for shapiro has range zero. The results may not be accurate.\n",
      "  warnings.warn(\"Input data for shapiro has range zero. The results \"\n"
     ]
    },
    {
     "data": {
      "text/plain": [
       "ShapiroResult(statistic=1.0, pvalue=1.0)"
      ]
     },
     "execution_count": 94,
     "metadata": {},
     "output_type": "execute_result"
    }
   ],
   "source": [
    "stats.shapiro(Intern)"
   ]
  },
  {
   "cell_type": "code",
   "execution_count": 95,
   "id": "c22aaf76",
   "metadata": {},
   "outputs": [
    {
     "data": {
      "text/plain": [
       "ShapiroResult(statistic=0.9585665464401245, pvalue=0.006656133569777012)"
      ]
     },
     "execution_count": 95,
     "metadata": {},
     "output_type": "execute_result"
    }
   ],
   "source": [
    "stats.shapiro(Manager)"
   ]
  },
  {
   "cell_type": "code",
   "execution_count": 96,
   "id": "75bb4c80",
   "metadata": {},
   "outputs": [
    {
     "data": {
      "text/plain": [
       "ShapiroResult(statistic=0.9352521896362305, pvalue=0.011823106557130814)"
      ]
     },
     "execution_count": 96,
     "metadata": {},
     "output_type": "execute_result"
    }
   ],
   "source": [
    "stats.shapiro(SeniorManager)"
   ]
  },
  {
   "cell_type": "code",
   "execution_count": 97,
   "id": "404733de",
   "metadata": {},
   "outputs": [
    {
     "data": {
      "text/plain": [
       "ShapiroResult(statistic=0.6575736999511719, pvalue=2.30804972356502e-10)"
      ]
     },
     "execution_count": 97,
     "metadata": {},
     "output_type": "execute_result"
    }
   ],
   "source": [
    "stats.shapiro(Associates)"
   ]
  },
  {
   "cell_type": "code",
   "execution_count": null,
   "id": "c6d16fac",
   "metadata": {},
   "outputs": [],
   "source": []
  },
  {
   "cell_type": "code",
   "execution_count": null,
   "id": "ce17d4e6",
   "metadata": {},
   "outputs": [],
   "source": []
  },
  {
   "cell_type": "code",
   "execution_count": 98,
   "id": "23975d9d",
   "metadata": {},
   "outputs": [
    {
     "data": {
      "text/plain": [
       "LeveneResult(statistic=23.504488225573887, pvalue=4.4008851713086473e-13)"
      ]
     },
     "execution_count": 98,
     "metadata": {},
     "output_type": "execute_result"
    }
   ],
   "source": [
    "# levene\n",
    "stats.levene(Manager,Associates,SeniorManager,Intern)"
   ]
  },
  {
   "cell_type": "code",
   "execution_count": 99,
   "id": "c32dea55",
   "metadata": {},
   "outputs": [],
   "source": [
    "# we assumption data is normaly distributed and has equal variance"
   ]
  },
  {
   "cell_type": "code",
   "execution_count": 100,
   "id": "82992e8b",
   "metadata": {},
   "outputs": [],
   "source": [
    "# Null :- avg salary of manager,avg salary of Associats,avg salary of SeniorManager,avg salary of Intern"
   ]
  },
  {
   "cell_type": "code",
   "execution_count": 101,
   "id": "82b89850",
   "metadata": {},
   "outputs": [
    {
     "data": {
      "text/plain": [
       "F_onewayResult(statistic=219.51596484370396, pvalue=3.7585821219424857e-63)"
      ]
     },
     "execution_count": 101,
     "metadata": {},
     "output_type": "execute_result"
    }
   ],
   "source": [
    "# stats ,p_values\n",
    "stats.f_oneway(Manager,Associates,SeniorManager,Intern)"
   ]
  },
  {
   "cell_type": "code",
   "execution_count": 102,
   "id": "641e6583",
   "metadata": {},
   "outputs": [
    {
     "ename": "SyntaxError",
     "evalue": "invalid syntax (2774377358.py, line 1)",
     "output_type": "error",
     "traceback": [
      "\u001b[1;36m  Cell \u001b[1;32mIn[102], line 1\u001b[1;36m\u001b[0m\n\u001b[1;33m    sign lvl =0.05\u001b[0m\n\u001b[1;37m         ^\u001b[0m\n\u001b[1;31mSyntaxError\u001b[0m\u001b[1;31m:\u001b[0m invalid syntax\n"
     ]
    }
   ],
   "source": [
    "sign lvl =0.05\n",
    "pval=0.0\n",
    "# since p_value  is less than sign lvl of we conclude that avg salary  of them different and reject null\n",
    "# Designation has significante effact  on predicting salary"
   ]
  },
  {
   "cell_type": "code",
   "execution_count": 103,
   "id": "47954f7d",
   "metadata": {},
   "outputs": [
    {
     "data": {
      "text/html": [
       "<table class=\"simpletable\">\n",
       "<caption>Multiple Comparison of Means - Tukey HSD, FWER=0.05</caption>\n",
       "<tr>\n",
       "    <th>group1</th>       <th>group2</th>      <th>meandiff</th>   <th>p-adj</th>    <th>lower</th>       <th>upper</th>    <th>reject</th>\n",
       "</tr>\n",
       "<tr>\n",
       "  <td>Associates</td>     <td>Intern</td>     <td>-23706.8966</td>  <td>0.0</td>  <td>-34037.1435</td> <td>-13376.6496</td>  <td>True</td> \n",
       "</tr>\n",
       "<tr>\n",
       "  <td>Associates</td>     <td>Manager</td>    <td>26531.7398</td>   <td>0.0</td>  <td>21022.5543</td>  <td>32040.9254</td>   <td>True</td> \n",
       "</tr>\n",
       "<tr>\n",
       "  <td>Associates</td> <td>Senior Manager</td> <td>54356.9332</td>   <td>0.0</td>  <td>47964.0315</td>  <td>60749.8349</td>   <td>True</td> \n",
       "</tr>\n",
       "<tr>\n",
       "    <td>Intern</td>       <td>Manager</td>    <td>50238.6364</td>   <td>0.0</td>  <td>40214.7913</td>  <td>60262.4814</td>   <td>True</td> \n",
       "</tr>\n",
       "<tr>\n",
       "    <td>Intern</td>   <td>Senior Manager</td> <td>78063.8298</td>   <td>0.0</td>  <td>67528.3879</td>  <td>88599.2717</td>   <td>True</td> \n",
       "</tr>\n",
       "<tr>\n",
       "    <td>Manager</td>  <td>Senior Manager</td> <td>27825.1934</td>   <td>0.0</td>  <td>21940.2415</td>  <td>33710.1454</td>   <td>True</td> \n",
       "</tr>\n",
       "</table>"
      ],
      "text/plain": [
       "<class 'statsmodels.iolib.table.SimpleTable'>"
      ]
     },
     "execution_count": 103,
     "metadata": {},
     "output_type": "execute_result"
    }
   ],
   "source": [
    "from statsmodels.stats import multicomp as mc # parametric test\n",
    "post_hoc=mc.MultiComparison(df['Salary'],df['Designation'])\n",
    "post_hoc.tukeyhsd().summary()"
   ]
  },
  {
   "cell_type": "code",
   "execution_count": 104,
   "id": "288185a3",
   "metadata": {},
   "outputs": [],
   "source": [
    "# reject the null hypothesis\n",
    "# u1=u2\n",
    "# avg salary of ass= avg salary of interm\n",
    "# avg salary of ass= avg salary of manager\n",
    "# avg salary of ass= avg salary of Senior Manager\n",
    "# avg salary of interm= avg salary of manager\n",
    "# avg salary of interm= avg salary of Senior manager\n",
    "# avg salary of manager= avg salary of Senior manager"
   ]
  },
  {
   "cell_type": "code",
   "execution_count": 105,
   "id": "a0d17603",
   "metadata": {},
   "outputs": [],
   "source": [
    "# krushkal"
   ]
  },
  {
   "cell_type": "code",
   "execution_count": 106,
   "id": "72b1814c",
   "metadata": {},
   "outputs": [
    {
     "data": {
      "text/plain": [
       "<function scipy.stats._stats_py.kruskal(*samples, nan_policy='propagate', axis=0, keepdims=False)>"
      ]
     },
     "execution_count": 106,
     "metadata": {},
     "output_type": "execute_result"
    }
   ],
   "source": [
    "stats.kruskal"
   ]
  },
  {
   "cell_type": "code",
   "execution_count": 107,
   "id": "713b8b8d",
   "metadata": {},
   "outputs": [],
   "source": [
    "\n",
    "# avg salary of ass= avg salary of manager avg salary of ass= avg salary of Senior Manager avg salary of interm= avg salary of manager\n",
    "# avg salary of interm= avg salary of Senior manager avg salary of manager= avg salary of Senior manager"
   ]
  },
  {
   "cell_type": "code",
   "execution_count": 108,
   "id": "092bdca2",
   "metadata": {},
   "outputs": [
    {
     "data": {
      "text/plain": [
       "KruskalResult(statistic=146.5247894944902, pvalue=1.4803896785590628e-31)"
      ]
     },
     "execution_count": 108,
     "metadata": {},
     "output_type": "execute_result"
    }
   ],
   "source": [
    "stats.kruskal(Manager,Associates,SeniorManager,Intern)"
   ]
  },
  {
   "cell_type": "code",
   "execution_count": 109,
   "id": "81a6d56a",
   "metadata": {},
   "outputs": [],
   "source": [
    "# sign lvl=0.05\n",
    "# p value=0\n",
    "# since p_val is less than sign lavel at latast of"
   ]
  },
  {
   "cell_type": "code",
   "execution_count": null,
   "id": "8e38c60a",
   "metadata": {},
   "outputs": [],
   "source": []
  },
  {
   "cell_type": "markdown",
   "id": "ad1ab25a",
   "metadata": {},
   "source": [
    "# Cat vs Cat  (Assumption)"
   ]
  },
  {
   "cell_type": "code",
   "execution_count": 110,
   "id": "02a42c76",
   "metadata": {},
   "outputs": [],
   "source": [
    "# non parametric"
   ]
  },
  {
   "cell_type": "code",
   "execution_count": 111,
   "id": "040bf7a5",
   "metadata": {},
   "outputs": [
    {
     "data": {
      "text/html": [
       "<div>\n",
       "<style scoped>\n",
       "    .dataframe tbody tr th:only-of-type {\n",
       "        vertical-align: middle;\n",
       "    }\n",
       "\n",
       "    .dataframe tbody tr th {\n",
       "        vertical-align: top;\n",
       "    }\n",
       "\n",
       "    .dataframe thead th {\n",
       "        text-align: right;\n",
       "    }\n",
       "</style>\n",
       "<table border=\"1\" class=\"dataframe\">\n",
       "  <thead>\n",
       "    <tr style=\"text-align: right;\">\n",
       "      <th></th>\n",
       "      <th>Salary</th>\n",
       "      <th>Age</th>\n",
       "      <th>Experience</th>\n",
       "      <th>Highest_Degree</th>\n",
       "      <th>Designation</th>\n",
       "      <th>Upskilling_Certification_Courses</th>\n",
       "    </tr>\n",
       "  </thead>\n",
       "  <tbody>\n",
       "    <tr>\n",
       "      <th>0</th>\n",
       "      <td>0</td>\n",
       "      <td>22</td>\n",
       "      <td>0</td>\n",
       "      <td>Degree</td>\n",
       "      <td>Intern</td>\n",
       "      <td>0</td>\n",
       "    </tr>\n",
       "    <tr>\n",
       "      <th>1</th>\n",
       "      <td>0</td>\n",
       "      <td>22</td>\n",
       "      <td>0</td>\n",
       "      <td>Degree</td>\n",
       "      <td>Intern</td>\n",
       "      <td>0</td>\n",
       "    </tr>\n",
       "    <tr>\n",
       "      <th>2</th>\n",
       "      <td>22000</td>\n",
       "      <td>24</td>\n",
       "      <td>2</td>\n",
       "      <td>Degree</td>\n",
       "      <td>Associates</td>\n",
       "      <td>1</td>\n",
       "    </tr>\n",
       "    <tr>\n",
       "      <th>3</th>\n",
       "      <td>0</td>\n",
       "      <td>23</td>\n",
       "      <td>1</td>\n",
       "      <td>Degree</td>\n",
       "      <td>Intern</td>\n",
       "      <td>0</td>\n",
       "    </tr>\n",
       "    <tr>\n",
       "      <th>4</th>\n",
       "      <td>48000</td>\n",
       "      <td>26</td>\n",
       "      <td>4</td>\n",
       "      <td>Degree</td>\n",
       "      <td>Manager</td>\n",
       "      <td>3</td>\n",
       "    </tr>\n",
       "  </tbody>\n",
       "</table>\n",
       "</div>"
      ],
      "text/plain": [
       "   Salary  Age  Experience Highest_Degree Designation  \\\n",
       "0       0   22           0         Degree      Intern   \n",
       "1       0   22           0         Degree      Intern   \n",
       "2   22000   24           2         Degree  Associates   \n",
       "3       0   23           1         Degree      Intern   \n",
       "4   48000   26           4         Degree     Manager   \n",
       "\n",
       "   Upskilling_Certification_Courses  \n",
       "0                                 0  \n",
       "1                                 0  \n",
       "2                                 1  \n",
       "3                                 0  \n",
       "4                                 3  "
      ]
     },
     "execution_count": 111,
     "metadata": {},
     "output_type": "execute_result"
    }
   ],
   "source": [
    "df.head()"
   ]
  },
  {
   "cell_type": "code",
   "execution_count": 112,
   "id": "a2b42512",
   "metadata": {},
   "outputs": [
    {
     "ename": "SyntaxError",
     "evalue": "unterminated string literal (detected at line 2) (2309243453.py, line 2)",
     "output_type": "error",
     "traceback": [
      "\u001b[1;36m  Cell \u001b[1;32mIn[112], line 2\u001b[1;36m\u001b[0m\n\u001b[1;33m    H0:- There's no relation b/w highest degree and Designation\u001b[0m\n\u001b[1;37m              ^\u001b[0m\n\u001b[1;31mSyntaxError\u001b[0m\u001b[1;31m:\u001b[0m unterminated string literal (detected at line 2)\n"
     ]
    }
   ],
   "source": [
    "# frame hypothesis\n",
    "H0:- There's no relation b/w highest degree and Designation\n",
    "Ha:- There's relestion b/w highst degree and degignastion"
   ]
  },
  {
   "cell_type": "code",
   "execution_count": 113,
   "id": "6f3c5fb1",
   "metadata": {},
   "outputs": [
    {
     "data": {
      "text/html": [
       "<div>\n",
       "<style scoped>\n",
       "    .dataframe tbody tr th:only-of-type {\n",
       "        vertical-align: middle;\n",
       "    }\n",
       "\n",
       "    .dataframe tbody tr th {\n",
       "        vertical-align: top;\n",
       "    }\n",
       "\n",
       "    .dataframe thead th {\n",
       "        text-align: right;\n",
       "    }\n",
       "</style>\n",
       "<table border=\"1\" class=\"dataframe\">\n",
       "  <thead>\n",
       "    <tr style=\"text-align: right;\">\n",
       "      <th>Designation</th>\n",
       "      <th>Associates</th>\n",
       "      <th>Intern</th>\n",
       "      <th>Manager</th>\n",
       "      <th>Senior Manager</th>\n",
       "    </tr>\n",
       "    <tr>\n",
       "      <th>Highest_Degree</th>\n",
       "      <th></th>\n",
       "      <th></th>\n",
       "      <th></th>\n",
       "      <th></th>\n",
       "    </tr>\n",
       "  </thead>\n",
       "  <tbody>\n",
       "    <tr>\n",
       "      <th>Degree</th>\n",
       "      <td>50</td>\n",
       "      <td>12</td>\n",
       "      <td>54</td>\n",
       "      <td>24</td>\n",
       "    </tr>\n",
       "    <tr>\n",
       "      <th>Masters</th>\n",
       "      <td>8</td>\n",
       "      <td>0</td>\n",
       "      <td>34</td>\n",
       "      <td>23</td>\n",
       "    </tr>\n",
       "  </tbody>\n",
       "</table>\n",
       "</div>"
      ],
      "text/plain": [
       "Designation     Associates  Intern  Manager  Senior Manager\n",
       "Highest_Degree                                             \n",
       "Degree                  50      12       54              24\n",
       "Masters                  8       0       34              23"
      ]
     },
     "execution_count": 113,
     "metadata": {},
     "output_type": "execute_result"
    }
   ],
   "source": [
    "pd.crosstab(df['Highest_Degree'],df['Designation'])"
   ]
  },
  {
   "cell_type": "code",
   "execution_count": 114,
   "id": "41389388",
   "metadata": {},
   "outputs": [
    {
     "data": {
      "text/html": [
       "<div>\n",
       "<style scoped>\n",
       "    .dataframe tbody tr th:only-of-type {\n",
       "        vertical-align: middle;\n",
       "    }\n",
       "\n",
       "    .dataframe tbody tr th {\n",
       "        vertical-align: top;\n",
       "    }\n",
       "\n",
       "    .dataframe thead th {\n",
       "        text-align: right;\n",
       "    }\n",
       "</style>\n",
       "<table border=\"1\" class=\"dataframe\">\n",
       "  <thead>\n",
       "    <tr style=\"text-align: right;\">\n",
       "      <th>Designation</th>\n",
       "      <th>Associates</th>\n",
       "      <th>Intern</th>\n",
       "      <th>Manager</th>\n",
       "      <th>Senior Manager</th>\n",
       "      <th>All</th>\n",
       "    </tr>\n",
       "    <tr>\n",
       "      <th>Highest_Degree</th>\n",
       "      <th></th>\n",
       "      <th></th>\n",
       "      <th></th>\n",
       "      <th></th>\n",
       "      <th></th>\n",
       "    </tr>\n",
       "  </thead>\n",
       "  <tbody>\n",
       "    <tr>\n",
       "      <th>Degree</th>\n",
       "      <td>50</td>\n",
       "      <td>12</td>\n",
       "      <td>54</td>\n",
       "      <td>24</td>\n",
       "      <td>140</td>\n",
       "    </tr>\n",
       "    <tr>\n",
       "      <th>Masters</th>\n",
       "      <td>8</td>\n",
       "      <td>0</td>\n",
       "      <td>34</td>\n",
       "      <td>23</td>\n",
       "      <td>65</td>\n",
       "    </tr>\n",
       "    <tr>\n",
       "      <th>All</th>\n",
       "      <td>58</td>\n",
       "      <td>12</td>\n",
       "      <td>88</td>\n",
       "      <td>47</td>\n",
       "      <td>205</td>\n",
       "    </tr>\n",
       "  </tbody>\n",
       "</table>\n",
       "</div>"
      ],
      "text/plain": [
       "Designation     Associates  Intern  Manager  Senior Manager  All\n",
       "Highest_Degree                                                  \n",
       "Degree                  50      12       54              24  140\n",
       "Masters                  8       0       34              23   65\n",
       "All                     58      12       88              47  205"
      ]
     },
     "execution_count": 114,
     "metadata": {},
     "output_type": "execute_result"
    }
   ],
   "source": [
    "pd.crosstab(df['Highest_Degree'],df['Designation'],margins=True)"
   ]
  },
  {
   "cell_type": "code",
   "execution_count": 115,
   "id": "0ff08a67",
   "metadata": {},
   "outputs": [
    {
     "data": {
      "text/plain": [
       "Chi2ContingencyResult(statistic=22.561305807178876, pvalue=4.984302332533709e-05, dof=3, expected_freq=array([[39.6097561 ,  8.19512195, 60.09756098, 32.09756098],\n",
       "       [18.3902439 ,  3.80487805, 27.90243902, 14.90243902]]))"
      ]
     },
     "execution_count": 115,
     "metadata": {},
     "output_type": "execute_result"
    }
   ],
   "source": [
    "stats.chi2_contingency(pd.crosstab(df['Highest_Degree'],df['Designation']))"
   ]
  },
  {
   "cell_type": "code",
   "execution_count": 116,
   "id": "20750219",
   "metadata": {},
   "outputs": [],
   "source": [
    "# p_val<sign lvl hance can conclude There's reletion b/w highst degree and designation"
   ]
  },
  {
   "cell_type": "markdown",
   "id": "687c7dcc",
   "metadata": {},
   "source": [
    "#  Binomial Distrbution"
   ]
  },
  {
   "cell_type": "code",
   "execution_count": 117,
   "id": "43f7e51a",
   "metadata": {},
   "outputs": [
    {
     "data": {
      "text/plain": [
       "0.1385651496069605"
      ]
     },
     "execution_count": 117,
     "metadata": {},
     "output_type": "execute_result"
    }
   ],
   "source": [
    "stats.binom.pmf(3,50,0.1)"
   ]
  },
  {
   "cell_type": "code",
   "execution_count": 118,
   "id": "c31efc03",
   "metadata": {},
   "outputs": [
    {
     "data": {
      "text/plain": [
       "0.250293905953308"
      ]
     },
     "execution_count": 118,
     "metadata": {},
     "output_type": "execute_result"
    }
   ],
   "source": [
    "stats.binom.cdf(3,50,0.1)"
   ]
  },
  {
   "cell_type": "code",
   "execution_count": 119,
   "id": "146f62ce",
   "metadata": {},
   "outputs": [
    {
     "data": {
      "text/plain": [
       "0.749706094046692"
      ]
     },
     "execution_count": 119,
     "metadata": {},
     "output_type": "execute_result"
    }
   ],
   "source": [
    "stats.binom.sf(3,50,0.1)"
   ]
  },
  {
   "cell_type": "code",
   "execution_count": 120,
   "id": "dcd713ff",
   "metadata": {},
   "outputs": [
    {
     "data": {
      "text/plain": [
       "0.746486172910782"
      ]
     },
     "execution_count": 120,
     "metadata": {},
     "output_type": "execute_result"
    }
   ],
   "source": [
    "stats.binom.sf(3,50,0.1)-stats.binom.sf(11,50,0.1)"
   ]
  },
  {
   "cell_type": "code",
   "execution_count": 121,
   "id": "9292a80f",
   "metadata": {},
   "outputs": [
    {
     "data": {
      "text/plain": [
       "0.8789166420663237"
      ]
     },
     "execution_count": 121,
     "metadata": {},
     "output_type": "execute_result"
    }
   ],
   "source": [
    "stats.binom.cdf(10,50,0.1)-stats.binom.cdf(2,50,0.1)"
   ]
  },
  {
   "cell_type": "code",
   "execution_count": null,
   "id": "56e77574",
   "metadata": {},
   "outputs": [],
   "source": []
  },
  {
   "cell_type": "code",
   "execution_count": null,
   "id": "0c71877d",
   "metadata": {},
   "outputs": [],
   "source": []
  }
 ],
 "metadata": {
  "kernelspec": {
   "display_name": "Python 3 (ipykernel)",
   "language": "python",
   "name": "python3"
  },
  "language_info": {
   "codemirror_mode": {
    "name": "ipython",
    "version": 3
   },
   "file_extension": ".py",
   "mimetype": "text/x-python",
   "name": "python",
   "nbconvert_exporter": "python",
   "pygments_lexer": "ipython3",
   "version": "3.10.11"
  }
 },
 "nbformat": 4,
 "nbformat_minor": 5
}
