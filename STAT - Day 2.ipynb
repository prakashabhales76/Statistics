{
 "cells": [
  {
   "cell_type": "markdown",
   "metadata": {},
   "source": [
    "# Faculty Notebook - Day - 02"
   ]
  },
  {
   "cell_type": "markdown",
   "metadata": {},
   "source": [
    "<a id=\"lib\"></a>\n",
    "# 1. Import Libraries"
   ]
  },
  {
   "cell_type": "markdown",
   "metadata": {},
   "source": [
    "**Let us import the required libraries.**"
   ]
  },
  {
   "cell_type": "code",
   "execution_count": 1,
   "metadata": {},
   "outputs": [],
   "source": [
    "from warnings import filterwarnings\n",
    "filterwarnings('ignore')"
   ]
  },
  {
   "cell_type": "code",
   "execution_count": 2,
   "metadata": {},
   "outputs": [],
   "source": [
    "# import 'pandas' \n",
    "import pandas as pd \n",
    "\n",
    "# import 'numpy' \n",
    "import numpy as np\n",
    "\n",
    "# show all data in csv\n",
    "pd.options.display.max_columns-100\n",
    "\n",
    "# import subpackage of matplotlib\n",
    "import matplotlib.pyplot as plt\n",
    "\n",
    "# import 'seaborn'\n",
    "import seaborn as sns\n",
    "\n",
    "# to suppress warnings \n",
    "\n",
    "\n",
    "# import 'random' to generate random sample\n",
    "import random\n",
    "\n",
    "# import statistics to perform statistical computation  \n",
    "import statistics\n",
    "\n",
    "# import 'stats' package from scipy library\n",
    "from scipy import stats\n",
    "\n",
    "# import a library to perform Z-test\n",
    "from statsmodels.stats import weightstats as stests\n",
    "\n",
    "# to test the normality \n",
    "from scipy.stats import shapiro\n",
    "\n",
    "# import the function to calculate the power of test\n",
    "from statsmodels.stats import power"
   ]
  },
  {
   "cell_type": "code",
   "execution_count": 3,
   "metadata": {},
   "outputs": [],
   "source": [
    "# set the plot size using 'rcParams'\n",
    "# once the plot size is set using 'rcParams', it sets the size of all the forthcoming plots in the file\n",
    "# pass width and height in inches to 'figure.figsize' \n",
    "plt.rcParams['figure.figsize'] = [15,8]"
   ]
  },
  {
   "cell_type": "code",
   "execution_count": 4,
   "metadata": {},
   "outputs": [],
   "source": [
    "import scipy.stats as stats\n",
    "import numpy as np\n",
    "import pandas as pd\n",
    "import matplotlib.pyplot as plt\n",
    "import seaborn as sns"
   ]
  },
  {
   "cell_type": "markdown",
   "metadata": {},
   "source": [
    "<a id=\"pt\"></a>\n",
    "##  Point Estimation"
   ]
  },
  {
   "cell_type": "markdown",
   "metadata": {},
   "source": [
    "This method considers a single value (sample statistic) as the population parameter. \n",
    "\n",
    "Let $X_{1}, X_{2}, X_{3},..., X_{n}$ be the random sample drawn from a population with mean $\\mu$ and standard deviation $\\sigma$. <br>\n",
    "The point estimation method estimates the population mean, $\\mu = \\overline{X}$, where $\\overline{X}$ is the sample mean and population standard deviation, $\\sigma = s$, where $s$ is the standard deviation of the sample ."
   ]
  },
  {
   "cell_type": "markdown",
   "metadata": {},
   "source": [
    "### Example:\n",
    "\n",
    "#### 1. Consider the data of grade points for 35 students in a data science course. Select grades of 20 students randomly from the data and find the point estimate for the population mean.\n",
    "\n",
    "     Grades: [59.1, 65.0, 75.8, 79.2, 95.0, 99.8, 89.1, 65.2, 41.9, 55.2, 94.8, 84.1, 83.2, 74.0, 75.5, 76.2, 79.1, 80.1, \n",
    "              92.1, 74.2, 59.2, 64.0, 75, 78.2, 95.6, 97.8, 89.5, 64.2, 41.8, 57.2, 85, 91.4, 81.8, 74.6, 90]"
   ]
  },
  {
   "cell_type": "code",
   "execution_count": 32,
   "metadata": {},
   "outputs": [],
   "source": [
    "# given population  \n",
    "grades = [59.1, 65.0, 75.8, 79.2, 95.0, 99.8, 89.1, 65.2, 41.9, 55.2, 94.8, 84.1, 83.2, 74.0, 75.5, 76.2, 79.1, 80.1, \n",
    "          92.1, 74.2, 59.2, 64.0, 75, 78.2, 95.6, 97.8, 89.5, 64.2, 41.8, 57.2, 85, 91.4, 81.8, 74.6, 90]\n"
   ]
  },
  {
   "cell_type": "code",
   "execution_count": 33,
   "metadata": {},
   "outputs": [
    {
     "data": {
      "text/plain": [
       "75.32500000000002"
      ]
     },
     "execution_count": 33,
     "metadata": {},
     "output_type": "execute_result"
    }
   ],
   "source": [
    "random.seed(1)\n",
    "sample_grades=random.sample(grades,k=20)\n",
    "sample_mean=np.mean(sample_grades)\n",
    "sample_mean"
   ]
  },
  {
   "cell_type": "code",
   "execution_count": 34,
   "metadata": {},
   "outputs": [
    {
     "data": {
      "text/plain": [
       "72.98499999999999"
      ]
     },
     "execution_count": 34,
     "metadata": {},
     "output_type": "execute_result"
    }
   ],
   "source": [
    "random.seed(12)     # point calculation\n",
    "sample_grades=random.sample(grades,k=20)\n",
    "sample_mean=np.mean(sample_grades)\n",
    "sample_mean"
   ]
  },
  {
   "cell_type": "code",
   "execution_count": 35,
   "metadata": {},
   "outputs": [
    {
     "data": {
      "text/plain": [
       "77.045"
      ]
     },
     "execution_count": 35,
     "metadata": {},
     "output_type": "execute_result"
    }
   ],
   "source": [
    "random.seed(23)\n",
    "sample_grades=random.sample(grades,k=20)\n",
    "sample_mean=np.mean(sample_grades)\n",
    "sample_mean"
   ]
  },
  {
   "cell_type": "markdown",
   "metadata": {},
   "source": [
    "#### 2. A financial firm has created 50 portfolios. From them, a sample of 13 portfolios was selected, out of which 8 were found to be underperforming. Can you estimate the number of underperforming portfolios?"
   ]
  },
  {
   "cell_type": "code",
   "execution_count": 36,
   "metadata": {},
   "outputs": [
    {
     "data": {
      "text/plain": [
       "0.6153846153846154"
      ]
     },
     "execution_count": 36,
     "metadata": {},
     "output_type": "execute_result"
    }
   ],
   "source": [
    "N=50                           # Average \n",
    "n=13\n",
    "sample_propotion=8/13\n",
    "sample_propotion"
   ]
  },
  {
   "cell_type": "code",
   "execution_count": 37,
   "metadata": {},
   "outputs": [
    {
     "data": {
      "text/plain": [
       "30.76923076923077"
      ]
     },
     "execution_count": 37,
     "metadata": {},
     "output_type": "execute_result"
    }
   ],
   "source": [
    "sample_propotion * N    # desribe propotion "
   ]
  },
  {
   "cell_type": "code",
   "execution_count": 38,
   "metadata": {},
   "outputs": [],
   "source": [
    "# 30propotion are undergrounding"
   ]
  },
  {
   "cell_type": "markdown",
   "metadata": {},
   "source": [
    "<a id=\"err\"></a>\n",
    "### 2.1.1 Sampling Error"
   ]
  },
  {
   "cell_type": "markdown",
   "metadata": {},
   "source": [
    "Sampling error is considered as the absolute difference between the sample statistic used to estimate the parameter and the corresponding population parameter. Since the entire population is not considered as the sample, the values of mean, median, quantiles, and so on calculated on sample differ from the actual population values. \n",
    "\n",
    "One can reduce the sampling error either by increasing the sample size or determining the optimal sample size using various methods."
   ]
  },
  {
   "cell_type": "markdown",
   "metadata": {},
   "source": [
    "### Example:\n",
    "\n",
    "#### 1. Consider the data for the number of ice-creams sold per day. An ice-cream vendor collected this data for 90 days and then a sample is drawn (without replacement) containing ice-creams sold for 25 days. \n",
    "\n",
    "data = [21, 93, 62, 76, 73, 20, 56, 95, 41, 36, 38, 13, 80, 88, 34, 18, 40, 11, \n",
    "        25, 29, 61, 23, 82, 10, 92, 69, 60, 87, 14, 91, 94, 49, 57, 83, 96, 55, \n",
    "        79, 52, 59, 39, 58, 17, 19, 98, 15, 54, 48, 46, 72, 45, 65, 28, 37, 30, \n",
    "        68, 75, 16, 33, 31, 99, 22, 51, 27, 67, 85, 47, 44, 77, 64, 97, 84, 42, \n",
    "        90, 70, 74, 89, 32, 26, 24, 12, 81, 53, 50, 35, 71, 63, 43, 86, 78, 66]\n",
    "        \n",
    "sample = [10, 22, 47, 66, 11, 57, 77, 98, 31, 63, 74, 84, 50, 96, 88, 92, 70, 54, 65, 44, 16, 72, 20, 90, 43]\n",
    "\n",
    "Comupte the sampling error for mean."
   ]
  },
  {
   "cell_type": "code",
   "execution_count": 39,
   "metadata": {},
   "outputs": [],
   "source": [
    "pop = [21, 93, 62, 76, 73, 20, 56, 95, 41, 36, 38, 13, 80, 88, \n",
    "       34, 18, 40, 11, 25, 29, 61, 23, 82, 10, 92, 69, 60, 87, \n",
    "       14, 91, 94, 49, 57, 83, 96, 55, 79, 52, 59, 39, 58, 17, \n",
    "       19, 98, 15, 54, 48, 46, 72, 45, 65, 28, 37, 30, 68, 75, \n",
    "       16, 33, 31, 99, 22, 51, 27, 67, 85, 47, 44, 77, 64, 97, \n",
    "       84, 42, 90, 70, 74, 89, 32, 26, 24, 12, 81, 53, 50, 35, \n",
    "       71, 63, 43, 86, 78, 66]\n",
    "\n",
    "sample = [10, 22, 47, 66, 11, 57, 77, 98, 31, 63, 74, 84, 50, 96, \n",
    "          88, 92, 70, 54, 65, 44, 16, 72, 20, 90, 43]"
   ]
  },
  {
   "cell_type": "code",
   "execution_count": 40,
   "metadata": {},
   "outputs": [
    {
     "name": "stdout",
     "output_type": "stream",
     "text": [
      "Sampling Error- -3.1000000000000014\n",
      "Standard Error- 5.195831662656775\n"
     ]
    }
   ],
   "source": [
    "print('Sampling Error-',np.mean(pop)-np.mean(sample))    # sampling and standard error\n",
    "sigma=np.std(pop)\n",
    "print('Standard Error-',sigma/np.sqrt(len(sample)))# if pop std dev is "
   ]
  },
  {
   "cell_type": "code",
   "execution_count": 41,
   "metadata": {},
   "outputs": [],
   "source": [
    "# Sampling error = population Mean - Sample mean\n",
    "# Standard Error = s/sqrt(n)\n"
   ]
  },
  {
   "cell_type": "markdown",
   "metadata": {},
   "source": [
    "<a id=\"int\"></a>\n",
    "## 2.2 Interval Estimation for Mean"
   ]
  },
  {
   "cell_type": "markdown",
   "metadata": {},
   "source": [
    "This method considers the range of values in which the population parameter is likely to lie. The confidence interval is an interval that describes the range of values in which the parameter lies with a specific probability. It is given by the formula,<br> <p style='text-indent:20em'> `conf_interval = sample statistic ± margin of error`</p>\n",
    "\n",
    "The uncertainty of an estimate is described by the `confidence level` which is used to calculate the margin of error. "
   ]
  },
  {
   "cell_type": "markdown",
   "metadata": {},
   "source": [
    "<a id=\"large\"></a>\n",
    "### 2.2.1 Large Sample Size"
   ]
  },
  {
   "cell_type": "markdown",
   "metadata": {},
   "source": [
    "The confidence interval for the population mean with $100(1-\\alpha)$% confidence level is given as: $\\overline{X} \\pm Z_{\\frac{\\alpha}{2}}\\frac{s}{\\sqrt{n}}$\n",
    "\n",
    "Where, <br>\n",
    "$\\overline{X}$: Sample mean<br>\n",
    "$\\alpha$: Level of significance<br>\n",
    "$s$: Sample Standard deviation <br>\n",
    "$n$: Sample size"
   ]
  },
  {
   "cell_type": "code",
   "execution_count": 42,
   "metadata": {
    "scrolled": true
   },
   "outputs": [
    {
     "data": {
      "text/html": [
       "<div>\n",
       "<style scoped>\n",
       "    .dataframe tbody tr th:only-of-type {\n",
       "        vertical-align: middle;\n",
       "    }\n",
       "\n",
       "    .dataframe tbody tr th {\n",
       "        vertical-align: top;\n",
       "    }\n",
       "\n",
       "    .dataframe thead th {\n",
       "        text-align: right;\n",
       "    }\n",
       "</style>\n",
       "<table border=\"1\" class=\"dataframe\">\n",
       "  <thead>\n",
       "    <tr style=\"text-align: right;\">\n",
       "      <th></th>\n",
       "      <th>alpha</th>\n",
       "      <th>Z_alpha_by_2</th>\n",
       "    </tr>\n",
       "  </thead>\n",
       "  <tbody>\n",
       "    <tr>\n",
       "      <th>0</th>\n",
       "      <td>0.10</td>\n",
       "      <td>1.6449</td>\n",
       "    </tr>\n",
       "    <tr>\n",
       "      <th>1</th>\n",
       "      <td>0.05</td>\n",
       "      <td>1.9600</td>\n",
       "    </tr>\n",
       "    <tr>\n",
       "      <th>2</th>\n",
       "      <td>0.02</td>\n",
       "      <td>2.3263</td>\n",
       "    </tr>\n",
       "    <tr>\n",
       "      <th>3</th>\n",
       "      <td>0.01</td>\n",
       "      <td>2.5758</td>\n",
       "    </tr>\n",
       "  </tbody>\n",
       "</table>\n",
       "</div>"
      ],
      "text/plain": [
       "   alpha  Z_alpha_by_2\n",
       "0   0.10        1.6449\n",
       "1   0.05        1.9600\n",
       "2   0.02        2.3263\n",
       "3   0.01        2.5758"
      ]
     },
     "execution_count": 42,
     "metadata": {},
     "output_type": "execute_result"
    }
   ],
   "source": [
    "# let us find the Z-values for different alpha values\n",
    "\n",
    "# create an empty dataframe to store the alpha and corresponding Z-value\n",
    "df_Z = pd.DataFrame()\n",
    "\n",
    "# create a dictionary of different alpha values\n",
    "alpha =  [0.1, 0.05, 0.02, 0.01] \n",
    "\n",
    "# use for loop to calculate the value for each alpha\n",
    "for i in range(len(alpha)):\n",
    "    alpha_by_2 = alpha[i] / 2\n",
    "    \n",
    "    # use 'stats.norm.isf()' to find the Z-value corresponding to the upper tail probability 'q'\n",
    "    # pass the value of 'alpha_by_2' to the parameter 'q'\n",
    "    # use 'round()' to round-off the value to 4 digits\n",
    "    Z = np.abs(round(stats.norm.isf(q = alpha_by_2), 4))\n",
    "    \n",
    "    # create a dataframe using dictionary to store the alpha and corresponding Z-value\n",
    "    # set the loop iterator 'i' as the index of the dataframe\n",
    "    row =  pd.DataFrame({\"alpha\": alpha[i], \"Z_alpha_by_2\" : Z}, index = [i])\n",
    "    \n",
    "    # append the row to the dataframe 'df_Z'\n",
    "    df_Z = df_Z.append(row)\n",
    "\n",
    "# print the final dataframe\n",
    "df_Z"
   ]
  },
  {
   "cell_type": "markdown",
   "metadata": {},
   "source": [
    "To calculate the confidence interval with 95% confidence, use the Z-value corresponding to `alpha = 0.05`. "
   ]
  },
  {
   "cell_type": "markdown",
   "metadata": {},
   "source": [
    "## SF and ISF"
   ]
  },
  {
   "cell_type": "code",
   "execution_count": 43,
   "metadata": {},
   "outputs": [
    {
     "data": {
      "text/plain": [
       "1.9599639845400545"
      ]
     },
     "execution_count": 43,
     "metadata": {},
     "output_type": "execute_result"
    }
   ],
   "source": [
    "stats.norm.isf(0.025)  # 95% confidence   # use after the "
   ]
  },
  {
   "cell_type": "code",
   "execution_count": 44,
   "metadata": {},
   "outputs": [
    {
     "data": {
      "text/plain": [
       "1.6448536269514729"
      ]
     },
     "execution_count": 44,
     "metadata": {},
     "output_type": "execute_result"
    }
   ],
   "source": [
    "stats.norm.isf(0.05)    # 90% confidence"
   ]
  },
  {
   "cell_type": "code",
   "execution_count": 45,
   "metadata": {},
   "outputs": [
    {
     "data": {
      "text/plain": [
       "2.575829303548901"
      ]
     },
     "execution_count": 45,
     "metadata": {},
     "output_type": "execute_result"
    }
   ],
   "source": [
    "stats.norm.isf(0.005)   #  99.7% confidence"
   ]
  },
  {
   "cell_type": "code",
   "execution_count": null,
   "metadata": {},
   "outputs": [],
   "source": []
  },
  {
   "cell_type": "code",
   "execution_count": null,
   "metadata": {},
   "outputs": [],
   "source": []
  },
  {
   "cell_type": "markdown",
   "metadata": {},
   "source": [
    "### Example:\n",
    "\n",
    "#### 1. A random sample of weight (in kg.) for 35 diabetic patients is drawn from the population with a standard deviation of 8 kg. Find the 90% confidence interval for the population mean.\n",
    "\n",
    "    Weight: [59.1, 65.0, 75.8, 79.2, 95.0, 99.8, 89.1, 65.3, 41.9, 55.2, 94.8, 84.1, 83.2, 74.0, 75.5, 76.2, 79.1, 80.1, \n",
    "             92.1, 74.2, 59.2, 64.0, 75, 78.2, 95.6, 97.8, 89.5, 64.2, 41.8, 57.2, 85, 91.4, 81.8, 74.6, 90]"
   ]
  },
  {
   "cell_type": "code",
   "execution_count": 46,
   "metadata": {},
   "outputs": [],
   "source": [
    "sample=[59.1, 65.0, 75.8, 79.2, 95.0, 99.8, 89.1, 65.3, 41.9, 55.2, \n",
    "         94.8, 84.1, 83.2, 74.0, 75.5, 76.2, 79.1, 80.1, 92.1, 74.2, \n",
    "         59.2, 64.0, 75, 78.2, 95.6, 97.8, 89.5, 64.2, 41.8, 57.2, \n",
    "         85, 91.4, 81.8, 74.6, 90]"
   ]
  },
  {
   "cell_type": "code",
   "execution_count": 47,
   "metadata": {},
   "outputs": [],
   "source": [
    "sigma=8\n",
    "xbar=np.mean(sample)\n",
    "n=len(sample)"
   ]
  },
  {
   "cell_type": "code",
   "execution_count": 48,
   "metadata": {},
   "outputs": [
    {
     "data": {
      "text/plain": [
       "76.68571428571428"
      ]
     },
     "execution_count": 48,
     "metadata": {},
     "output_type": "execute_result"
    }
   ],
   "source": [
    "xbar=np.mean(sample)\n",
    "xbar"
   ]
  },
  {
   "cell_type": "code",
   "execution_count": 49,
   "metadata": {},
   "outputs": [],
   "source": [
    "# CI=90%\n",
    "# Alpha=1-CI\n",
    "# alpha=10%\n",
    "# alpha/2=5%=0.05\n",
    "# alpha/2 is passed to isf function\n",
    "\n",
    "z=stats.norm.isf(0.05) # 90% confidence interval"
   ]
  },
  {
   "cell_type": "code",
   "execution_count": 50,
   "metadata": {},
   "outputs": [
    {
     "name": "stdout",
     "output_type": "stream",
     "text": [
      "74.46146621975642 78.90996235167215\n"
     ]
    }
   ],
   "source": [
    "ll=xbar-(z*sigma/np.sqrt(n))\n",
    "ul=xbar+(z*sigma/np.sqrt(n))\n",
    "print(ll,ul)"
   ]
  },
  {
   "cell_type": "code",
   "execution_count": null,
   "metadata": {},
   "outputs": [],
   "source": []
  },
  {
   "cell_type": "markdown",
   "metadata": {},
   "source": [
    "#### Practice\n",
    "\n",
    "#### 2. There are 150 apples on a tree. You randomly choose 40 apples and found that the average weight of apples is 182 grams with a standard deviation of 30 grams. Find the 95% confidence interval for the population mean."
   ]
  },
  {
   "cell_type": "code",
   "execution_count": 51,
   "metadata": {},
   "outputs": [],
   "source": [
    "n=40\n",
    "xbar=182\n",
    "sigma=30\n",
    "z=stats.norm.isf(0.025)"
   ]
  },
  {
   "cell_type": "code",
   "execution_count": 52,
   "metadata": {},
   "outputs": [
    {
     "name": "stdout",
     "output_type": "stream",
     "text": [
      "172.70307451543158 191.29692548456842\n"
     ]
    }
   ],
   "source": [
    "ll=xbar-(z*sigma/np.sqrt(n))# sample size n\n",
    "ul=xbar+(z*sigma/np.sqrt(n))\n",
    "print(ll,ul)"
   ]
  },
  {
   "cell_type": "code",
   "execution_count": 53,
   "metadata": {},
   "outputs": [
    {
     "data": {
      "text/plain": [
       "(172.70307451543158, 191.29692548456842)"
      ]
     },
     "execution_count": 53,
     "metadata": {},
     "output_type": "execute_result"
    }
   ],
   "source": [
    "stats.norm.interval(.95,xbar,sigma/np.sqrt(n))"
   ]
  },
  {
   "cell_type": "markdown",
   "metadata": {},
   "source": [
    "#### 3. A movie production house needs to estimate the average monthly wage of the technical crew members. The previous data shows that the standard deviation of the wages is 190 dollars. The production team thinks that the estimation of the average wage should not exceed 54 dollars. The team has decided to take a small subset of wages for the estimation. Find a suitable number of wages to be considered to get the estimate with 90% confidence."
   ]
  },
  {
   "cell_type": "code",
   "execution_count": 54,
   "metadata": {},
   "outputs": [
    {
     "name": "stdout",
     "output_type": "stream",
     "text": [
      "33.49455373554337\n"
     ]
    }
   ],
   "source": [
    "sigma=190\n",
    "z=(stats.norm.isf(0.05)*190/54)**2\n",
    "print(z)"
   ]
  },
  {
   "cell_type": "code",
   "execution_count": null,
   "metadata": {},
   "outputs": [],
   "source": []
  },
  {
   "cell_type": "markdown",
   "metadata": {},
   "source": [
    "#### 4. 100 bags of coal were tested and had an average of 35% of ash with a standard deviation of 15%. Calculate the margin of error for a 90% confidence level."
   ]
  },
  {
   "cell_type": "code",
   "execution_count": 55,
   "metadata": {},
   "outputs": [],
   "source": [
    "n=100\n",
    "sigma=0.15\n",
    "z=stats.norm.isf(5/100)# 5/100 mean 0.05"
   ]
  },
  {
   "cell_type": "code",
   "execution_count": 56,
   "metadata": {},
   "outputs": [
    {
     "name": "stdout",
     "output_type": "stream",
     "text": [
      "0.02467280440427209\n"
     ]
    }
   ],
   "source": [
    "me=z*sigma/n**0.5\n",
    "print(me)"
   ]
  },
  {
   "cell_type": "code",
   "execution_count": null,
   "metadata": {},
   "outputs": [],
   "source": []
  },
  {
   "cell_type": "markdown",
   "metadata": {},
   "source": [
    "### T Distribution and Z Distribution"
   ]
  },
  {
   "cell_type": "code",
   "execution_count": 57,
   "metadata": {},
   "outputs": [
    {
     "data": {
      "text/plain": [
       "1.9599639845400545"
      ]
     },
     "execution_count": 57,
     "metadata": {},
     "output_type": "execute_result"
    }
   ],
   "source": [
    "# 95% confidence \n",
    "stats.norm.isf(0.025)"
   ]
  },
  {
   "cell_type": "code",
   "execution_count": 58,
   "metadata": {},
   "outputs": [
    {
     "data": {
      "text/plain": [
       "2.2281388519649385"
      ]
     },
     "execution_count": 58,
     "metadata": {},
     "output_type": "execute_result"
    }
   ],
   "source": [
    "stats.t.isf(2.5/100,df=10)   # large sample use z  # small sample use t"
   ]
  },
  {
   "cell_type": "code",
   "execution_count": 59,
   "metadata": {},
   "outputs": [
    {
     "data": {
      "text/plain": [
       "1.983971518449634"
      ]
     },
     "execution_count": 59,
     "metadata": {},
     "output_type": "execute_result"
    }
   ],
   "source": [
    "stats.t.isf(2.5/100,df=100)"
   ]
  },
  {
   "cell_type": "code",
   "execution_count": 60,
   "metadata": {},
   "outputs": [
    {
     "data": {
      "text/plain": [
       "1.9623390808264078"
      ]
     },
     "execution_count": 60,
     "metadata": {},
     "output_type": "execute_result"
    }
   ],
   "source": [
    "stats.t.isf(2.5/100,df=1000)"
   ]
  },
  {
   "cell_type": "code",
   "execution_count": 61,
   "metadata": {},
   "outputs": [
    {
     "data": {
      "text/plain": [
       "1.9599640082627667"
      ]
     },
     "execution_count": 61,
     "metadata": {},
     "output_type": "execute_result"
    }
   ],
   "source": [
    "stats.t.isf(0.025,df=100000000)"
   ]
  },
  {
   "cell_type": "code",
   "execution_count": 62,
   "metadata": {},
   "outputs": [
    {
     "data": {
      "text/plain": [
       "1.9599639869123255"
      ]
     },
     "execution_count": 62,
     "metadata": {},
     "output_type": "execute_result"
    }
   ],
   "source": [
    "stats.t.isf(2.5/100,df=1000000000)"
   ]
  },
  {
   "cell_type": "code",
   "execution_count": null,
   "metadata": {},
   "outputs": [],
   "source": []
  },
  {
   "cell_type": "markdown",
   "metadata": {},
   "source": [
    "##### Z - Distribution is T Distribution with higher degrees of freedom"
   ]
  },
  {
   "cell_type": "markdown",
   "metadata": {},
   "source": [
    "<a id=\"small\"></a>\n",
    "### 2.2.2 Small Sample Size"
   ]
  },
  {
   "cell_type": "markdown",
   "metadata": {},
   "source": [
    "Let us take a sample of `n` observations from the population such that, $n < 30$. Here the standard deviation of the population is unknown. The confidence interval for the population mean with $100(1-\\alpha)$% confidence level is given as: $\\overline{X} \\pm t_{\\frac{\\alpha}{2}, n-1}\\frac{s}{\\sqrt{n}}$\n",
    "\n",
    "Where, <br>\n",
    "$\\overline{X}$: Sample mean<br>\n",
    "$\\alpha$: Level of significance<br>\n",
    "$s$: Sample standard deviation<br>\n",
    "$n-1$: degrees of freedom\n",
    "\n",
    "The ratio $\\frac{s}{\\sqrt{n}}$ is the estimate of the standard error of the mean. And $t_{\\frac{\\alpha}{2}, n-1}\\frac{s}{\\sqrt{n}}$ is the margin of error for the estimate.\n",
    "\n",
    "The value of $t_{\\frac{\\alpha}{2}, n-1}$ for different $\\alpha$ values can be obtained using the `stats.t.isf()` from the scipy library.  "
   ]
  },
  {
   "cell_type": "code",
   "execution_count": 63,
   "metadata": {},
   "outputs": [
    {
     "data": {
      "text/html": [
       "<div>\n",
       "<style scoped>\n",
       "    .dataframe tbody tr th:only-of-type {\n",
       "        vertical-align: middle;\n",
       "    }\n",
       "\n",
       "    .dataframe tbody tr th {\n",
       "        vertical-align: top;\n",
       "    }\n",
       "\n",
       "    .dataframe thead th {\n",
       "        text-align: right;\n",
       "    }\n",
       "</style>\n",
       "<table border=\"1\" class=\"dataframe\">\n",
       "  <thead>\n",
       "    <tr style=\"text-align: right;\">\n",
       "      <th></th>\n",
       "      <th>alpha</th>\n",
       "      <th>t_alpha_by_2</th>\n",
       "    </tr>\n",
       "  </thead>\n",
       "  <tbody>\n",
       "    <tr>\n",
       "      <th>0</th>\n",
       "      <td>0.10</td>\n",
       "      <td>1.81</td>\n",
       "    </tr>\n",
       "    <tr>\n",
       "      <th>1</th>\n",
       "      <td>0.05</td>\n",
       "      <td>2.23</td>\n",
       "    </tr>\n",
       "    <tr>\n",
       "      <th>2</th>\n",
       "      <td>0.02</td>\n",
       "      <td>2.76</td>\n",
       "    </tr>\n",
       "    <tr>\n",
       "      <th>3</th>\n",
       "      <td>0.01</td>\n",
       "      <td>3.17</td>\n",
       "    </tr>\n",
       "  </tbody>\n",
       "</table>\n",
       "</div>"
      ],
      "text/plain": [
       "   alpha  t_alpha_by_2\n",
       "0   0.10          1.81\n",
       "1   0.05          2.23\n",
       "2   0.02          2.76\n",
       "3   0.01          3.17"
      ]
     },
     "execution_count": 63,
     "metadata": {},
     "output_type": "execute_result"
    }
   ],
   "source": [
    "# let us find the t-values for different alpha values with 10 degrees of freedom\n",
    "\n",
    "# create an empty dataframe to store the alpha and corresponding t-value\n",
    "df_t = pd.DataFrame()\n",
    "\n",
    "# create a dictionary of different alpha values\n",
    "alpha =  [0.1, 0.05, 0.02, 0.01] \n",
    "\n",
    "# use for loop to calculate the t-value for each alpha value\n",
    "for i in range(len(alpha)):\n",
    "    alpha_by_2 = alpha[i] / 2\n",
    "    \n",
    "    # use 'stats.t.isf()' to find the t-value corresponding to the upper tail probability 'q'\n",
    "    # pass the value of 'alpha_by_2' to the parameter 'q'\n",
    "    # pass the 10 degrees of freedom to the parametr 'df' \n",
    "    # use 'round()' to round-off the value to 2 digits\n",
    "    t = np.abs(round(stats.t.isf(q = alpha_by_2, df = 10), 2))\n",
    "\n",
    "    # create a dataframe using dictionary to store the alpha and corresponding t-value \n",
    "    # set the loop iterator 'i' as the index of the dataframe\n",
    "    row =  pd.DataFrame({\"alpha\": alpha[i], \"t_alpha_by_2\": t}, index = [i])\n",
    "\n",
    "    # append the row to the dataframe 'df_t'\n",
    "    df_t = df_t.append(row)\n",
    "\n",
    "# print the final dataframe\n",
    "df_t"
   ]
  },
  {
   "cell_type": "markdown",
   "metadata": {},
   "source": [
    "### Example:\n",
    "\n",
    "#### 1. There are 150 apples on a tree. You randomly choose 17 apples and found that the average weight of apples is 78 grams with a standard deviation of 23 grams. Find the 90% confidence interval for the population mean."
   ]
  },
  {
   "cell_type": "code",
   "execution_count": 64,
   "metadata": {},
   "outputs": [],
   "source": [
    "n=17\n",
    "xbar=78\n",
    "s=23\n",
    "t=stats.t.isf(5/100,df=n-1)"
   ]
  },
  {
   "cell_type": "code",
   "execution_count": 65,
   "metadata": {},
   "outputs": [
    {
     "name": "stdout",
     "output_type": "stream",
     "text": [
      "68.26090326067306 87.73909673932694\n"
     ]
    }
   ],
   "source": [
    "ll=xbar-(t*s/(n**0.5)) # upper limit & lower limit\n",
    "ul=xbar+(t*s/(n**0.5))\n",
    "print(ll,ul)"
   ]
  },
  {
   "cell_type": "code",
   "execution_count": 66,
   "metadata": {},
   "outputs": [
    {
     "data": {
      "text/plain": [
       "(68.26090326067306, 87.73909673932694)"
      ]
     },
     "execution_count": 66,
     "metadata": {},
     "output_type": "execute_result"
    }
   ],
   "source": [
    "stats.t.interval(0.90,n-1,xbar,s/(n**0.5))"
   ]
  },
  {
   "cell_type": "markdown",
   "metadata": {},
   "source": [
    "<a id=\"prop\"></a>\n",
    "## 2.3 Interval Estimation for Proportion"
   ]
  },
  {
   "cell_type": "markdown",
   "metadata": {},
   "source": [
    "Consider a population in which each observation is either a success or a failure. The population proportion is denoted by `P` which the ratio of the number of successes to the size of the population.\n",
    "\n",
    "The confidence interval for the population proportion with $100(1-\\alpha)$% confidence level is given as: $p \\pm Z_{\\frac{\\alpha}{2}}\\sqrt{\\frac{p(1 - p)}{n}}$\n",
    "\n",
    "Where, <br>\n",
    "$p$: Sample proportion<br>\n",
    "$\\alpha$: Level of significance<br>\n",
    "$n$: Sample size\n",
    "\n",
    "The quantity $Z_{\\frac{\\alpha}{2}}\\sqrt{\\frac{p(1 - p)}{n}}$ is the margin of error."
   ]
  },
  {
   "cell_type": "markdown",
   "metadata": {},
   "source": [
    "### Example:\n",
    "\n",
    "#### 1. A financial firm has created 50 portfolios. From them, a sample of 13 portfolios was selected, out of which 8 were found to be underperforming. Construct a 99% confidence interval to estimate the population proportion."
   ]
  },
  {
   "cell_type": "code",
   "execution_count": 67,
   "metadata": {},
   "outputs": [
    {
     "name": "stdout",
     "output_type": "stream",
     "text": [
      "0.26782280814713794 0.962946422622093\n"
     ]
    }
   ],
   "source": [
    "n=13\n",
    "psamp=8/13\n",
    "z=stats.norm.isf(.5/100)\n",
    "num=psamp*(1-psamp)\n",
    "den=n\n",
    "lower_limit=psamp-(z*np.sqrt(num/den))\n",
    "upper_limit=psamp+(z*np.sqrt(num/den))\n",
    "print(lower_limit,upper_limit)"
   ]
  },
  {
   "cell_type": "code",
   "execution_count": null,
   "metadata": {},
   "outputs": [],
   "source": []
  },
  {
   "cell_type": "code",
   "execution_count": 68,
   "metadata": {},
   "outputs": [
    {
     "data": {
      "text/plain": [
       "(0.26782280814713805, 0.9629464226220927)"
      ]
     },
     "execution_count": 68,
     "metadata": {},
     "output_type": "execute_result"
    }
   ],
   "source": [
    "stats.norm.interval(alpha=0.99,loc=psamp,scale=np.sqrt(num/den))"
   ]
  },
  {
   "cell_type": "markdown",
   "metadata": {},
   "source": [
    "We are 99% confident that the population propotion will range between 26% to 96%"
   ]
  },
  {
   "cell_type": "markdown",
   "metadata": {},
   "source": [
    "<a id=\"defn\"></a>\n",
    "# 3. Test of Hypothesis"
   ]
  },
  {
   "cell_type": "markdown",
   "metadata": {},
   "source": [
    "It is the process of evaluating the validity of the claim made using the sample data obtained from the population. A statistical test is a rule used to decide the acceptance or rejection of the claim.\n",
    "\n",
    "**Examples of hypothesis:**\n",
    "\n",
    "        1. One can get 'A' grade if the attendance in the class is more than 75%.\n",
    "        2. A probiotic drink can improve the immunity of a person. "
   ]
  },
  {
   "cell_type": "markdown",
   "metadata": {},
   "source": [
    "<a id=\"types\"></a>\n",
    "## 3.1 Types of Hypothesis"
   ]
  },
  {
   "cell_type": "markdown",
   "metadata": {},
   "source": [
    "`Null Hypothesis`: The null hypothesis is the claim suggesting 'no difference'. It is denoted as H<sub>0</sub>.\n",
    "\n",
    "`Alternative Hypothesis`: It is the hypothesis that is tested against the null hypothesis. The acceptance or rejection of the hypothesis is based on the likelihood of H<sub>0</sub> being true. It is denoted by H<sub>a</sub> or H<sub>1</sub>.\n",
    "\n"
   ]
  },
  {
   "cell_type": "markdown",
   "metadata": {},
   "source": [
    "<a id=\"test_type\"></a>\n",
    "# 4. Types of Test"
   ]
  },
  {
   "cell_type": "markdown",
   "metadata": {},
   "source": [
    "The hypothesis test is used to validate the claim given by the null hypothesis. The types of tests are based on the nature of the alternative hypothesis. "
   ]
  },
  {
   "cell_type": "markdown",
   "metadata": {},
   "source": [
    "<a id=\"2tailed\"></a>\n",
    "## 4.1 Two Tailed Test"
   ]
  },
  {
   "cell_type": "markdown",
   "metadata": {},
   "source": [
    "Two tailed test considers the value of the population parameter is less than or greater than (i.e. not equal) a specific value. <br>\n",
    "If we test the population mean ($\\mu$) with a specific value ($\\mu_{0}$) the null hypothesis is: $H_{0}: \\mu = \\mu_{0}$. \n",
    "\n",
    "The alternative hypothesis for the two tailed test is given as: $H_{1}: \\mu \\neq \\mu_{0}$"
   ]
  },
  {
   "cell_type": "markdown",
   "metadata": {},
   "source": [
    "#### Example:\n",
    "\n",
    "A company that produces tennis balls claimed that the diameter of a tennis ball is 2.625 inches on average. To test the company's claim, a statistical test can be performed considering the hypothesis:\n",
    "\n",
    "                    "
   ]
  },
  {
   "cell_type": "code",
   "execution_count": 69,
   "metadata": {},
   "outputs": [
    {
     "ename": "SyntaxError",
     "evalue": "invalid syntax (4213550402.py, line 2)",
     "output_type": "error",
     "traceback": [
      "\u001b[1;36m  Cell \u001b[1;32mIn[69], line 2\u001b[1;36m\u001b[0m\n\u001b[1;33m    h0:Average dimeter of the tennis bill is 2.625(mu=2.625)\u001b[0m\n\u001b[1;37m               ^\u001b[0m\n\u001b[1;31mSyntaxError\u001b[0m\u001b[1;31m:\u001b[0m invalid syntax\n"
     ]
    }
   ],
   "source": [
    "# framing Hypothesis\n",
    "h0:Average dimeter of the tennis bill is 2.625(mu=2.625)\n",
    "ha:Average dimeter of the tennis ball<>2.625(mu<>2.625)\n",
    "    "
   ]
  },
  {
   "cell_type": "markdown",
   "metadata": {},
   "source": [
    "<a id=\"1tailed\"></a>\n",
    "## 4.2 One Tailed Test"
   ]
  },
  {
   "cell_type": "markdown",
   "metadata": {},
   "source": [
    "One tailed test considers the value of the population parameter is less than or greater than (but not both) a specific value. <br>\n",
    "If we test the population mean ($\\mu$) with a specific value ($\\mu_{0}$) the null hypothesis is: $H_{0}: \\mu \\leq \\mu_{0}$ and the alternative hypothesis is $H_{1}: \\mu > \\mu_{0}$, the one tailed test is also known as a `right-tailed test`.\n",
    "\n",
    "If we test the population mean ($\\mu$) with a specific value ($\\mu_{0}$) the null hypothesis is: $H_{0}: \\mu \\geq \\mu_{0}$ and the alternative hypothesis is $H_{1}: \\mu < \\mu_{0}$, the one tailed test is also known as a `left-tailed test`.\n"
   ]
  },
  {
   "cell_type": "markdown",
   "metadata": {},
   "source": [
    "### Example:\n",
    "\n",
    "**1.** The company's annual quality report of machines states that a lathe machine works efficiently at most for 8 months on average after the servicing. The production manager claims that after the special tuxan servicing, the machine works efficiently for more than 8 months. To test the claim of production manager consider the hypothesis:\n",
    "\n",
    "                    Null Hypothesis: Machine efficiency ≤ 8 months\n",
    "                    Alternative Hypothesis: Machine efficiency > 8 months\n",
    "\n",
    "This is the example of a **right-tailed test**. "
   ]
  },
  {
   "cell_type": "markdown",
   "metadata": {},
   "source": [
    "**2.** A railway authority claims that all the trains on the Chicago-Seattle route run with a speed of at least 54 mph on average. A customer forum declares that there are various records from passengers claiming that the speed of the train is less than what railway has claimed. In this scenario, a statistical test can be performed to test the claim of customer forum considering the hypothesis:\n",
    "\n",
    "                    Null Hypothesis: Speed ≥ 54 mph\n",
    "                    Alternative Hypothesis: Speed < 54 mph\n",
    "\n",
    "This is the example of a **left-tailed test**. "
   ]
  },
  {
   "cell_type": "markdown",
   "metadata": {},
   "source": [
    "<a id=\"eg\"></a>\n",
    "# 5. Hypothesis Tests with Z Statistic"
   ]
  },
  {
   "cell_type": "markdown",
   "metadata": {},
   "source": [
    "Let us perform one sample Z test for the population mean. We compare the population mean with a specific value. The sample is assumed to be taken from a population following a normal distribution.\n",
    "\n",
    "To check the normality of the data, a test for normality is used. The `Shapiro-Wilk Test` is one of the methods used to check the normality. The hypothesis of the test is given as:\n",
    "<p style='text-indent:25em'> <strong> H<sub>0</sub>:  The data is normally distributed </strong> </p>\n",
    "<p style='text-indent:25em'> <strong> H<sub>1</sub>:  The data is not normally distributed </strong> </p>\n",
    "\n",
    "The `shapiro()` from scipy library performs a Shapiro-Wilk normality test. "
   ]
  },
  {
   "cell_type": "markdown",
   "metadata": {},
   "source": [
    "The null and alternative hypothesis of Z-test is given as:\n",
    "<p style='text-indent:25em'> <strong> $H_{0}: \\mu = \\mu_{0}$ or $\\mu \\geq \\mu_{0}$ or $\\mu \\leq \\mu_{0}$</strong></p>\n",
    "<p style='text-indent:25em'> <strong> $H_{1}: \\mu \\neq \\mu_{0}$ or $\\mu < \\mu_{0}$ or $\\mu > \\mu_{0}$</strong></p>"
   ]
  },
  {
   "cell_type": "markdown",
   "metadata": {},
   "source": [
    "Consider a normal population with standard deviation $\\sigma$. Let us take a sample of size n, \n",
    "The test statistic for one sample Z-test is given as:\n",
    "<p style='text-indent:25em'> <strong> $Z = \\frac{\\overline{X} -  \\mu}{\\frac{\\sigma}{\\sqrt(n)}}$</strong></p>\n",
    "\n",
    "Where, <br>\n",
    "$\\overline{X}$: Sample mean<br>\n",
    "$\\mu$: Specified mean<br>\n",
    "$\\sigma$: Population standard deviation<br>\n",
    "$n$: Sample size\n",
    "\n",
    "\n",
    "\n"
   ]
  },
  {
   "cell_type": "markdown",
   "metadata": {},
   "source": [
    "### Example:\n",
    "\n",
    "#### 1. A car manufacturing company claims that the mileage of their new car is 25 kmph with a standard deviation of 2.5 kmph. A random sample of 45 cars was drawn and recorded their mileage as per the standard procedure. From the sample, the mean mileage was seen to be 24 kmph. Is this evidence to claim that the mean mileage is different from 25kmph? (assume the normality of the data) Use α = 0.01."
   ]
  },
  {
   "cell_type": "markdown",
   "metadata": {},
   "source": [
    "#Framing Hypothesis\n",
    "h0:Average mileage of the car is 25.(mu=25)\n",
    "ha:Average mileage of the car is <>25. (mu<>25)  or !=25(mu!=25)\n"
   ]
  },
  {
   "cell_type": "code",
   "execution_count": null,
   "metadata": {},
   "outputs": [],
   "source": [
    "# Data should be normal\n",
    "# Population standard deviation is known\n",
    "# z test Two tailed\n",
    "# one sample"
   ]
  },
  {
   "cell_type": "code",
   "execution_count": 70,
   "metadata": {},
   "outputs": [],
   "source": [
    "mu=25\n",
    "sigma=2.5\n",
    "n=45\n",
    "xbar=24"
   ]
  },
  {
   "cell_type": "code",
   "execution_count": 71,
   "metadata": {},
   "outputs": [
    {
     "data": {
      "text/plain": [
       "-2.6832815729997477"
      ]
     },
     "execution_count": 71,
     "metadata": {},
     "output_type": "execute_result"
    }
   ],
   "source": [
    "z=(xbar-mu)/(sigma/np.sqrt(n))\n",
    "z"
   ]
  },
  {
   "cell_type": "code",
   "execution_count": 72,
   "metadata": {},
   "outputs": [
    {
     "data": {
      "text/plain": [
       "0.007290358091535638"
      ]
     },
     "execution_count": 72,
     "metadata": {},
     "output_type": "execute_result"
    }
   ],
   "source": [
    "stats.norm.cdf(z)+stats.norm.sf(abs(z))#z value "
   ]
  },
  {
   "cell_type": "code",
   "execution_count": 73,
   "metadata": {},
   "outputs": [
    {
     "data": {
      "text/plain": [
       "0.007290358091535638"
      ]
     },
     "execution_count": 73,
     "metadata": {},
     "output_type": "execute_result"
    }
   ],
   "source": [
    "pval=stats.norm.sf(abs(z))*2     # pval mean probability value\n",
    "pval"
   ]
  },
  {
   "cell_type": "raw",
   "metadata": {},
   "source": [
    "pval =0.007       #  Signaficancelavel   \n",
    "siglvl=0.01\n",
    "pval<sig lvl\n",
    "Null Hypothesis is rejected\n",
    "i.e,Average mileage of the car !=25     # ! means not"
   ]
  },
  {
   "cell_type": "code",
   "execution_count": null,
   "metadata": {},
   "outputs": [],
   "source": []
  },
  {
   "cell_type": "markdown",
   "metadata": {},
   "source": [
    "#### 2. The average calories in a slice bread of the brand 'Alphas' are 82 with a standard deviation of 15. An experiment is conducted to test the claim of the dietitians that the calories in a slice of bread are not as per the manufacturer's specification. A sample of 40 slices of bread is taken and the mean calories recorded are 95. Test the claim of dietitians with ⍺ value (significance level) as 0.05. (assume the normality of the data)."
   ]
  },
  {
   "cell_type": "markdown",
   "metadata": {},
   "source": [
    "#Framing Hypothesis\n",
    "h0:Average calories in a slice bread=82(mu=82)\n",
    "ha:Average calories in a slice bread !=82 (mu!=82)"
   ]
  },
  {
   "cell_type": "code",
   "execution_count": 74,
   "metadata": {},
   "outputs": [],
   "source": [
    "# Data should be normal\n",
    "# Population standard deviation is known\n",
    "# two tail test\n",
    "# one sample z test (two tailed)"
   ]
  },
  {
   "cell_type": "code",
   "execution_count": 75,
   "metadata": {},
   "outputs": [
    {
     "data": {
      "text/plain": [
       "5.4812812776251905"
      ]
     },
     "execution_count": 75,
     "metadata": {},
     "output_type": "execute_result"
    }
   ],
   "source": [
    "mu=82\n",
    "sigma=15\n",
    "n=40\n",
    "xbar=95\n",
    "z=(xbar-mu)/(sigma/np.sqrt(n))\n",
    "z"
   ]
  },
  {
   "cell_type": "code",
   "execution_count": 76,
   "metadata": {},
   "outputs": [
    {
     "data": {
      "text/plain": [
       "4.222565249683579e-08"
      ]
     },
     "execution_count": 76,
     "metadata": {},
     "output_type": "execute_result"
    }
   ],
   "source": [
    "pval=stats.norm.sf(abs(z))*2\n",
    "pval"
   ]
  },
  {
   "cell_type": "raw",
   "metadata": {},
   "source": [
    "pval =0.005      #  Signaficance lavel   \n",
    "sig lvl=0.01\n",
    "pval<sig lvl\n",
    "Null Hypothesis is rejected\n",
    "i.e,Average calories in a slice bread 'Alphas' <> 82."
   ]
  },
  {
   "cell_type": "markdown",
   "metadata": {},
   "source": [
    "#### 3. The average IQ of adult population is 100 with SD of 15. A researcher believes that this value has changed. The researcher decides to test the IQ of 75 random results. The average IQ of 75 random adults came out to be 105. Is there enough evidence to believe that the IQ has changed for the population\n"
   ]
  },
  {
   "cell_type": "markdown",
   "metadata": {},
   "source": [
    "#Framing Hypothesis\n",
    "h0:The average IQ of adult population is 100.(mu=1000)\n",
    "ha:The average IQ of adult population is 100.(mu!=100)"
   ]
  },
  {
   "cell_type": "code",
   "execution_count": 77,
   "metadata": {},
   "outputs": [],
   "source": [
    "# Data should be normal\n",
    "# Population standard deviation is known\n",
    "# two tail test\n",
    "# one sample z test (two tailed)"
   ]
  },
  {
   "cell_type": "code",
   "execution_count": 78,
   "metadata": {},
   "outputs": [
    {
     "data": {
      "text/plain": [
       "2.886751345948129"
      ]
     },
     "execution_count": 78,
     "metadata": {},
     "output_type": "execute_result"
    }
   ],
   "source": [
    "mu=100\n",
    "sigma=15\n",
    "n=75\n",
    "xbar=105\n",
    "z=(xbar-mu)/(sigma/np.sqrt(n))\n",
    "z"
   ]
  },
  {
   "cell_type": "code",
   "execution_count": 79,
   "metadata": {},
   "outputs": [
    {
     "data": {
      "text/plain": [
       "0.003892417122778628"
      ]
     },
     "execution_count": 79,
     "metadata": {},
     "output_type": "execute_result"
    }
   ],
   "source": [
    "pval=stats.norm.sf(abs(z))*2\n",
    "pval"
   ]
  },
  {
   "cell_type": "raw",
   "metadata": {},
   "source": [
    "pval =0.003      #  Signaficance lavel   \n",
    "sig lvl=0.00389\n",
    "pval<sig lvl\n",
    "Null Hypothesis is rejected\n",
    "i.e,The average IQ of adult population !=100"
   ]
  },
  {
   "cell_type": "markdown",
   "metadata": {},
   "source": [
    "#### 4. A typhoid vaccine in the market inscribes 3 mg of ascorbic acid in the vaccine with standard deviation of 1.2mg . A research team claims that the vaccines contain less than 3 mg of acid. We collected the data of 40 vaccines by using random sampling from a population and recorded the amount of ascorbic acid. Test the claim of the research team using the sample data ⍺ value (significance level) to 0.05.\n",
    "\n",
    "    acid_amt = [2.57, 3.06, 3.28 , 3.24, 2.79, 3.40, 3.36, 3.07, 2.46, 3.03, 3.05, 2.94, 3.46, 3.19, 3.09, 2.81, 3.13, 2.88, \n",
    "                2.76, 2.75, 3.17, 2.89, 2.54, 3.18, 3.08, 2.60, 3.06, 3.13, 3.11, 3.08, 2.93, 2.90, 3.06, 2.97, 3.24, 2.86, \n",
    "                2.87, 3.18, 3, 2.95]"
   ]
  },
  {
   "cell_type": "markdown",
   "metadata": {},
   "source": [
    "#Framing Hypothesis\n",
    "h0:The vaccines contain more than more equal to 3mg of acid.(mu>=3)\n",
    "ha:The vaccines contain more than more equal to 3mg of acid.(mu<3)"
   ]
  },
  {
   "cell_type": "code",
   "execution_count": 80,
   "metadata": {},
   "outputs": [],
   "source": [
    "acid_amt = [2.57, 3.06, 3.28 , 3.24, 2.79, 3.40, 3.36, 3.07, 2.46, 3.03, 3.05, 2.94, 3.46, 3.19, 3.09, 2.81, 3.13, 2.88, \n",
    "            2.76, 2.75, 3.17, 2.89, 2.54, 3.18, 3.08, 2.60, 3.06, 3.13, 3.11, 3.08, 2.93, 2.90, 3.06, 2.97, 3.24, 2.86, \n",
    "            2.87, 3.18, 3, 2.95]"
   ]
  },
  {
   "cell_type": "code",
   "execution_count": 81,
   "metadata": {},
   "outputs": [
    {
     "data": {
      "text/plain": [
       "3.003"
      ]
     },
     "execution_count": 81,
     "metadata": {},
     "output_type": "execute_result"
    }
   ],
   "source": [
    "xbar=np.mean(acid_amt)\n",
    "xbar"
   ]
  },
  {
   "cell_type": "code",
   "execution_count": 82,
   "metadata": {},
   "outputs": [
    {
     "data": {
      "text/plain": [
       "0.015811388300842496"
      ]
     },
     "execution_count": 82,
     "metadata": {},
     "output_type": "execute_result"
    }
   ],
   "source": [
    "mu=3\n",
    "sigma=1.2\n",
    "n=40\n",
    "z=(xbar-mu)/(sigma/np.sqrt(n))\n",
    "z"
   ]
  },
  {
   "cell_type": "code",
   "execution_count": 83,
   "metadata": {},
   "outputs": [
    {
     "data": {
      "text/plain": [
       "0.5063075684886019"
      ]
     },
     "execution_count": 83,
     "metadata": {},
     "output_type": "execute_result"
    }
   ],
   "source": [
    "pval=stats.norm.cdf(z)\n",
    "pval"
   ]
  },
  {
   "cell_type": "markdown",
   "metadata": {},
   "source": [
    "pval=0.506\n",
    "sig val=0.05\n",
    "pval>sig lal\n",
    "fail to reject Null Hypothesis\n",
    "i.e.,The vaccines contain more than more equal to 3mg of acid>=3"
   ]
  },
  {
   "cell_type": "markdown",
   "metadata": {},
   "source": [
    "#### 4. A sample of 900 PVC pipes is found to have an average thickness of 12.5 mm. The sample is coming from a normal population. Is there any evidence that the pvc pipe thickeness is less than 13 mm. The population standard deviation is 1 mm. Test the hypothesis at 5% level of significance."
   ]
  },
  {
   "cell_type": "markdown",
   "metadata": {},
   "source": [
    "#Framing Hypothesis\n",
    "h0:he avg thikness of the pvc pipe is>=13 (mu>=13)\n",
    "ha:he avg thikness of the pvc pipe is<13(mu<13)"
   ]
  },
  {
   "cell_type": "code",
   "execution_count": 84,
   "metadata": {},
   "outputs": [],
   "source": [
    "# Data should be normal\n",
    "# Population standard deviation is known\n",
    "# One tail test(left tail)"
   ]
  },
  {
   "cell_type": "code",
   "execution_count": 85,
   "metadata": {},
   "outputs": [
    {
     "data": {
      "text/plain": [
       "-15.0"
      ]
     },
     "execution_count": 85,
     "metadata": {},
     "output_type": "execute_result"
    }
   ],
   "source": [
    "mu=13\n",
    "xbar=12.5\n",
    "sigma=1\n",
    "n=900\n",
    "z=(xbar-mu)/(sigma/np.sqrt(n))\n",
    "z"
   ]
  },
  {
   "cell_type": "code",
   "execution_count": 86,
   "metadata": {},
   "outputs": [
    {
     "data": {
      "text/plain": [
       "3.6709661993126986e-51"
      ]
     },
     "execution_count": 86,
     "metadata": {},
     "output_type": "execute_result"
    }
   ],
   "source": [
    "pval=stats.norm.cdf(z)\n",
    "pval"
   ]
  },
  {
   "cell_type": "raw",
   "metadata": {},
   "source": [
    "pval=0\n",
    "sig val=0.05\n",
    "pval<sig lavel\n",
    "Reject Null Hypothesis\n",
    "i.e,mu<13"
   ]
  },
  {
   "cell_type": "markdown",
   "metadata": {
    "id": "6PdOJPyjjUMK"
   },
   "source": [
    "<a id=\"2z\"></a>\n",
    "## 2.2 Two Sample Z Test"
   ]
  },
  {
   "cell_type": "markdown",
   "metadata": {
    "id": "AZjn-F3qjUMK"
   },
   "source": [
    "Let us perform a two sample Z test for the population mean. We compare the means of the two independent populations. The samples are assumed to be taken from populations such that they follow a normal distribution. Also, the sample must have equal variance.\n",
    "\n",
    "The `Shapiro-Wilk Test` is used to check the normality of the data. The assumption of equal variances of the populations is tested using the `Levene's Test`. \n",
    "The hypothesis of the Levene's test is given as:\n",
    "<p style='text-indent:25em'> <strong> H<sub>0</sub>:  The variances are equal</strong> </p>\n",
    "<p style='text-indent:25em'> <strong> H<sub>1</sub>:  The variances are not equal </strong> </p>\n",
    "\n",
    "The `levene()` from scipy library performs a Levene's test. \n",
    "\n",
    "The null and alternative hypothesis of two sample Z-test is given as:\n",
    "\n",
    "<p style='text-indent:25em'> <strong> $H_{0}: \\mu_{1} - \\mu_{2} = \\mu_{0}$ or $\\mu_{1} - \\mu_{2} \\geq \\mu_{0}$ or $\\mu_{1} -\\mu_{2} \\leq \\mu_{0}$</strong></p>\n",
    "<p style='text-indent:25em'> <strong> $H_{1}: \\mu_{1} - \\mu_{2} \\neq \\mu_{0} $ or $\\mu_{1} - \\mu_{2} < \\mu_{0}$ or $\\mu_{1} -\\mu_{2} > \\mu_{0}$</strong></p>"
   ]
  },
  {
   "cell_type": "markdown",
   "metadata": {
    "id": "r4ANXi-rjUMK"
   },
   "source": [
    "\n",
    "\n",
    "The test statistic for two sample Z-test is given as:\n",
    "<p style='text-indent:25em'> <strong> $Z = \\frac{(\\overline{X_{1}} - \\overline{X_{2}})  - \\mu_{0}} {\\sqrt{\\frac{\\sigma_{1}^{2}}{n_{1}} + \\frac{\\sigma_{2}^{2}}{n_{2}}}}$</strong></p>\n",
    "\n",
    "Where, <br>\n",
    "$\\overline{X_{1}}$, $\\overline{X_{2}}$ : Mean of both the samples<br>\n",
    "$\\mu_{0}$: Mean difference given in the null hypothesis<br>\n",
    "$\\sigma_{1}, \\sigma_{2}$: Standard deviation of both the populations<br>\n",
    "$n_{1}, n_{2}$: Size of samples from both the populations\n",
    "\n",
    "\n"
   ]
  },
  {
   "cell_type": "markdown",
   "metadata": {},
   "source": [
    "#### 1. A study was carried out to understand amount of haemoglobin in blood for males and females. A random sample of 160 males and 180 females have means of 13 g/dl and 15 g/dl. The two population have standard deviation of 4.1 g/dl for male donors and 3.5 g/dl for female donor . Can it be said the population means of concentrations of the elements are the same for men and women? Use  α = 0.01.Assume data is normally distributed"
   ]
  },
  {
   "cell_type": "code",
   "execution_count": null,
   "metadata": {},
   "outputs": [],
   "source": [
    "h0:mu1=mu2 Averageconcetration of the elements for men =average of the elements for women\n",
    "ha:mu1=   Averageconcetration of the elements for men =average of the elements for women"
   ]
  },
  {
   "cell_type": "code",
   "execution_count": 88,
   "metadata": {},
   "outputs": [],
   "source": [
    "n1=160\n",
    "n2=180\n",
    "sigma1=4.1\n",
    "sigma2=3.5\n",
    "x1bar=13\n",
    "x2bar=15"
   ]
  },
  {
   "cell_type": "markdown",
   "metadata": {},
   "source": [
    "data is normal\n",
    "pop s. d is Known\n",
    "Two sample ztest\n",
    "two tail"
   ]
  },
  {
   "cell_type": "code",
   "execution_count": 89,
   "metadata": {},
   "outputs": [
    {
     "data": {
      "text/plain": [
       "-4.806830552525058"
      ]
     },
     "execution_count": 89,
     "metadata": {},
     "output_type": "execute_result"
    }
   ],
   "source": [
    "num=(x1bar-x2bar)-0\n",
    "den=np.sqrt((sigma1**2/n1)+(sigma2**2/n2))\n",
    "zstat=num/den\n",
    "zstat"
   ]
  },
  {
   "cell_type": "code",
   "execution_count": 90,
   "metadata": {},
   "outputs": [
    {
     "data": {
      "text/plain": [
       "1.5334185117556497e-06"
      ]
     },
     "execution_count": 90,
     "metadata": {},
     "output_type": "execute_result"
    }
   ],
   "source": [
    "stats.norm.sf(abs(zstat))*2"
   ]
  },
  {
   "cell_type": "code",
   "execution_count": 91,
   "metadata": {},
   "outputs": [
    {
     "data": {
      "text/plain": [
       "-5.0"
      ]
     },
     "execution_count": 91,
     "metadata": {},
     "output_type": "execute_result"
    }
   ],
   "source": [
    "z=(x1bar-x2bar)//np.sqrt((sigma1**2)/n1+(sigma2**2)/(n2))\n",
    "z"
   ]
  },
  {
   "cell_type": "code",
   "execution_count": null,
   "metadata": {},
   "outputs": [],
   "source": []
  }
 ],
 "metadata": {
  "kernelspec": {
   "display_name": "Python 3 (ipykernel)",
   "language": "python",
   "name": "python3"
  },
  "language_info": {
   "codemirror_mode": {
    "name": "ipython",
    "version": 3
   },
   "file_extension": ".py",
   "mimetype": "text/x-python",
   "name": "python",
   "nbconvert_exporter": "python",
   "pygments_lexer": "ipython3",
   "version": "3.10.11"
  }
 },
 "nbformat": 4,
 "nbformat_minor": 4
}
