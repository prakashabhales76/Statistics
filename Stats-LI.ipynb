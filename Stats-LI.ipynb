{
 "cells": [
  {
   "cell_type": "code",
   "execution_count": 1,
   "id": "2ee50b0a",
   "metadata": {},
   "outputs": [],
   "source": [
    "# import the libraries\n",
    "import pandas as pd\n",
    "import numpy as np\n",
    "import matplotlib.pyplot as plt\n",
    "import seaborn as sns\n",
    "from scipy import stats"
   ]
  },
  {
   "cell_type": "code",
   "execution_count": 2,
   "id": "12b4e4b6",
   "metadata": {},
   "outputs": [
    {
     "data": {
      "text/html": [
       "<div>\n",
       "<style scoped>\n",
       "    .dataframe tbody tr th:only-of-type {\n",
       "        vertical-align: middle;\n",
       "    }\n",
       "\n",
       "    .dataframe tbody tr th {\n",
       "        vertical-align: top;\n",
       "    }\n",
       "\n",
       "    .dataframe thead th {\n",
       "        text-align: right;\n",
       "    }\n",
       "</style>\n",
       "<table border=\"1\" class=\"dataframe\">\n",
       "  <thead>\n",
       "    <tr style=\"text-align: right;\">\n",
       "      <th></th>\n",
       "      <th>Salary</th>\n",
       "      <th>Age</th>\n",
       "      <th>Experience</th>\n",
       "      <th>Highest_Degree</th>\n",
       "      <th>Designation</th>\n",
       "      <th>Upskilling_Certification_Courses</th>\n",
       "    </tr>\n",
       "  </thead>\n",
       "  <tbody>\n",
       "    <tr>\n",
       "      <th>0</th>\n",
       "      <td>0</td>\n",
       "      <td>22</td>\n",
       "      <td>0</td>\n",
       "      <td>Degree</td>\n",
       "      <td>Intern</td>\n",
       "      <td>0</td>\n",
       "    </tr>\n",
       "    <tr>\n",
       "      <th>1</th>\n",
       "      <td>0</td>\n",
       "      <td>22</td>\n",
       "      <td>0</td>\n",
       "      <td>Degree</td>\n",
       "      <td>Intern</td>\n",
       "      <td>0</td>\n",
       "    </tr>\n",
       "    <tr>\n",
       "      <th>2</th>\n",
       "      <td>22000</td>\n",
       "      <td>24</td>\n",
       "      <td>2</td>\n",
       "      <td>Degree</td>\n",
       "      <td>Associates</td>\n",
       "      <td>1</td>\n",
       "    </tr>\n",
       "    <tr>\n",
       "      <th>3</th>\n",
       "      <td>0</td>\n",
       "      <td>23</td>\n",
       "      <td>1</td>\n",
       "      <td>Degree</td>\n",
       "      <td>Intern</td>\n",
       "      <td>0</td>\n",
       "    </tr>\n",
       "    <tr>\n",
       "      <th>4</th>\n",
       "      <td>48000</td>\n",
       "      <td>26</td>\n",
       "      <td>4</td>\n",
       "      <td>Degree</td>\n",
       "      <td>Manager</td>\n",
       "      <td>3</td>\n",
       "    </tr>\n",
       "  </tbody>\n",
       "</table>\n",
       "</div>"
      ],
      "text/plain": [
       "   Salary  Age  Experience Highest_Degree Designation  \\\n",
       "0       0   22           0         Degree      Intern   \n",
       "1       0   22           0         Degree      Intern   \n",
       "2   22000   24           2         Degree  Associates   \n",
       "3       0   23           1         Degree      Intern   \n",
       "4   48000   26           4         Degree     Manager   \n",
       "\n",
       "   Upskilling_Certification_Courses  \n",
       "0                                 0  \n",
       "1                                 0  \n",
       "2                                 1  \n",
       "3                                 0  \n",
       "4                                 3  "
      ]
     },
     "execution_count": 2,
     "metadata": {},
     "output_type": "execute_result"
    }
   ],
   "source": [
    "df = pd.read_csv(\"salary.csv\")\n",
    "df.head()"
   ]
  },
  {
   "cell_type": "code",
   "execution_count": 3,
   "id": "f34571cf",
   "metadata": {},
   "outputs": [
    {
     "data": {
      "text/plain": [
       "(205, 6)"
      ]
     },
     "execution_count": 3,
     "metadata": {},
     "output_type": "execute_result"
    }
   ],
   "source": [
    "df.shape"
   ]
  },
  {
   "cell_type": "code",
   "execution_count": 4,
   "id": "5e271ebb",
   "metadata": {},
   "outputs": [
    {
     "name": "stdout",
     "output_type": "stream",
     "text": [
      "<class 'pandas.core.frame.DataFrame'>\n",
      "RangeIndex: 205 entries, 0 to 204\n",
      "Data columns (total 6 columns):\n",
      " #   Column                            Non-Null Count  Dtype \n",
      "---  ------                            --------------  ----- \n",
      " 0   Salary                            205 non-null    int64 \n",
      " 1   Age                               205 non-null    int64 \n",
      " 2   Experience                        205 non-null    int64 \n",
      " 3   Highest_Degree                    205 non-null    object\n",
      " 4   Designation                       205 non-null    object\n",
      " 5   Upskilling_Certification_Courses  205 non-null    int64 \n",
      "dtypes: int64(4), object(2)\n",
      "memory usage: 9.7+ KB\n"
     ]
    }
   ],
   "source": [
    "df.info()"
   ]
  },
  {
   "cell_type": "markdown",
   "id": "892773d3",
   "metadata": {},
   "source": [
    "# Num vs Num"
   ]
  },
  {
   "cell_type": "code",
   "execution_count": null,
   "id": "aecb178d",
   "metadata": {},
   "outputs": [],
   "source": [
    "# Target - salary - num\n",
    "\n",
    "# Age - num"
   ]
  },
  {
   "cell_type": "code",
   "execution_count": 5,
   "id": "e384b83c",
   "metadata": {
    "scrolled": true
   },
   "outputs": [
    {
     "data": {
      "text/html": [
       "<div>\n",
       "<style scoped>\n",
       "    .dataframe tbody tr th:only-of-type {\n",
       "        vertical-align: middle;\n",
       "    }\n",
       "\n",
       "    .dataframe tbody tr th {\n",
       "        vertical-align: top;\n",
       "    }\n",
       "\n",
       "    .dataframe thead th {\n",
       "        text-align: right;\n",
       "    }\n",
       "</style>\n",
       "<table border=\"1\" class=\"dataframe\">\n",
       "  <thead>\n",
       "    <tr style=\"text-align: right;\">\n",
       "      <th></th>\n",
       "      <th>Salary</th>\n",
       "      <th>Age</th>\n",
       "    </tr>\n",
       "  </thead>\n",
       "  <tbody>\n",
       "    <tr>\n",
       "      <th>Salary</th>\n",
       "      <td>1.000000</td>\n",
       "      <td>0.607104</td>\n",
       "    </tr>\n",
       "    <tr>\n",
       "      <th>Age</th>\n",
       "      <td>0.607104</td>\n",
       "      <td>1.000000</td>\n",
       "    </tr>\n",
       "  </tbody>\n",
       "</table>\n",
       "</div>"
      ],
      "text/plain": [
       "          Salary       Age\n",
       "Salary  1.000000  0.607104\n",
       "Age     0.607104  1.000000"
      ]
     },
     "execution_count": 5,
     "metadata": {},
     "output_type": "execute_result"
    }
   ],
   "source": [
    "df[[\"Salary\",\"Age\"]].corr()"
   ]
  },
  {
   "cell_type": "code",
   "execution_count": null,
   "id": "5e2dab56",
   "metadata": {},
   "outputs": [],
   "source": [
    "# Step -1 \n",
    "\n",
    "# Checking the assumptions\n",
    "\n",
    "# Normality\n",
    "# Equal Variance"
   ]
  },
  {
   "cell_type": "code",
   "execution_count": 6,
   "id": "13885cd8",
   "metadata": {},
   "outputs": [
    {
     "data": {
      "text/plain": [
       "0          0\n",
       "1          0\n",
       "2      22000\n",
       "3          0\n",
       "4      48000\n",
       "       ...  \n",
       "200    18000\n",
       "201        0\n",
       "202        0\n",
       "203    65000\n",
       "204    61000\n",
       "Name: Salary, Length: 205, dtype: int64"
      ]
     },
     "execution_count": 6,
     "metadata": {},
     "output_type": "execute_result"
    }
   ],
   "source": [
    "df[\"Salary\"]"
   ]
  },
  {
   "cell_type": "code",
   "execution_count": 7,
   "id": "e6c2d95b",
   "metadata": {},
   "outputs": [
    {
     "data": {
      "text/plain": [
       "0      22\n",
       "1      22\n",
       "2      24\n",
       "3      23\n",
       "4      26\n",
       "       ..\n",
       "200    23\n",
       "201    22\n",
       "202    22\n",
       "203    37\n",
       "204    35\n",
       "Name: Age, Length: 205, dtype: int64"
      ]
     },
     "execution_count": 7,
     "metadata": {},
     "output_type": "execute_result"
    }
   ],
   "source": [
    "df[\"Age\"]"
   ]
  },
  {
   "cell_type": "code",
   "execution_count": null,
   "id": "84758479",
   "metadata": {},
   "outputs": [],
   "source": [
    "# Num vs Num"
   ]
  },
  {
   "cell_type": "code",
   "execution_count": null,
   "id": "0747ea4a",
   "metadata": {},
   "outputs": [],
   "source": [
    "# Checking normality - shapiro test\n",
    "\n",
    "# null - Data is normal    skew = 0\n",
    "# Ater - Data is not normal skew != 0"
   ]
  },
  {
   "cell_type": "code",
   "execution_count": null,
   "id": "3db6e265",
   "metadata": {},
   "outputs": [],
   "source": [
    "# Directionality - tow tailed"
   ]
  },
  {
   "cell_type": "code",
   "execution_count": 8,
   "id": "48359af9",
   "metadata": {},
   "outputs": [
    {
     "data": {
      "text/plain": [
       "ShapiroResult(statistic=0.9641101360321045, pvalue=4.521189475781284e-05)"
      ]
     },
     "execution_count": 8,
     "metadata": {},
     "output_type": "execute_result"
    }
   ],
   "source": [
    "# Calculate test stats , p_value\n",
    "# significance level = 0.05\n",
    "stats.shapiro(df[\"Salary\"])"
   ]
  },
  {
   "cell_type": "code",
   "execution_count": null,
   "id": "871e4496",
   "metadata": {},
   "outputs": [],
   "source": [
    "# sign = 0.05\n",
    "# p_val = 0.000004\n",
    "\n",
    "# since p_value is less than sign level, we can conclude \n",
    "# that data is not normaly distributed so we reject the null hypothesis"
   ]
  },
  {
   "cell_type": "code",
   "execution_count": null,
   "id": "b3103064",
   "metadata": {},
   "outputs": [],
   "source": []
  },
  {
   "cell_type": "code",
   "execution_count": null,
   "id": "d2330ce2",
   "metadata": {},
   "outputs": [],
   "source": [
    "# Checking normality for Age - shapiro test\n",
    "\n",
    "# null - Data is normal    skew = 0\n",
    "# Ater - Data is not normal skew != 0"
   ]
  },
  {
   "cell_type": "code",
   "execution_count": null,
   "id": "e775d5e7",
   "metadata": {},
   "outputs": [],
   "source": [
    "# Directionality - tow tailed"
   ]
  },
  {
   "cell_type": "code",
   "execution_count": 9,
   "id": "4e8b4bf4",
   "metadata": {},
   "outputs": [
    {
     "data": {
      "text/plain": [
       "ShapiroResult(statistic=0.9254331588745117, pvalue=1.0746939338446282e-08)"
      ]
     },
     "execution_count": 9,
     "metadata": {},
     "output_type": "execute_result"
    }
   ],
   "source": [
    "# Calculate test stats , p_value\n",
    "# significance level = 0.05\n",
    "stats.shapiro(df[\"Age\"])"
   ]
  },
  {
   "cell_type": "code",
   "execution_count": null,
   "id": "b925b5e2",
   "metadata": {},
   "outputs": [],
   "source": [
    "# sign_lvl = 0.05\n",
    "# p_val = 0.000000001\n",
    "# since p_val is less than sign_lvl, we conclude that data \n",
    "# is not normal and we reject null"
   ]
  },
  {
   "cell_type": "code",
   "execution_count": null,
   "id": "071c2a9c",
   "metadata": {},
   "outputs": [],
   "source": []
  },
  {
   "cell_type": "code",
   "execution_count": null,
   "id": "6400ef59",
   "metadata": {},
   "outputs": [],
   "source": [
    "# Null - All samples have equal variance\n",
    "# Alternate - Samples doesnot have equal variance"
   ]
  },
  {
   "cell_type": "code",
   "execution_count": null,
   "id": "20a7cdee",
   "metadata": {},
   "outputs": [],
   "source": [
    "# Directionality - 2"
   ]
  },
  {
   "cell_type": "code",
   "execution_count": null,
   "id": "ddf12176",
   "metadata": {},
   "outputs": [],
   "source": [
    "# sign = 0.05\n",
    "# stats.levene(sample1, sample2, sample3.....samplen)"
   ]
  },
  {
   "cell_type": "code",
   "execution_count": 10,
   "id": "148f2b79",
   "metadata": {},
   "outputs": [
    {
     "data": {
      "text/plain": [
       "LeveneResult(statistic=326.19498641549933, pvalue=5.252192581360276e-54)"
      ]
     },
     "execution_count": 10,
     "metadata": {},
     "output_type": "execute_result"
    }
   ],
   "source": [
    "stats.levene(df[\"Salary\"], \n",
    "             df[\"Age\"])"
   ]
  },
  {
   "cell_type": "code",
   "execution_count": null,
   "id": "0dd7c973",
   "metadata": {},
   "outputs": [],
   "source": [
    "# since p_value is less than sign level , we conclude that samples does not\n",
    "# have equal variance and reject null hypothesis"
   ]
  },
  {
   "cell_type": "code",
   "execution_count": 16,
   "id": "ec088613",
   "metadata": {},
   "outputs": [],
   "source": [
    "from sklearn.preprocessing import MinMaxScaler"
   ]
  },
  {
   "cell_type": "code",
   "execution_count": 17,
   "id": "a95278af",
   "metadata": {
    "collapsed": true
   },
   "outputs": [
    {
     "data": {
      "text/plain": [
       "array([[0.        , 0.        ],\n",
       "       [0.        , 0.        ],\n",
       "       [0.2       , 0.05714286],\n",
       "       [0.        , 0.02857143],\n",
       "       [0.43636364, 0.11428571],\n",
       "       [0.5       , 0.14285714],\n",
       "       [0.19090909, 0.08571429],\n",
       "       [0.16363636, 0.11428571],\n",
       "       [0.13636364, 0.05714286],\n",
       "       [0.39090909, 0.31428571],\n",
       "       [0.47272727, 0.28571429],\n",
       "       [0.86363636, 0.02857143],\n",
       "       [0.26363636, 0.02857143],\n",
       "       [0.2       , 0.02857143],\n",
       "       [0.43636364, 0.31428571],\n",
       "       [0.46363636, 0.34285714],\n",
       "       [0.45454545, 0.37142857],\n",
       "       [0.51818182, 0.4       ],\n",
       "       [0.50909091, 0.42857143],\n",
       "       [0.39090909, 0.4       ],\n",
       "       [0.47272727, 0.45714286],\n",
       "       [0.63636364, 0.4       ],\n",
       "       [0.35454545, 0.14285714],\n",
       "       [0.47272727, 0.62857143],\n",
       "       [0.7       , 0.6       ],\n",
       "       [0.73636364, 0.65714286],\n",
       "       [0.77272727, 0.54285714],\n",
       "       [1.        , 0.68571429],\n",
       "       [0.69090909, 0.57142857],\n",
       "       [0.72727273, 0.71428571],\n",
       "       [0.45454545, 0.6       ],\n",
       "       [0.40909091, 0.74285714],\n",
       "       [0.47272727, 0.62857143],\n",
       "       [0.39090909, 0.77142857],\n",
       "       [0.47272727, 0.42857143],\n",
       "       [0.38181818, 0.37142857],\n",
       "       [0.35454545, 0.4       ],\n",
       "       [0.47272727, 0.11428571],\n",
       "       [0.19090909, 0.14285714],\n",
       "       [0.16363636, 0.08571429],\n",
       "       [0.16363636, 0.2       ],\n",
       "       [0.51818182, 0.94285714],\n",
       "       [0.23636364, 0.02857143],\n",
       "       [0.34545455, 1.        ],\n",
       "       [0.39090909, 0.11428571],\n",
       "       [0.        , 0.        ],\n",
       "       [0.        , 0.        ],\n",
       "       [0.        , 0.02857143],\n",
       "       [0.        , 0.        ],\n",
       "       [0.43636364, 0.74285714],\n",
       "       [0.19090909, 0.05714286],\n",
       "       [0.22727273, 0.2       ],\n",
       "       [0.24545455, 0.14285714],\n",
       "       [0.23636364, 0.08571429],\n",
       "       [0.21818182, 0.11428571],\n",
       "       [0.16363636, 0.11428571],\n",
       "       [0.39090909, 0.14285714],\n",
       "       [0.2       , 0.08571429],\n",
       "       [0.2       , 0.2       ],\n",
       "       [0.20909091, 0.37142857],\n",
       "       [0.47272727, 0.88571429],\n",
       "       [0.43636364, 0.42857143],\n",
       "       [0.46363636, 0.4       ],\n",
       "       [0.45454545, 0.45714286],\n",
       "       [0.51818182, 0.4       ],\n",
       "       [0.50909091, 0.14285714],\n",
       "       [0.20909091, 0.05714286],\n",
       "       [0.20909091, 0.08571429],\n",
       "       [0.20909091, 0.08571429],\n",
       "       [0.19090909, 0.05714286],\n",
       "       [0.47272727, 0.11428571],\n",
       "       [0.        , 0.        ],\n",
       "       [0.20909091, 0.08571429],\n",
       "       [0.57272727, 0.6       ],\n",
       "       [0.64545455, 0.74285714],\n",
       "       [0.        , 0.02857143],\n",
       "       [0.47272727, 0.2       ],\n",
       "       [0.39090909, 0.42857143],\n",
       "       [0.47272727, 0.37142857],\n",
       "       [0.38181818, 0.4       ],\n",
       "       [0.35454545, 0.11428571],\n",
       "       [0.47272727, 0.14285714],\n",
       "       [0.43636364, 0.08571429],\n",
       "       [0.19090909, 0.2       ],\n",
       "       [0.18181818, 0.05714286],\n",
       "       [0.24545455, 0.02857143],\n",
       "       [0.23636364, 0.14285714],\n",
       "       [0.16363636, 0.17142857],\n",
       "       [0.38181818, 0.82857143],\n",
       "       [0.58181818, 0.57142857],\n",
       "       [0.5       , 0.71428571],\n",
       "       [0.13636364, 0.05714286],\n",
       "       [0.13636364, 0.02857143],\n",
       "       [0.8       , 1.        ],\n",
       "       [0.81818182, 0.97142857],\n",
       "       [0.86363636, 0.82857143],\n",
       "       [0.2       , 0.11428571],\n",
       "       [1.        , 0.71428571],\n",
       "       [0.90909091, 0.6       ],\n",
       "       [0.77272727, 0.74285714],\n",
       "       [0.90909091, 0.62857143],\n",
       "       [0.77272727, 0.77142857],\n",
       "       [0.81818182, 0.42857143],\n",
       "       [0.38181818, 0.37142857],\n",
       "       [0.46363636, 0.4       ],\n",
       "       [0.39090909, 0.11428571],\n",
       "       [0.47272727, 0.14285714],\n",
       "       [0.38181818, 0.08571429],\n",
       "       [0.35454545, 0.77142857],\n",
       "       [0.47272727, 0.94285714],\n",
       "       [0.43636364, 0.88571429],\n",
       "       [0.46363636, 0.42857143],\n",
       "       [0.45454545, 0.4       ],\n",
       "       [0.51818182, 0.45714286],\n",
       "       [0.50909091, 0.4       ],\n",
       "       [0.46363636, 0.14285714],\n",
       "       [1.        , 0.4       ],\n",
       "       [0.90909091, 0.31428571],\n",
       "       [0.77272727, 0.31428571],\n",
       "       [0.90909091, 0.25714286],\n",
       "       [0.58181818, 0.4       ],\n",
       "       [0.5       , 0.57142857],\n",
       "       [0.39090909, 0.71428571],\n",
       "       [0.47272727, 0.45714286],\n",
       "       [0.38181818, 0.4       ],\n",
       "       [0.35454545, 0.14285714],\n",
       "       [0.2       , 0.02857143],\n",
       "       [0.25454545, 0.02857143],\n",
       "       [0.46363636, 0.65714286],\n",
       "       [0.45454545, 0.54285714],\n",
       "       [0.51818182, 0.68571429],\n",
       "       [0.50909091, 0.57142857],\n",
       "       [0.77272727, 0.71428571],\n",
       "       [0.47272727, 0.31428571],\n",
       "       [0.25454545, 0.        ],\n",
       "       [0.20909091, 0.        ],\n",
       "       [0.65454545, 0.77142857],\n",
       "       [0.68181818, 0.42857143],\n",
       "       [0.39090909, 0.37142857],\n",
       "       [0.47272727, 0.4       ],\n",
       "       [0.20909091, 0.11428571],\n",
       "       [0.28181818, 0.14285714],\n",
       "       [0.19090909, 0.08571429],\n",
       "       [0.67272727, 0.        ],\n",
       "       [0.        , 0.        ],\n",
       "       [0.23636364, 0.31428571],\n",
       "       [0.20909091, 0.        ],\n",
       "       [0.20909091, 0.        ],\n",
       "       [0.20909091, 0.        ],\n",
       "       [0.16363636, 0.02857143],\n",
       "       [0.20909091, 0.        ],\n",
       "       [0.20909091, 0.        ],\n",
       "       [0.20909091, 0.        ],\n",
       "       [0.38181818, 1.        ],\n",
       "       [0.35454545, 0.97142857],\n",
       "       [0.74545455, 0.82857143],\n",
       "       [0.72727273, 0.57142857],\n",
       "       [0.68181818, 0.71428571],\n",
       "       [0.47272727, 0.6       ],\n",
       "       [0.57272727, 0.45714286],\n",
       "       [0.65454545, 0.34285714],\n",
       "       [0.59090909, 0.77142857],\n",
       "       [0.61818182, 0.42857143],\n",
       "       [1.        , 0.37142857],\n",
       "       [0.90909091, 0.6       ],\n",
       "       [0.77272727, 0.74285714],\n",
       "       [0.90909091, 0.62857143],\n",
       "       [0.43636364, 0.77142857],\n",
       "       [0.46363636, 0.42857143],\n",
       "       [0.45454545, 0.37142857],\n",
       "       [0.84545455, 0.4       ],\n",
       "       [0.22727273, 0.11428571],\n",
       "       [0.46363636, 0.14285714],\n",
       "       [0.51818182, 0.08571429],\n",
       "       [0.57272727, 0.77142857],\n",
       "       [0.16363636, 0.08571429],\n",
       "       [0.13636364, 0.88571429],\n",
       "       [0.16363636, 0.42857143],\n",
       "       [0.70909091, 0.4       ],\n",
       "       [0.34545455, 0.45714286],\n",
       "       [0.46363636, 0.4       ],\n",
       "       [0.22727273, 0.14285714],\n",
       "       [0.64545455, 0.62857143],\n",
       "       [0.62727273, 0.6       ],\n",
       "       [0.13636364, 0.05714286],\n",
       "       [0.13636364, 0.02857143],\n",
       "       [0.16363636, 0.11428571],\n",
       "       [0.39090909, 0.57142857],\n",
       "       [0.54545455, 0.71428571],\n",
       "       [0.4       , 0.45714286],\n",
       "       [0.50909091, 0.25714286],\n",
       "       [0.20909091, 0.14285714],\n",
       "       [0.48181818, 0.25714286],\n",
       "       [0.49090909, 0.31428571],\n",
       "       [0.52727273, 0.65714286],\n",
       "       [0.46363636, 0.54285714],\n",
       "       [0.40909091, 0.68571429],\n",
       "       [0.28181818, 0.57142857],\n",
       "       [0.42727273, 0.71428571],\n",
       "       [0.49090909, 0.6       ],\n",
       "       [0.16363636, 0.02857143],\n",
       "       [0.        , 0.        ],\n",
       "       [0.        , 0.        ],\n",
       "       [0.59090909, 0.42857143],\n",
       "       [0.55454545, 0.37142857]])"
      ]
     },
     "execution_count": 17,
     "metadata": {},
     "output_type": "execute_result"
    }
   ],
   "source": [
    "sc = MinMaxScaler()\n",
    "x = sc.fit_transform(df[[\"Salary\",\"Age\"]])\n",
    "x"
   ]
  },
  {
   "cell_type": "code",
   "execution_count": 18,
   "id": "f68ca296",
   "metadata": {},
   "outputs": [
    {
     "data": {
      "text/plain": [
       "LeveneResult(statistic=14.922745860897253, pvalue=0.00013023205750093206)"
      ]
     },
     "execution_count": 18,
     "metadata": {},
     "output_type": "execute_result"
    }
   ],
   "source": [
    "stats.levene(x[ : , 0], \n",
    "             x[ : , 1])"
   ]
  },
  {
   "cell_type": "code",
   "execution_count": null,
   "id": "25292c6a",
   "metadata": {},
   "outputs": [],
   "source": [
    "# As the assumption of normality and equal \n",
    "# variance is voilated we will have to do non parametric test"
   ]
  },
  {
   "cell_type": "code",
   "execution_count": null,
   "id": "78922c21",
   "metadata": {},
   "outputs": [],
   "source": []
  },
  {
   "cell_type": "code",
   "execution_count": null,
   "id": "691cd106",
   "metadata": {},
   "outputs": [],
   "source": [
    "# Assume that data is normally distributed and samples have equal variance"
   ]
  },
  {
   "cell_type": "code",
   "execution_count": 20,
   "id": "88dcb5cb",
   "metadata": {},
   "outputs": [
    {
     "data": {
      "text/html": [
       "<div>\n",
       "<style scoped>\n",
       "    .dataframe tbody tr th:only-of-type {\n",
       "        vertical-align: middle;\n",
       "    }\n",
       "\n",
       "    .dataframe tbody tr th {\n",
       "        vertical-align: top;\n",
       "    }\n",
       "\n",
       "    .dataframe thead th {\n",
       "        text-align: right;\n",
       "    }\n",
       "</style>\n",
       "<table border=\"1\" class=\"dataframe\">\n",
       "  <thead>\n",
       "    <tr style=\"text-align: right;\">\n",
       "      <th></th>\n",
       "      <th>Salary</th>\n",
       "      <th>Age</th>\n",
       "    </tr>\n",
       "  </thead>\n",
       "  <tbody>\n",
       "    <tr>\n",
       "      <th>Salary</th>\n",
       "      <td>1.000000</td>\n",
       "      <td>0.607104</td>\n",
       "    </tr>\n",
       "    <tr>\n",
       "      <th>Age</th>\n",
       "      <td>0.607104</td>\n",
       "      <td>1.000000</td>\n",
       "    </tr>\n",
       "  </tbody>\n",
       "</table>\n",
       "</div>"
      ],
      "text/plain": [
       "          Salary       Age\n",
       "Salary  1.000000  0.607104\n",
       "Age     0.607104  1.000000"
      ]
     },
     "execution_count": 20,
     "metadata": {},
     "output_type": "execute_result"
    }
   ],
   "source": [
    "df[[\"Salary\",\"Age\"]].corr()"
   ]
  },
  {
   "cell_type": "code",
   "execution_count": null,
   "id": "d3b8f587",
   "metadata": {},
   "outputs": [],
   "source": [
    "# Null - There is no relation b/w salary and age\n",
    "# Alter - There is relation b/w Salary and Age\n",
    "\n",
    "# Directionality - 2"
   ]
  },
  {
   "cell_type": "code",
   "execution_count": 19,
   "id": "93ff1c6f",
   "metadata": {},
   "outputs": [
    {
     "data": {
      "text/plain": [
       "(0.6071040335127078, 4.937138646956397e-22)"
      ]
     },
     "execution_count": 19,
     "metadata": {},
     "output_type": "execute_result"
    }
   ],
   "source": [
    "stats.pearsonr(df[\"Salary\"],df[\"Age\"])"
   ]
  },
  {
   "cell_type": "code",
   "execution_count": null,
   "id": "1ec35c6d",
   "metadata": {},
   "outputs": [],
   "source": [
    "# sign = 0.05\n",
    "# p_val = 0\n",
    "# since P-val is less than sign lvl, \n",
    "# we can conclude that there is relation b/w salary and age\n"
   ]
  },
  {
   "cell_type": "code",
   "execution_count": null,
   "id": "af429c50",
   "metadata": {},
   "outputs": [],
   "source": []
  },
  {
   "cell_type": "code",
   "execution_count": 21,
   "id": "60c5b5c0",
   "metadata": {},
   "outputs": [
    {
     "data": {
      "text/html": [
       "<div>\n",
       "<style scoped>\n",
       "    .dataframe tbody tr th:only-of-type {\n",
       "        vertical-align: middle;\n",
       "    }\n",
       "\n",
       "    .dataframe tbody tr th {\n",
       "        vertical-align: top;\n",
       "    }\n",
       "\n",
       "    .dataframe thead th {\n",
       "        text-align: right;\n",
       "    }\n",
       "</style>\n",
       "<table border=\"1\" class=\"dataframe\">\n",
       "  <thead>\n",
       "    <tr style=\"text-align: right;\">\n",
       "      <th></th>\n",
       "      <th>Salary</th>\n",
       "      <th>Age</th>\n",
       "    </tr>\n",
       "  </thead>\n",
       "  <tbody>\n",
       "    <tr>\n",
       "      <th>Salary</th>\n",
       "      <td>1.000000</td>\n",
       "      <td>0.653025</td>\n",
       "    </tr>\n",
       "    <tr>\n",
       "      <th>Age</th>\n",
       "      <td>0.653025</td>\n",
       "      <td>1.000000</td>\n",
       "    </tr>\n",
       "  </tbody>\n",
       "</table>\n",
       "</div>"
      ],
      "text/plain": [
       "          Salary       Age\n",
       "Salary  1.000000  0.653025\n",
       "Age     0.653025  1.000000"
      ]
     },
     "execution_count": 21,
     "metadata": {},
     "output_type": "execute_result"
    }
   ],
   "source": [
    "df[[\"Salary\",\"Age\"]].corr(method = \"spearman\")"
   ]
  },
  {
   "cell_type": "code",
   "execution_count": null,
   "id": "387da9cf",
   "metadata": {},
   "outputs": [],
   "source": [
    "# Null - There is no relation b/w salary and age\n",
    "# Alter - There is relation b/w Salary and Age\n",
    "\n",
    "# Directionality - 2"
   ]
  },
  {
   "cell_type": "code",
   "execution_count": 22,
   "id": "66ebc8be",
   "metadata": {},
   "outputs": [
    {
     "data": {
      "text/plain": [
       "SpearmanrResult(correlation=0.6530246511033057, pvalue=2.6643121083087827e-26)"
      ]
     },
     "execution_count": 22,
     "metadata": {},
     "output_type": "execute_result"
    }
   ],
   "source": [
    "# test stats and p_value\n",
    "stats.spearmanr(df[\"Salary\"],df[\"Age\"])"
   ]
  },
  {
   "cell_type": "code",
   "execution_count": null,
   "id": "93e5e984",
   "metadata": {},
   "outputs": [],
   "source": [
    "# Significance level = 0.05\n",
    "# P_value = 0.0\n",
    "\n",
    "# Since p_val is less than sign lvl, we conclude that there is \n",
    "# significant relationship between salary and age and reject the null hypo"
   ]
  },
  {
   "cell_type": "code",
   "execution_count": null,
   "id": "024a0d11",
   "metadata": {},
   "outputs": [],
   "source": []
  },
  {
   "cell_type": "markdown",
   "id": "76c7c859",
   "metadata": {},
   "source": [
    "# Num vs Cat (2 Groups)"
   ]
  },
  {
   "cell_type": "code",
   "execution_count": 23,
   "id": "3bc73436",
   "metadata": {},
   "outputs": [
    {
     "data": {
      "text/html": [
       "<div>\n",
       "<style scoped>\n",
       "    .dataframe tbody tr th:only-of-type {\n",
       "        vertical-align: middle;\n",
       "    }\n",
       "\n",
       "    .dataframe tbody tr th {\n",
       "        vertical-align: top;\n",
       "    }\n",
       "\n",
       "    .dataframe thead th {\n",
       "        text-align: right;\n",
       "    }\n",
       "</style>\n",
       "<table border=\"1\" class=\"dataframe\">\n",
       "  <thead>\n",
       "    <tr style=\"text-align: right;\">\n",
       "      <th></th>\n",
       "      <th>Salary</th>\n",
       "      <th>Age</th>\n",
       "      <th>Experience</th>\n",
       "      <th>Highest_Degree</th>\n",
       "      <th>Designation</th>\n",
       "      <th>Upskilling_Certification_Courses</th>\n",
       "    </tr>\n",
       "  </thead>\n",
       "  <tbody>\n",
       "    <tr>\n",
       "      <th>0</th>\n",
       "      <td>0</td>\n",
       "      <td>22</td>\n",
       "      <td>0</td>\n",
       "      <td>Degree</td>\n",
       "      <td>Intern</td>\n",
       "      <td>0</td>\n",
       "    </tr>\n",
       "    <tr>\n",
       "      <th>1</th>\n",
       "      <td>0</td>\n",
       "      <td>22</td>\n",
       "      <td>0</td>\n",
       "      <td>Degree</td>\n",
       "      <td>Intern</td>\n",
       "      <td>0</td>\n",
       "    </tr>\n",
       "    <tr>\n",
       "      <th>2</th>\n",
       "      <td>22000</td>\n",
       "      <td>24</td>\n",
       "      <td>2</td>\n",
       "      <td>Degree</td>\n",
       "      <td>Associates</td>\n",
       "      <td>1</td>\n",
       "    </tr>\n",
       "    <tr>\n",
       "      <th>3</th>\n",
       "      <td>0</td>\n",
       "      <td>23</td>\n",
       "      <td>1</td>\n",
       "      <td>Degree</td>\n",
       "      <td>Intern</td>\n",
       "      <td>0</td>\n",
       "    </tr>\n",
       "    <tr>\n",
       "      <th>4</th>\n",
       "      <td>48000</td>\n",
       "      <td>26</td>\n",
       "      <td>4</td>\n",
       "      <td>Degree</td>\n",
       "      <td>Manager</td>\n",
       "      <td>3</td>\n",
       "    </tr>\n",
       "  </tbody>\n",
       "</table>\n",
       "</div>"
      ],
      "text/plain": [
       "   Salary  Age  Experience Highest_Degree Designation  \\\n",
       "0       0   22           0         Degree      Intern   \n",
       "1       0   22           0         Degree      Intern   \n",
       "2   22000   24           2         Degree  Associates   \n",
       "3       0   23           1         Degree      Intern   \n",
       "4   48000   26           4         Degree     Manager   \n",
       "\n",
       "   Upskilling_Certification_Courses  \n",
       "0                                 0  \n",
       "1                                 0  \n",
       "2                                 1  \n",
       "3                                 0  \n",
       "4                                 3  "
      ]
     },
     "execution_count": 23,
     "metadata": {},
     "output_type": "execute_result"
    }
   ],
   "source": [
    "df.head()"
   ]
  },
  {
   "cell_type": "code",
   "execution_count": 24,
   "id": "c0097fb9",
   "metadata": {},
   "outputs": [
    {
     "data": {
      "text/plain": [
       "Degree     140\n",
       "Masters     65\n",
       "Name: Highest_Degree, dtype: int64"
      ]
     },
     "execution_count": 24,
     "metadata": {},
     "output_type": "execute_result"
    }
   ],
   "source": [
    "df[\"Highest_Degree\"].value_counts()"
   ]
  },
  {
   "cell_type": "code",
   "execution_count": 25,
   "id": "34d9ba8a",
   "metadata": {},
   "outputs": [
    {
     "data": {
      "text/plain": [
       "<AxesSubplot:xlabel='Highest_Degree', ylabel='Salary'>"
      ]
     },
     "execution_count": 25,
     "metadata": {},
     "output_type": "execute_result"
    },
    {
     "data": {
      "image/png": "[encoded data removed]",
      "text/plain": [
       "<Figure size 432x288 with 1 Axes>"
      ]
     },
     "metadata": {
      "needs_background": "light"
     },
     "output_type": "display_data"
    }
   ],
   "source": [
    "sns.boxplot(data=df, x = \"Highest_Degree\", y = \"Salary\")"
   ]
  },
  {
   "cell_type": "code",
   "execution_count": null,
   "id": "9617edf8",
   "metadata": {},
   "outputs": [],
   "source": [
    "# step -1 \n",
    "# Checking Assumptions\n",
    "# Data is normal\n",
    "# Samples have equal variance"
   ]
  },
  {
   "cell_type": "code",
   "execution_count": null,
   "id": "6f442f88",
   "metadata": {},
   "outputs": [],
   "source": []
  },
  {
   "cell_type": "code",
   "execution_count": null,
   "id": "d8fa6c4f",
   "metadata": {},
   "outputs": [],
   "source": [
    "# Data is normal"
   ]
  },
  {
   "cell_type": "code",
   "execution_count": 26,
   "id": "c198396d",
   "metadata": {},
   "outputs": [],
   "source": [
    "degree =  df[ df[\"Highest_Degree\"] == \"Degree\"][\"Salary\"]\n",
    "masters = df[ df[\"Highest_Degree\"] == \"Masters\"][\"Salary\"]"
   ]
  },
  {
   "cell_type": "code",
   "execution_count": 28,
   "id": "ec1d2ed9",
   "metadata": {
    "collapsed": true
   },
   "outputs": [
    {
     "data": {
      "text/plain": [
       "0          0\n",
       "1          0\n",
       "2      22000\n",
       "3          0\n",
       "4      48000\n",
       "       ...  \n",
       "193    54000\n",
       "200    18000\n",
       "201        0\n",
       "202        0\n",
       "204    61000\n",
       "Name: Salary, Length: 140, dtype: int64"
      ]
     },
     "execution_count": 28,
     "metadata": {},
     "output_type": "execute_result"
    }
   ],
   "source": [
    "degree"
   ]
  },
  {
   "cell_type": "code",
   "execution_count": 27,
   "id": "159abd6f",
   "metadata": {},
   "outputs": [
    {
     "data": {
      "text/plain": [
       "ShapiroResult(statistic=0.9641101360321045, pvalue=4.521189475781284e-05)"
      ]
     },
     "execution_count": 27,
     "metadata": {},
     "output_type": "execute_result"
    }
   ],
   "source": [
    "# Normality - \n",
    "# null - Data is normal  skew = 0\n",
    "# alter - Data is not normal skew != 0\n",
    "\n",
    "stats.shapiro(df[\"Salary\"])"
   ]
  },
  {
   "cell_type": "code",
   "execution_count": 29,
   "id": "04c7fb97",
   "metadata": {},
   "outputs": [
    {
     "data": {
      "text/plain": [
       "ShapiroResult(statistic=0.9596090912818909, pvalue=0.0003864936006721109)"
      ]
     },
     "execution_count": 29,
     "metadata": {},
     "output_type": "execute_result"
    }
   ],
   "source": [
    "stats.shapiro(degree)"
   ]
  },
  {
   "cell_type": "code",
   "execution_count": 30,
   "id": "f1f3d07c",
   "metadata": {},
   "outputs": [
    {
     "data": {
      "text/plain": [
       "ShapiroResult(statistic=0.9436206221580505, pvalue=0.00516712199896574)"
      ]
     },
     "execution_count": 30,
     "metadata": {},
     "output_type": "execute_result"
    }
   ],
   "source": [
    "stats.shapiro(masters)"
   ]
  },
  {
   "cell_type": "code",
   "execution_count": null,
   "id": "2b14f4c2",
   "metadata": {},
   "outputs": [],
   "source": [
    "# Since p_value is less than sign level we conclude that data is not normal\n",
    "# and reject the null hypothesis"
   ]
  },
  {
   "cell_type": "code",
   "execution_count": null,
   "id": "6ba9867f",
   "metadata": {},
   "outputs": [],
   "source": [
    "# levene\n",
    "\n",
    "# null - variance of samples are equal   var of degree = var of master \n",
    "# alter - Variance of samples are not equal"
   ]
  },
  {
   "cell_type": "code",
   "execution_count": 31,
   "id": "97d1d949",
   "metadata": {},
   "outputs": [
    {
     "data": {
      "text/plain": [
       "LeveneResult(statistic=0.11716247840600362, pvalue=0.7324867489797675)"
      ]
     },
     "execution_count": 31,
     "metadata": {},
     "output_type": "execute_result"
    }
   ],
   "source": [
    "stats.levene(degree, masters)"
   ]
  },
  {
   "cell_type": "code",
   "execution_count": null,
   "id": "acfd461a",
   "metadata": {},
   "outputs": [],
   "source": [
    "# p_val = 0.73\n",
    "# sign lvl = 0.05\n",
    "# Since p_val is greater than sign lvl we conclude that the variance are equal\n",
    "# and we fail to reject null hypo"
   ]
  },
  {
   "cell_type": "code",
   "execution_count": null,
   "id": "b33241c8",
   "metadata": {},
   "outputs": [],
   "source": [
    "# Since assumption of normality is \n",
    "# voilated we will have to perform non para test"
   ]
  },
  {
   "cell_type": "code",
   "execution_count": null,
   "id": "8c064249",
   "metadata": {},
   "outputs": [],
   "source": [
    "# We assume data is normaly distributed and have equal variance\n"
   ]
  },
  {
   "cell_type": "code",
   "execution_count": null,
   "id": "6299fb29",
   "metadata": {},
   "outputs": [],
   "source": [
    "# Frame hypothesis\n",
    "\n",
    "# H0 :-  Avg salary of degree = Avg Sal of Masters, mu1 = mu2\n",
    "# Ha :- Avg salary of degree != Avg Sal of Masters, mu1 != mu2"
   ]
  },
  {
   "cell_type": "code",
   "execution_count": null,
   "id": "0e9aab9f",
   "metadata": {},
   "outputs": [],
   "source": [
    "# Directionality - 2"
   ]
  },
  {
   "cell_type": "code",
   "execution_count": 32,
   "id": "e5c21ab0",
   "metadata": {},
   "outputs": [
    {
     "ename": "TypeError",
     "evalue": "unsupported operand type(s) for /: 'str' and 'int'",
     "output_type": "error",
     "traceback": [
      "\u001b[1;31m---------------------------------------------------------------------------\u001b[0m",
      "\u001b[1;31mTypeError\u001b[0m                                 Traceback (most recent call last)",
      "Input \u001b[1;32mIn [32]\u001b[0m, in \u001b[0;36m<cell line: 2>\u001b[1;34m()\u001b[0m\n\u001b[0;32m      1\u001b[0m \u001b[38;5;66;03m# Calculate test stats, p_value\u001b[39;00m\n\u001b[1;32m----> 2\u001b[0m \u001b[43mstats\u001b[49m\u001b[38;5;241;43m.\u001b[39;49m\u001b[43mttest_ind\u001b[49m\u001b[43m(\u001b[49m\u001b[43mdf\u001b[49m\u001b[43m[\u001b[49m\u001b[38;5;124;43m\"\u001b[39;49m\u001b[38;5;124;43mSalary\u001b[39;49m\u001b[38;5;124;43m\"\u001b[39;49m\u001b[43m]\u001b[49m\u001b[43m,\u001b[49m\u001b[43m \u001b[49m\u001b[43mdf\u001b[49m\u001b[43m[\u001b[49m\u001b[38;5;124;43m\"\u001b[39;49m\u001b[38;5;124;43mHighest_Degree\u001b[39;49m\u001b[38;5;124;43m\"\u001b[39;49m\u001b[43m]\u001b[49m\u001b[43m)\u001b[49m\n",
      "File \u001b[1;32m~\\anaconda3\\lib\\site-packages\\scipy\\stats\\stats.py:6134\u001b[0m, in \u001b[0;36mttest_ind\u001b[1;34m(a, b, axis, equal_var, nan_policy, permutations, random_state, alternative, trim)\u001b[0m\n\u001b[0;32m   6132\u001b[0m \u001b[38;5;28;01mif\u001b[39;00m trim \u001b[38;5;241m==\u001b[39m \u001b[38;5;241m0\u001b[39m:\n\u001b[0;32m   6133\u001b[0m     v1 \u001b[38;5;241m=\u001b[39m np\u001b[38;5;241m.\u001b[39mvar(a, axis, ddof\u001b[38;5;241m=\u001b[39m\u001b[38;5;241m1\u001b[39m)\n\u001b[1;32m-> 6134\u001b[0m     v2 \u001b[38;5;241m=\u001b[39m \u001b[43mnp\u001b[49m\u001b[38;5;241;43m.\u001b[39;49m\u001b[43mvar\u001b[49m\u001b[43m(\u001b[49m\u001b[43mb\u001b[49m\u001b[43m,\u001b[49m\u001b[43m \u001b[49m\u001b[43maxis\u001b[49m\u001b[43m,\u001b[49m\u001b[43m \u001b[49m\u001b[43mddof\u001b[49m\u001b[38;5;241;43m=\u001b[39;49m\u001b[38;5;241;43m1\u001b[39;49m\u001b[43m)\u001b[49m\n\u001b[0;32m   6135\u001b[0m     m1 \u001b[38;5;241m=\u001b[39m np\u001b[38;5;241m.\u001b[39mmean(a, axis)\n\u001b[0;32m   6136\u001b[0m     m2 \u001b[38;5;241m=\u001b[39m np\u001b[38;5;241m.\u001b[39mmean(b, axis)\n",
      "File \u001b[1;32m<__array_function__ internals>:5\u001b[0m, in \u001b[0;36mvar\u001b[1;34m(*args, **kwargs)\u001b[0m\n",
      "File \u001b[1;32m~\\anaconda3\\lib\\site-packages\\numpy\\core\\fromnumeric.py:3723\u001b[0m, in \u001b[0;36mvar\u001b[1;34m(a, axis, dtype, out, ddof, keepdims, where)\u001b[0m\n\u001b[0;32m   3720\u001b[0m     \u001b[38;5;28;01melse\u001b[39;00m:\n\u001b[0;32m   3721\u001b[0m         \u001b[38;5;28;01mreturn\u001b[39;00m var(axis\u001b[38;5;241m=\u001b[39maxis, dtype\u001b[38;5;241m=\u001b[39mdtype, out\u001b[38;5;241m=\u001b[39mout, ddof\u001b[38;5;241m=\u001b[39mddof, \u001b[38;5;241m*\u001b[39m\u001b[38;5;241m*\u001b[39mkwargs)\n\u001b[1;32m-> 3723\u001b[0m \u001b[38;5;28;01mreturn\u001b[39;00m _methods\u001b[38;5;241m.\u001b[39m_var(a, axis\u001b[38;5;241m=\u001b[39maxis, dtype\u001b[38;5;241m=\u001b[39mdtype, out\u001b[38;5;241m=\u001b[39mout, ddof\u001b[38;5;241m=\u001b[39mddof,\n\u001b[0;32m   3724\u001b[0m                      \u001b[38;5;241m*\u001b[39m\u001b[38;5;241m*\u001b[39mkwargs)\n",
      "File \u001b[1;32m~\\anaconda3\\lib\\site-packages\\numpy\\core\\_methods.py:222\u001b[0m, in \u001b[0;36m_var\u001b[1;34m(a, axis, dtype, out, ddof, keepdims, where)\u001b[0m\n\u001b[0;32m    220\u001b[0m     div \u001b[38;5;241m=\u001b[39m rcount\u001b[38;5;241m.\u001b[39mreshape(arrmean\u001b[38;5;241m.\u001b[39mshape)\n\u001b[0;32m    221\u001b[0m \u001b[38;5;28;01mif\u001b[39;00m \u001b[38;5;28misinstance\u001b[39m(arrmean, mu\u001b[38;5;241m.\u001b[39mndarray):\n\u001b[1;32m--> 222\u001b[0m     arrmean \u001b[38;5;241m=\u001b[39m \u001b[43mum\u001b[49m\u001b[38;5;241;43m.\u001b[39;49m\u001b[43mtrue_divide\u001b[49m\u001b[43m(\u001b[49m\u001b[43marrmean\u001b[49m\u001b[43m,\u001b[49m\u001b[43m \u001b[49m\u001b[43mdiv\u001b[49m\u001b[43m,\u001b[49m\u001b[43m \u001b[49m\u001b[43mout\u001b[49m\u001b[38;5;241;43m=\u001b[39;49m\u001b[43marrmean\u001b[49m\u001b[43m,\u001b[49m\u001b[43m \u001b[49m\u001b[43mcasting\u001b[49m\u001b[38;5;241;43m=\u001b[39;49m\u001b[38;5;124;43m'\u001b[39;49m\u001b[38;5;124;43munsafe\u001b[39;49m\u001b[38;5;124;43m'\u001b[39;49m\u001b[43m,\u001b[49m\n\u001b[0;32m    223\u001b[0m \u001b[43m                             \u001b[49m\u001b[43msubok\u001b[49m\u001b[38;5;241;43m=\u001b[39;49m\u001b[38;5;28;43;01mFalse\u001b[39;49;00m\u001b[43m)\u001b[49m\n\u001b[0;32m    224\u001b[0m \u001b[38;5;28;01melse\u001b[39;00m:\n\u001b[0;32m    225\u001b[0m     arrmean \u001b[38;5;241m=\u001b[39m arrmean\u001b[38;5;241m.\u001b[39mdtype\u001b[38;5;241m.\u001b[39mtype(arrmean \u001b[38;5;241m/\u001b[39m rcount)\n",
      "\u001b[1;31mTypeError\u001b[0m: unsupported operand type(s) for /: 'str' and 'int'"
     ]
    }
   ],
   "source": [
    "# Calculate test stats, p_value\n",
    "stats.ttest_ind(df[\"Salary\"], df[\"Highest_Degree\"])"
   ]
  },
  {
   "cell_type": "code",
   "execution_count": 33,
   "id": "5e480a8a",
   "metadata": {},
   "outputs": [
    {
     "data": {
      "text/plain": [
       "Ttest_indResult(statistic=-5.3537310995406715, pvalue=2.3202430485928605e-07)"
      ]
     },
     "execution_count": 33,
     "metadata": {},
     "output_type": "execute_result"
    }
   ],
   "source": [
    "stats.ttest_ind(degree, masters)"
   ]
  },
  {
   "cell_type": "code",
   "execution_count": null,
   "id": "520e3a42",
   "metadata": {},
   "outputs": [],
   "source": [
    "sing = 0.05\n",
    "P_val = 0.0\n",
    "\n",
    "# Since P-val is less than sign lvl we can conclude that there's difference \n",
    "# b/w avg sal of masters and degree and we reject null hy"
   ]
  },
  {
   "cell_type": "code",
   "execution_count": null,
   "id": "6a25778d",
   "metadata": {},
   "outputs": [],
   "source": []
  },
  {
   "cell_type": "code",
   "execution_count": null,
   "id": "4b263414",
   "metadata": {},
   "outputs": [],
   "source": [
    "# Frame hypothesis\n",
    "\n",
    "# H0 :-  Avg salary of degree = Avg Sal of Masters, mu1 = mu2\n",
    "# Ha :- Avg salary of degree != Avg Sal of Masters, mu1 != mu2"
   ]
  },
  {
   "cell_type": "code",
   "execution_count": null,
   "id": "9430abeb",
   "metadata": {},
   "outputs": [],
   "source": [
    "# test stats , P-val"
   ]
  },
  {
   "cell_type": "code",
   "execution_count": 34,
   "id": "5b7b653a",
   "metadata": {},
   "outputs": [
    {
     "data": {
      "text/plain": [
       "MannwhitneyuResult(statistic=2670.0, pvalue=1.941021108313548e-06)"
      ]
     },
     "execution_count": 34,
     "metadata": {},
     "output_type": "execute_result"
    }
   ],
   "source": [
    "stats.mannwhitneyu(degree,masters)  # non parametric"
   ]
  },
  {
   "cell_type": "code",
   "execution_count": null,
   "id": "6745da03",
   "metadata": {},
   "outputs": [],
   "source": []
  },
  {
   "cell_type": "code",
   "execution_count": 35,
   "id": "d61a566b",
   "metadata": {},
   "outputs": [
    {
     "data": {
      "text/plain": [
       "Ttest_indResult(statistic=-5.3537310995406715, pvalue=2.3202430485928605e-07)"
      ]
     },
     "execution_count": 35,
     "metadata": {},
     "output_type": "execute_result"
    }
   ],
   "source": [
    "stats.ttest_ind(degree, masters)"
   ]
  },
  {
   "cell_type": "code",
   "execution_count": 36,
   "id": "eb14c800",
   "metadata": {},
   "outputs": [
    {
     "data": {
      "text/plain": [
       "F_onewayResult(statistic=28.66243668618897, pvalue=2.320243048592841e-07)"
      ]
     },
     "execution_count": 36,
     "metadata": {},
     "output_type": "execute_result"
    }
   ],
   "source": [
    "stats.f_oneway(degree,masters)"
   ]
  },
  {
   "cell_type": "code",
   "execution_count": null,
   "id": "7ed42127",
   "metadata": {},
   "outputs": [],
   "source": []
  },
  {
   "cell_type": "markdown",
   "id": "29306dd0",
   "metadata": {},
   "source": [
    "# Num vs CAT(> 2)"
   ]
  },
  {
   "cell_type": "code",
   "execution_count": 37,
   "id": "5889c751",
   "metadata": {},
   "outputs": [
    {
     "data": {
      "text/html": [
       "<div>\n",
       "<style scoped>\n",
       "    .dataframe tbody tr th:only-of-type {\n",
       "        vertical-align: middle;\n",
       "    }\n",
       "\n",
       "    .dataframe tbody tr th {\n",
       "        vertical-align: top;\n",
       "    }\n",
       "\n",
       "    .dataframe thead th {\n",
       "        text-align: right;\n",
       "    }\n",
       "</style>\n",
       "<table border=\"1\" class=\"dataframe\">\n",
       "  <thead>\n",
       "    <tr style=\"text-align: right;\">\n",
       "      <th></th>\n",
       "      <th>Salary</th>\n",
       "      <th>Designation</th>\n",
       "    </tr>\n",
       "  </thead>\n",
       "  <tbody>\n",
       "    <tr>\n",
       "      <th>0</th>\n",
       "      <td>0</td>\n",
       "      <td>Intern</td>\n",
       "    </tr>\n",
       "    <tr>\n",
       "      <th>1</th>\n",
       "      <td>0</td>\n",
       "      <td>Intern</td>\n",
       "    </tr>\n",
       "    <tr>\n",
       "      <th>2</th>\n",
       "      <td>22000</td>\n",
       "      <td>Associates</td>\n",
       "    </tr>\n",
       "    <tr>\n",
       "      <th>3</th>\n",
       "      <td>0</td>\n",
       "      <td>Intern</td>\n",
       "    </tr>\n",
       "    <tr>\n",
       "      <th>4</th>\n",
       "      <td>48000</td>\n",
       "      <td>Manager</td>\n",
       "    </tr>\n",
       "    <tr>\n",
       "      <th>...</th>\n",
       "      <td>...</td>\n",
       "      <td>...</td>\n",
       "    </tr>\n",
       "    <tr>\n",
       "      <th>200</th>\n",
       "      <td>18000</td>\n",
       "      <td>Associates</td>\n",
       "    </tr>\n",
       "    <tr>\n",
       "      <th>201</th>\n",
       "      <td>0</td>\n",
       "      <td>Intern</td>\n",
       "    </tr>\n",
       "    <tr>\n",
       "      <th>202</th>\n",
       "      <td>0</td>\n",
       "      <td>Intern</td>\n",
       "    </tr>\n",
       "    <tr>\n",
       "      <th>203</th>\n",
       "      <td>65000</td>\n",
       "      <td>Manager</td>\n",
       "    </tr>\n",
       "    <tr>\n",
       "      <th>204</th>\n",
       "      <td>61000</td>\n",
       "      <td>Manager</td>\n",
       "    </tr>\n",
       "  </tbody>\n",
       "</table>\n",
       "<p>205 rows × 2 columns</p>\n",
       "</div>"
      ],
      "text/plain": [
       "     Salary Designation\n",
       "0         0      Intern\n",
       "1         0      Intern\n",
       "2     22000  Associates\n",
       "3         0      Intern\n",
       "4     48000     Manager\n",
       "..      ...         ...\n",
       "200   18000  Associates\n",
       "201       0      Intern\n",
       "202       0      Intern\n",
       "203   65000     Manager\n",
       "204   61000     Manager\n",
       "\n",
       "[205 rows x 2 columns]"
      ]
     },
     "execution_count": 37,
     "metadata": {},
     "output_type": "execute_result"
    }
   ],
   "source": [
    "df[[\"Salary\",\"Designation\"]]"
   ]
  },
  {
   "cell_type": "code",
   "execution_count": 38,
   "id": "3c34765f",
   "metadata": {
    "scrolled": true
   },
   "outputs": [
    {
     "data": {
      "text/plain": [
       "Manager           88\n",
       "Associates        58\n",
       "Senior Manager    47\n",
       "Intern            12\n",
       "Name: Designation, dtype: int64"
      ]
     },
     "execution_count": 38,
     "metadata": {},
     "output_type": "execute_result"
    }
   ],
   "source": [
    "df[\"Designation\"].value_counts()"
   ]
  },
  {
   "cell_type": "code",
   "execution_count": null,
   "id": "5e5167ba",
   "metadata": {},
   "outputs": [],
   "source": []
  },
  {
   "cell_type": "code",
   "execution_count": null,
   "id": "a050220d",
   "metadata": {},
   "outputs": [],
   "source": [
    "# Check Assumptions\n",
    "# - Normality\n",
    "# - Equal Var"
   ]
  },
  {
   "cell_type": "code",
   "execution_count": 41,
   "id": "5dc7dc5a",
   "metadata": {},
   "outputs": [],
   "source": [
    "Intern = df[df[\"Designation\"] == \"Intern\"][\"Salary\"]\n",
    "Manager = df[df[\"Designation\"] == \"Manager\"][\"Salary\"]\n",
    "Associates = df[df[\"Designation\"] == \"Associates\"][\"Salary\"]\n",
    "Senior_manager = df[df[\"Designation\"] == \"Senior Manager\"][\"Salary\"]"
   ]
  },
  {
   "cell_type": "code",
   "execution_count": 47,
   "id": "7ec64b24",
   "metadata": {},
   "outputs": [
    {
     "data": {
      "text/plain": [
       "ShapiroResult(statistic=0.9641101360321045, pvalue=4.521189475781284e-05)"
      ]
     },
     "execution_count": 47,
     "metadata": {},
     "output_type": "execute_result"
    }
   ],
   "source": [
    "stats.shapiro(df[\"Salary\"])"
   ]
  },
  {
   "cell_type": "code",
   "execution_count": 49,
   "id": "64ceab2d",
   "metadata": {},
   "outputs": [
    {
     "name": "stderr",
     "output_type": "stream",
     "text": [
      "C:\\Users\\ClassRoom 2\\anaconda3\\lib\\site-packages\\scipy\\stats\\morestats.py:1757: UserWarning: Input data for shapiro has range zero. The results may not be accurate.\n",
      "  warnings.warn(\"Input data for shapiro has range zero. The results \"\n"
     ]
    },
    {
     "data": {
      "text/plain": [
       "ShapiroResult(statistic=1.0, pvalue=1.0)"
      ]
     },
     "execution_count": 49,
     "metadata": {},
     "output_type": "execute_result"
    }
   ],
   "source": [
    "stats.shapiro(Intern)"
   ]
  },
  {
   "cell_type": "code",
   "execution_count": 50,
   "id": "744ccce6",
   "metadata": {},
   "outputs": [
    {
     "data": {
      "text/plain": [
       "ShapiroResult(statistic=0.9585660696029663, pvalue=0.006655644625425339)"
      ]
     },
     "execution_count": 50,
     "metadata": {},
     "output_type": "execute_result"
    }
   ],
   "source": [
    "stats.shapiro(Manager)"
   ]
  },
  {
   "cell_type": "code",
   "execution_count": 51,
   "id": "d3f7a842",
   "metadata": {},
   "outputs": [
    {
     "data": {
      "text/plain": [
       "ShapiroResult(statistic=0.9352521896362305, pvalue=0.011823092587292194)"
      ]
     },
     "execution_count": 51,
     "metadata": {},
     "output_type": "execute_result"
    }
   ],
   "source": [
    "stats.shapiro(Senior_manager)"
   ]
  },
  {
   "cell_type": "code",
   "execution_count": 52,
   "id": "10785b24",
   "metadata": {},
   "outputs": [
    {
     "data": {
      "text/plain": [
       "ShapiroResult(statistic=0.6575738191604614, pvalue=2.308056801236802e-10)"
      ]
     },
     "execution_count": 52,
     "metadata": {},
     "output_type": "execute_result"
    }
   ],
   "source": [
    "stats.shapiro(Associates)"
   ]
  },
  {
   "cell_type": "code",
   "execution_count": null,
   "id": "73c46e0e",
   "metadata": {},
   "outputs": [],
   "source": [
    "# Data is not normaly distributed"
   ]
  },
  {
   "cell_type": "code",
   "execution_count": 53,
   "id": "13530803",
   "metadata": {},
   "outputs": [
    {
     "ename": "TypeError",
     "evalue": "ufunc 'true_divide' not supported for the input types, and the inputs could not be safely coerced to any supported types according to the casting rule ''safe''",
     "output_type": "error",
     "traceback": [
      "\u001b[1;31m---------------------------------------------------------------------------\u001b[0m",
      "\u001b[1;31mTypeError\u001b[0m                                 Traceback (most recent call last)",
      "Input \u001b[1;32mIn [53]\u001b[0m, in \u001b[0;36m<cell line: 3>\u001b[1;34m()\u001b[0m\n\u001b[0;32m      1\u001b[0m \u001b[38;5;66;03m# levene\u001b[39;00m\n\u001b[1;32m----> 3\u001b[0m \u001b[43mstats\u001b[49m\u001b[38;5;241;43m.\u001b[39;49m\u001b[43mlevene\u001b[49m\u001b[43m(\u001b[49m\u001b[43mdf\u001b[49m\u001b[43m[\u001b[49m\u001b[38;5;124;43m\"\u001b[39;49m\u001b[38;5;124;43mSalary\u001b[39;49m\u001b[38;5;124;43m\"\u001b[39;49m\u001b[43m]\u001b[49m\u001b[43m,\u001b[49m\u001b[43mdf\u001b[49m\u001b[43m[\u001b[49m\u001b[38;5;124;43m\"\u001b[39;49m\u001b[38;5;124;43mDesignation\u001b[39;49m\u001b[38;5;124;43m\"\u001b[39;49m\u001b[43m]\u001b[49m\u001b[43m)\u001b[49m\n",
      "File \u001b[1;32m~\\anaconda3\\lib\\site-packages\\scipy\\stats\\morestats.py:2578\u001b[0m, in \u001b[0;36mlevene\u001b[1;34m(center, proportiontocut, *args)\u001b[0m\n\u001b[0;32m   2576\u001b[0m \u001b[38;5;28;01mfor\u001b[39;00m j \u001b[38;5;129;01min\u001b[39;00m \u001b[38;5;28mrange\u001b[39m(k):\n\u001b[0;32m   2577\u001b[0m     Ni[j] \u001b[38;5;241m=\u001b[39m \u001b[38;5;28mlen\u001b[39m(args[j])\n\u001b[1;32m-> 2578\u001b[0m     Yci[j] \u001b[38;5;241m=\u001b[39m \u001b[43mfunc\u001b[49m\u001b[43m(\u001b[49m\u001b[43margs\u001b[49m\u001b[43m[\u001b[49m\u001b[43mj\u001b[49m\u001b[43m]\u001b[49m\u001b[43m)\u001b[49m\n\u001b[0;32m   2579\u001b[0m Ntot \u001b[38;5;241m=\u001b[39m np\u001b[38;5;241m.\u001b[39msum(Ni, axis\u001b[38;5;241m=\u001b[39m\u001b[38;5;241m0\u001b[39m)\n\u001b[0;32m   2581\u001b[0m \u001b[38;5;66;03m# compute Zij's\u001b[39;00m\n",
      "File \u001b[1;32m~\\anaconda3\\lib\\site-packages\\scipy\\stats\\morestats.py:2568\u001b[0m, in \u001b[0;36mlevene.<locals>.<lambda>\u001b[1;34m(x)\u001b[0m\n\u001b[0;32m   2565\u001b[0m Yci \u001b[38;5;241m=\u001b[39m np\u001b[38;5;241m.\u001b[39mempty(k, \u001b[38;5;124m'\u001b[39m\u001b[38;5;124md\u001b[39m\u001b[38;5;124m'\u001b[39m)\n\u001b[0;32m   2567\u001b[0m \u001b[38;5;28;01mif\u001b[39;00m center \u001b[38;5;241m==\u001b[39m \u001b[38;5;124m'\u001b[39m\u001b[38;5;124mmedian\u001b[39m\u001b[38;5;124m'\u001b[39m:\n\u001b[1;32m-> 2568\u001b[0m     func \u001b[38;5;241m=\u001b[39m \u001b[38;5;28;01mlambda\u001b[39;00m x: \u001b[43mnp\u001b[49m\u001b[38;5;241;43m.\u001b[39;49m\u001b[43mmedian\u001b[49m\u001b[43m(\u001b[49m\u001b[43mx\u001b[49m\u001b[43m,\u001b[49m\u001b[43m \u001b[49m\u001b[43maxis\u001b[49m\u001b[38;5;241;43m=\u001b[39;49m\u001b[38;5;241;43m0\u001b[39;49m\u001b[43m)\u001b[49m\n\u001b[0;32m   2569\u001b[0m \u001b[38;5;28;01melif\u001b[39;00m center \u001b[38;5;241m==\u001b[39m \u001b[38;5;124m'\u001b[39m\u001b[38;5;124mmean\u001b[39m\u001b[38;5;124m'\u001b[39m:\n\u001b[0;32m   2570\u001b[0m     func \u001b[38;5;241m=\u001b[39m \u001b[38;5;28;01mlambda\u001b[39;00m x: np\u001b[38;5;241m.\u001b[39mmean(x, axis\u001b[38;5;241m=\u001b[39m\u001b[38;5;241m0\u001b[39m)\n",
      "File \u001b[1;32m<__array_function__ internals>:5\u001b[0m, in \u001b[0;36mmedian\u001b[1;34m(*args, **kwargs)\u001b[0m\n",
      "File \u001b[1;32m~\\anaconda3\\lib\\site-packages\\numpy\\lib\\function_base.py:3655\u001b[0m, in \u001b[0;36mmedian\u001b[1;34m(a, axis, out, overwrite_input, keepdims)\u001b[0m\n\u001b[0;32m   3573\u001b[0m \u001b[38;5;129m@array_function_dispatch\u001b[39m(_median_dispatcher)\n\u001b[0;32m   3574\u001b[0m \u001b[38;5;28;01mdef\u001b[39;00m \u001b[38;5;21mmedian\u001b[39m(a, axis\u001b[38;5;241m=\u001b[39m\u001b[38;5;28;01mNone\u001b[39;00m, out\u001b[38;5;241m=\u001b[39m\u001b[38;5;28;01mNone\u001b[39;00m, overwrite_input\u001b[38;5;241m=\u001b[39m\u001b[38;5;28;01mFalse\u001b[39;00m, keepdims\u001b[38;5;241m=\u001b[39m\u001b[38;5;28;01mFalse\u001b[39;00m):\n\u001b[0;32m   3575\u001b[0m     \u001b[38;5;124;03m\"\"\"\u001b[39;00m\n\u001b[0;32m   3576\u001b[0m \u001b[38;5;124;03m    Compute the median along the specified axis.\u001b[39;00m\n\u001b[0;32m   3577\u001b[0m \n\u001b[1;32m   (...)\u001b[0m\n\u001b[0;32m   3653\u001b[0m \n\u001b[0;32m   3654\u001b[0m \u001b[38;5;124;03m    \"\"\"\u001b[39;00m\n\u001b[1;32m-> 3655\u001b[0m     r, k \u001b[38;5;241m=\u001b[39m \u001b[43m_ureduce\u001b[49m\u001b[43m(\u001b[49m\u001b[43ma\u001b[49m\u001b[43m,\u001b[49m\u001b[43m \u001b[49m\u001b[43mfunc\u001b[49m\u001b[38;5;241;43m=\u001b[39;49m\u001b[43m_median\u001b[49m\u001b[43m,\u001b[49m\u001b[43m \u001b[49m\u001b[43maxis\u001b[49m\u001b[38;5;241;43m=\u001b[39;49m\u001b[43maxis\u001b[49m\u001b[43m,\u001b[49m\u001b[43m \u001b[49m\u001b[43mout\u001b[49m\u001b[38;5;241;43m=\u001b[39;49m\u001b[43mout\u001b[49m\u001b[43m,\u001b[49m\n\u001b[0;32m   3656\u001b[0m \u001b[43m                    \u001b[49m\u001b[43moverwrite_input\u001b[49m\u001b[38;5;241;43m=\u001b[39;49m\u001b[43moverwrite_input\u001b[49m\u001b[43m)\u001b[49m\n\u001b[0;32m   3657\u001b[0m     \u001b[38;5;28;01mif\u001b[39;00m keepdims:\n\u001b[0;32m   3658\u001b[0m         \u001b[38;5;28;01mreturn\u001b[39;00m r\u001b[38;5;241m.\u001b[39mreshape(k)\n",
      "File \u001b[1;32m~\\anaconda3\\lib\\site-packages\\numpy\\lib\\function_base.py:3564\u001b[0m, in \u001b[0;36m_ureduce\u001b[1;34m(a, func, **kwargs)\u001b[0m\n\u001b[0;32m   3561\u001b[0m \u001b[38;5;28;01melse\u001b[39;00m:\n\u001b[0;32m   3562\u001b[0m     keepdim \u001b[38;5;241m=\u001b[39m (\u001b[38;5;241m1\u001b[39m,) \u001b[38;5;241m*\u001b[39m a\u001b[38;5;241m.\u001b[39mndim\n\u001b[1;32m-> 3564\u001b[0m r \u001b[38;5;241m=\u001b[39m func(a, \u001b[38;5;241m*\u001b[39m\u001b[38;5;241m*\u001b[39mkwargs)\n\u001b[0;32m   3565\u001b[0m \u001b[38;5;28;01mreturn\u001b[39;00m r, keepdim\n",
      "File \u001b[1;32m~\\anaconda3\\lib\\site-packages\\numpy\\lib\\function_base.py:3716\u001b[0m, in \u001b[0;36m_median\u001b[1;34m(a, axis, out, overwrite_input)\u001b[0m\n\u001b[0;32m   3711\u001b[0m     \u001b[38;5;28;01mreturn\u001b[39;00m np\u001b[38;5;241m.\u001b[39mlib\u001b[38;5;241m.\u001b[39mutils\u001b[38;5;241m.\u001b[39m_median_nancheck(part, rout, axis, out)\n\u001b[0;32m   3712\u001b[0m \u001b[38;5;28;01melse\u001b[39;00m:\n\u001b[0;32m   3713\u001b[0m     \u001b[38;5;66;03m# if there are no nans\u001b[39;00m\n\u001b[0;32m   3714\u001b[0m     \u001b[38;5;66;03m# Use mean in odd and even case to coerce data type\u001b[39;00m\n\u001b[0;32m   3715\u001b[0m     \u001b[38;5;66;03m# and check, use out array.\u001b[39;00m\n\u001b[1;32m-> 3716\u001b[0m     \u001b[38;5;28;01mreturn\u001b[39;00m \u001b[43mmean\u001b[49m\u001b[43m(\u001b[49m\u001b[43mpart\u001b[49m\u001b[43m[\u001b[49m\u001b[43mindexer\u001b[49m\u001b[43m]\u001b[49m\u001b[43m,\u001b[49m\u001b[43m \u001b[49m\u001b[43maxis\u001b[49m\u001b[38;5;241;43m=\u001b[39;49m\u001b[43maxis\u001b[49m\u001b[43m,\u001b[49m\u001b[43m \u001b[49m\u001b[43mout\u001b[49m\u001b[38;5;241;43m=\u001b[39;49m\u001b[43mout\u001b[49m\u001b[43m)\u001b[49m\n",
      "File \u001b[1;32m<__array_function__ internals>:5\u001b[0m, in \u001b[0;36mmean\u001b[1;34m(*args, **kwargs)\u001b[0m\n",
      "File \u001b[1;32m~\\anaconda3\\lib\\site-packages\\numpy\\core\\fromnumeric.py:3440\u001b[0m, in \u001b[0;36mmean\u001b[1;34m(a, axis, dtype, out, keepdims, where)\u001b[0m\n\u001b[0;32m   3437\u001b[0m     \u001b[38;5;28;01melse\u001b[39;00m:\n\u001b[0;32m   3438\u001b[0m         \u001b[38;5;28;01mreturn\u001b[39;00m mean(axis\u001b[38;5;241m=\u001b[39maxis, dtype\u001b[38;5;241m=\u001b[39mdtype, out\u001b[38;5;241m=\u001b[39mout, \u001b[38;5;241m*\u001b[39m\u001b[38;5;241m*\u001b[39mkwargs)\n\u001b[1;32m-> 3440\u001b[0m \u001b[38;5;28;01mreturn\u001b[39;00m _methods\u001b[38;5;241m.\u001b[39m_mean(a, axis\u001b[38;5;241m=\u001b[39maxis, dtype\u001b[38;5;241m=\u001b[39mdtype,\n\u001b[0;32m   3441\u001b[0m                       out\u001b[38;5;241m=\u001b[39mout, \u001b[38;5;241m*\u001b[39m\u001b[38;5;241m*\u001b[39mkwargs)\n",
      "File \u001b[1;32m~\\anaconda3\\lib\\site-packages\\numpy\\core\\_methods.py:191\u001b[0m, in \u001b[0;36m_mean\u001b[1;34m(a, axis, dtype, out, keepdims, where)\u001b[0m\n\u001b[0;32m    189\u001b[0m         ret \u001b[38;5;241m=\u001b[39m ret\u001b[38;5;241m.\u001b[39mdtype\u001b[38;5;241m.\u001b[39mtype(ret \u001b[38;5;241m/\u001b[39m rcount)\n\u001b[0;32m    190\u001b[0m \u001b[38;5;28;01melse\u001b[39;00m:\n\u001b[1;32m--> 191\u001b[0m     ret \u001b[38;5;241m=\u001b[39m \u001b[43mret\u001b[49m\u001b[43m \u001b[49m\u001b[38;5;241;43m/\u001b[39;49m\u001b[43m \u001b[49m\u001b[43mrcount\u001b[49m\n\u001b[0;32m    193\u001b[0m \u001b[38;5;28;01mreturn\u001b[39;00m ret\n",
      "\u001b[1;31mTypeError\u001b[0m: ufunc 'true_divide' not supported for the input types, and the inputs could not be safely coerced to any supported types according to the casting rule ''safe''"
     ]
    }
   ],
   "source": [
    "# levene\n",
    "\n",
    "stats.levene(df[\"Salary\"],df[\"Designation\"])"
   ]
  },
  {
   "cell_type": "code",
   "execution_count": 54,
   "id": "da1a1d79",
   "metadata": {},
   "outputs": [
    {
     "data": {
      "text/plain": [
       "LeveneResult(statistic=23.504488225573883, pvalue=4.400885171308711e-13)"
      ]
     },
     "execution_count": 54,
     "metadata": {},
     "output_type": "execute_result"
    }
   ],
   "source": [
    "# levene\n",
    "\n",
    "stats.levene(Intern,Manager,Senior_manager,Associates)"
   ]
  },
  {
   "cell_type": "code",
   "execution_count": null,
   "id": "85a9c142",
   "metadata": {},
   "outputs": [],
   "source": [
    "# We assume data is normaly distributed and has equal variance"
   ]
  },
  {
   "cell_type": "code",
   "execution_count": null,
   "id": "512f5119",
   "metadata": {},
   "outputs": [],
   "source": [
    "# Null :- avg sal of Intern = Avg sal of Associates = Avg Sal of Manager = Avg sal of senior manager\n",
    "# Alter :- At least one of them is not equal"
   ]
  },
  {
   "cell_type": "code",
   "execution_count": 55,
   "id": "7806e101",
   "metadata": {},
   "outputs": [
    {
     "data": {
      "text/plain": [
       "F_onewayResult(statistic=219.5159648437038, pvalue=3.758582121942665e-63)"
      ]
     },
     "execution_count": 55,
     "metadata": {},
     "output_type": "execute_result"
    }
   ],
   "source": [
    "# Stats , P_values\n",
    "stats.f_oneway(Intern,Manager,Senior_manager,Associates)"
   ]
  },
  {
   "cell_type": "code",
   "execution_count": null,
   "id": "8daa7653",
   "metadata": {},
   "outputs": [],
   "source": [
    "# sign = 0.05\n",
    "# P_val = 0.0\n",
    "# since P_val is less than sign lvl we conclude that avg sal \n",
    "# of one of them is different and reject null\n",
    "\n",
    "# Designation has significant effect on predicting salary"
   ]
  },
  {
   "cell_type": "code",
   "execution_count": 59,
   "id": "8cb8adf8",
   "metadata": {},
   "outputs": [
    {
     "data": {
      "text/html": [
       "<table class=\"simpletable\">\n",
       "<caption>Multiple Comparison of Means - Tukey HSD, FWER=0.05</caption>\n",
       "<tr>\n",
       "    <th>group1</th>       <th>group2</th>      <th>meandiff</th>   <th>p-adj</th>    <th>lower</th>       <th>upper</th>    <th>reject</th>\n",
       "</tr>\n",
       "<tr>\n",
       "  <td>Associates</td>     <td>Intern</td>     <td>-23706.8966</td>  <td>0.0</td>  <td>-34037.1435</td> <td>-13376.6496</td>  <td>True</td> \n",
       "</tr>\n",
       "<tr>\n",
       "  <td>Associates</td>     <td>Manager</td>    <td>26531.7398</td>   <td>0.0</td>  <td>21022.5543</td>  <td>32040.9254</td>   <td>True</td> \n",
       "</tr>\n",
       "<tr>\n",
       "  <td>Associates</td> <td>Senior Manager</td> <td>54356.9332</td>   <td>0.0</td>  <td>47964.0315</td>  <td>60749.8349</td>   <td>True</td> \n",
       "</tr>\n",
       "<tr>\n",
       "    <td>Intern</td>       <td>Manager</td>    <td>50238.6364</td>   <td>0.0</td>  <td>40214.7913</td>  <td>60262.4814</td>   <td>True</td> \n",
       "</tr>\n",
       "<tr>\n",
       "    <td>Intern</td>   <td>Senior Manager</td> <td>78063.8298</td>   <td>0.0</td>  <td>67528.3879</td>  <td>88599.2717</td>   <td>True</td> \n",
       "</tr>\n",
       "<tr>\n",
       "    <td>Manager</td>  <td>Senior Manager</td> <td>27825.1934</td>   <td>0.0</td>  <td>21940.2415</td>  <td>33710.1454</td>   <td>True</td> \n",
       "</tr>\n",
       "</table>"
      ],
      "text/plain": [
       "<class 'statsmodels.iolib.table.SimpleTable'>"
      ]
     },
     "execution_count": 59,
     "metadata": {},
     "output_type": "execute_result"
    }
   ],
   "source": [
    "from statsmodels.stats import multicomp as mc\n",
    "post_hoc = mc.MultiComparison(df[\"Salary\"], df[\"Designation\"])\n",
    "post_hoc.tukeyhsd().summary()"
   ]
  },
  {
   "cell_type": "code",
   "execution_count": null,
   "id": "f32cf3bd",
   "metadata": {},
   "outputs": [],
   "source": [
    "# u1 = u2\n",
    "# null :- avg sal of ass = avg sal of intern  reject\n",
    "#     avg sal of ass != avg sal of intern"
   ]
  },
  {
   "cell_type": "code",
   "execution_count": null,
   "id": "435c7443",
   "metadata": {},
   "outputs": [],
   "source": []
  },
  {
   "cell_type": "code",
   "execution_count": null,
   "id": "c42a6e31",
   "metadata": {},
   "outputs": [],
   "source": [
    "#kruskal"
   ]
  },
  {
   "cell_type": "code",
   "execution_count": null,
   "id": "8cf9edb4",
   "metadata": {},
   "outputs": [],
   "source": [
    "# Null :- avg sal of Intern = Avg sal of Associates = Avg Sal of Manager = Avg sal of senior manager\n",
    "# Alter :- At least one of them is not equal"
   ]
  },
  {
   "cell_type": "code",
   "execution_count": 60,
   "id": "e6113af3",
   "metadata": {},
   "outputs": [
    {
     "data": {
      "text/plain": [
       "KruskalResult(statistic=146.52478949449008, pvalue=1.480389678559127e-31)"
      ]
     },
     "execution_count": 60,
     "metadata": {},
     "output_type": "execute_result"
    }
   ],
   "source": [
    "# stats , p_values\n",
    "stats.kruskal(Intern,Manager,Senior_manager,Associates)"
   ]
  },
  {
   "cell_type": "code",
   "execution_count": null,
   "id": "7f7e82d8",
   "metadata": {},
   "outputs": [],
   "source": [
    "# sign = 0.05\n",
    "# p_values = 0\n",
    "# since p_val is less than sign level at least of "
   ]
  },
  {
   "cell_type": "code",
   "execution_count": null,
   "id": "ed7c0e62",
   "metadata": {},
   "outputs": [],
   "source": []
  },
  {
   "cell_type": "code",
   "execution_count": null,
   "id": "077917a5",
   "metadata": {},
   "outputs": [],
   "source": [
    "# Cat vs Cat  (No Assumption)\n",
    "# Non-Parametric"
   ]
  },
  {
   "cell_type": "code",
   "execution_count": 61,
   "id": "f3baf1d0",
   "metadata": {},
   "outputs": [
    {
     "data": {
      "text/html": [
       "<div>\n",
       "<style scoped>\n",
       "    .dataframe tbody tr th:only-of-type {\n",
       "        vertical-align: middle;\n",
       "    }\n",
       "\n",
       "    .dataframe tbody tr th {\n",
       "        vertical-align: top;\n",
       "    }\n",
       "\n",
       "    .dataframe thead th {\n",
       "        text-align: right;\n",
       "    }\n",
       "</style>\n",
       "<table border=\"1\" class=\"dataframe\">\n",
       "  <thead>\n",
       "    <tr style=\"text-align: right;\">\n",
       "      <th></th>\n",
       "      <th>Salary</th>\n",
       "      <th>Age</th>\n",
       "      <th>Experience</th>\n",
       "      <th>Highest_Degree</th>\n",
       "      <th>Designation</th>\n",
       "      <th>Upskilling_Certification_Courses</th>\n",
       "    </tr>\n",
       "  </thead>\n",
       "  <tbody>\n",
       "    <tr>\n",
       "      <th>0</th>\n",
       "      <td>0</td>\n",
       "      <td>22</td>\n",
       "      <td>0</td>\n",
       "      <td>Degree</td>\n",
       "      <td>Intern</td>\n",
       "      <td>0</td>\n",
       "    </tr>\n",
       "    <tr>\n",
       "      <th>1</th>\n",
       "      <td>0</td>\n",
       "      <td>22</td>\n",
       "      <td>0</td>\n",
       "      <td>Degree</td>\n",
       "      <td>Intern</td>\n",
       "      <td>0</td>\n",
       "    </tr>\n",
       "    <tr>\n",
       "      <th>2</th>\n",
       "      <td>22000</td>\n",
       "      <td>24</td>\n",
       "      <td>2</td>\n",
       "      <td>Degree</td>\n",
       "      <td>Associates</td>\n",
       "      <td>1</td>\n",
       "    </tr>\n",
       "    <tr>\n",
       "      <th>3</th>\n",
       "      <td>0</td>\n",
       "      <td>23</td>\n",
       "      <td>1</td>\n",
       "      <td>Degree</td>\n",
       "      <td>Intern</td>\n",
       "      <td>0</td>\n",
       "    </tr>\n",
       "    <tr>\n",
       "      <th>4</th>\n",
       "      <td>48000</td>\n",
       "      <td>26</td>\n",
       "      <td>4</td>\n",
       "      <td>Degree</td>\n",
       "      <td>Manager</td>\n",
       "      <td>3</td>\n",
       "    </tr>\n",
       "  </tbody>\n",
       "</table>\n",
       "</div>"
      ],
      "text/plain": [
       "   Salary  Age  Experience Highest_Degree Designation  \\\n",
       "0       0   22           0         Degree      Intern   \n",
       "1       0   22           0         Degree      Intern   \n",
       "2   22000   24           2         Degree  Associates   \n",
       "3       0   23           1         Degree      Intern   \n",
       "4   48000   26           4         Degree     Manager   \n",
       "\n",
       "   Upskilling_Certification_Courses  \n",
       "0                                 0  \n",
       "1                                 0  \n",
       "2                                 1  \n",
       "3                                 0  \n",
       "4                                 3  "
      ]
     },
     "execution_count": 61,
     "metadata": {},
     "output_type": "execute_result"
    }
   ],
   "source": [
    "df.head()"
   ]
  },
  {
   "cell_type": "code",
   "execution_count": null,
   "id": "677d03e3",
   "metadata": {},
   "outputs": [],
   "source": [
    "# Frame Hypothesis\n",
    "H0 :- There's no relation b/w highest degree and Designation\n",
    "Ha :- There's relation b/w highest degree and designation"
   ]
  },
  {
   "cell_type": "code",
   "execution_count": 63,
   "id": "5fa47289",
   "metadata": {},
   "outputs": [
    {
     "data": {
      "text/html": [
       "<div>\n",
       "<style scoped>\n",
       "    .dataframe tbody tr th:only-of-type {\n",
       "        vertical-align: middle;\n",
       "    }\n",
       "\n",
       "    .dataframe tbody tr th {\n",
       "        vertical-align: top;\n",
       "    }\n",
       "\n",
       "    .dataframe thead th {\n",
       "        text-align: right;\n",
       "    }\n",
       "</style>\n",
       "<table border=\"1\" class=\"dataframe\">\n",
       "  <thead>\n",
       "    <tr style=\"text-align: right;\">\n",
       "      <th>Designation</th>\n",
       "      <th>Associates</th>\n",
       "      <th>Intern</th>\n",
       "      <th>Manager</th>\n",
       "      <th>Senior Manager</th>\n",
       "      <th>All</th>\n",
       "    </tr>\n",
       "    <tr>\n",
       "      <th>Highest_Degree</th>\n",
       "      <th></th>\n",
       "      <th></th>\n",
       "      <th></th>\n",
       "      <th></th>\n",
       "      <th></th>\n",
       "    </tr>\n",
       "  </thead>\n",
       "  <tbody>\n",
       "    <tr>\n",
       "      <th>Degree</th>\n",
       "      <td>50</td>\n",
       "      <td>12</td>\n",
       "      <td>54</td>\n",
       "      <td>24</td>\n",
       "      <td>140</td>\n",
       "    </tr>\n",
       "    <tr>\n",
       "      <th>Masters</th>\n",
       "      <td>8</td>\n",
       "      <td>0</td>\n",
       "      <td>34</td>\n",
       "      <td>23</td>\n",
       "      <td>65</td>\n",
       "    </tr>\n",
       "    <tr>\n",
       "      <th>All</th>\n",
       "      <td>58</td>\n",
       "      <td>12</td>\n",
       "      <td>88</td>\n",
       "      <td>47</td>\n",
       "      <td>205</td>\n",
       "    </tr>\n",
       "  </tbody>\n",
       "</table>\n",
       "</div>"
      ],
      "text/plain": [
       "Designation     Associates  Intern  Manager  Senior Manager  All\n",
       "Highest_Degree                                                  \n",
       "Degree                  50      12       54              24  140\n",
       "Masters                  8       0       34              23   65\n",
       "All                     58      12       88              47  205"
      ]
     },
     "execution_count": 63,
     "metadata": {},
     "output_type": "execute_result"
    }
   ],
   "source": [
    "pd.crosstab(df[\"Highest_Degree\"], df[\"Designation\"],margins = True)"
   ]
  },
  {
   "cell_type": "code",
   "execution_count": 64,
   "id": "16f3fc4a",
   "metadata": {},
   "outputs": [
    {
     "data": {
      "text/plain": [
       "(22.561305807178876,\n",
       " 4.984302332533709e-05,\n",
       " 3,\n",
       " array([[39.6097561 ,  8.19512195, 60.09756098, 32.09756098],\n",
       "        [18.3902439 ,  3.80487805, 27.90243902, 14.90243902]]))"
      ]
     },
     "execution_count": 64,
     "metadata": {},
     "output_type": "execute_result"
    }
   ],
   "source": [
    "stats.chi2_contingency(pd.crosstab(df[\"Highest_Degree\"], df[\"Designation\"]))"
   ]
  },
  {
   "cell_type": "code",
   "execution_count": null,
   "id": "b49ee90e",
   "metadata": {},
   "outputs": [],
   "source": []
  },
  {
   "cell_type": "code",
   "execution_count": null,
   "id": "6ca5d4d0",
   "metadata": {},
   "outputs": [],
   "source": []
  },
  {
   "cell_type": "markdown",
   "id": "740d3d23",
   "metadata": {},
   "source": [
    "<span style=\"font-family: Arial; font-weight:bold;font-size:1.2em;\">In a library 50 books are selected at random.On an average 1 out of 10 books is a statistics book. .\n",
    "\n",
    "i) Probability of getting exactly 3 statistics book.\n",
    "\n",
    "ii) Probability of getting atleast 3 statistics book.\n",
    "\n",
    "iii) Probability of getting atmost 3 statistics book.\n",
    "\n",
    "iv) Probability of getting between 3 and 10 statistics book.\n",
    "\n"
   ]
  },
  {
   "cell_type": "code",
   "execution_count": null,
   "id": "f12e878d",
   "metadata": {},
   "outputs": [],
   "source": []
  },
  {
   "cell_type": "code",
   "execution_count": 65,
   "id": "db674d8a",
   "metadata": {},
   "outputs": [
    {
     "data": {
      "text/plain": [
       "1.9599639845400545"
      ]
     },
     "execution_count": 65,
     "metadata": {},
     "output_type": "execute_result"
    }
   ],
   "source": [
    "stats.norm.isf(0.025)  # 95 - "
   ]
  },
  {
   "cell_type": "code",
   "execution_count": 67,
   "id": "ec2c8ec8",
   "metadata": {},
   "outputs": [
    {
     "ename": "TypeError",
     "evalue": "_parse_args() missing 1 required positional argument: 'df'",
     "output_type": "error",
     "traceback": [
      "\u001b[1;31m---------------------------------------------------------------------------\u001b[0m",
      "\u001b[1;31mTypeError\u001b[0m                                 Traceback (most recent call last)",
      "Input \u001b[1;32mIn [67]\u001b[0m, in \u001b[0;36m<cell line: 1>\u001b[1;34m()\u001b[0m\n\u001b[1;32m----> 1\u001b[0m \u001b[43mstats\u001b[49m\u001b[38;5;241;43m.\u001b[39;49m\u001b[43mt\u001b[49m\u001b[38;5;241;43m.\u001b[39;49m\u001b[43misf\u001b[49m\u001b[43m(\u001b[49m\u001b[38;5;241;43m0.025\u001b[39;49m\u001b[43m)\u001b[49m\n",
      "File \u001b[1;32m~\\anaconda3\\lib\\site-packages\\scipy\\stats\\_distn_infrastructure.py:2162\u001b[0m, in \u001b[0;36mrv_continuous.isf\u001b[1;34m(self, q, *args, **kwds)\u001b[0m\n\u001b[0;32m   2141\u001b[0m \u001b[38;5;28;01mdef\u001b[39;00m \u001b[38;5;21misf\u001b[39m(\u001b[38;5;28mself\u001b[39m, q, \u001b[38;5;241m*\u001b[39margs, \u001b[38;5;241m*\u001b[39m\u001b[38;5;241m*\u001b[39mkwds):\n\u001b[0;32m   2142\u001b[0m     \u001b[38;5;124;03m\"\"\"Inverse survival function (inverse of `sf`) at q of the given RV.\u001b[39;00m\n\u001b[0;32m   2143\u001b[0m \n\u001b[0;32m   2144\u001b[0m \u001b[38;5;124;03m    Parameters\u001b[39;00m\n\u001b[1;32m   (...)\u001b[0m\n\u001b[0;32m   2160\u001b[0m \n\u001b[0;32m   2161\u001b[0m \u001b[38;5;124;03m    \"\"\"\u001b[39;00m\n\u001b[1;32m-> 2162\u001b[0m     args, loc, scale \u001b[38;5;241m=\u001b[39m \u001b[38;5;28mself\u001b[39m\u001b[38;5;241m.\u001b[39m_parse_args(\u001b[38;5;241m*\u001b[39margs, \u001b[38;5;241m*\u001b[39m\u001b[38;5;241m*\u001b[39mkwds)\n\u001b[0;32m   2163\u001b[0m     q, loc, scale \u001b[38;5;241m=\u001b[39m \u001b[38;5;28mmap\u001b[39m(asarray, (q, loc, scale))\n\u001b[0;32m   2164\u001b[0m     args \u001b[38;5;241m=\u001b[39m \u001b[38;5;28mtuple\u001b[39m(\u001b[38;5;28mmap\u001b[39m(asarray, args))\n",
      "\u001b[1;31mTypeError\u001b[0m: _parse_args() missing 1 required positional argument: 'df'"
     ]
    }
   ],
   "source": [
    "stats.t.isf(0.025)"
   ]
  },
  {
   "cell_type": "code",
   "execution_count": null,
   "id": "d4999ee3",
   "metadata": {},
   "outputs": [],
   "source": []
  },
  {
   "cell_type": "code",
   "execution_count": null,
   "id": "f7497ffe",
   "metadata": {},
   "outputs": [],
   "source": []
  },
  {
   "cell_type": "code",
   "execution_count": null,
   "id": "6ac0abfa",
   "metadata": {},
   "outputs": [],
   "source": []
  }
 ],
 "metadata": {
  "kernelspec": {
   "display_name": "Python 3 (ipykernel)",
   "language": "python",
   "name": "python3"
  },
  "language_info": {
   "codemirror_mode": {
    "name": "ipython",
    "version": 3
   },
   "file_extension": ".py",
   "mimetype": "text/x-python",
   "name": "python",
   "nbconvert_exporter": "python",
   "pygments_lexer": "ipython3",
   "version": "3.9.12"
  }
 },
 "nbformat": 4,
 "nbformat_minor": 5
}
